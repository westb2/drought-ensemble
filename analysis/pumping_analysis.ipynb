{
 "cells": [
  {
   "cell_type": "code",
   "execution_count": 1,
   "metadata": {},
   "outputs": [
    {
     "name": "stdout",
     "output_type": "stream",
     "text": [
      "Requirement already satisfied: pandas in /Users/ben/Documents/GitHub/drought-ensemble/.conda/lib/python3.11/site-packages (2.2.3)\n",
      "Requirement already satisfied: ipython in /Users/ben/Documents/GitHub/drought-ensemble/.conda/lib/python3.11/site-packages (9.1.0)\n",
      "Requirement already satisfied: ipykernel in /Users/ben/Documents/GitHub/drought-ensemble/.conda/lib/python3.11/site-packages (6.29.5)\n",
      "Requirement already satisfied: nbformat in /Users/ben/Documents/GitHub/drought-ensemble/.conda/lib/python3.11/site-packages (5.10.4)\n",
      "Requirement already satisfied: imageio in /Users/ben/Documents/GitHub/drought-ensemble/.conda/lib/python3.11/site-packages (2.37.0)\n",
      "Requirement already satisfied: numpy>=1.23.2 in /Users/ben/Documents/GitHub/drought-ensemble/.conda/lib/python3.11/site-packages (from pandas) (2.2.5)\n",
      "Requirement already satisfied: python-dateutil>=2.8.2 in /Users/ben/Documents/GitHub/drought-ensemble/.conda/lib/python3.11/site-packages (from pandas) (2.9.0.post0)\n",
      "Requirement already satisfied: pytz>=2020.1 in /Users/ben/Documents/GitHub/drought-ensemble/.conda/lib/python3.11/site-packages (from pandas) (2025.2)\n",
      "Requirement already satisfied: tzdata>=2022.7 in /Users/ben/Documents/GitHub/drought-ensemble/.conda/lib/python3.11/site-packages (from pandas) (2025.2)\n",
      "Requirement already satisfied: decorator in /Users/ben/Documents/GitHub/drought-ensemble/.conda/lib/python3.11/site-packages (from ipython) (5.2.1)\n",
      "Requirement already satisfied: ipython-pygments-lexers in /Users/ben/Documents/GitHub/drought-ensemble/.conda/lib/python3.11/site-packages (from ipython) (1.1.1)\n",
      "Requirement already satisfied: jedi>=0.16 in /Users/ben/Documents/GitHub/drought-ensemble/.conda/lib/python3.11/site-packages (from ipython) (0.19.2)\n",
      "Requirement already satisfied: matplotlib-inline in /Users/ben/Documents/GitHub/drought-ensemble/.conda/lib/python3.11/site-packages (from ipython) (0.1.7)\n",
      "Requirement already satisfied: pexpect>4.3 in /Users/ben/Documents/GitHub/drought-ensemble/.conda/lib/python3.11/site-packages (from ipython) (4.9.0)\n",
      "Requirement already satisfied: prompt_toolkit<3.1.0,>=3.0.41 in /Users/ben/Documents/GitHub/drought-ensemble/.conda/lib/python3.11/site-packages (from ipython) (3.0.51)\n",
      "Requirement already satisfied: pygments>=2.4.0 in /Users/ben/Documents/GitHub/drought-ensemble/.conda/lib/python3.11/site-packages (from ipython) (2.19.1)\n",
      "Requirement already satisfied: stack_data in /Users/ben/Documents/GitHub/drought-ensemble/.conda/lib/python3.11/site-packages (from ipython) (0.6.3)\n",
      "Requirement already satisfied: traitlets>=5.13.0 in /Users/ben/Documents/GitHub/drought-ensemble/.conda/lib/python3.11/site-packages (from ipython) (5.14.3)\n",
      "Requirement already satisfied: typing_extensions>=4.6 in /Users/ben/Documents/GitHub/drought-ensemble/.conda/lib/python3.11/site-packages (from ipython) (4.13.2)\n",
      "Requirement already satisfied: appnope in /Users/ben/Documents/GitHub/drought-ensemble/.conda/lib/python3.11/site-packages (from ipykernel) (0.1.4)\n",
      "Requirement already satisfied: comm>=0.1.1 in /Users/ben/Documents/GitHub/drought-ensemble/.conda/lib/python3.11/site-packages (from ipykernel) (0.2.2)\n",
      "Requirement already satisfied: debugpy>=1.6.5 in /Users/ben/Documents/GitHub/drought-ensemble/.conda/lib/python3.11/site-packages (from ipykernel) (1.8.11)\n",
      "Requirement already satisfied: jupyter-client>=6.1.12 in /Users/ben/Documents/GitHub/drought-ensemble/.conda/lib/python3.11/site-packages (from ipykernel) (8.6.3)\n",
      "Requirement already satisfied: jupyter-core!=5.0.*,>=4.12 in /Users/ben/Documents/GitHub/drought-ensemble/.conda/lib/python3.11/site-packages (from ipykernel) (5.7.2)\n",
      "Requirement already satisfied: nest-asyncio in /Users/ben/Documents/GitHub/drought-ensemble/.conda/lib/python3.11/site-packages (from ipykernel) (1.6.0)\n",
      "Requirement already satisfied: packaging in /Users/ben/Documents/GitHub/drought-ensemble/.conda/lib/python3.11/site-packages (from ipykernel) (25.0)\n",
      "Requirement already satisfied: psutil in /Users/ben/Documents/GitHub/drought-ensemble/.conda/lib/python3.11/site-packages (from ipykernel) (5.9.0)\n",
      "Requirement already satisfied: pyzmq>=24 in /Users/ben/Documents/GitHub/drought-ensemble/.conda/lib/python3.11/site-packages (from ipykernel) (26.2.0)\n",
      "Requirement already satisfied: tornado>=6.1 in /Users/ben/Documents/GitHub/drought-ensemble/.conda/lib/python3.11/site-packages (from ipykernel) (6.4.2)\n",
      "Requirement already satisfied: fastjsonschema>=2.15 in /Users/ben/Documents/GitHub/drought-ensemble/.conda/lib/python3.11/site-packages (from nbformat) (2.21.1)\n",
      "Requirement already satisfied: jsonschema>=2.6 in /Users/ben/Documents/GitHub/drought-ensemble/.conda/lib/python3.11/site-packages (from nbformat) (4.23.0)\n",
      "Requirement already satisfied: pillow>=8.3.2 in /Users/ben/Documents/GitHub/drought-ensemble/.conda/lib/python3.11/site-packages (from imageio) (11.2.1)\n",
      "Requirement already satisfied: parso<0.9.0,>=0.8.4 in /Users/ben/Documents/GitHub/drought-ensemble/.conda/lib/python3.11/site-packages (from jedi>=0.16->ipython) (0.8.4)\n",
      "Requirement already satisfied: attrs>=22.2.0 in /Users/ben/Documents/GitHub/drought-ensemble/.conda/lib/python3.11/site-packages (from jsonschema>=2.6->nbformat) (25.3.0)\n",
      "Requirement already satisfied: jsonschema-specifications>=2023.03.6 in /Users/ben/Documents/GitHub/drought-ensemble/.conda/lib/python3.11/site-packages (from jsonschema>=2.6->nbformat) (2025.4.1)\n",
      "Requirement already satisfied: referencing>=0.28.4 in /Users/ben/Documents/GitHub/drought-ensemble/.conda/lib/python3.11/site-packages (from jsonschema>=2.6->nbformat) (0.36.2)\n",
      "Requirement already satisfied: rpds-py>=0.7.1 in /Users/ben/Documents/GitHub/drought-ensemble/.conda/lib/python3.11/site-packages (from jsonschema>=2.6->nbformat) (0.24.0)\n",
      "Requirement already satisfied: platformdirs>=2.5 in /Users/ben/Documents/GitHub/drought-ensemble/.conda/lib/python3.11/site-packages (from jupyter-core!=5.0.*,>=4.12->ipykernel) (4.3.7)\n",
      "Requirement already satisfied: ptyprocess>=0.5 in /Users/ben/Documents/GitHub/drought-ensemble/.conda/lib/python3.11/site-packages (from pexpect>4.3->ipython) (0.7.0)\n",
      "Requirement already satisfied: wcwidth in /Users/ben/Documents/GitHub/drought-ensemble/.conda/lib/python3.11/site-packages (from prompt_toolkit<3.1.0,>=3.0.41->ipython) (0.2.13)\n",
      "Requirement already satisfied: six>=1.5 in /Users/ben/Documents/GitHub/drought-ensemble/.conda/lib/python3.11/site-packages (from python-dateutil>=2.8.2->pandas) (1.17.0)\n",
      "Requirement already satisfied: executing>=1.2.0 in /Users/ben/Documents/GitHub/drought-ensemble/.conda/lib/python3.11/site-packages (from stack_data->ipython) (2.1.0)\n",
      "Requirement already satisfied: asttokens>=2.1.0 in /Users/ben/Documents/GitHub/drought-ensemble/.conda/lib/python3.11/site-packages (from stack_data->ipython) (3.0.0)\n",
      "Requirement already satisfied: pure_eval in /Users/ben/Documents/GitHub/drought-ensemble/.conda/lib/python3.11/site-packages (from stack_data->ipython) (0.2.3)\n"
     ]
    }
   ],
   "source": [
    "!python3 -m pip install pandas ipython ipykernel nbformat imageio\n"
   ]
  },
  {
   "cell_type": "code",
   "execution_count": 2,
   "metadata": {},
   "outputs": [],
   "source": [
    "import parflow as pf\n",
    "import numpy as np\n",
    "import pandas as pd\n",
    "import plotly.express as px\n",
    "import shutil\n",
    "import utils\n",
    "import os\n",
    "import sys\n",
    "\n",
    "sys.path.append(\"../\")\n",
    "import wolf.config as config\n",
    "\n"
   ]
  },
  {
   "cell_type": "code",
   "execution_count": 3,
   "metadata": {},
   "outputs": [],
   "source": [
    "# !pip install --upgrade pftools"
   ]
  },
  {
   "cell_type": "code",
   "execution_count": 4,
   "metadata": {},
   "outputs": [
    {
     "name": "stdout",
     "output_type": "stream",
     "text": [
      "Solver: Field BinaryOutDir is not part of the expected schema <class 'parflow.tools.database.generated.Solver'>\n",
      ": Field run_dir is not part of the expected schema <class 'parflow.tools.core.Run'>\n",
      "Warning: The following CLM variables could not be set:\n",
      "  - nt\n",
      "  - sw_ini\n",
      "  - hkdepth\n",
      "  - wtfact\n",
      "  - trsmx0\n",
      "  - smpmax\n",
      "  - pondmx\n",
      "(10, 43, 96)\n"
     ]
    },
    {
     "name": "stderr",
     "output_type": "stream",
     "text": [
      "/Users/ben/Documents/GitHub/drought-ensemble/.conda/lib/python3.11/site-packages/parflow/tools/io.py:1300: FutureWarning: The 'delim_whitespace' keyword in pd.read_csv is deprecated and will be removed in a future version. Use ``sep='\\s+'`` instead\n",
      "  df = pd.read_csv(file_name, delim_whitespace=True, skiprows=2, header=None)\n"
     ]
    },
    {
     "name": "stdout",
     "output_type": "stream",
     "text": [
      "Solver: Field BinaryOutDir is not part of the expected schema <class 'parflow.tools.database.generated.Solver'>\n",
      ": Field run_dir is not part of the expected schema <class 'parflow.tools.core.Run'>\n",
      "Warning: The following CLM variables could not be set:\n",
      "  - nt\n",
      "  - sw_ini\n",
      "  - hkdepth\n",
      "  - wtfact\n",
      "  - trsmx0\n",
      "  - smpmax\n",
      "  - pondmx\n",
      "(10, 43, 96)\n"
     ]
    },
    {
     "name": "stderr",
     "output_type": "stream",
     "text": [
      "/Users/ben/Documents/GitHub/drought-ensemble/.conda/lib/python3.11/site-packages/parflow/tools/io.py:1300: FutureWarning: The 'delim_whitespace' keyword in pd.read_csv is deprecated and will be removed in a future version. Use ``sep='\\s+'`` instead\n",
      "  df = pd.read_csv(file_name, delim_whitespace=True, skiprows=2, header=None)\n"
     ]
    },
    {
     "name": "stdout",
     "output_type": "stream",
     "text": [
      "Solver: Field BinaryOutDir is not part of the expected schema <class 'parflow.tools.database.generated.Solver'>\n",
      ": Field run_dir is not part of the expected schema <class 'parflow.tools.core.Run'>\n",
      "Warning: The following CLM variables could not be set:\n",
      "  - nt\n",
      "  - sw_ini\n",
      "  - hkdepth\n",
      "  - wtfact\n",
      "  - trsmx0\n",
      "  - smpmax\n",
      "  - pondmx\n",
      "(10, 43, 96)\n"
     ]
    },
    {
     "name": "stderr",
     "output_type": "stream",
     "text": [
      "/Users/ben/Documents/GitHub/drought-ensemble/.conda/lib/python3.11/site-packages/parflow/tools/io.py:1300: FutureWarning: The 'delim_whitespace' keyword in pd.read_csv is deprecated and will be removed in a future version. Use ``sep='\\s+'`` instead\n",
      "  df = pd.read_csv(file_name, delim_whitespace=True, skiprows=2, header=None)\n"
     ]
    },
    {
     "name": "stdout",
     "output_type": "stream",
     "text": [
      "Solver: Field BinaryOutDir is not part of the expected schema <class 'parflow.tools.database.generated.Solver'>\n",
      ": Field run_dir is not part of the expected schema <class 'parflow.tools.core.Run'>\n",
      "Warning: The following CLM variables could not be set:\n",
      "  - nt\n",
      "  - sw_ini\n",
      "  - hkdepth\n",
      "  - wtfact\n",
      "  - trsmx0\n",
      "  - smpmax\n",
      "  - pondmx\n",
      "(10, 43, 96)\n"
     ]
    },
    {
     "name": "stderr",
     "output_type": "stream",
     "text": [
      "/Users/ben/Documents/GitHub/drought-ensemble/.conda/lib/python3.11/site-packages/parflow/tools/io.py:1300: FutureWarning: The 'delim_whitespace' keyword in pd.read_csv is deprecated and will be removed in a future version. Use ``sep='\\s+'`` instead\n",
      "  df = pd.read_csv(file_name, delim_whitespace=True, skiprows=2, header=None)\n"
     ]
    }
   ],
   "source": [
    "num_timesteps = 210\n",
    "read_interval = 1\n",
    "\n",
    "# domain_name = \"POTOMAC_1998_to_1999\"\n",
    "# \n",
    "domain_name = \"WOLF_2006_to_2007\"\n",
    "outlet_yx = config.CURRENT_OUTLET_YX\n",
    "runs = {}\n",
    "\n",
    "\n",
    "data_accessor1 = utils.get_data_accessor(f\"{domain_name}\", f\"{domain_name}_3_year_drought_baseline\")\n",
    "baseline_run = utils.load_run(data_accessor1, outlet_yx, num_timesteps, read_interval)\n",
    "runs[\"baseline\"] = baseline_run\n",
    "\n",
    "domain_name = \"WOLF_2006_to_2007\"\n",
    "run_name = f\"{domain_name}_3_year_drought_with_pumping\"\n",
    "data_accessor2 = utils.get_data_accessor(domain_name, run_name)\n",
    "run = utils.load_run(data_accessor2, outlet_yx, num_timesteps, read_interval)\n",
    "runs[\"pumping\"] = run\n",
    "\n",
    "domain_name = \"WOLF_2006_to_2007\"\n",
    "run_name = f\"{domain_name}_3_year_drought_with_double_pumping\"\n",
    "data_accessor3 = utils.get_data_accessor(domain_name, run_name)\n",
    "run = utils.load_run(data_accessor3, outlet_yx, num_timesteps, read_interval)\n",
    "runs[\"double_pumping\"] = run\n",
    "\n",
    "domain_name = \"WOLF_2006_to_2007\"\n",
    "run_name = f\"{domain_name}_3_year_drought_triple_pumping\"\n",
    "data_accessor4 = utils.get_data_accessor(domain_name, run_name)\n",
    "run = utils.load_run(data_accessor4, outlet_yx, num_timesteps, read_interval)\n",
    "runs[\"triple_pumping\"] = run\n",
    "\n",
    "# run_name = f\"{domain_name}_with_pumping_1_inch_per_week_constant\"\n",
    "# data_accessor = utils.get_data_accessor(domain_name, run_name)\n",
    "# run = utils.load_run(data_accessor, outlet_yx, num_timesteps, read_interval)\n",
    "# runs[\"static_pumping\"] = run\n",
    "\n",
    "\n",
    "\n",
    "\n",
    "\n",
    "\n",
    "\n",
    "# data_accessor2 = get_data_accessor(\"_with_reservoir\")\n",
    "# baseline_run = utils.load_run(data_accessor2, num_timesteps, read_interval)\n"
   ]
  },
  {
   "cell_type": "code",
   "execution_count": 5,
   "metadata": {},
   "outputs": [],
   "source": [
    "# constant_fluxes = pf.read_pfb(\"/Users/ben/Documents/GitHub/drought-ensemble/domains/outputs/WOLF_2006_to_2007_with_pumping_1_inch_per_week_constant_layer_2/fluxes_on.pfb\")\n",
    "# periodic_fluxes = pf.read_pfb(\"/Users/ben/Documents/GitHub/drought-ensemble/domains/outputs/WOLF_2006_to_2007_with_pumping_1_inch_per_week_cycling_layer_2/fluxes_on.pfb\")\n",
    "# px.imshow(constant_fluxes[3,:,:])"
   ]
  },
  {
   "cell_type": "code",
   "execution_count": 6,
   "metadata": {},
   "outputs": [],
   "source": [
    "# periodic = runs[f\"{domain_name}_with_pumping_1_inch_per_week_cycling_layer_2\"]\n",
    "# constant = runs[f\"{domain_name}_with_pumping_1_inch_per_week_constant_layer_2\"]\n",
    "# mask = pf.read_pfb(\"/Users/ben/Documents/GitHub/drought-ensemble/domains/outputs/WOLF_2006_to_2007/mask.pfb\")\n",
    "# mask = np.where(mask==0, np.nan, mask)\n",
    "# px.imshow((constant[\"pressure\"][100]*mask)[:,20,28:86]-(periodic[\"pressure\"][100]*mask)[:,20,28:86], \n",
    "#           title=\"Constant - Periodic pressure cross section\", origin=\"lower\")"
   ]
  },
  {
   "cell_type": "code",
   "execution_count": 7,
   "metadata": {},
   "outputs": [
    {
     "name": "stdout",
     "output_type": "stream",
     "text": [
      "Requirement already satisfied: matplotlib in /Users/ben/Documents/GitHub/drought-ensemble/.conda/lib/python3.11/site-packages (3.10.1)\n",
      "Requirement already satisfied: contourpy>=1.0.1 in /Users/ben/Documents/GitHub/drought-ensemble/.conda/lib/python3.11/site-packages (from matplotlib) (1.3.2)\n",
      "Requirement already satisfied: cycler>=0.10 in /Users/ben/Documents/GitHub/drought-ensemble/.conda/lib/python3.11/site-packages (from matplotlib) (0.12.1)\n",
      "Requirement already satisfied: fonttools>=4.22.0 in /Users/ben/Documents/GitHub/drought-ensemble/.conda/lib/python3.11/site-packages (from matplotlib) (4.57.0)\n",
      "Requirement already satisfied: kiwisolver>=1.3.1 in /Users/ben/Documents/GitHub/drought-ensemble/.conda/lib/python3.11/site-packages (from matplotlib) (1.4.8)\n",
      "Requirement already satisfied: numpy>=1.23 in /Users/ben/Documents/GitHub/drought-ensemble/.conda/lib/python3.11/site-packages (from matplotlib) (2.2.5)\n",
      "Requirement already satisfied: packaging>=20.0 in /Users/ben/Documents/GitHub/drought-ensemble/.conda/lib/python3.11/site-packages (from matplotlib) (25.0)\n",
      "Requirement already satisfied: pillow>=8 in /Users/ben/Documents/GitHub/drought-ensemble/.conda/lib/python3.11/site-packages (from matplotlib) (11.2.1)\n",
      "Requirement already satisfied: pyparsing>=2.3.1 in /Users/ben/Documents/GitHub/drought-ensemble/.conda/lib/python3.11/site-packages (from matplotlib) (3.2.3)\n",
      "Requirement already satisfied: python-dateutil>=2.7 in /Users/ben/Documents/GitHub/drought-ensemble/.conda/lib/python3.11/site-packages (from matplotlib) (2.9.0.post0)\n",
      "Requirement already satisfied: six>=1.5 in /Users/ben/Documents/GitHub/drought-ensemble/.conda/lib/python3.11/site-packages (from python-dateutil>=2.7->matplotlib) (1.17.0)\n"
     ]
    }
   ],
   "source": [
    "!python3 -m pip install matplotlib"
   ]
  },
  {
   "cell_type": "code",
   "execution_count": 8,
   "metadata": {},
   "outputs": [],
   "source": [
    "# cross_section_differences = [(constant[\"pressure\"][t]*mask)[:,20,28:86]-(periodic[\"pressure\"][t]*mask)[:,20,28:86] for t in range(0,365,1)]\n",
    "# create a gif from the cross_section_differences, dont use array2gif. Each entry is a 2d array\n",
    "import imageio\n",
    "import matplotlib.pyplot as plt\n",
    "import matplotlib.cm as cm\n",
    "import matplotlib.colors as mcolors\n",
    "import matplotlib.animation as animation\n",
    "import os\n",
    "import tempfile\n",
    "import shutil\n",
    "import numpy as np\n",
    "\n",
    "def create_gif_from_list_of_arrays(cross_section_differences, output_file):\n",
    "    # Create a temporary directory to store the images\n",
    "    temp_dir = tempfile.mkdtemp()\n",
    "\n",
    "    # Create a colormap\n",
    "    cmap = cm.get_cmap('viridis')\n",
    "\n",
    "    # Normalize the data for color mapping\n",
    "    norm = mcolors.Normalize(vmin=-3, vmax=3)\n",
    "\n",
    "    # Create images from the cross-section differences\n",
    "    for i, data in enumerate(cross_section_differences):\n",
    "        plt.figure(figsize=(8, 6))\n",
    "        plt.imshow(data, cmap=cmap, norm=norm, aspect='auto')\n",
    "        plt.colorbar(label='Pressure Difference')\n",
    "        plt.title(f'Cross Section Difference at Time Step {i}')\n",
    "        plt.xlabel('X-axis')\n",
    "        plt.ylabel('Y-axis')\n",
    "        plt.savefig(os.path.join(temp_dir, f'frame_{i:03d}.png'))\n",
    "        plt.close()\n",
    "\n",
    "    # Create a GIF from the images\n",
    "    with imageio.get_writer(output_file, mode='I', duration=0.1) as writer:\n",
    "        for i in range(len(cross_section_differences)):\n",
    "            image_path = os.path.join(temp_dir, f'frame_{i:03d}.png')\n",
    "            image = imageio.imread(image_path)\n",
    "            writer.append_data(image)\n",
    "\n",
    "    # Clean up the temporary directory\n",
    "    shutil.rmtree(temp_dir)\n",
    "\n",
    "# Example usage\n",
    "output_gif_path = \"/Users/ben/Documents/GitHub/drought-ensemble/cross_section_differences.gif\"\n",
    "# create_gif_from_list_of_arrays(cross_section_differences, output_gif_path)\n",
    "\n",
    "\n"
   ]
  },
  {
   "cell_type": "code",
   "execution_count": 9,
   "metadata": {},
   "outputs": [],
   "source": [
    "# wtds = [(constant[\"wtd\"][t]*mask)[0,:,:]-(periodic[\"pressure\"][t]*mask)[0,:,:] for t in range(0,365,1)]\n",
    "# create_gif_from_list_of_arrays(wtds, \"/Users/ben/Documents/GitHub/drought-ensemble/wtd_differences.gif\")\n"
   ]
  },
  {
   "cell_type": "code",
   "execution_count": 10,
   "metadata": {},
   "outputs": [],
   "source": [
    "# to_plot = (constant[\"overland_flow\"][2]*mask)\n",
    "# to_plot[0,33,31] = 0\n",
    "# px.imshow(to_plot[0,:,:])"
   ]
  },
  {
   "cell_type": "code",
   "execution_count": 11,
   "metadata": {},
   "outputs": [],
   "source": [
    "# First lets look at where the cropland is vs where the flow is\n",
    "# overland_flow_mask = runs[f\"{domain_name}_with_pumping_100_percent\"][\"overland_flow\"][300]\n",
    "# overland_flow_mask[overland_flow_mask > 0] = 1.0\n",
    "# vegm = pd.read_csv(f\"/Users/ben/Documents/GitHub/drought-ensemble/domains/outputs/{domain_name}_with_pumping_100_percent/drv_vegm.dat\", sep=' ', skiprows=1)\n",
    "# domain_mask = pf.read_pfb(f\"/Users/ben/Documents/GitHub/drought-ensemble/domains/outputs/{domain_name}_with_pumping_100_percent/mask.pfb\")\n",
    "\n",
    "# vegm.rename(columns={'Unnamed: 0': 'x', 'Unnamed: 1': 'y',}, inplace=True)\n",
    "# vegm[\"is_cropland\"] = vegm[\"12\"] + vegm[\"14\"]\n",
    "# irrigation_mask = np.ones(overland_flow_mask.shape)\n",
    "# for index, row in vegm.iterrows():\n",
    "#     if row[\"is_cropland\"] > 0:\n",
    "#         irrigation_mask[int(row[\"y\"])-1, int(row[\"x\"])-1] = 3\n",
    "# px.imshow((overland_flow_mask+irrigation_mask ) * domain_mask[0], title =\"blue = nothing or outside of domain, \\npurple=streamreach without pumping, \\norange= pumping, \\nyellow = pumping + streamflow\" )"
   ]
  },
  {
   "cell_type": "code",
   "execution_count": 12,
   "metadata": {},
   "outputs": [],
   "source": [
    "# px.imshow(runs[f\"{domain_name}_with_pumping_100_percent\"][\"overland_flow\"][300])\n",
    "# px.imshow(runs[\"baseline\"][\"overland_flow\"][100])\n",
    "\n",
    "# px.imshow(runs[f\"baseline\"][\"overland_flow\"][100] - runs[f\"{domain_name}_with_pumping_100_percent\"][\"overland_flow\"][100])"
   ]
  },
  {
   "cell_type": "code",
   "execution_count": 13,
   "metadata": {},
   "outputs": [
    {
     "name": "stderr",
     "output_type": "stream",
     "text": [
      "/tmp/ipykernel_73561/2722823060.py:7: FutureWarning: Downcasting behavior in `replace` is deprecated and will be removed in a future version. To retain the old behavior, explicitly call `result.infer_objects(copy=False)`. To opt-in to the future behavior, set `pd.set_option('future.no_silent_downcasting', True)`\n",
      "  run[\"percent_change_in_flow\"]  = run[\"percent_change_in_flow\"].replace([np.inf, -np.inf, np.nan], 0)\n",
      "/tmp/ipykernel_73561/2722823060.py:7: FutureWarning: Downcasting behavior in `replace` is deprecated and will be removed in a future version. To retain the old behavior, explicitly call `result.infer_objects(copy=False)`. To opt-in to the future behavior, set `pd.set_option('future.no_silent_downcasting', True)`\n",
      "  run[\"percent_change_in_flow\"]  = run[\"percent_change_in_flow\"].replace([np.inf, -np.inf, np.nan], 0)\n",
      "/tmp/ipykernel_73561/2722823060.py:7: FutureWarning: Downcasting behavior in `replace` is deprecated and will be removed in a future version. To retain the old behavior, explicitly call `result.infer_objects(copy=False)`. To opt-in to the future behavior, set `pd.set_option('future.no_silent_downcasting', True)`\n",
      "  run[\"percent_change_in_flow\"]  = run[\"percent_change_in_flow\"].replace([np.inf, -np.inf, np.nan], 0)\n",
      "/tmp/ipykernel_73561/2722823060.py:7: FutureWarning: Downcasting behavior in `replace` is deprecated and will be removed in a future version. To retain the old behavior, explicitly call `result.infer_objects(copy=False)`. To opt-in to the future behavior, set `pd.set_option('future.no_silent_downcasting', True)`\n",
      "  run[\"percent_change_in_flow\"]  = run[\"percent_change_in_flow\"].replace([np.inf, -np.inf, np.nan], 0)\n"
     ]
    }
   ],
   "source": [
    "for run in runs.values():\n",
    "    run[\"additional_water_required_to_recover\"] = runs[\"baseline\"][\"total_storage\"] - run[\"total_storage\"]\n",
    "    run[\"storage_delta_from_baseline\"] = -run[\"additional_water_required_to_recover\"]\n",
    "\n",
    "    run[\"flow_reduction\"] = run[\"outlet_flow\"] - runs[\"baseline\"][\"outlet_flow\"]\n",
    "    run[\"percent_change_in_flow\"] = (run[\"outlet_flow\"] - runs[\"baseline\"][\"outlet_flow\"]) / runs[\"baseline\"][\"outlet_flow\"] * 100\n",
    "    run[\"percent_change_in_flow\"]  = run[\"percent_change_in_flow\"].replace([np.inf, -np.inf, np.nan], 0)"
   ]
  },
  {
   "cell_type": "code",
   "execution_count": 14,
   "metadata": {},
   "outputs": [
    {
     "data": {
      "application/vnd.plotly.v1+json": {
       "config": {
        "plotlyServerURL": "https://plot.ly"
       },
       "data": [
        {
         "hovertemplate": "Run=baseline<br>time=%{x}<br>storage_delta_from_baseline=%{y}<extra></extra>",
         "legendgroup": "baseline",
         "line": {
          "color": "#1F77B4",
          "dash": "solid"
         },
         "marker": {
          "symbol": "circle"
         },
         "mode": "lines",
         "name": "baseline",
         "opacity": 0.4,
         "orientation": "v",
         "showlegend": true,
         "type": "scatter",
         "x": {
          "bdata": "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",
          "dtype": "f8"
         },
         "xaxis": "x",
         "y": {
          "bdata": "AAAAAAAAAIAAAAAAAAAAgAAAAAAAAACAAAAAAAAAAIAAAAAAAAAAgAAAAAAAAACAAAAAAAAAAIAAAAAAAAAAgAAAAAAAAACAAAAAAAAAAIAAAAAAAAAAgAAAAAAAAACAAAAAAAAAAIAAAAAAAAAAgAAAAAAAAACAAAAAAAAAAIAAAAAAAAAAgAAAAAAAAACAAAAAAAAAAIAAAAAAAAAAgAAAAAAAAACAAAAAAAAAAIAAAAAAAAAAgAAAAAAAAACAAAAAAAAAAIAAAAAAAAAAgAAAAAAAAACAAAAAAAAAAIAAAAAAAAAAgAAAAAAAAACAAAAAAAAAAIAAAAAAAAAAgAAAAAAAAACAAAAAAAAAAIAAAAAAAAAAgAAAAAAAAACAAAAAAAAAAIAAAAAAAAAAgAAAAAAAAACAAAAAAAAAAIAAAAAAAAAAgAAAAAAAAACAAAAAAAAAAIAAAAAAAAAAgAAAAAAAAACAAAAAAAAAAIAAAAAAAAAAgAAAAAAAAACAAAAAAAAAAIAAAAAAAAAAgAAAAAAAAACAAAAAAAAAAIAAAAAAAAAAgAAAAAAAAACAAAAAAAAAAIAAAAAAAAAAgAAAAAAAAACAAAAAAAAAAIAAAAAAAAAAgAAAAAAAAACAAAAAAAAAAIAAAAAAAAAAgAAAAAAAAACAAAAAAAAAAIAAAAAAAAAAgAAAAAAAAACAAAAAAAAAAIAAAAAAAAAAgAAAAAAAAACAAAAAAAAAAIAAAAAAAAAAgAAAAAAAAACAAAAAAAAAAIAAAAAAAAAAgAAAAAAAAACAAAAAAAAAAIAAAAAAAAAAgAAAAAAAAACAAAAAAAAAAIAAAAAAAAAAgAAAAAAAAACAAAAAAAAAAIAAAAAAAAAAgAAAAAAAAACAAAAAAAAAAIAAAAAAAAAAgAAAAAAAAACAAAAAAAAAAIAAAAAAAAAAgAAAAAAAAACAAAAAAAAAAIAAAAAAAAAAgAAAAAAAAACAAAAAAAAAAIAAAAAAAAAAgAAAAAAAAACAAAAAAAAAAIAAAAAAAAAAgAAAAAAAAACAAAAAAAAAAIAAAAAAAAAAgAAAAAAAAACAAAAAAAAAAIAAAAAAAAAAgAAAAAAAAACAAAAAAAAAAIAAAAAAAAAAgAAAAAAAAACAAAAAAAAAAIAAAAAAAAAAgAAAAAAAAACAAAAAAAAAAIAAAAAAAAAAgAAAAAAAAACAAAAAAAAAAIAAAAAAAAAAgAAAAAAAAACAAAAAAAAAAIAAAAAAAAAAgAAAAAAAAACAAAAAAAAAAIAAAAAAAAAAgAAAAAAAAACAAAAAAAAAAIAAAAAAAAAAgAAAAAAAAACAAAAAAAAAAIAAAAAAAAAAgAAAAAAAAACAAAAAAAAAAIAAAAAAAAAAgAAAAAAAAACAAAAAAAAAAIAAAAAAAAAAgAAAAAAAAACAAAAAAAAAAIAAAAAAAAAAgAAAAAAAAACAAAAAAAAAAIAAAAAAAAAAgAAAAAAAAACAAAAAAAAAAIAAAAAAAAAAgAAAAAAAAACAAAAAAAAAAIAAAAAAAAAAgAAAAAAAAACAAAAAAAAAAIAAAAAAAAAAgAAAAAAAAACAAAAAAAAAAIAAAAAAAAAAgAAAAAAAAACAAAAAAAAAAIAAAAAAAAAAgAAAAAAAAACAAAAAAAAAAIAAAAAAAAAAgAAAAAAAAACAAAAAAAAAAIAAAAAAAAAAgAAAAAAAAACAAAAAAAAAAIAAAAAAAAAAgAAAAAAAAACAAAAAAAAAAIAAAAAAAAAAgAAAAAAAAACAAAAAAAAAAIAAAAAAAAAAgAAAAAAAAACAAAAAAAAAAIAAAAAAAAAAgAAAAAAAAACAAAAAAAAAAIAAAAAAAAAAgAAAAAAAAACAAAAAAAAAAIAAAAAAAAAAgAAAAAAAAACAAAAAAAAAAIAAAAAAAAAAgAAAAAAAAACAAAAAAAAAAIAAAAAAAAAAgAAAAAAAAACAAAAAAAAAAIAAAAAAAAAAgAAAAAAAAACAAAAAAAAAAIAAAAAAAAAAgAAAAAAAAACAAAAAAAAAAIAAAAAAAAAAgAAAAAAAAACAAAAAAAAAAIAAAAAAAAAAgAAAAAAAAACAAAAAAAAAAIAAAAAAAAAAgAAAAAAAAACAAAAAAAAAAIAAAAAAAAAAgAAAAAAAAACAAAAAAAAAAIAAAAAAAAAAgAAAAAAAAACAAAAAAAAAAIAAAAAAAAAAgAAAAAAAAACA",
          "dtype": "f8"
         },
         "yaxis": "y"
        },
        {
         "hovertemplate": "Run=pumping<br>time=%{x}<br>storage_delta_from_baseline=%{y}<extra></extra>",
         "legendgroup": "pumping",
         "line": {
          "color": "#FF7F0E",
          "dash": "solid"
         },
         "marker": {
          "symbol": "circle"
         },
         "mode": "lines",
         "name": "pumping",
         "opacity": 0.4,
         "orientation": "v",
         "showlegend": true,
         "type": "scatter",
         "x": {
          "bdata": "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",
          "dtype": "f8"
         },
         "xaxis": "x",
         "y": {
          "bdata": "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",
          "dtype": "f8"
         },
         "yaxis": "y"
        },
        {
         "hovertemplate": "Run=double_pumping<br>time=%{x}<br>storage_delta_from_baseline=%{y}<extra></extra>",
         "legendgroup": "double_pumping",
         "line": {
          "color": "#2CA02C",
          "dash": "solid"
         },
         "marker": {
          "symbol": "circle"
         },
         "mode": "lines",
         "name": "double_pumping",
         "opacity": 0.4,
         "orientation": "v",
         "showlegend": true,
         "type": "scatter",
         "x": {
          "bdata": "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",
          "dtype": "f8"
         },
         "xaxis": "x",
         "y": {
          "bdata": "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",
          "dtype": "f8"
         },
         "yaxis": "y"
        },
        {
         "hovertemplate": "Run=triple_pumping<br>time=%{x}<br>storage_delta_from_baseline=%{y}<extra></extra>",
         "legendgroup": "triple_pumping",
         "line": {
          "color": "#D62728",
          "dash": "solid"
         },
         "marker": {
          "symbol": "circle"
         },
         "mode": "lines",
         "name": "triple_pumping",
         "opacity": 0.4,
         "orientation": "v",
         "showlegend": true,
         "type": "scatter",
         "x": {
          "bdata": "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",
          "dtype": "f8"
         },
         "xaxis": "x",
         "y": {
          "bdata": "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",
          "dtype": "f8"
         },
         "yaxis": "y"
        }
       ],
       "layout": {
        "height": 700,
        "legend": {
         "orientation": "h",
         "title": {
          "text": "Run"
         },
         "tracegroupgap": 0,
         "x": 1,
         "xanchor": "right",
         "y": 0.96,
         "yanchor": "bottom"
        },
        "showlegend": true,
        "template": {
         "data": {
          "bar": [
           {
            "error_x": {
             "color": "rgb(36,36,36)"
            },
            "error_y": {
             "color": "rgb(36,36,36)"
            },
            "marker": {
             "line": {
              "color": "white",
              "width": 0.5
             },
             "pattern": {
              "fillmode": "overlay",
              "size": 10,
              "solidity": 0.2
             }
            },
            "type": "bar"
           }
          ],
          "barpolar": [
           {
            "marker": {
             "line": {
              "color": "white",
              "width": 0.5
             },
             "pattern": {
              "fillmode": "overlay",
              "size": 10,
              "solidity": 0.2
             }
            },
            "type": "barpolar"
           }
          ],
          "carpet": [
           {
            "aaxis": {
             "endlinecolor": "rgb(36,36,36)",
             "gridcolor": "white",
             "linecolor": "white",
             "minorgridcolor": "white",
             "startlinecolor": "rgb(36,36,36)"
            },
            "baxis": {
             "endlinecolor": "rgb(36,36,36)",
             "gridcolor": "white",
             "linecolor": "white",
             "minorgridcolor": "white",
             "startlinecolor": "rgb(36,36,36)"
            },
            "type": "carpet"
           }
          ],
          "choropleth": [
           {
            "colorbar": {
             "outlinewidth": 1,
             "tickcolor": "rgb(36,36,36)",
             "ticks": "outside"
            },
            "type": "choropleth"
           }
          ],
          "contour": [
           {
            "colorbar": {
             "outlinewidth": 1,
             "tickcolor": "rgb(36,36,36)",
             "ticks": "outside"
            },
            "colorscale": [
             [
              0,
              "#440154"
             ],
             [
              0.1111111111111111,
              "#482878"
             ],
             [
              0.2222222222222222,
              "#3e4989"
             ],
             [
              0.3333333333333333,
              "#31688e"
             ],
             [
              0.4444444444444444,
              "#26828e"
             ],
             [
              0.5555555555555556,
              "#1f9e89"
             ],
             [
              0.6666666666666666,
              "#35b779"
             ],
             [
              0.7777777777777778,
              "#6ece58"
             ],
             [
              0.8888888888888888,
              "#b5de2b"
             ],
             [
              1,
              "#fde725"
             ]
            ],
            "type": "contour"
           }
          ],
          "contourcarpet": [
           {
            "colorbar": {
             "outlinewidth": 1,
             "tickcolor": "rgb(36,36,36)",
             "ticks": "outside"
            },
            "type": "contourcarpet"
           }
          ],
          "heatmap": [
           {
            "colorbar": {
             "outlinewidth": 1,
             "tickcolor": "rgb(36,36,36)",
             "ticks": "outside"
            },
            "colorscale": [
             [
              0,
              "#440154"
             ],
             [
              0.1111111111111111,
              "#482878"
             ],
             [
              0.2222222222222222,
              "#3e4989"
             ],
             [
              0.3333333333333333,
              "#31688e"
             ],
             [
              0.4444444444444444,
              "#26828e"
             ],
             [
              0.5555555555555556,
              "#1f9e89"
             ],
             [
              0.6666666666666666,
              "#35b779"
             ],
             [
              0.7777777777777778,
              "#6ece58"
             ],
             [
              0.8888888888888888,
              "#b5de2b"
             ],
             [
              1,
              "#fde725"
             ]
            ],
            "type": "heatmap"
           }
          ],
          "histogram": [
           {
            "marker": {
             "line": {
              "color": "white",
              "width": 0.6
             }
            },
            "type": "histogram"
           }
          ],
          "histogram2d": [
           {
            "colorbar": {
             "outlinewidth": 1,
             "tickcolor": "rgb(36,36,36)",
             "ticks": "outside"
            },
            "colorscale": [
             [
              0,
              "#440154"
             ],
             [
              0.1111111111111111,
              "#482878"
             ],
             [
              0.2222222222222222,
              "#3e4989"
             ],
             [
              0.3333333333333333,
              "#31688e"
             ],
             [
              0.4444444444444444,
              "#26828e"
             ],
             [
              0.5555555555555556,
              "#1f9e89"
             ],
             [
              0.6666666666666666,
              "#35b779"
             ],
             [
              0.7777777777777778,
              "#6ece58"
             ],
             [
              0.8888888888888888,
              "#b5de2b"
             ],
             [
              1,
              "#fde725"
             ]
            ],
            "type": "histogram2d"
           }
          ],
          "histogram2dcontour": [
           {
            "colorbar": {
             "outlinewidth": 1,
             "tickcolor": "rgb(36,36,36)",
             "ticks": "outside"
            },
            "colorscale": [
             [
              0,
              "#440154"
             ],
             [
              0.1111111111111111,
              "#482878"
             ],
             [
              0.2222222222222222,
              "#3e4989"
             ],
             [
              0.3333333333333333,
              "#31688e"
             ],
             [
              0.4444444444444444,
              "#26828e"
             ],
             [
              0.5555555555555556,
              "#1f9e89"
             ],
             [
              0.6666666666666666,
              "#35b779"
             ],
             [
              0.7777777777777778,
              "#6ece58"
             ],
             [
              0.8888888888888888,
              "#b5de2b"
             ],
             [
              1,
              "#fde725"
             ]
            ],
            "type": "histogram2dcontour"
           }
          ],
          "mesh3d": [
           {
            "colorbar": {
             "outlinewidth": 1,
             "tickcolor": "rgb(36,36,36)",
             "ticks": "outside"
            },
            "type": "mesh3d"
           }
          ],
          "parcoords": [
           {
            "line": {
             "colorbar": {
              "outlinewidth": 1,
              "tickcolor": "rgb(36,36,36)",
              "ticks": "outside"
             }
            },
            "type": "parcoords"
           }
          ],
          "pie": [
           {
            "automargin": true,
            "type": "pie"
           }
          ],
          "scatter": [
           {
            "fillpattern": {
             "fillmode": "overlay",
             "size": 10,
             "solidity": 0.2
            },
            "type": "scatter"
           }
          ],
          "scatter3d": [
           {
            "line": {
             "colorbar": {
              "outlinewidth": 1,
              "tickcolor": "rgb(36,36,36)",
              "ticks": "outside"
             }
            },
            "marker": {
             "colorbar": {
              "outlinewidth": 1,
              "tickcolor": "rgb(36,36,36)",
              "ticks": "outside"
             }
            },
            "type": "scatter3d"
           }
          ],
          "scattercarpet": [
           {
            "marker": {
             "colorbar": {
              "outlinewidth": 1,
              "tickcolor": "rgb(36,36,36)",
              "ticks": "outside"
             }
            },
            "type": "scattercarpet"
           }
          ],
          "scattergeo": [
           {
            "marker": {
             "colorbar": {
              "outlinewidth": 1,
              "tickcolor": "rgb(36,36,36)",
              "ticks": "outside"
             }
            },
            "type": "scattergeo"
           }
          ],
          "scattergl": [
           {
            "marker": {
             "colorbar": {
              "outlinewidth": 1,
              "tickcolor": "rgb(36,36,36)",
              "ticks": "outside"
             }
            },
            "type": "scattergl"
           }
          ],
          "scattermap": [
           {
            "marker": {
             "colorbar": {
              "outlinewidth": 1,
              "tickcolor": "rgb(36,36,36)",
              "ticks": "outside"
             }
            },
            "type": "scattermap"
           }
          ],
          "scattermapbox": [
           {
            "marker": {
             "colorbar": {
              "outlinewidth": 1,
              "tickcolor": "rgb(36,36,36)",
              "ticks": "outside"
             }
            },
            "type": "scattermapbox"
           }
          ],
          "scatterpolar": [
           {
            "marker": {
             "colorbar": {
              "outlinewidth": 1,
              "tickcolor": "rgb(36,36,36)",
              "ticks": "outside"
             }
            },
            "type": "scatterpolar"
           }
          ],
          "scatterpolargl": [
           {
            "marker": {
             "colorbar": {
              "outlinewidth": 1,
              "tickcolor": "rgb(36,36,36)",
              "ticks": "outside"
             }
            },
            "type": "scatterpolargl"
           }
          ],
          "scatterternary": [
           {
            "marker": {
             "colorbar": {
              "outlinewidth": 1,
              "tickcolor": "rgb(36,36,36)",
              "ticks": "outside"
             }
            },
            "type": "scatterternary"
           }
          ],
          "surface": [
           {
            "colorbar": {
             "outlinewidth": 1,
             "tickcolor": "rgb(36,36,36)",
             "ticks": "outside"
            },
            "colorscale": [
             [
              0,
              "#440154"
             ],
             [
              0.1111111111111111,
              "#482878"
             ],
             [
              0.2222222222222222,
              "#3e4989"
             ],
             [
              0.3333333333333333,
              "#31688e"
             ],
             [
              0.4444444444444444,
              "#26828e"
             ],
             [
              0.5555555555555556,
              "#1f9e89"
             ],
             [
              0.6666666666666666,
              "#35b779"
             ],
             [
              0.7777777777777778,
              "#6ece58"
             ],
             [
              0.8888888888888888,
              "#b5de2b"
             ],
             [
              1,
              "#fde725"
             ]
            ],
            "type": "surface"
           }
          ],
          "table": [
           {
            "cells": {
             "fill": {
              "color": "rgb(237,237,237)"
             },
             "line": {
              "color": "white"
             }
            },
            "header": {
             "fill": {
              "color": "rgb(217,217,217)"
             },
             "line": {
              "color": "white"
             }
            },
            "type": "table"
           }
          ]
         },
         "layout": {
          "annotationdefaults": {
           "arrowhead": 0,
           "arrowwidth": 1
          },
          "autotypenumbers": "strict",
          "coloraxis": {
           "colorbar": {
            "outlinewidth": 1,
            "tickcolor": "rgb(36,36,36)",
            "ticks": "outside"
           }
          },
          "colorscale": {
           "diverging": [
            [
             0,
             "rgb(103,0,31)"
            ],
            [
             0.1,
             "rgb(178,24,43)"
            ],
            [
             0.2,
             "rgb(214,96,77)"
            ],
            [
             0.3,
             "rgb(244,165,130)"
            ],
            [
             0.4,
             "rgb(253,219,199)"
            ],
            [
             0.5,
             "rgb(247,247,247)"
            ],
            [
             0.6,
             "rgb(209,229,240)"
            ],
            [
             0.7,
             "rgb(146,197,222)"
            ],
            [
             0.8,
             "rgb(67,147,195)"
            ],
            [
             0.9,
             "rgb(33,102,172)"
            ],
            [
             1,
             "rgb(5,48,97)"
            ]
           ],
           "sequential": [
            [
             0,
             "#440154"
            ],
            [
             0.1111111111111111,
             "#482878"
            ],
            [
             0.2222222222222222,
             "#3e4989"
            ],
            [
             0.3333333333333333,
             "#31688e"
            ],
            [
             0.4444444444444444,
             "#26828e"
            ],
            [
             0.5555555555555556,
             "#1f9e89"
            ],
            [
             0.6666666666666666,
             "#35b779"
            ],
            [
             0.7777777777777778,
             "#6ece58"
            ],
            [
             0.8888888888888888,
             "#b5de2b"
            ],
            [
             1,
             "#fde725"
            ]
           ],
           "sequentialminus": [
            [
             0,
             "#440154"
            ],
            [
             0.1111111111111111,
             "#482878"
            ],
            [
             0.2222222222222222,
             "#3e4989"
            ],
            [
             0.3333333333333333,
             "#31688e"
            ],
            [
             0.4444444444444444,
             "#26828e"
            ],
            [
             0.5555555555555556,
             "#1f9e89"
            ],
            [
             0.6666666666666666,
             "#35b779"
            ],
            [
             0.7777777777777778,
             "#6ece58"
            ],
            [
             0.8888888888888888,
             "#b5de2b"
            ],
            [
             1,
             "#fde725"
            ]
           ]
          },
          "colorway": [
           "#1F77B4",
           "#FF7F0E",
           "#2CA02C",
           "#D62728",
           "#9467BD",
           "#8C564B",
           "#E377C2",
           "#7F7F7F",
           "#BCBD22",
           "#17BECF"
          ],
          "font": {
           "color": "rgb(36,36,36)"
          },
          "geo": {
           "bgcolor": "white",
           "lakecolor": "white",
           "landcolor": "white",
           "showlakes": true,
           "showland": true,
           "subunitcolor": "white"
          },
          "hoverlabel": {
           "align": "left"
          },
          "hovermode": "closest",
          "mapbox": {
           "style": "light"
          },
          "paper_bgcolor": "white",
          "plot_bgcolor": "white",
          "polar": {
           "angularaxis": {
            "gridcolor": "rgb(232,232,232)",
            "linecolor": "rgb(36,36,36)",
            "showgrid": false,
            "showline": true,
            "ticks": "outside"
           },
           "bgcolor": "white",
           "radialaxis": {
            "gridcolor": "rgb(232,232,232)",
            "linecolor": "rgb(36,36,36)",
            "showgrid": false,
            "showline": true,
            "ticks": "outside"
           }
          },
          "scene": {
           "xaxis": {
            "backgroundcolor": "white",
            "gridcolor": "rgb(232,232,232)",
            "gridwidth": 2,
            "linecolor": "rgb(36,36,36)",
            "showbackground": true,
            "showgrid": false,
            "showline": true,
            "ticks": "outside",
            "zeroline": false,
            "zerolinecolor": "rgb(36,36,36)"
           },
           "yaxis": {
            "backgroundcolor": "white",
            "gridcolor": "rgb(232,232,232)",
            "gridwidth": 2,
            "linecolor": "rgb(36,36,36)",
            "showbackground": true,
            "showgrid": false,
            "showline": true,
            "ticks": "outside",
            "zeroline": false,
            "zerolinecolor": "rgb(36,36,36)"
           },
           "zaxis": {
            "backgroundcolor": "white",
            "gridcolor": "rgb(232,232,232)",
            "gridwidth": 2,
            "linecolor": "rgb(36,36,36)",
            "showbackground": true,
            "showgrid": false,
            "showline": true,
            "ticks": "outside",
            "zeroline": false,
            "zerolinecolor": "rgb(36,36,36)"
           }
          },
          "shapedefaults": {
           "fillcolor": "black",
           "line": {
            "width": 0
           },
           "opacity": 0.3
          },
          "ternary": {
           "aaxis": {
            "gridcolor": "rgb(232,232,232)",
            "linecolor": "rgb(36,36,36)",
            "showgrid": false,
            "showline": true,
            "ticks": "outside"
           },
           "baxis": {
            "gridcolor": "rgb(232,232,232)",
            "linecolor": "rgb(36,36,36)",
            "showgrid": false,
            "showline": true,
            "ticks": "outside"
           },
           "bgcolor": "white",
           "caxis": {
            "gridcolor": "rgb(232,232,232)",
            "linecolor": "rgb(36,36,36)",
            "showgrid": false,
            "showline": true,
            "ticks": "outside"
           }
          },
          "title": {
           "x": 0.05
          },
          "xaxis": {
           "automargin": true,
           "gridcolor": "rgb(232,232,232)",
           "linecolor": "rgb(36,36,36)",
           "showgrid": false,
           "showline": true,
           "ticks": "outside",
           "title": {
            "standoff": 15
           },
           "zeroline": false,
           "zerolinecolor": "rgb(36,36,36)"
          },
          "yaxis": {
           "automargin": true,
           "gridcolor": "rgb(232,232,232)",
           "linecolor": "rgb(36,36,36)",
           "showgrid": false,
           "showline": true,
           "ticks": "outside",
           "title": {
            "standoff": 15
           },
           "zeroline": false,
           "zerolinecolor": "rgb(36,36,36)"
          }
         }
        },
        "title": {
         "text": "Storage delta from baseline"
        },
        "width": 800,
        "xaxis": {
         "anchor": "y",
         "domain": [
          0,
          1
         ],
         "title": {
          "text": "Time (years)"
         }
        },
        "yaxis": {
         "anchor": "x",
         "domain": [
          0,
          1
         ],
         "title": {
          "text": "Storage (MCM)"
         }
        }
       }
      }
     },
     "metadata": {},
     "output_type": "display_data"
    }
   ],
   "source": [
    "# utils.plot_variable_for_each_run(\"additional_water_required_to_recover\", runs, title=\"Additional Water Required to Recover Over Time\", y_label=\"Storage (MCM)\", y_scale=1e6)\n",
    "utils.plot_variable_for_each_run(\"storage_delta_from_baseline\", runs, title=\"Storage delta from baseline\", y_label=\"Storage (MCM)\", y_scale=1e6)"
   ]
  },
  {
   "cell_type": "code",
   "execution_count": 15,
   "metadata": {},
   "outputs": [
    {
     "data": {
      "application/vnd.plotly.v1+json": {
       "config": {
        "plotlyServerURL": "https://plot.ly"
       },
       "data": [
        {
         "hovertemplate": "Run=baseline<br>time=%{x}<br>percent_change_in_flow=%{y}<extra></extra>",
         "legendgroup": "baseline",
         "line": {
          "color": "#1F77B4",
          "dash": "solid"
         },
         "marker": {
          "symbol": "circle"
         },
         "mode": "lines",
         "name": "baseline",
         "opacity": 0.4,
         "orientation": "v",
         "showlegend": true,
         "type": "scatter",
         "x": {
          "bdata": "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",
          "dtype": "f8"
         },
         "xaxis": "x",
         "y": {
          "bdata": "AAAAAAAAAAAAAAAAAAAAAAAAAAAAAAAAAAAAAAAAAAAAAAAAAAAAAAAAAAAAAAAAAAAAAAAAAAAAAAAAAAAAAAAAAAAAAAAAAAAAAAAAAAAAAAAAAAAAAAAAAAAAAAAAAAAAAAAAAAAAAAAAAAAAAAAAAAAAAAAAAAAAAAAAAAAAAAAAAAAAAAAAAAAAAAAAAAAAAAAAAAAAAAAAAAAAAAAAAAAAAAAAAAAAAAAAAAAAAAAAAAAAAAAAAAAAAAAAAAAAAAAAAAAAAAAAAAAAAAAAAAAAAAAAAAAAAAAAAAAAAAAAAAAAAAAAAAAAAAAAAAAAAAAAAAAAAAAAAAAAAAAAAAAAAAAAAAAAAAAAAAAAAAAAAAAAAAAAAAAAAAAAAAAAAAAAAAAAAAAAAAAAAAAAAAAAAAAAAAAAAAAAAAAAAAAAAAAAAAAAAAAAAAAAAAAAAAAAAAAAAAAAAAAAAAAAAAAAAAAAAAAAAAAAAAAAAAAAAAAAAAAAAAAAAAAAAAAAAAAAAAAAAAAAAAAAAAAAAAAAAAAAAAAAAAAAAAAAAAAAAAAAAAAAAAAAAAAAAAAAAAAAAAAAAAAAAAAAAAAAAAAAAAAAAAAAAAAAAAAAAAAAAAAAAAAAAAAAAAAAAAAAAAAAAAAAAAAAAAAAAAAAAAAAAAAAAAAAAAAAAAAAAAAAAAAAAAAAAAAAAAAAAAAAAAAAAAAAAAAAAAAAAAAAAAAAAAAAAAAAAAAAAAAAAAAAAAAAAAAAAAAAAAAAAAAAAAAAAAAAAAAAAAAAAAAAAAAAAAAAAAAAAAAAAAAAAAAAAAAAAAAAAAAAAAAAAAAAAAAAAAAAAAAAAAAAAAAAAAAAAAAAAAAAAAAAAAAAAAAAAAAAAAAAAAAAAAAAAAAAAAAAAAAAAAAAAAAAAAAAAAAAAAAAAAAAAAAAAAAAAAAAAAAAAAAAAAAAAAAAAAAAAAAAAAAAAAAAAAAAAAAAAAAAAAAAAAAAAAAAAAAAAAAAAAAAAAAAAAAAAAAAAAAAAAAAAAAAAAAAAAAAAAAAAAAAAAAAAAAAAAAAAAAAAAAAAAAAAAAAAAAAAAAAAAAAAAAAAAAAAAAAAAAAAAAAAAAAAAAAAAAAAAAAAAAAAAAAAAAAAAAAAAAAAAAAAAAAAAAAAAAAAAAAAAAAAAAAAAAAAAAAAAAAAAAAAAAAAAAAAAAAAAAAAAAAAAAAAAAAAAAAAAAAAAAAAAAAAAAAAAAAAAAAAAAAAAAAAAAAAAAAAAAAAAAAAAAAAAAAAAAAAAAAAAAAAAAAAAAAAAAAAAAAAAAAAAAAAAAAAAAAAAAAAAAAAAAAAAAAAAAAAAAAAAAAAAAAAAAAAAAAAAAAAAAAAAAAAAAAAAAAAAAAAAAAAAAAAAAAAAAAAAAAAAAAAAAAAAAAAAAAAAAAAAAAAAAAAAAAAAAAAAAAAAAAAAAAAAAAAAAAAAAAAAAAAAAAAAAAAAAAAAAAAAAAAAAAAAAAAAAAAAAAAAAAAAAAAAAAAAAAAAAAAAAAAAAAAAAAAAAAAAAAAAAAAAAAAAAAAAAAAAAAAAAAAAAAAAAAAAAAAAAAAAAAAAAAAAAAAAAAAAAAAAAAAAAAAAAAAAAAAAAAAAAAAAAAAAAAAAAAAAAAAAAAAAAAAAAAAAAAAAAAAAAAAAAAAAAAAAAAAAAAAAAAAAAAAAAAAAAAAAAAAAAAAAAAAAAAAAAAAAAAAAAAAAAAAAAAAAAAAAAAAAAAAAAAAAAAAAAAAAAAAAAAAAAAAAAAAAAAAAAAAAAAAAAAAAAAAAAAAAAAAAAAAAAAAAAAAAAAAAAAAAAAAAAAAAAAAAAAAAAAAAAAAAAAAAAAAAAAAAAAAAAAAAAAAAAAAAAAAAAAAAAAAAAAAAAAAAAAAAAAAAAAAAAAAAAAAAAAAAAAAAAAAAAAAAAAAAAAAAAAAAAAAAAAAAAAAAAAAAAAAAAAAAAAAAAAAAAAAAAAAAAAAAAAAAAAAAAAAAAAAAAAAAAAAAAAAAAAAAAAAAAAAAAAAAAAAAAAAAAAAAAAAAAAAAAAAAAAAAAAAAAAAAAAAAAAAAAAAAAAAAAAAAAAAAAAAAAAAAAAAAAAAAAAAAAAAAAAAAAAAAAAAAAAAAAAAAAAAAAAAAAAAAAAAAAAAAAAAAAAAAAAAAAAAAAAAAAAAAAAAAAAAAAAAAAAAAAAAAAAAAAAAAAAAAAAAAAAAAAAAAAAAAAAAAAA",
          "dtype": "f8"
         },
         "yaxis": "y"
        },
        {
         "hovertemplate": "Run=pumping<br>time=%{x}<br>percent_change_in_flow=%{y}<extra></extra>",
         "legendgroup": "pumping",
         "line": {
          "color": "#FF7F0E",
          "dash": "solid"
         },
         "marker": {
          "symbol": "circle"
         },
         "mode": "lines",
         "name": "pumping",
         "opacity": 0.4,
         "orientation": "v",
         "showlegend": true,
         "type": "scatter",
         "x": {
          "bdata": "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",
          "dtype": "f8"
         },
         "xaxis": "x",
         "y": {
          "bdata": "AAAAAAAAAADe3zlAg4Z9vwAAAAAAAAAAAAAAAAAAAAAAhvCvmnYFwLFvq+1Yt96/okuuVeXWz7+GjM98zCTbv5KeF/VuX+S/DSb+7knT7b+HrFTSzMXyv4Bfg2k+QATAJhhRO09I9b/OLXKM6nQBwLLtl80HzgrA+3lPjtfcAMC3JkTp/iwVwC0wWQIigxTAGWUl3zI3EsBevV0F3Kv1v3zF7qw3hPK/OqHiqrVE5L9Xu3PLcyPvvz6pdSCV5/O/ro7hUInu9L9T83MLKoX1v5QloFCt0AXA1/wY1mE+EcBK0G/r7WwawHA2PPHCDxrAka665rFNDcCgb4Pay9oRwMk59acgYwXA7b5ArhQDBMAZ0RpSa2UEwOwHNxeEuQTAnUP9OxjPCcBtILjnkzgRwMUsvjpHEhLAfcdG327QF8DKMahaCZgkwMhH/WXrBxnAPBvZwbowEsBCv9usB20OwKijXsfIQxDAFkIOJec7EsAL2QiJc/kXwP3GG140/R7AMus2Tp89NMAzR5taAo9AwAAAAAAAAAAAAAAAAAAAAAAAAAAAAAAAAAAAAAAAAAAAAAAAAAAAAAAAAAAAAAAAAAAAAAAAAAAAucZkwNpcQsAAAAAAAAAAAAAAAAAAAAAAAAAAAAAAAAAAAAAAAAAAAAAAAAAAAAAAAAAAAAAAAAAAAAAAAAAAAAAAAAAAAAAAAAAAAAAAAAAAAAAAAAAAAAAAAAAAAAAAAAAAAAAAAAAAAAAAAAAAAAAAAAAAAAAAAAAAAAAAAAAAAAAAAAAAAAAAAAAAAAAAAAAAAAAAAAAAAAAAAAAAAAAAAAAAAAAAAAAAAAAAAAAAAAAAAAAAAAAAAAAAAAAA91wWeONL0T/bDWNdPWQCQOGWxHZs+qI/NQC/0h/aF8CTs6IIiWFYwJg9BfacXSfAqK3iTZ2GMsCrk7MaSsxHwD/z4c77sEDAOndfBB7EJMBt3iuor48zwEJkSjXMigLAIgCBXWUoDMAJ806hGi0qwMuD5HjkGSrAy0aBsiEJJ8CLoXdaSTsnwMH5Q+GJYB7ARqcJXOA4JMADtYipDGAuwHV4QUYuUDbAolA3DXITQcD2qv86aiguwF4/Jio1PzrAlmnToaWdM8AAf/VdA7knwMkndbh1FyfAW4fjD9nPJsBPYn/ZVR0pwHr26TBWNi3ASjK82stBKsB55AcYOUUqwISWCi4sCTHAVY6chDqXMMBP9Ofmt7EjwI0lLe801iLAE+HA0tApI8BpHaK3HAclwKLjT6hYKSzAH1xw70dQLMDtmCcPhA1CwHIxmG4LU1LAAAAAAAAAAAAAAAAAAAAAAAAAAAAAAAAAAAAAAAAAAAAAAAAAAAAAAAAAAAAAAAAAAAAAAAAAAACmXwRUjvdYwAAAAAAAAAAAAAAAAAAAAAAAAAAAAAAAAAAAAAAAAAAAAAAAAAAAAAAAAAAAAAAAAAAAAAAAAAAAAAAAAAAAAAAAAAAAAAAAAAAAAAAAAAAAAAAAAAAAAAAAAAAAAAAAAAAAAAAAAAAAAAAAAAAAAAAAAAAAAAAAAAAAAAAAAAAAAAAAAAAAAAAAAAAAAAAAAAAAAAAAAAAAAAAAAAAAAAAAAAAAAAAAAAAAAAAAAAAAAAAAAAAAAADGWnPfeSMKwIPEC1Lx0RfAziuXgxTv1D+sEVbxkdEfQOibUYCnDljAmeQY9Rk2WMB0S4QGE8lQwP+6ZowKk0jAHPZQCFqoR8ASwbIrBfQ6wI6843n57TfAtYgV+mjuE8BpCsNzTpQWwAv3nu4DQivA7X9Dy5I9MMCCUFzbmuAuwLz72MavOCnAP/Ao5O9eIMA4KcPt9KclwOkyzwpdBjHAMdDBO/lgOcDFqkKizhpCwOE8plrADTPA/aBHHY+rPcCodJClQo42wLIm6T/rXSvAsReS+2K0KsAeJH7NcVorwC/7HAZkcS7AjRxkxEzEMcBhoTNuRtgwwN8kO2+rdzDArGrgMcZ+NMC1pV3cKio2wMrNL2Ug6ybAQV4h3yYcJsCVYbr+dhonwD3Q9GPAoCnAgffdvc6sMcAAe3XiW7QxwEglq65hU0XArWOntUe/VMAAAAAAAAAAAAAAAAAAAAAAAAAAAAAAAAAAAAAAAAAAAAAAAAAAAAAAAAAAAAAAAAAAAAAAAAAAAAAAAAAAAFnAAAAAAAAAAAAAAAAAAAAAAAAAAAAAAAAAAAAAAAAAAAAAAAAAAAAAAAAAAAAAAAAA",
          "dtype": "f8"
         },
         "yaxis": "y"
        },
        {
         "hovertemplate": "Run=double_pumping<br>time=%{x}<br>percent_change_in_flow=%{y}<extra></extra>",
         "legendgroup": "double_pumping",
         "line": {
          "color": "#2CA02C",
          "dash": "solid"
         },
         "marker": {
          "symbol": "circle"
         },
         "mode": "lines",
         "name": "double_pumping",
         "opacity": 0.4,
         "orientation": "v",
         "showlegend": true,
         "type": "scatter",
         "x": {
          "bdata": "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",
          "dtype": "f8"
         },
         "xaxis": "x",
         "y": {
          "bdata": "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",
          "dtype": "f8"
         },
         "yaxis": "y"
        },
        {
         "hovertemplate": "Run=triple_pumping<br>time=%{x}<br>percent_change_in_flow=%{y}<extra></extra>",
         "legendgroup": "triple_pumping",
         "line": {
          "color": "#D62728",
          "dash": "solid"
         },
         "marker": {
          "symbol": "circle"
         },
         "mode": "lines",
         "name": "triple_pumping",
         "opacity": 0.4,
         "orientation": "v",
         "showlegend": true,
         "type": "scatter",
         "x": {
          "bdata": "AAAAAAAAAADN3gFI1OwdP83eAUjU7C0/GmcBNp9xNj/N3gFI1Ow9P0ArAa0EtEI/GmcBNp9xRj/0ogG/OS9KP83eAUjU7E0/Uw2BaDfVUD9AKwGtBLRSPy1JgfHRklQ/GmcBNp9xVj8HhYF6bFBYP/SiAb85L1o/4MCBAwcOXD/N3gFI1OxdP7r8gYyhy18/Uw2BaDfVYD9KHMEKnsRhP0ArAa0EtGI/NzpBT2ujYz8tSYHx0ZJkPyRYwZM4gmU/GmcBNp9xZj8QdkHYBWFnPweFgXpsUGg//ZPBHNM/aT/0ogG/OS9qP+qxQWGgHms/4MCBAwcObD/Xz8Glbf1sP83eAUjU7G0/xO1B6jrcbj+6/IGMoctvP9gFYReEXXA/Uw2BaDfVcD/PFKG56kxxP0ocwQqexHE/xSPhW1E8cj9AKwGtBLRyP7syIf63K3M/NzpBT2ujcz+yQWGgHht0Py1JgfHRknQ/qFChQoUKdT8kWMGTOIJ1P59f4eTr+XU/GmcBNp9xdj+VbiGHUul2PxB2QdgFYXc/jH1hKbnYdz8HhYF6bFB4P4KMocsfyHg//ZPBHNM/eT94m+Fthrd5P/SiAb85L3o/b6ohEO2mej/qsUFhoB57P2W5YbJTlns/4MCBAwcOfD9cyKFUuoV8P9fPwaVt/Xw/Utfh9iB1fT/N3gFI1Ox9P0jmIZmHZH4/xO1B6jrcfj8/9WE77lN/P7r8gYyhy38/GwLRbqohgD/YBWEXhF2AP5YJ8b9dmYA/Uw2BaDfVgD8RERERERGBP88UobnqTIE/jBgxYsSIgT9KHMEKnsSBPwcgUbN3AII/xSPhW1E8gj+DJ3EEK3iCP0ArAa0EtII//i6RVd7vgj+7MiH+tyuDP3k2saaRZ4M/NzpBT2ujgz/0PdH3RN+DP7JBYaAeG4Q/cEXxSPhWhD8tSYHx0ZKEP+tMEZqrzoQ/qFChQoUKhT9mVDHrXkaFPyRYwZM4goU/4VtRPBK+hT+fX+Hk6/mFP1xjcY3FNYY/GmcBNp9xhj/YapHeeK2GP5VuIYdS6YY/U3KxLywlhz8QdkHYBWGHP8550YDfnIc/jH1hKbnYhz9JgfHRkhSIPweFgXpsUIg/xIgRI0aMiD+CjKHLH8iIP0CQMXT5A4k//ZPBHNM/iT+7l1HFrHuJP3ib4W2Gt4k/Np9xFmDziT/0ogG/OS+KP7GmkWcTa4o/b6ohEO2mij8srrG4xuKKP+qxQWGgHos/qLXRCXpaiz9luWGyU5aLPyO98Vot0os/4MCBAwcOjD+exBGs4EmMP1zIoVS6hYw/Gcwx/ZPBjD/Xz8Glbf2MP5TTUU5HOY0/Utfh9iB1jT8Q23Gf+rCNP83eAUjU7I0/i+KR8K0ojj9I5iGZh2SOPwbqsUFhoI4/xO1B6jrcjj+B8dGSFBiPPz/1YTvuU48//Pjx48ePjz+6/IGMocuPPzwAiZq9A5A/GwLRbqohkD/5AxlDlz+QP9gFYReEXZA/twep63B7kD+WCfG/XZmQP3ULOZRKt5A/Uw2BaDfVkD8yD8k8JPOQPxEREREREZE/8BJZ5f0ukT/PFKG56kyRP60W6Y3XapE/jBgxYsSIkT9rGnk2saaRP0ocwQqexJE/KR4J34rikT8HIFGzdwCSP+YhmYdkHpI/xSPhW1E8kj+kJSkwPlqSP4MncQQreJI/YSm52BeWkj9AKwGtBLSSPx8tSYHx0ZI//i6RVd7vkj/dMNkpyw2TP7syIf63K5M/mjRp0qRJkz95NrGmkWeTP1g4+Xp+hZM/NzpBT2ujkz8WPIkjWMGTP/Q90fdE35M/0z8ZzDH9kz+yQWGgHhuUP5FDqXQLOZQ/cEXxSPhWlD9ORzkd5XSUPy1JgfHRkpQ/DEvJxb6wlD/rTBGaq86UP8pOWW6Y7JQ/qFChQoUKlT+HUukWciiVP2ZUMeteRpU/RVZ5v0tklT8kWMGTOIKVPwJaCWgloJU/4VtRPBK+lT/AXZkQ/9uVP59f4eTr+ZU/fmEpudgXlj9cY3GNxTWWPztluWGyU5Y/GmcBNp9xlj/5aEkKjI+WP9hqkd54rZY/tmzZsmXLlj+VbiGHUumWP3RwaVs/B5c/U3KxLywllz8ydPkDGUOXPxB2QdgFYZc/73eJrPJ+lz/OedGA35yXP617GVXMupc/jH1hKbnYlz9qf6n9pfaXP0mB8dGSFJg/KIM5pn8ymD8HhYF6bFCYP+aGyU5Zbpg/",
          "dtype": "f8"
         },
         "xaxis": "x",
         "y": {
          "bdata": "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",
          "dtype": "f8"
         },
         "yaxis": "y"
        }
       ],
       "layout": {
        "height": 700,
        "legend": {
         "orientation": "h",
         "title": {
          "text": "Run"
         },
         "tracegroupgap": 0,
         "x": 1,
         "xanchor": "right",
         "y": 0.96,
         "yanchor": "bottom"
        },
        "showlegend": true,
        "template": {
         "data": {
          "bar": [
           {
            "error_x": {
             "color": "rgb(36,36,36)"
            },
            "error_y": {
             "color": "rgb(36,36,36)"
            },
            "marker": {
             "line": {
              "color": "white",
              "width": 0.5
             },
             "pattern": {
              "fillmode": "overlay",
              "size": 10,
              "solidity": 0.2
             }
            },
            "type": "bar"
           }
          ],
          "barpolar": [
           {
            "marker": {
             "line": {
              "color": "white",
              "width": 0.5
             },
             "pattern": {
              "fillmode": "overlay",
              "size": 10,
              "solidity": 0.2
             }
            },
            "type": "barpolar"
           }
          ],
          "carpet": [
           {
            "aaxis": {
             "endlinecolor": "rgb(36,36,36)",
             "gridcolor": "white",
             "linecolor": "white",
             "minorgridcolor": "white",
             "startlinecolor": "rgb(36,36,36)"
            },
            "baxis": {
             "endlinecolor": "rgb(36,36,36)",
             "gridcolor": "white",
             "linecolor": "white",
             "minorgridcolor": "white",
             "startlinecolor": "rgb(36,36,36)"
            },
            "type": "carpet"
           }
          ],
          "choropleth": [
           {
            "colorbar": {
             "outlinewidth": 1,
             "tickcolor": "rgb(36,36,36)",
             "ticks": "outside"
            },
            "type": "choropleth"
           }
          ],
          "contour": [
           {
            "colorbar": {
             "outlinewidth": 1,
             "tickcolor": "rgb(36,36,36)",
             "ticks": "outside"
            },
            "colorscale": [
             [
              0,
              "#440154"
             ],
             [
              0.1111111111111111,
              "#482878"
             ],
             [
              0.2222222222222222,
              "#3e4989"
             ],
             [
              0.3333333333333333,
              "#31688e"
             ],
             [
              0.4444444444444444,
              "#26828e"
             ],
             [
              0.5555555555555556,
              "#1f9e89"
             ],
             [
              0.6666666666666666,
              "#35b779"
             ],
             [
              0.7777777777777778,
              "#6ece58"
             ],
             [
              0.8888888888888888,
              "#b5de2b"
             ],
             [
              1,
              "#fde725"
             ]
            ],
            "type": "contour"
           }
          ],
          "contourcarpet": [
           {
            "colorbar": {
             "outlinewidth": 1,
             "tickcolor": "rgb(36,36,36)",
             "ticks": "outside"
            },
            "type": "contourcarpet"
           }
          ],
          "heatmap": [
           {
            "colorbar": {
             "outlinewidth": 1,
             "tickcolor": "rgb(36,36,36)",
             "ticks": "outside"
            },
            "colorscale": [
             [
              0,
              "#440154"
             ],
             [
              0.1111111111111111,
              "#482878"
             ],
             [
              0.2222222222222222,
              "#3e4989"
             ],
             [
              0.3333333333333333,
              "#31688e"
             ],
             [
              0.4444444444444444,
              "#26828e"
             ],
             [
              0.5555555555555556,
              "#1f9e89"
             ],
             [
              0.6666666666666666,
              "#35b779"
             ],
             [
              0.7777777777777778,
              "#6ece58"
             ],
             [
              0.8888888888888888,
              "#b5de2b"
             ],
             [
              1,
              "#fde725"
             ]
            ],
            "type": "heatmap"
           }
          ],
          "histogram": [
           {
            "marker": {
             "line": {
              "color": "white",
              "width": 0.6
             }
            },
            "type": "histogram"
           }
          ],
          "histogram2d": [
           {
            "colorbar": {
             "outlinewidth": 1,
             "tickcolor": "rgb(36,36,36)",
             "ticks": "outside"
            },
            "colorscale": [
             [
              0,
              "#440154"
             ],
             [
              0.1111111111111111,
              "#482878"
             ],
             [
              0.2222222222222222,
              "#3e4989"
             ],
             [
              0.3333333333333333,
              "#31688e"
             ],
             [
              0.4444444444444444,
              "#26828e"
             ],
             [
              0.5555555555555556,
              "#1f9e89"
             ],
             [
              0.6666666666666666,
              "#35b779"
             ],
             [
              0.7777777777777778,
              "#6ece58"
             ],
             [
              0.8888888888888888,
              "#b5de2b"
             ],
             [
              1,
              "#fde725"
             ]
            ],
            "type": "histogram2d"
           }
          ],
          "histogram2dcontour": [
           {
            "colorbar": {
             "outlinewidth": 1,
             "tickcolor": "rgb(36,36,36)",
             "ticks": "outside"
            },
            "colorscale": [
             [
              0,
              "#440154"
             ],
             [
              0.1111111111111111,
              "#482878"
             ],
             [
              0.2222222222222222,
              "#3e4989"
             ],
             [
              0.3333333333333333,
              "#31688e"
             ],
             [
              0.4444444444444444,
              "#26828e"
             ],
             [
              0.5555555555555556,
              "#1f9e89"
             ],
             [
              0.6666666666666666,
              "#35b779"
             ],
             [
              0.7777777777777778,
              "#6ece58"
             ],
             [
              0.8888888888888888,
              "#b5de2b"
             ],
             [
              1,
              "#fde725"
             ]
            ],
            "type": "histogram2dcontour"
           }
          ],
          "mesh3d": [
           {
            "colorbar": {
             "outlinewidth": 1,
             "tickcolor": "rgb(36,36,36)",
             "ticks": "outside"
            },
            "type": "mesh3d"
           }
          ],
          "parcoords": [
           {
            "line": {
             "colorbar": {
              "outlinewidth": 1,
              "tickcolor": "rgb(36,36,36)",
              "ticks": "outside"
             }
            },
            "type": "parcoords"
           }
          ],
          "pie": [
           {
            "automargin": true,
            "type": "pie"
           }
          ],
          "scatter": [
           {
            "fillpattern": {
             "fillmode": "overlay",
             "size": 10,
             "solidity": 0.2
            },
            "type": "scatter"
           }
          ],
          "scatter3d": [
           {
            "line": {
             "colorbar": {
              "outlinewidth": 1,
              "tickcolor": "rgb(36,36,36)",
              "ticks": "outside"
             }
            },
            "marker": {
             "colorbar": {
              "outlinewidth": 1,
              "tickcolor": "rgb(36,36,36)",
              "ticks": "outside"
             }
            },
            "type": "scatter3d"
           }
          ],
          "scattercarpet": [
           {
            "marker": {
             "colorbar": {
              "outlinewidth": 1,
              "tickcolor": "rgb(36,36,36)",
              "ticks": "outside"
             }
            },
            "type": "scattercarpet"
           }
          ],
          "scattergeo": [
           {
            "marker": {
             "colorbar": {
              "outlinewidth": 1,
              "tickcolor": "rgb(36,36,36)",
              "ticks": "outside"
             }
            },
            "type": "scattergeo"
           }
          ],
          "scattergl": [
           {
            "marker": {
             "colorbar": {
              "outlinewidth": 1,
              "tickcolor": "rgb(36,36,36)",
              "ticks": "outside"
             }
            },
            "type": "scattergl"
           }
          ],
          "scattermap": [
           {
            "marker": {
             "colorbar": {
              "outlinewidth": 1,
              "tickcolor": "rgb(36,36,36)",
              "ticks": "outside"
             }
            },
            "type": "scattermap"
           }
          ],
          "scattermapbox": [
           {
            "marker": {
             "colorbar": {
              "outlinewidth": 1,
              "tickcolor": "rgb(36,36,36)",
              "ticks": "outside"
             }
            },
            "type": "scattermapbox"
           }
          ],
          "scatterpolar": [
           {
            "marker": {
             "colorbar": {
              "outlinewidth": 1,
              "tickcolor": "rgb(36,36,36)",
              "ticks": "outside"
             }
            },
            "type": "scatterpolar"
           }
          ],
          "scatterpolargl": [
           {
            "marker": {
             "colorbar": {
              "outlinewidth": 1,
              "tickcolor": "rgb(36,36,36)",
              "ticks": "outside"
             }
            },
            "type": "scatterpolargl"
           }
          ],
          "scatterternary": [
           {
            "marker": {
             "colorbar": {
              "outlinewidth": 1,
              "tickcolor": "rgb(36,36,36)",
              "ticks": "outside"
             }
            },
            "type": "scatterternary"
           }
          ],
          "surface": [
           {
            "colorbar": {
             "outlinewidth": 1,
             "tickcolor": "rgb(36,36,36)",
             "ticks": "outside"
            },
            "colorscale": [
             [
              0,
              "#440154"
             ],
             [
              0.1111111111111111,
              "#482878"
             ],
             [
              0.2222222222222222,
              "#3e4989"
             ],
             [
              0.3333333333333333,
              "#31688e"
             ],
             [
              0.4444444444444444,
              "#26828e"
             ],
             [
              0.5555555555555556,
              "#1f9e89"
             ],
             [
              0.6666666666666666,
              "#35b779"
             ],
             [
              0.7777777777777778,
              "#6ece58"
             ],
             [
              0.8888888888888888,
              "#b5de2b"
             ],
             [
              1,
              "#fde725"
             ]
            ],
            "type": "surface"
           }
          ],
          "table": [
           {
            "cells": {
             "fill": {
              "color": "rgb(237,237,237)"
             },
             "line": {
              "color": "white"
             }
            },
            "header": {
             "fill": {
              "color": "rgb(217,217,217)"
             },
             "line": {
              "color": "white"
             }
            },
            "type": "table"
           }
          ]
         },
         "layout": {
          "annotationdefaults": {
           "arrowhead": 0,
           "arrowwidth": 1
          },
          "autotypenumbers": "strict",
          "coloraxis": {
           "colorbar": {
            "outlinewidth": 1,
            "tickcolor": "rgb(36,36,36)",
            "ticks": "outside"
           }
          },
          "colorscale": {
           "diverging": [
            [
             0,
             "rgb(103,0,31)"
            ],
            [
             0.1,
             "rgb(178,24,43)"
            ],
            [
             0.2,
             "rgb(214,96,77)"
            ],
            [
             0.3,
             "rgb(244,165,130)"
            ],
            [
             0.4,
             "rgb(253,219,199)"
            ],
            [
             0.5,
             "rgb(247,247,247)"
            ],
            [
             0.6,
             "rgb(209,229,240)"
            ],
            [
             0.7,
             "rgb(146,197,222)"
            ],
            [
             0.8,
             "rgb(67,147,195)"
            ],
            [
             0.9,
             "rgb(33,102,172)"
            ],
            [
             1,
             "rgb(5,48,97)"
            ]
           ],
           "sequential": [
            [
             0,
             "#440154"
            ],
            [
             0.1111111111111111,
             "#482878"
            ],
            [
             0.2222222222222222,
             "#3e4989"
            ],
            [
             0.3333333333333333,
             "#31688e"
            ],
            [
             0.4444444444444444,
             "#26828e"
            ],
            [
             0.5555555555555556,
             "#1f9e89"
            ],
            [
             0.6666666666666666,
             "#35b779"
            ],
            [
             0.7777777777777778,
             "#6ece58"
            ],
            [
             0.8888888888888888,
             "#b5de2b"
            ],
            [
             1,
             "#fde725"
            ]
           ],
           "sequentialminus": [
            [
             0,
             "#440154"
            ],
            [
             0.1111111111111111,
             "#482878"
            ],
            [
             0.2222222222222222,
             "#3e4989"
            ],
            [
             0.3333333333333333,
             "#31688e"
            ],
            [
             0.4444444444444444,
             "#26828e"
            ],
            [
             0.5555555555555556,
             "#1f9e89"
            ],
            [
             0.6666666666666666,
             "#35b779"
            ],
            [
             0.7777777777777778,
             "#6ece58"
            ],
            [
             0.8888888888888888,
             "#b5de2b"
            ],
            [
             1,
             "#fde725"
            ]
           ]
          },
          "colorway": [
           "#1F77B4",
           "#FF7F0E",
           "#2CA02C",
           "#D62728",
           "#9467BD",
           "#8C564B",
           "#E377C2",
           "#7F7F7F",
           "#BCBD22",
           "#17BECF"
          ],
          "font": {
           "color": "rgb(36,36,36)"
          },
          "geo": {
           "bgcolor": "white",
           "lakecolor": "white",
           "landcolor": "white",
           "showlakes": true,
           "showland": true,
           "subunitcolor": "white"
          },
          "hoverlabel": {
           "align": "left"
          },
          "hovermode": "closest",
          "mapbox": {
           "style": "light"
          },
          "paper_bgcolor": "white",
          "plot_bgcolor": "white",
          "polar": {
           "angularaxis": {
            "gridcolor": "rgb(232,232,232)",
            "linecolor": "rgb(36,36,36)",
            "showgrid": false,
            "showline": true,
            "ticks": "outside"
           },
           "bgcolor": "white",
           "radialaxis": {
            "gridcolor": "rgb(232,232,232)",
            "linecolor": "rgb(36,36,36)",
            "showgrid": false,
            "showline": true,
            "ticks": "outside"
           }
          },
          "scene": {
           "xaxis": {
            "backgroundcolor": "white",
            "gridcolor": "rgb(232,232,232)",
            "gridwidth": 2,
            "linecolor": "rgb(36,36,36)",
            "showbackground": true,
            "showgrid": false,
            "showline": true,
            "ticks": "outside",
            "zeroline": false,
            "zerolinecolor": "rgb(36,36,36)"
           },
           "yaxis": {
            "backgroundcolor": "white",
            "gridcolor": "rgb(232,232,232)",
            "gridwidth": 2,
            "linecolor": "rgb(36,36,36)",
            "showbackground": true,
            "showgrid": false,
            "showline": true,
            "ticks": "outside",
            "zeroline": false,
            "zerolinecolor": "rgb(36,36,36)"
           },
           "zaxis": {
            "backgroundcolor": "white",
            "gridcolor": "rgb(232,232,232)",
            "gridwidth": 2,
            "linecolor": "rgb(36,36,36)",
            "showbackground": true,
            "showgrid": false,
            "showline": true,
            "ticks": "outside",
            "zeroline": false,
            "zerolinecolor": "rgb(36,36,36)"
           }
          },
          "shapedefaults": {
           "fillcolor": "black",
           "line": {
            "width": 0
           },
           "opacity": 0.3
          },
          "ternary": {
           "aaxis": {
            "gridcolor": "rgb(232,232,232)",
            "linecolor": "rgb(36,36,36)",
            "showgrid": false,
            "showline": true,
            "ticks": "outside"
           },
           "baxis": {
            "gridcolor": "rgb(232,232,232)",
            "linecolor": "rgb(36,36,36)",
            "showgrid": false,
            "showline": true,
            "ticks": "outside"
           },
           "bgcolor": "white",
           "caxis": {
            "gridcolor": "rgb(232,232,232)",
            "linecolor": "rgb(36,36,36)",
            "showgrid": false,
            "showline": true,
            "ticks": "outside"
           }
          },
          "title": {
           "x": 0.05
          },
          "xaxis": {
           "automargin": true,
           "gridcolor": "rgb(232,232,232)",
           "linecolor": "rgb(36,36,36)",
           "showgrid": false,
           "showline": true,
           "ticks": "outside",
           "title": {
            "standoff": 15
           },
           "zeroline": false,
           "zerolinecolor": "rgb(36,36,36)"
          },
          "yaxis": {
           "automargin": true,
           "gridcolor": "rgb(232,232,232)",
           "linecolor": "rgb(36,36,36)",
           "showgrid": false,
           "showline": true,
           "ticks": "outside",
           "title": {
            "standoff": 15
           },
           "zeroline": false,
           "zerolinecolor": "rgb(36,36,36)"
          }
         }
        },
        "title": {
         "text": "percent_change_in_flow over time"
        },
        "width": 800,
        "xaxis": {
         "anchor": "y",
         "domain": [
          0,
          1
         ],
         "title": {
          "text": "Time (years)"
         }
        },
        "yaxis": {
         "anchor": "x",
         "domain": [
          0,
          1
         ],
         "title": {}
        }
       }
      }
     },
     "metadata": {},
     "output_type": "display_data"
    }
   ],
   "source": [
    "utils.plot_variable_for_each_run(\"percent_change_in_flow\", runs)"
   ]
  },
  {
   "cell_type": "code",
   "execution_count": 16,
   "metadata": {},
   "outputs": [
    {
     "data": {
      "application/vnd.plotly.v1+json": {
       "config": {
        "plotlyServerURL": "https://plot.ly"
       },
       "data": [
        {
         "hovertemplate": "Run=baseline<br>time=%{x}<br>outlet_flow=%{y}<extra></extra>",
         "legendgroup": "baseline",
         "line": {
          "color": "#1F77B4",
          "dash": "solid"
         },
         "marker": {
          "symbol": "circle"
         },
         "mode": "lines",
         "name": "baseline",
         "opacity": 0.4,
         "orientation": "h",
         "showlegend": true,
         "type": "scatter",
         "x": {
          "bdata": "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",
          "dtype": "f8"
         },
         "xaxis": "x",
         "y": [
          4846.823823487381,
          17.053107603455402,
          0,
          0,
          228.70349090356473,
          328.7777147795549,
          4267.76176766194,
          4100.715760969561,
          6914.057489788305,
          6019.735226209142,
          62958.60779418385,
          28054.207099195482,
          29672.81724344778,
          26886.766109253724,
          19012.73769773525,
          102766.16426758023,
          56867.71434763206,
          100290.68395394715,
          292361.20538174803,
          342545.29306344606,
          617155.4696364251,
          397829.57996914204,
          372103.17880677746,
          332622.8252607131,
          204548.5152572143,
          112924.7337453295,
          70125.86883622933,
          49119.75749423838,
          80538.6404067841,
          70334.3242856015,
          211082.3376949699,
          149242.16682251936,
          115980.03407135328,
          63308.525712786904,
          37725.006691994124,
          20746.453487541738,
          11492.664165951905,
          11966.737538567693,
          12328.642049590062,
          11874.661601034266,
          155330.7290045443,
          128043.8895912343,
          69859.80917636247,
          37155.74459838323,
          21097.77591266126,
          13399.665334010115,
          9242.362870161924,
          3910.784510283109,
          1278.332708682819,
          400.7669868016389,
          0,
          0,
          0,
          0,
          0,
          0,
          0,
          10.288288709431471,
          0,
          0,
          0,
          0,
          0,
          0,
          0,
          0,
          0,
          0,
          0,
          0,
          0,
          0,
          0,
          0,
          0,
          0,
          0,
          0,
          0,
          0,
          0,
          108.1816864575405,
          293.31402909028833,
          141.22448426635734,
          15.852247910953663,
          5586.026533366548,
          5995.562759806532,
          3243.707187238158,
          9737.198291592807,
          10630.674891812869,
          17979.574453437104,
          35904.670644060374,
          56340.58136045721,
          88218.70299567739,
          100490.07168868613,
          200699.41229742288,
          185546.4032499552,
          106461.37821677231,
          75503.89255902535,
          51131.51884226807,
          39684.101480205274,
          63130.242388964914,
          46886.85689309709,
          179693.0472171894,
          111580.07089532942,
          88635.16437908272,
          50981.51283596625,
          30632.37947222378,
          17725.232642827494,
          9764.384093738105,
          10102.055266232997,
          11477.358734608064,
          11170.410868009141,
          150522.87091041624,
          112110.94099204935,
          62602.84432045759,
          33952.711103276066,
          19456.653785353632,
          12564.741436783708,
          8600.823168658539,
          3648.9086213709284,
          1057.6651352637336,
          297.984102896588,
          0,
          0,
          0,
          0,
          0,
          0,
          0,
          5.330408257207768,
          0,
          0,
          0,
          0,
          0,
          0,
          0,
          0,
          0,
          0,
          0,
          0,
          0,
          0,
          0,
          0,
          0,
          0,
          0,
          0,
          0,
          0,
          0,
          107.63155316970311,
          320.10474079517167,
          141.38110999282446,
          15.364832009167102,
          3674.2295989684317,
          5942.102234365587,
          3023.0199461598972,
          9538.584653200338,
          10506.76391535532,
          17809.340378138724,
          35632.35249123587,
          56274.90196774335,
          86717.11233019446,
          98753.2602876055,
          199047.26802655138,
          184115.65043829803,
          105403.55783540523,
          74769.39640173792,
          50555.768699139306,
          39344.75506064447,
          62268.91859130605,
          45842.56044405062,
          178217.41654787294,
          109347.40701153994,
          87673.59765659942,
          50588.431989470904,
          30343.515072463055,
          17565.96017767395,
          9671.063486257775,
          9975.275923048272,
          11399.76876293703,
          11081.479338102357,
          149665.53524027884,
          110998.16212951046,
          62075.71671733194,
          33682.124746168454,
          19320.211930330996,
          12453.509916445568,
          8522.69728332007,
          3620.470803824417,
          1034.5783428300556,
          275.7769535871837,
          0,
          0,
          0,
          0,
          0,
          0,
          0,
          7.296184686349358,
          0,
          0,
          0,
          0,
          0,
          0
         ],
         "yaxis": "y"
        },
        {
         "hovertemplate": "Run=pumping<br>time=%{x}<br>outlet_flow=%{y}<extra></extra>",
         "legendgroup": "pumping",
         "line": {
          "color": "#FF7F0E",
          "dash": "solid"
         },
         "marker": {
          "symbol": "circle"
         },
         "mode": "lines",
         "name": "pumping",
         "opacity": 0.4,
         "orientation": "h",
         "showlegend": true,
         "type": "scatter",
         "x": {
          "bdata": "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",
          "dtype": "f8"
         },
         "xaxis": "x",
         "y": [
          4846.823823487381,
          17.051878354165183,
          0,
          0,
          222.5675769755818,
          327.19977692495263,
          4257.145898023169,
          4083.32376348742,
          6870.039171245101,
          5963.6287601817485,
          62219.92009240032,
          27344.051585778114,
          29278.12317107185,
          26300.073214819633,
          18375.69675239147,
          100600.02512864051,
          53857.171011575796,
          95147.71808585715,
          279047.3538391206,
          337905.6613653694,
          610013.2549230776,
          395309.7775080011,
          368482.3258414908,
          328484.86858022405,
          201872.53707702013,
          111405.88388045735,
          68213.6113772398,
          47002.243999799364,
          75217.95472115779,
          65751.7672891464,
          203350.52469768352,
          142580.49158458857,
          112879.4213697784,
          61724.86022677379,
          36763.199684790015,
          20208.999188271468,
          11121.8969779554,
          11451.539365652357,
          11771.652514004714,
          11167.697929455288,
          139336.4071485011,
          120031.2436911697,
          66682.87328104842,
          35742.62346236492,
          20239.89907726841,
          12788.84173250037,
          8688.412166036056,
          3607.805472060501,
          1019.5890659570732,
          268.04394444826767,
          0,
          0,
          0,
          0,
          0,
          0,
          0,
          6.509870876739919,
          0,
          0,
          0,
          0,
          0,
          0,
          0,
          0,
          0,
          0,
          0,
          0,
          0,
          0,
          0,
          0,
          0,
          0,
          0,
          0,
          0,
          0,
          0,
          108.47405489681546,
          300.05715779221555,
          141.27683170742637,
          14.906976462428453,
          138.31063839583138,
          5295.110866844634,
          2642.783255924637,
          5102.680274521559,
          7081.870224544865,
          16112.747774227213,
          28881.25961836025,
          55034.73496714256,
          85113.64761435606,
          87337.83684977757,
          174506.9925376886,
          164175.47427648364,
          94095.04381552014,
          69769.91858981692,
          45961.566627134234,
          33657.04023097696,
          49043.8612984209,
          30874.095936968068,
          152597.24857583182,
          82293.75571291272,
          71248.66018593892,
          44934.41521907902,
          27095.620073143768,
          15703.500951361255,
          8538.241519034058,
          8626.536311546992,
          9970.552727785296,
          9703.154923768168,
          124880.04993750974,
          93510.91000049264,
          56438.27576493088,
          30754.91826155205,
          17592.381169769873,
          11243.69822136431,
          7389.762370908786,
          3132.3399686139196,
          675.7888701687564,
          79.56898827910727,
          0,
          0,
          0,
          0,
          0,
          0,
          0,
          0.007032832797938934,
          0,
          0,
          0,
          0,
          0,
          0,
          0,
          0,
          0,
          0,
          0,
          0,
          0,
          0,
          0,
          0,
          0,
          0,
          0,
          0,
          0,
          0,
          0,
          104.11488343355182,
          301.04243265085523,
          141.84355670774852,
          16.58705189229712,
          138.55617314582162,
          187.45346017645193,
          993.310356470192,
          4850.488630601253,
          5535.462556851649,
          13009.152553029619,
          27105.677361886486,
          53470.82358627562,
          81822.07830612623,
          85294.24139856444,
          166720.95436686534,
          155690.62164136488,
          92111.41442893224,
          68649.204302716,
          45081.56957255814,
          32646.36669128785,
          46465.81241161608,
          29243.230167912458,
          144260.3755292542,
          76903.86459418088,
          67898.20008982893,
          43666.19655939686,
          26291.95254529947,
          15163.525373611712,
          8198.985822005834,
          8202.988962076768,
          9479.497700465517,
          9256.641201381528,
          118991.26693121987,
          86395.73416889143,
          54962.31661402574,
          29958.571222121634,
          17088.401112737876,
          10857.721162957976,
          7016.308013430649,
          2979.483571103351,
          593.3160038379378,
          46.913102037257325,
          0,
          0,
          0,
          0,
          0,
          0,
          0,
          0,
          0,
          0,
          0,
          0,
          0,
          0
         ],
         "yaxis": "y"
        },
        {
         "hovertemplate": "Run=double_pumping<br>time=%{x}<br>outlet_flow=%{y}<extra></extra>",
         "legendgroup": "double_pumping",
         "line": {
          "color": "#2CA02C",
          "dash": "solid"
         },
         "marker": {
          "symbol": "circle"
         },
         "mode": "lines",
         "name": "double_pumping",
         "opacity": 0.4,
         "orientation": "h",
         "showlegend": true,
         "type": "scatter",
         "x": {
          "bdata": "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",
          "dtype": "f8"
         },
         "xaxis": "x",
         "y": [
          4846.823823487381,
          17.05062754048507,
          0,
          0,
          227.34879435639436,
          304.3209668578839,
          4236.839825833142,
          4074.0424265076626,
          6812.051754721513,
          5919.981351294498,
          61387.92232884072,
          26679.432936952584,
          28947.98460405093,
          25877.056704151146,
          17857.548596521174,
          98907.98347816225,
          51547.70467092937,
          91829.8427407896,
          270818.9140989543,
          335315.6007034459,
          606362.3562857881,
          394035.1951696867,
          366696.9861693492,
          326280.3379966258,
          200600.54538880725,
          110637.45340336699,
          67080.28624123358,
          45930.76817217101,
          72449.31043717907,
          63768.983673336355,
          199438.20117196318,
          139774.8355776793,
          111516.75119573812,
          61003.89043850334,
          36255.51594042616,
          19895.197254638228,
          10903.271553668626,
          11107.594242150248,
          11381.76180131111,
          10731.699278564034,
          132207.27270760626,
          117283.4406494333,
          65442.147736814724,
          35094.283539973236,
          19809.45224782015,
          12446.91099696568,
          8369.631973252863,
          3455.1098700582897,
          887.7964315883295,
          187.36908029910137,
          0,
          0,
          0,
          0,
          0,
          0,
          0,
          2.3042654662740603,
          0,
          0,
          0,
          0,
          0,
          0,
          0,
          0,
          0,
          0,
          0,
          0,
          0,
          0,
          0,
          0,
          0,
          0,
          0,
          0,
          0,
          0,
          0,
          109.39260335881721,
          287.60561888370586,
          141.31174428626002,
          14.977321275190606,
          141.1709133445451,
          187.00930781755153,
          1643.1371468226905,
          4836.333812958172,
          5485.52660313681,
          12952.436384816949,
          27177.876227059453,
          53252.54647425317,
          83546.5774628157,
          85302.30293479722,
          167137.0524491683,
          154477.11185512293,
          91779.50080924397,
          68503.35212133497,
          44901.987160396144,
          32417.193153985856,
          45278.502979212615,
          28846.077807521444,
          143530.24506000304,
          75876.86211690035,
          67415.38483890491,
          43376.48664258411,
          26071.162674497267,
          14995.202675290195,
          8064.4386919877115,
          8030.076093079596,
          9309.057962043516,
          9089.80638296833,
          116788.93995519819,
          85636.92349900966,
          54701.03059637042,
          29743.359808583526,
          16888.67789469179,
          10693.381498071985,
          6848.504113495015,
          2914.2654347829503,
          558.7280126853171,
          34.20232920003442,
          0,
          0,
          0,
          0,
          0,
          0,
          0,
          0,
          0,
          0,
          0,
          0,
          0,
          0,
          0,
          0,
          0,
          0,
          0,
          0,
          0,
          0,
          0,
          0,
          0,
          0,
          0,
          0,
          0,
          0,
          0,
          108.47713789708418,
          302.75371493475103,
          141.50368087668667,
          16.0291276055484,
          141.56046032588196,
          186.60746051092858,
          29.556390960607732,
          462.7568306961682,
          5128.185448598539,
          11327.467517419573,
          17403.654755318807,
          45938.10399557447,
          78725.03172415527,
          82947.71026595097,
          158590.70892520438,
          148344.91724035647,
          89935.41840612589,
          67585.165345376,
          44106.89788565608,
          31757.22331036121,
          43535.666381416,
          27773.110541401875,
          137061.01200834778,
          72263.01461960915,
          63917.554230307156,
          41872.3196363796,
          25118.7453079356,
          14405.777113869146,
          7703.3462948676115,
          7561.706554019532,
          8877.351954392769,
          8743.118727529605,
          111275.94970025218,
          78443.902217608,
          53158.4505914396,
          28819.131257782727,
          16319.907974394508,
          10225.002034309739,
          6459.495429410948,
          2767.7292515432973,
          495.11712601486147,
          18.25269585727805,
          0,
          0,
          0,
          0,
          0,
          0,
          0,
          0,
          0,
          0,
          0,
          0,
          0,
          0
         ],
         "yaxis": "y"
        },
        {
         "hovertemplate": "Run=triple_pumping<br>time=%{x}<br>outlet_flow=%{y}<extra></extra>",
         "legendgroup": "triple_pumping",
         "line": {
          "color": "#D62728",
          "dash": "solid"
         },
         "marker": {
          "symbol": "circle"
         },
         "mode": "lines",
         "name": "triple_pumping",
         "opacity": 0.4,
         "orientation": "h",
         "showlegend": true,
         "type": "scatter",
         "x": {
          "bdata": "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",
          "dtype": "f8"
         },
         "xaxis": "x",
         "y": [
          4846.823823487381,
          17.05016713334119,
          0,
          0,
          223.12564406921035,
          293.94769897532166,
          4225.536105240408,
          4055.6952661232895,
          6762.672429261164,
          5869.632979309555,
          60697.55510135529,
          26182.314021805087,
          28630.9557504754,
          25581.24099518307,
          17471.94706176059,
          97634.5016053386,
          49871.88567701074,
          89715.19801372832,
          265884.36130571715,
          333923.4783236166,
          604392.9707238463,
          393319.0935541669,
          365823.9501338373,
          325193.0024322381,
          199961.6464012147,
          110203.44785891767,
          66481.15965826354,
          45399.801271917786,
          71186.03782616778,
          62763.857977349304,
          197631.56133930958,
          138403.0827023974,
          110855.03094708313,
          60620.352737280766,
          35969.18987579735,
          19688.97462757096,
          10748.860080234967,
          10877.770145226843,
          11118.25009815345,
          10427.498716982813,
          129422.43603814686,
          115991.42334216968,
          64829.591893287754,
          34772.49153580464,
          19584.033480724982,
          12237.263980588228,
          8149.566516816679,
          3356.467995593588,
          808.675173297578,
          146.01329037886887,
          0,
          0,
          0,
          0,
          0,
          0,
          0,
          1.1032100961547773,
          0,
          0,
          0,
          0,
          0,
          0,
          0,
          0,
          0,
          0,
          0,
          0,
          0,
          0,
          0,
          0,
          0,
          0,
          0,
          0,
          0,
          0,
          0,
          108.377463812981,
          285.75219435410844,
          141.02029219966906,
          16.234795626141878,
          143.43734176702173,
          187.2279806682794,
          29.254159299216468,
          3476.0162528756923,
          5308.366302145437,
          12014.244580874667,
          24257.541398907535,
          50904.473635814364,
          81699.32264391957,
          84275.47905364599,
          163499.35685639794,
          151700.60530049668,
          90746.78274589071,
          68004.32859981612,
          44393.89584049565,
          32008.274742767582,
          44273.140761557435,
          28144.390118601772,
          139548.1449162417,
          73723.22793059165,
          65382.364181130535,
          42536.88375383629,
          25521.667875553947,
          14652.369287869424,
          7847.212779451108,
          7728.399616249013,
          9016.880393260035,
          8842.925753313531,
          113505.89604731592,
          82053.52128659301,
          53692.261309355,
          29134.723328097658,
          16514.53450523198,
          10411.866624776338,
          6563.754525262675,
          2795.824639125031,
          506.15935421686186,
          20.43812036452734,
          0,
          0,
          0,
          0,
          0,
          0,
          0,
          0,
          0,
          0,
          0,
          0,
          0,
          0,
          0,
          0,
          0,
          0,
          0,
          0,
          0,
          0,
          0,
          0,
          0,
          0,
          0,
          0,
          0,
          0,
          0,
          101.84569039536616,
          289.1919960726256,
          141.55958255950472,
          14.859272552329536,
          144.6456773732846,
          186.42211133311767,
          29.40714840776314,
          460.72195623612777,
          1557.3926752649916,
          10457.68547567723,
          15260.346212313045,
          43462.121334129384,
          76366.21218680426,
          81294.22513016936,
          153724.66417303836,
          145228.9973251082,
          88973.29311742951,
          66979.75343909136,
          43715.664957793946,
          31278.406912710867,
          42037.00879298844,
          27186.225124776814,
          132957.6082343509,
          70605.61409533615,
          62315.17942426049,
          41156.19660265953,
          24760.097683806376,
          14156.667053944468,
          7522.502292026192,
          7333.185350645912,
          8625.5653129395,
          8472.026009036952,
          107683.12826689777,
          72921.19258240768,
          52076.9112171413,
          28154.20045681723,
          15892.189483538574,
          9942.275660797754,
          6150.163787628215,
          2647.6153158307657,
          450.47884702987625,
          7.824876863248494,
          0,
          0,
          0,
          0,
          0,
          0,
          0,
          0,
          0,
          0,
          0,
          0,
          0,
          0
         ],
         "yaxis": "y"
        }
       ],
       "layout": {
        "height": 700,
        "legend": {
         "orientation": "h",
         "title": {
          "text": "Run"
         },
         "tracegroupgap": 0,
         "x": 1,
         "xanchor": "right",
         "y": 0.96,
         "yanchor": "bottom"
        },
        "showlegend": true,
        "template": {
         "data": {
          "bar": [
           {
            "error_x": {
             "color": "rgb(36,36,36)"
            },
            "error_y": {
             "color": "rgb(36,36,36)"
            },
            "marker": {
             "line": {
              "color": "white",
              "width": 0.5
             },
             "pattern": {
              "fillmode": "overlay",
              "size": 10,
              "solidity": 0.2
             }
            },
            "type": "bar"
           }
          ],
          "barpolar": [
           {
            "marker": {
             "line": {
              "color": "white",
              "width": 0.5
             },
             "pattern": {
              "fillmode": "overlay",
              "size": 10,
              "solidity": 0.2
             }
            },
            "type": "barpolar"
           }
          ],
          "carpet": [
           {
            "aaxis": {
             "endlinecolor": "rgb(36,36,36)",
             "gridcolor": "white",
             "linecolor": "white",
             "minorgridcolor": "white",
             "startlinecolor": "rgb(36,36,36)"
            },
            "baxis": {
             "endlinecolor": "rgb(36,36,36)",
             "gridcolor": "white",
             "linecolor": "white",
             "minorgridcolor": "white",
             "startlinecolor": "rgb(36,36,36)"
            },
            "type": "carpet"
           }
          ],
          "choropleth": [
           {
            "colorbar": {
             "outlinewidth": 1,
             "tickcolor": "rgb(36,36,36)",
             "ticks": "outside"
            },
            "type": "choropleth"
           }
          ],
          "contour": [
           {
            "colorbar": {
             "outlinewidth": 1,
             "tickcolor": "rgb(36,36,36)",
             "ticks": "outside"
            },
            "colorscale": [
             [
              0,
              "#440154"
             ],
             [
              0.1111111111111111,
              "#482878"
             ],
             [
              0.2222222222222222,
              "#3e4989"
             ],
             [
              0.3333333333333333,
              "#31688e"
             ],
             [
              0.4444444444444444,
              "#26828e"
             ],
             [
              0.5555555555555556,
              "#1f9e89"
             ],
             [
              0.6666666666666666,
              "#35b779"
             ],
             [
              0.7777777777777778,
              "#6ece58"
             ],
             [
              0.8888888888888888,
              "#b5de2b"
             ],
             [
              1,
              "#fde725"
             ]
            ],
            "type": "contour"
           }
          ],
          "contourcarpet": [
           {
            "colorbar": {
             "outlinewidth": 1,
             "tickcolor": "rgb(36,36,36)",
             "ticks": "outside"
            },
            "type": "contourcarpet"
           }
          ],
          "heatmap": [
           {
            "colorbar": {
             "outlinewidth": 1,
             "tickcolor": "rgb(36,36,36)",
             "ticks": "outside"
            },
            "colorscale": [
             [
              0,
              "#440154"
             ],
             [
              0.1111111111111111,
              "#482878"
             ],
             [
              0.2222222222222222,
              "#3e4989"
             ],
             [
              0.3333333333333333,
              "#31688e"
             ],
             [
              0.4444444444444444,
              "#26828e"
             ],
             [
              0.5555555555555556,
              "#1f9e89"
             ],
             [
              0.6666666666666666,
              "#35b779"
             ],
             [
              0.7777777777777778,
              "#6ece58"
             ],
             [
              0.8888888888888888,
              "#b5de2b"
             ],
             [
              1,
              "#fde725"
             ]
            ],
            "type": "heatmap"
           }
          ],
          "histogram": [
           {
            "marker": {
             "line": {
              "color": "white",
              "width": 0.6
             }
            },
            "type": "histogram"
           }
          ],
          "histogram2d": [
           {
            "colorbar": {
             "outlinewidth": 1,
             "tickcolor": "rgb(36,36,36)",
             "ticks": "outside"
            },
            "colorscale": [
             [
              0,
              "#440154"
             ],
             [
              0.1111111111111111,
              "#482878"
             ],
             [
              0.2222222222222222,
              "#3e4989"
             ],
             [
              0.3333333333333333,
              "#31688e"
             ],
             [
              0.4444444444444444,
              "#26828e"
             ],
             [
              0.5555555555555556,
              "#1f9e89"
             ],
             [
              0.6666666666666666,
              "#35b779"
             ],
             [
              0.7777777777777778,
              "#6ece58"
             ],
             [
              0.8888888888888888,
              "#b5de2b"
             ],
             [
              1,
              "#fde725"
             ]
            ],
            "type": "histogram2d"
           }
          ],
          "histogram2dcontour": [
           {
            "colorbar": {
             "outlinewidth": 1,
             "tickcolor": "rgb(36,36,36)",
             "ticks": "outside"
            },
            "colorscale": [
             [
              0,
              "#440154"
             ],
             [
              0.1111111111111111,
              "#482878"
             ],
             [
              0.2222222222222222,
              "#3e4989"
             ],
             [
              0.3333333333333333,
              "#31688e"
             ],
             [
              0.4444444444444444,
              "#26828e"
             ],
             [
              0.5555555555555556,
              "#1f9e89"
             ],
             [
              0.6666666666666666,
              "#35b779"
             ],
             [
              0.7777777777777778,
              "#6ece58"
             ],
             [
              0.8888888888888888,
              "#b5de2b"
             ],
             [
              1,
              "#fde725"
             ]
            ],
            "type": "histogram2dcontour"
           }
          ],
          "mesh3d": [
           {
            "colorbar": {
             "outlinewidth": 1,
             "tickcolor": "rgb(36,36,36)",
             "ticks": "outside"
            },
            "type": "mesh3d"
           }
          ],
          "parcoords": [
           {
            "line": {
             "colorbar": {
              "outlinewidth": 1,
              "tickcolor": "rgb(36,36,36)",
              "ticks": "outside"
             }
            },
            "type": "parcoords"
           }
          ],
          "pie": [
           {
            "automargin": true,
            "type": "pie"
           }
          ],
          "scatter": [
           {
            "fillpattern": {
             "fillmode": "overlay",
             "size": 10,
             "solidity": 0.2
            },
            "type": "scatter"
           }
          ],
          "scatter3d": [
           {
            "line": {
             "colorbar": {
              "outlinewidth": 1,
              "tickcolor": "rgb(36,36,36)",
              "ticks": "outside"
             }
            },
            "marker": {
             "colorbar": {
              "outlinewidth": 1,
              "tickcolor": "rgb(36,36,36)",
              "ticks": "outside"
             }
            },
            "type": "scatter3d"
           }
          ],
          "scattercarpet": [
           {
            "marker": {
             "colorbar": {
              "outlinewidth": 1,
              "tickcolor": "rgb(36,36,36)",
              "ticks": "outside"
             }
            },
            "type": "scattercarpet"
           }
          ],
          "scattergeo": [
           {
            "marker": {
             "colorbar": {
              "outlinewidth": 1,
              "tickcolor": "rgb(36,36,36)",
              "ticks": "outside"
             }
            },
            "type": "scattergeo"
           }
          ],
          "scattergl": [
           {
            "marker": {
             "colorbar": {
              "outlinewidth": 1,
              "tickcolor": "rgb(36,36,36)",
              "ticks": "outside"
             }
            },
            "type": "scattergl"
           }
          ],
          "scattermap": [
           {
            "marker": {
             "colorbar": {
              "outlinewidth": 1,
              "tickcolor": "rgb(36,36,36)",
              "ticks": "outside"
             }
            },
            "type": "scattermap"
           }
          ],
          "scattermapbox": [
           {
            "marker": {
             "colorbar": {
              "outlinewidth": 1,
              "tickcolor": "rgb(36,36,36)",
              "ticks": "outside"
             }
            },
            "type": "scattermapbox"
           }
          ],
          "scatterpolar": [
           {
            "marker": {
             "colorbar": {
              "outlinewidth": 1,
              "tickcolor": "rgb(36,36,36)",
              "ticks": "outside"
             }
            },
            "type": "scatterpolar"
           }
          ],
          "scatterpolargl": [
           {
            "marker": {
             "colorbar": {
              "outlinewidth": 1,
              "tickcolor": "rgb(36,36,36)",
              "ticks": "outside"
             }
            },
            "type": "scatterpolargl"
           }
          ],
          "scatterternary": [
           {
            "marker": {
             "colorbar": {
              "outlinewidth": 1,
              "tickcolor": "rgb(36,36,36)",
              "ticks": "outside"
             }
            },
            "type": "scatterternary"
           }
          ],
          "surface": [
           {
            "colorbar": {
             "outlinewidth": 1,
             "tickcolor": "rgb(36,36,36)",
             "ticks": "outside"
            },
            "colorscale": [
             [
              0,
              "#440154"
             ],
             [
              0.1111111111111111,
              "#482878"
             ],
             [
              0.2222222222222222,
              "#3e4989"
             ],
             [
              0.3333333333333333,
              "#31688e"
             ],
             [
              0.4444444444444444,
              "#26828e"
             ],
             [
              0.5555555555555556,
              "#1f9e89"
             ],
             [
              0.6666666666666666,
              "#35b779"
             ],
             [
              0.7777777777777778,
              "#6ece58"
             ],
             [
              0.8888888888888888,
              "#b5de2b"
             ],
             [
              1,
              "#fde725"
             ]
            ],
            "type": "surface"
           }
          ],
          "table": [
           {
            "cells": {
             "fill": {
              "color": "rgb(237,237,237)"
             },
             "line": {
              "color": "white"
             }
            },
            "header": {
             "fill": {
              "color": "rgb(217,217,217)"
             },
             "line": {
              "color": "white"
             }
            },
            "type": "table"
           }
          ]
         },
         "layout": {
          "annotationdefaults": {
           "arrowhead": 0,
           "arrowwidth": 1
          },
          "autotypenumbers": "strict",
          "coloraxis": {
           "colorbar": {
            "outlinewidth": 1,
            "tickcolor": "rgb(36,36,36)",
            "ticks": "outside"
           }
          },
          "colorscale": {
           "diverging": [
            [
             0,
             "rgb(103,0,31)"
            ],
            [
             0.1,
             "rgb(178,24,43)"
            ],
            [
             0.2,
             "rgb(214,96,77)"
            ],
            [
             0.3,
             "rgb(244,165,130)"
            ],
            [
             0.4,
             "rgb(253,219,199)"
            ],
            [
             0.5,
             "rgb(247,247,247)"
            ],
            [
             0.6,
             "rgb(209,229,240)"
            ],
            [
             0.7,
             "rgb(146,197,222)"
            ],
            [
             0.8,
             "rgb(67,147,195)"
            ],
            [
             0.9,
             "rgb(33,102,172)"
            ],
            [
             1,
             "rgb(5,48,97)"
            ]
           ],
           "sequential": [
            [
             0,
             "#440154"
            ],
            [
             0.1111111111111111,
             "#482878"
            ],
            [
             0.2222222222222222,
             "#3e4989"
            ],
            [
             0.3333333333333333,
             "#31688e"
            ],
            [
             0.4444444444444444,
             "#26828e"
            ],
            [
             0.5555555555555556,
             "#1f9e89"
            ],
            [
             0.6666666666666666,
             "#35b779"
            ],
            [
             0.7777777777777778,
             "#6ece58"
            ],
            [
             0.8888888888888888,
             "#b5de2b"
            ],
            [
             1,
             "#fde725"
            ]
           ],
           "sequentialminus": [
            [
             0,
             "#440154"
            ],
            [
             0.1111111111111111,
             "#482878"
            ],
            [
             0.2222222222222222,
             "#3e4989"
            ],
            [
             0.3333333333333333,
             "#31688e"
            ],
            [
             0.4444444444444444,
             "#26828e"
            ],
            [
             0.5555555555555556,
             "#1f9e89"
            ],
            [
             0.6666666666666666,
             "#35b779"
            ],
            [
             0.7777777777777778,
             "#6ece58"
            ],
            [
             0.8888888888888888,
             "#b5de2b"
            ],
            [
             1,
             "#fde725"
            ]
           ]
          },
          "colorway": [
           "#1F77B4",
           "#FF7F0E",
           "#2CA02C",
           "#D62728",
           "#9467BD",
           "#8C564B",
           "#E377C2",
           "#7F7F7F",
           "#BCBD22",
           "#17BECF"
          ],
          "font": {
           "color": "rgb(36,36,36)"
          },
          "geo": {
           "bgcolor": "white",
           "lakecolor": "white",
           "landcolor": "white",
           "showlakes": true,
           "showland": true,
           "subunitcolor": "white"
          },
          "hoverlabel": {
           "align": "left"
          },
          "hovermode": "closest",
          "mapbox": {
           "style": "light"
          },
          "paper_bgcolor": "white",
          "plot_bgcolor": "white",
          "polar": {
           "angularaxis": {
            "gridcolor": "rgb(232,232,232)",
            "linecolor": "rgb(36,36,36)",
            "showgrid": false,
            "showline": true,
            "ticks": "outside"
           },
           "bgcolor": "white",
           "radialaxis": {
            "gridcolor": "rgb(232,232,232)",
            "linecolor": "rgb(36,36,36)",
            "showgrid": false,
            "showline": true,
            "ticks": "outside"
           }
          },
          "scene": {
           "xaxis": {
            "backgroundcolor": "white",
            "gridcolor": "rgb(232,232,232)",
            "gridwidth": 2,
            "linecolor": "rgb(36,36,36)",
            "showbackground": true,
            "showgrid": false,
            "showline": true,
            "ticks": "outside",
            "zeroline": false,
            "zerolinecolor": "rgb(36,36,36)"
           },
           "yaxis": {
            "backgroundcolor": "white",
            "gridcolor": "rgb(232,232,232)",
            "gridwidth": 2,
            "linecolor": "rgb(36,36,36)",
            "showbackground": true,
            "showgrid": false,
            "showline": true,
            "ticks": "outside",
            "zeroline": false,
            "zerolinecolor": "rgb(36,36,36)"
           },
           "zaxis": {
            "backgroundcolor": "white",
            "gridcolor": "rgb(232,232,232)",
            "gridwidth": 2,
            "linecolor": "rgb(36,36,36)",
            "showbackground": true,
            "showgrid": false,
            "showline": true,
            "ticks": "outside",
            "zeroline": false,
            "zerolinecolor": "rgb(36,36,36)"
           }
          },
          "shapedefaults": {
           "fillcolor": "black",
           "line": {
            "width": 0
           },
           "opacity": 0.3
          },
          "ternary": {
           "aaxis": {
            "gridcolor": "rgb(232,232,232)",
            "linecolor": "rgb(36,36,36)",
            "showgrid": false,
            "showline": true,
            "ticks": "outside"
           },
           "baxis": {
            "gridcolor": "rgb(232,232,232)",
            "linecolor": "rgb(36,36,36)",
            "showgrid": false,
            "showline": true,
            "ticks": "outside"
           },
           "bgcolor": "white",
           "caxis": {
            "gridcolor": "rgb(232,232,232)",
            "linecolor": "rgb(36,36,36)",
            "showgrid": false,
            "showline": true,
            "ticks": "outside"
           }
          },
          "title": {
           "x": 0.05
          },
          "xaxis": {
           "automargin": true,
           "gridcolor": "rgb(232,232,232)",
           "linecolor": "rgb(36,36,36)",
           "showgrid": false,
           "showline": true,
           "ticks": "outside",
           "title": {
            "standoff": 15
           },
           "zeroline": false,
           "zerolinecolor": "rgb(36,36,36)"
          },
          "yaxis": {
           "automargin": true,
           "gridcolor": "rgb(232,232,232)",
           "linecolor": "rgb(36,36,36)",
           "showgrid": false,
           "showline": true,
           "ticks": "outside",
           "title": {
            "standoff": 15
           },
           "zeroline": false,
           "zerolinecolor": "rgb(36,36,36)"
          }
         }
        },
        "title": {
         "text": "Outlet Flow Over Time During Run"
        },
        "width": 800,
        "xaxis": {
         "anchor": "y",
         "domain": [
          0,
          1
         ],
         "title": {
          "text": "Time (years)"
         }
        },
        "yaxis": {
         "anchor": "x",
         "domain": [
          0,
          1
         ],
         "title": {
          "text": "Outlet flow"
         }
        }
       }
      }
     },
     "metadata": {},
     "output_type": "display_data"
    }
   ],
   "source": [
    "cubic_meters_per_hour_to_cfs = 1.0/0.009809634700287\n",
    "utils.plot_variable_for_each_run(\"outlet_flow\", runs, y_label=\"Outlet flow\", \n",
    "                                 y_scale=1, title=\"Outlet Flow Over Time During Run\")"
   ]
  },
  {
   "cell_type": "code",
   "execution_count": 17,
   "metadata": {},
   "outputs": [
    {
     "data": {
      "application/vnd.plotly.v1+json": {
       "config": {
        "plotlyServerURL": "https://plot.ly"
       },
       "data": [
        {
         "hovertemplate": "Run=baseline<br>time=%{x}<br>flow_reduction=%{y}<extra></extra>",
         "legendgroup": "baseline",
         "line": {
          "color": "#1F77B4",
          "dash": "solid"
         },
         "marker": {
          "symbol": "circle"
         },
         "mode": "lines",
         "name": "baseline",
         "opacity": 0.4,
         "orientation": "h",
         "showlegend": true,
         "type": "scatter",
         "x": {
          "bdata": "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",
          "dtype": "f8"
         },
         "xaxis": "x",
         "y": [
          0,
          0,
          0,
          0,
          0,
          0,
          0,
          0,
          0,
          0,
          0,
          0,
          0,
          0,
          0,
          0,
          0,
          0,
          0,
          0,
          0,
          0,
          0,
          0,
          0,
          0,
          0,
          0,
          0,
          0,
          0,
          0,
          0,
          0,
          0,
          0,
          0,
          0,
          0,
          0,
          0,
          0,
          0,
          0,
          0,
          0,
          0,
          0,
          0,
          0,
          0,
          0,
          0,
          0,
          0,
          0,
          0,
          0,
          0,
          0,
          0,
          0,
          0,
          0,
          0,
          0,
          0,
          0,
          0,
          0,
          0,
          0,
          0,
          0,
          0,
          0,
          0,
          0,
          0,
          0,
          0,
          0,
          0,
          0,
          0,
          0,
          0,
          0,
          0,
          0,
          0,
          0,
          0,
          0,
          0,
          0,
          0,
          0,
          0,
          0,
          0,
          0,
          0,
          0,
          0,
          0,
          0,
          0,
          0,
          0,
          0,
          0,
          0,
          0,
          0,
          0,
          0,
          0,
          0,
          0,
          0,
          0,
          0,
          0,
          0,
          0,
          0,
          0,
          0,
          0,
          0,
          0,
          0,
          0,
          0,
          0,
          0,
          0,
          0,
          0,
          0,
          0,
          0,
          0,
          0,
          0,
          0,
          0,
          0,
          0,
          0,
          0,
          0,
          0,
          0,
          0,
          0,
          0,
          0,
          0,
          0,
          0,
          0,
          0,
          0,
          0,
          0,
          0,
          0,
          0,
          0,
          0,
          0,
          0,
          0,
          0,
          0,
          0,
          0,
          0,
          0,
          0,
          0,
          0,
          0,
          0,
          0,
          0,
          0,
          0,
          0,
          0,
          0,
          0,
          0,
          0,
          0,
          0,
          0,
          0,
          0,
          0,
          0,
          0,
          0,
          0,
          0,
          0,
          0,
          0
         ],
         "yaxis": "y"
        },
        {
         "hovertemplate": "Run=pumping<br>time=%{x}<br>flow_reduction=%{y}<extra></extra>",
         "legendgroup": "pumping",
         "line": {
          "color": "#FF7F0E",
          "dash": "solid"
         },
         "marker": {
          "symbol": "circle"
         },
         "mode": "lines",
         "name": "pumping",
         "opacity": 0.4,
         "orientation": "h",
         "showlegend": true,
         "type": "scatter",
         "x": {
          "bdata": "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",
          "dtype": "f8"
         },
         "xaxis": "x",
         "y": [
          0,
          -0.0012292492902190588,
          0,
          0,
          -6.1359139279829265,
          -1.5779378546022826,
          -10.615869638771073,
          -17.391997482141505,
          -44.01831854320426,
          -56.10646602739325,
          -738.6877017835286,
          -710.1555134173686,
          -394.69407237592895,
          -586.6928944340907,
          -637.0409453437787,
          -2166.1391389397177,
          -3010.5433360562674,
          -5142.965868090003,
          -13313.851542627439,
          -4639.6316980766715,
          -7142.214713347494,
          -2519.8024611409637,
          -3620.852965286642,
          -4137.956680489064,
          -2675.9781801941863,
          -1518.849864872158,
          -1912.2574589895376,
          -2117.5134944390156,
          -5320.685685626318,
          -4582.556996455096,
          -7731.812997286383,
          -6661.675237930787,
          -3100.612701574879,
          -1583.6654860131166,
          -961.8070072041082,
          -537.45429927027,
          -370.7671879965037,
          -515.1981729153358,
          -556.9895355853478,
          -706.9636715789784,
          -15994.321856043185,
          -8012.645900064599,
          -3176.9358953140472,
          -1413.1211360183079,
          -857.8768353928499,
          -610.8236015097445,
          -553.9507041258676,
          -302.97903822260787,
          -258.74364272574576,
          -132.72304235337123,
          0,
          0,
          0,
          0,
          0,
          0,
          0,
          -3.7784178326915523,
          0,
          0,
          0,
          0,
          0,
          0,
          0,
          0,
          0,
          0,
          0,
          0,
          0,
          0,
          0,
          0,
          0,
          0,
          0,
          0,
          0,
          0,
          0,
          0.29236843927496636,
          6.743128701927219,
          0.05234744106903122,
          -0.9452714485252098,
          -5447.715894970717,
          -700.451892961898,
          -600.9239313135208,
          -4634.518017071248,
          -3548.804667268004,
          -1866.8266792098912,
          -7023.411025700123,
          -1305.8463933146486,
          -3105.0553813213337,
          -13152.234838908567,
          -26192.41975973427,
          -21370.92897347157,
          -12366.33440125217,
          -5733.973969208426,
          -5169.952215133839,
          -6027.061249228311,
          -14086.381090544011,
          -16012.76095612902,
          -27095.79864135757,
          -29286.3151824167,
          -17386.504193143803,
          -6047.097616887229,
          -3536.7593990800124,
          -2021.7316914662388,
          -1226.1425747040466,
          -1475.5189546860056,
          -1506.8060068227678,
          -1467.255944240973,
          -25642.8209729065,
          -18600.030991556705,
          -6164.568555526712,
          -3197.7928417240146,
          -1864.272615583759,
          -1321.0432154193986,
          -1211.060797749753,
          -516.5686527570087,
          -381.87626509497727,
          -218.41511461748075,
          0,
          0,
          0,
          0,
          0,
          0,
          0,
          -5.3233754244098295,
          0,
          0,
          0,
          0,
          0,
          0,
          0,
          0,
          0,
          0,
          0,
          0,
          0,
          0,
          0,
          0,
          0,
          0,
          0,
          0,
          0,
          0,
          0,
          -3.516669736151286,
          -19.062308144316432,
          0.46244671492405587,
          1.2222198831300162,
          -3535.67342582261,
          -5754.648774189135,
          -2029.7095896897054,
          -4688.096022599085,
          -4971.30135850367,
          -4800.187825109106,
          -8526.675129349383,
          -2804.0783814677343,
          -4895.034024068227,
          -13459.018889041065,
          -32326.313659686042,
          -28425.028796933155,
          -13292.143406472984,
          -6120.192099021922,
          -5474.199126581167,
          -6698.38836935662,
          -15803.106179689967,
          -16599.330276138164,
          -33957.04101861874,
          -32443.542417359058,
          -19775.397566770494,
          -6922.235430074041,
          -4051.5625271635836,
          -2402.434804062239,
          -1472.0776642519413,
          -1772.2869609715035,
          -1920.2710624715128,
          -1824.8381367208294,
          -30674.26830905897,
          -24602.427960619025,
          -7113.400103306201,
          -3723.55352404682,
          -2231.8108175931193,
          -1595.7887534875917,
          -1506.3892698894215,
          -640.987232721066,
          -441.26233899211775,
          -228.86385154992638,
          0,
          0,
          0,
          0,
          0,
          0,
          0,
          -7.296184686349358,
          0,
          0,
          0,
          0,
          0,
          0
         ],
         "yaxis": "y"
        },
        {
         "hovertemplate": "Run=double_pumping<br>time=%{x}<br>flow_reduction=%{y}<extra></extra>",
         "legendgroup": "double_pumping",
         "line": {
          "color": "#2CA02C",
          "dash": "solid"
         },
         "marker": {
          "symbol": "circle"
         },
         "mode": "lines",
         "name": "double_pumping",
         "opacity": 0.4,
         "orientation": "h",
         "showlegend": true,
         "type": "scatter",
         "x": {
          "bdata": "AAAAAAAAAADN3gFI1OwdP83eAUjU7C0/GmcBNp9xNj/N3gFI1Ow9P0ArAa0EtEI/GmcBNp9xRj/0ogG/OS9KP83eAUjU7E0/Uw2BaDfVUD9AKwGtBLRSPy1JgfHRklQ/GmcBNp9xVj8HhYF6bFBYP/SiAb85L1o/4MCBAwcOXD/N3gFI1OxdP7r8gYyhy18/Uw2BaDfVYD9KHMEKnsRhP0ArAa0EtGI/NzpBT2ujYz8tSYHx0ZJkPyRYwZM4gmU/GmcBNp9xZj8QdkHYBWFnPweFgXpsUGg//ZPBHNM/aT/0ogG/OS9qP+qxQWGgHms/4MCBAwcObD/Xz8Glbf1sP83eAUjU7G0/xO1B6jrcbj+6/IGMoctvP9gFYReEXXA/Uw2BaDfVcD/PFKG56kxxP0ocwQqexHE/xSPhW1E8cj9AKwGtBLRyP7syIf63K3M/NzpBT2ujcz+yQWGgHht0Py1JgfHRknQ/qFChQoUKdT8kWMGTOIJ1P59f4eTr+XU/GmcBNp9xdj+VbiGHUul2PxB2QdgFYXc/jH1hKbnYdz8HhYF6bFB4P4KMocsfyHg//ZPBHNM/eT94m+Fthrd5P/SiAb85L3o/b6ohEO2mej/qsUFhoB57P2W5YbJTlns/4MCBAwcOfD9cyKFUuoV8P9fPwaVt/Xw/Utfh9iB1fT/N3gFI1Ox9P0jmIZmHZH4/xO1B6jrcfj8/9WE77lN/P7r8gYyhy38/GwLRbqohgD/YBWEXhF2AP5YJ8b9dmYA/Uw2BaDfVgD8RERERERGBP88UobnqTIE/jBgxYsSIgT9KHMEKnsSBPwcgUbN3AII/xSPhW1E8gj+DJ3EEK3iCP0ArAa0EtII//i6RVd7vgj+7MiH+tyuDP3k2saaRZ4M/NzpBT2ujgz/0PdH3RN+DP7JBYaAeG4Q/cEXxSPhWhD8tSYHx0ZKEP+tMEZqrzoQ/qFChQoUKhT9mVDHrXkaFPyRYwZM4goU/4VtRPBK+hT+fX+Hk6/mFP1xjcY3FNYY/GmcBNp9xhj/YapHeeK2GP5VuIYdS6YY/U3KxLywlhz8QdkHYBWGHP8550YDfnIc/jH1hKbnYhz9JgfHRkhSIPweFgXpsUIg/xIgRI0aMiD+CjKHLH8iIP0CQMXT5A4k//ZPBHNM/iT+7l1HFrHuJP3ib4W2Gt4k/Np9xFmDziT/0ogG/OS+KP7GmkWcTa4o/b6ohEO2mij8srrG4xuKKP+qxQWGgHos/qLXRCXpaiz9luWGyU5aLPyO98Vot0os/4MCBAwcOjD+exBGs4EmMP1zIoVS6hYw/Gcwx/ZPBjD/Xz8Glbf2MP5TTUU5HOY0/Utfh9iB1jT8Q23Gf+rCNP83eAUjU7I0/i+KR8K0ojj9I5iGZh2SOPwbqsUFhoI4/xO1B6jrcjj+B8dGSFBiPPz/1YTvuU48//Pjx48ePjz+6/IGMocuPPzwAiZq9A5A/GwLRbqohkD/5AxlDlz+QP9gFYReEXZA/twep63B7kD+WCfG/XZmQP3ULOZRKt5A/Uw2BaDfVkD8yD8k8JPOQPxEREREREZE/8BJZ5f0ukT/PFKG56kyRP60W6Y3XapE/jBgxYsSIkT9rGnk2saaRP0ocwQqexJE/KR4J34rikT8HIFGzdwCSP+YhmYdkHpI/xSPhW1E8kj+kJSkwPlqSP4MncQQreJI/YSm52BeWkj9AKwGtBLSSPx8tSYHx0ZI//i6RVd7vkj/dMNkpyw2TP7syIf63K5M/mjRp0qRJkz95NrGmkWeTP1g4+Xp+hZM/NzpBT2ujkz8WPIkjWMGTP/Q90fdE35M/0z8ZzDH9kz+yQWGgHhuUP5FDqXQLOZQ/cEXxSPhWlD9ORzkd5XSUPy1JgfHRkpQ/DEvJxb6wlD/rTBGaq86UP8pOWW6Y7JQ/qFChQoUKlT+HUukWciiVP2ZUMeteRpU/RVZ5v0tklT8kWMGTOIKVPwJaCWgloJU/4VtRPBK+lT/AXZkQ/9uVP59f4eTr+ZU/fmEpudgXlj9cY3GNxTWWPztluWGyU5Y/GmcBNp9xlj/5aEkKjI+WP9hqkd54rZY/tmzZsmXLlj+VbiGHUumWP3RwaVs/B5c/U3KxLywllz8ydPkDGUOXPxB2QdgFYZc/73eJrPJ+lz/OedGA35yXP617GVXMupc/jH1hKbnYlz9qf6n9pfaXP0mB8dGSFJg/KIM5pn8ymD8HhYF6bFCYP+aGyU5Zbpg/",
          "dtype": "f8"
         },
         "xaxis": "x",
         "y": [
          0,
          -0.0024800629703314314,
          0,
          0,
          -1.354696547170363,
          -24.456747921671024,
          -30.92194182879848,
          -26.673334461898776,
          -102.00573506679211,
          -99.75387491464335,
          -1570.6854653431292,
          -1374.7741622428985,
          -724.8326393968491,
          -1009.7094051025779,
          -1155.1891012140768,
          -3858.18078941798,
          -5320.009676702692,
          -8460.84121315756,
          -21542.29128279374,
          -7229.692360000161,
          -10793.113350637024,
          -3794.3847994553507,
          -5406.192637428234,
          -6342.487264087307,
          -3947.969868407061,
          -2287.2803419625125,
          -3045.5825949957507,
          -3188.9893220673694,
          -8089.329969605038,
          -6565.340612265143,
          -11644.136523006717,
          -9467.331244840054,
          -4463.2828756151575,
          -2304.635274283566,
          -1469.490751567966,
          -851.25623290351,
          -589.3926122832781,
          -859.1432964174455,
          -946.8802482789524,
          -1142.9623224702318,
          -23123.456296938035,
          -10760.448941801005,
          -4417.6614395477445,
          -2061.4610584099937,
          -1288.3236648411075,
          -952.7543370444346,
          -872.7308969090609,
          -455.6746402248191,
          -390.5362770944895,
          -213.39790650253752,
          0,
          0,
          0,
          0,
          0,
          0,
          0,
          -7.984023243157411,
          0,
          0,
          0,
          0,
          0,
          0,
          0,
          0,
          0,
          0,
          0,
          0,
          0,
          0,
          0,
          0,
          0,
          0,
          0,
          0,
          0,
          0,
          0,
          1.2109169012767182,
          -5.708410206582471,
          0.08726001990268628,
          -0.8749266357630567,
          -5444.855620022004,
          -5808.553451988981,
          -1600.5700404154675,
          -4900.864478634636,
          -5145.148288676059,
          -5027.1380686201555,
          -8726.794417000921,
          -3088.034886204041,
          -4672.125532861697,
          -15187.768753888915,
          -33562.35984825459,
          -31069.291394832282,
          -14681.877407528344,
          -7000.540437690375,
          -6229.531681871929,
          -7266.908326219418,
          -17851.7394097523,
          -18040.779085575643,
          -36162.80215718635,
          -35703.20877842908,
          -21219.779540177813,
          -7605.026193382138,
          -4561.216797726513,
          -2730.029967537299,
          -1699.945401750393,
          -2071.9791731534015,
          -2168.3007725645475,
          -2080.6044850408107,
          -33733.93095521805,
          -26474.01749303969,
          -7901.813724087166,
          -4209.35129469254,
          -2567.975890661841,
          -1871.3599387117229,
          -1752.3190551635234,
          -734.6431865879781,
          -498.9371225784165,
          -263.7817736965536,
          0,
          0,
          0,
          0,
          0,
          0,
          0,
          -5.330408257207768,
          0,
          0,
          0,
          0,
          0,
          0,
          0,
          0,
          0,
          0,
          0,
          0,
          0,
          0,
          0,
          0,
          0,
          0,
          0,
          0,
          0,
          0,
          0,
          0.8455847273810662,
          -17.351025860420634,
          0.12257088386220971,
          0.6642955963812973,
          -3532.6691386425496,
          -5755.494773854658,
          -2993.4635551992897,
          -9075.82782250417,
          -5378.5784667567805,
          -6481.8728607191515,
          -18228.697735917063,
          -10336.797972168883,
          -7992.0806060391915,
          -15805.550021654533,
          -40456.559101347,
          -35770.73319794156,
          -15468.139429279341,
          -7184.231056361925,
          -6448.870813483227,
          -7587.531750283262,
          -18733.25220989005,
          -18069.449902648747,
          -41156.40453952516,
          -37084.392391930785,
          -23756.043426292264,
          -8716.112353091303,
          -5224.769764527457,
          -3160.183063804805,
          -1967.7171913901639,
          -2413.56936902874,
          -2522.4168085442616,
          -2338.360610572752,
          -38389.58554002666,
          -32554.259911902453,
          -8917.26612589234,
          -4862.993488385728,
          -3000.303955936488,
          -2228.5078821358293,
          -2063.2018539091223,
          -852.7415522811198,
          -539.4612168151941,
          -257.5242577299056,
          0,
          0,
          0,
          0,
          0,
          0,
          0,
          -7.296184686349358,
          0,
          0,
          0,
          0,
          0,
          0
         ],
         "yaxis": "y"
        },
        {
         "hovertemplate": "Run=triple_pumping<br>time=%{x}<br>flow_reduction=%{y}<extra></extra>",
         "legendgroup": "triple_pumping",
         "line": {
          "color": "#D62728",
          "dash": "solid"
         },
         "marker": {
          "symbol": "circle"
         },
         "mode": "lines",
         "name": "triple_pumping",
         "opacity": 0.4,
         "orientation": "h",
         "showlegend": true,
         "type": "scatter",
         "x": {
          "bdata": "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",
          "dtype": "f8"
         },
         "xaxis": "x",
         "y": [
          0,
          -0.00294047011421128,
          0,
          0,
          -5.577846834354375,
          -34.830015804233255,
          -42.225662421532434,
          -45.02049484627196,
          -151.38506052714092,
          -150.10224689958704,
          -2261.0526928285617,
          -1871.8930773903958,
          -1041.8614929723772,
          -1305.5251140706532,
          -1540.7906359746594,
          -5131.6626622416225,
          -6995.828670621326,
          -10575.48594021883,
          -26476.844076030888,
          -8621.814739829453,
          -12762.498912578798,
          -4510.486414975137,
          -6279.228672940168,
          -7429.822828475037,
          -4586.868855999608,
          -2721.2858864118316,
          -3644.709177965793,
          -3719.956222320594,
          -9352.602580616323,
          -7570.466308252195,
          -13450.776355660317,
          -10839.08412012196,
          -5125.003124270152,
          -2688.1729755061388,
          -1755.816816196777,
          -1057.478859970779,
          -743.8040857169381,
          -1088.9673933408503,
          -1210.3919514366116,
          -1447.1628840514531,
          -25908.292966397436,
          -12052.466249064615,
          -5030.217283074715,
          -2383.2530625785876,
          -1513.7424319362763,
          -1162.4013534218866,
          -1092.7963533452448,
          -554.3165146895208,
          -469.657535385241,
          -254.75369642277002,
          0,
          0,
          0,
          0,
          0,
          0,
          0,
          -9.185078613276694,
          0,
          0,
          0,
          0,
          0,
          0,
          0,
          0,
          0,
          0,
          0,
          0,
          0,
          0,
          0,
          0,
          0,
          0,
          0,
          0,
          0,
          0,
          0,
          0.19577735544051222,
          -7.56183473617989,
          -0.20419206668827883,
          0.38254771518821507,
          -5442.589191599527,
          -5808.334779138253,
          -3214.4530279389414,
          -6261.182038717116,
          -5322.308589667432,
          -5965.329872562437,
          -11647.129245152839,
          -5436.107724642847,
          -6519.38035175782,
          -16214.592635040142,
          -37200.055441024946,
          -33845.79794945853,
          -15714.595470881599,
          -7499.563959209234,
          -6737.623001772423,
          -7675.826737437692,
          -18857.10162740748,
          -18742.466774495315,
          -40144.902300947695,
          -37856.84296473778,
          -23252.800197952187,
          -8444.629082129955,
          -5110.711596669833,
          -3072.86335495807,
          -1917.1713142869967,
          -2373.6556499839844,
          -2460.478341348029,
          -2327.48511469561,
          -37016.97486310032,
          -30057.41970545634,
          -8910.583011102586,
          -4817.987775178408,
          -2942.119280121653,
          -2152.8748120073706,
          -2037.0686433958635,
          -853.0839822458975,
          -551.5057810468718,
          -277.5459825320607,
          0,
          0,
          0,
          0,
          0,
          0,
          0,
          -5.330408257207768,
          0,
          0,
          0,
          0,
          0,
          0,
          0,
          0,
          0,
          0,
          0,
          0,
          0,
          0,
          0,
          0,
          0,
          0,
          0,
          0,
          0,
          0,
          0,
          -5.785862774336948,
          -30.91274472254605,
          0.1784725666802558,
          -0.5055594568375668,
          -3529.583921595147,
          -5755.680123032469,
          -2993.612797752134,
          -9077.86269696421,
          -8949.371240090328,
          -7351.654902461494,
          -20372.006278922825,
          -12812.78063361397,
          -10350.900143390201,
          -17459.03515743614,
          -45322.60385351302,
          -38886.65311318982,
          -16430.26471797572,
          -7789.642962646554,
          -6840.10374134536,
          -8066.348147933604,
          -20231.90979831761,
          -18656.335319273807,
          -45259.80831352205,
          -38741.79291620379,
          -25358.418232338932,
          -9432.235386811371,
          -5583.417388656679,
          -3409.2931237294833,
          -2148.5611942315836,
          -2642.0905724023596,
          -2774.2034499975307,
          -2609.4533290654053,
          -41982.406973381076,
          -38076.96954710278,
          -9998.80550019064,
          -5527.924289351224,
          -3428.0224467924218,
          -2511.2342556478143,
          -2372.533495691856,
          -972.8554879936514,
          -584.0994958001793,
          -267.9520767239352,
          0,
          0,
          0,
          0,
          0,
          0,
          0,
          -7.296184686349358,
          0,
          0,
          0,
          0,
          0,
          0
         ],
         "yaxis": "y"
        }
       ],
       "layout": {
        "height": 700,
        "legend": {
         "orientation": "h",
         "title": {
          "text": "Run"
         },
         "tracegroupgap": 0,
         "x": 1,
         "xanchor": "right",
         "y": 0.96,
         "yanchor": "bottom"
        },
        "showlegend": true,
        "template": {
         "data": {
          "bar": [
           {
            "error_x": {
             "color": "rgb(36,36,36)"
            },
            "error_y": {
             "color": "rgb(36,36,36)"
            },
            "marker": {
             "line": {
              "color": "white",
              "width": 0.5
             },
             "pattern": {
              "fillmode": "overlay",
              "size": 10,
              "solidity": 0.2
             }
            },
            "type": "bar"
           }
          ],
          "barpolar": [
           {
            "marker": {
             "line": {
              "color": "white",
              "width": 0.5
             },
             "pattern": {
              "fillmode": "overlay",
              "size": 10,
              "solidity": 0.2
             }
            },
            "type": "barpolar"
           }
          ],
          "carpet": [
           {
            "aaxis": {
             "endlinecolor": "rgb(36,36,36)",
             "gridcolor": "white",
             "linecolor": "white",
             "minorgridcolor": "white",
             "startlinecolor": "rgb(36,36,36)"
            },
            "baxis": {
             "endlinecolor": "rgb(36,36,36)",
             "gridcolor": "white",
             "linecolor": "white",
             "minorgridcolor": "white",
             "startlinecolor": "rgb(36,36,36)"
            },
            "type": "carpet"
           }
          ],
          "choropleth": [
           {
            "colorbar": {
             "outlinewidth": 1,
             "tickcolor": "rgb(36,36,36)",
             "ticks": "outside"
            },
            "type": "choropleth"
           }
          ],
          "contour": [
           {
            "colorbar": {
             "outlinewidth": 1,
             "tickcolor": "rgb(36,36,36)",
             "ticks": "outside"
            },
            "colorscale": [
             [
              0,
              "#440154"
             ],
             [
              0.1111111111111111,
              "#482878"
             ],
             [
              0.2222222222222222,
              "#3e4989"
             ],
             [
              0.3333333333333333,
              "#31688e"
             ],
             [
              0.4444444444444444,
              "#26828e"
             ],
             [
              0.5555555555555556,
              "#1f9e89"
             ],
             [
              0.6666666666666666,
              "#35b779"
             ],
             [
              0.7777777777777778,
              "#6ece58"
             ],
             [
              0.8888888888888888,
              "#b5de2b"
             ],
             [
              1,
              "#fde725"
             ]
            ],
            "type": "contour"
           }
          ],
          "contourcarpet": [
           {
            "colorbar": {
             "outlinewidth": 1,
             "tickcolor": "rgb(36,36,36)",
             "ticks": "outside"
            },
            "type": "contourcarpet"
           }
          ],
          "heatmap": [
           {
            "colorbar": {
             "outlinewidth": 1,
             "tickcolor": "rgb(36,36,36)",
             "ticks": "outside"
            },
            "colorscale": [
             [
              0,
              "#440154"
             ],
             [
              0.1111111111111111,
              "#482878"
             ],
             [
              0.2222222222222222,
              "#3e4989"
             ],
             [
              0.3333333333333333,
              "#31688e"
             ],
             [
              0.4444444444444444,
              "#26828e"
             ],
             [
              0.5555555555555556,
              "#1f9e89"
             ],
             [
              0.6666666666666666,
              "#35b779"
             ],
             [
              0.7777777777777778,
              "#6ece58"
             ],
             [
              0.8888888888888888,
              "#b5de2b"
             ],
             [
              1,
              "#fde725"
             ]
            ],
            "type": "heatmap"
           }
          ],
          "histogram": [
           {
            "marker": {
             "line": {
              "color": "white",
              "width": 0.6
             }
            },
            "type": "histogram"
           }
          ],
          "histogram2d": [
           {
            "colorbar": {
             "outlinewidth": 1,
             "tickcolor": "rgb(36,36,36)",
             "ticks": "outside"
            },
            "colorscale": [
             [
              0,
              "#440154"
             ],
             [
              0.1111111111111111,
              "#482878"
             ],
             [
              0.2222222222222222,
              "#3e4989"
             ],
             [
              0.3333333333333333,
              "#31688e"
             ],
             [
              0.4444444444444444,
              "#26828e"
             ],
             [
              0.5555555555555556,
              "#1f9e89"
             ],
             [
              0.6666666666666666,
              "#35b779"
             ],
             [
              0.7777777777777778,
              "#6ece58"
             ],
             [
              0.8888888888888888,
              "#b5de2b"
             ],
             [
              1,
              "#fde725"
             ]
            ],
            "type": "histogram2d"
           }
          ],
          "histogram2dcontour": [
           {
            "colorbar": {
             "outlinewidth": 1,
             "tickcolor": "rgb(36,36,36)",
             "ticks": "outside"
            },
            "colorscale": [
             [
              0,
              "#440154"
             ],
             [
              0.1111111111111111,
              "#482878"
             ],
             [
              0.2222222222222222,
              "#3e4989"
             ],
             [
              0.3333333333333333,
              "#31688e"
             ],
             [
              0.4444444444444444,
              "#26828e"
             ],
             [
              0.5555555555555556,
              "#1f9e89"
             ],
             [
              0.6666666666666666,
              "#35b779"
             ],
             [
              0.7777777777777778,
              "#6ece58"
             ],
             [
              0.8888888888888888,
              "#b5de2b"
             ],
             [
              1,
              "#fde725"
             ]
            ],
            "type": "histogram2dcontour"
           }
          ],
          "mesh3d": [
           {
            "colorbar": {
             "outlinewidth": 1,
             "tickcolor": "rgb(36,36,36)",
             "ticks": "outside"
            },
            "type": "mesh3d"
           }
          ],
          "parcoords": [
           {
            "line": {
             "colorbar": {
              "outlinewidth": 1,
              "tickcolor": "rgb(36,36,36)",
              "ticks": "outside"
             }
            },
            "type": "parcoords"
           }
          ],
          "pie": [
           {
            "automargin": true,
            "type": "pie"
           }
          ],
          "scatter": [
           {
            "fillpattern": {
             "fillmode": "overlay",
             "size": 10,
             "solidity": 0.2
            },
            "type": "scatter"
           }
          ],
          "scatter3d": [
           {
            "line": {
             "colorbar": {
              "outlinewidth": 1,
              "tickcolor": "rgb(36,36,36)",
              "ticks": "outside"
             }
            },
            "marker": {
             "colorbar": {
              "outlinewidth": 1,
              "tickcolor": "rgb(36,36,36)",
              "ticks": "outside"
             }
            },
            "type": "scatter3d"
           }
          ],
          "scattercarpet": [
           {
            "marker": {
             "colorbar": {
              "outlinewidth": 1,
              "tickcolor": "rgb(36,36,36)",
              "ticks": "outside"
             }
            },
            "type": "scattercarpet"
           }
          ],
          "scattergeo": [
           {
            "marker": {
             "colorbar": {
              "outlinewidth": 1,
              "tickcolor": "rgb(36,36,36)",
              "ticks": "outside"
             }
            },
            "type": "scattergeo"
           }
          ],
          "scattergl": [
           {
            "marker": {
             "colorbar": {
              "outlinewidth": 1,
              "tickcolor": "rgb(36,36,36)",
              "ticks": "outside"
             }
            },
            "type": "scattergl"
           }
          ],
          "scattermap": [
           {
            "marker": {
             "colorbar": {
              "outlinewidth": 1,
              "tickcolor": "rgb(36,36,36)",
              "ticks": "outside"
             }
            },
            "type": "scattermap"
           }
          ],
          "scattermapbox": [
           {
            "marker": {
             "colorbar": {
              "outlinewidth": 1,
              "tickcolor": "rgb(36,36,36)",
              "ticks": "outside"
             }
            },
            "type": "scattermapbox"
           }
          ],
          "scatterpolar": [
           {
            "marker": {
             "colorbar": {
              "outlinewidth": 1,
              "tickcolor": "rgb(36,36,36)",
              "ticks": "outside"
             }
            },
            "type": "scatterpolar"
           }
          ],
          "scatterpolargl": [
           {
            "marker": {
             "colorbar": {
              "outlinewidth": 1,
              "tickcolor": "rgb(36,36,36)",
              "ticks": "outside"
             }
            },
            "type": "scatterpolargl"
           }
          ],
          "scatterternary": [
           {
            "marker": {
             "colorbar": {
              "outlinewidth": 1,
              "tickcolor": "rgb(36,36,36)",
              "ticks": "outside"
             }
            },
            "type": "scatterternary"
           }
          ],
          "surface": [
           {
            "colorbar": {
             "outlinewidth": 1,
             "tickcolor": "rgb(36,36,36)",
             "ticks": "outside"
            },
            "colorscale": [
             [
              0,
              "#440154"
             ],
             [
              0.1111111111111111,
              "#482878"
             ],
             [
              0.2222222222222222,
              "#3e4989"
             ],
             [
              0.3333333333333333,
              "#31688e"
             ],
             [
              0.4444444444444444,
              "#26828e"
             ],
             [
              0.5555555555555556,
              "#1f9e89"
             ],
             [
              0.6666666666666666,
              "#35b779"
             ],
             [
              0.7777777777777778,
              "#6ece58"
             ],
             [
              0.8888888888888888,
              "#b5de2b"
             ],
             [
              1,
              "#fde725"
             ]
            ],
            "type": "surface"
           }
          ],
          "table": [
           {
            "cells": {
             "fill": {
              "color": "rgb(237,237,237)"
             },
             "line": {
              "color": "white"
             }
            },
            "header": {
             "fill": {
              "color": "rgb(217,217,217)"
             },
             "line": {
              "color": "white"
             }
            },
            "type": "table"
           }
          ]
         },
         "layout": {
          "annotationdefaults": {
           "arrowhead": 0,
           "arrowwidth": 1
          },
          "autotypenumbers": "strict",
          "coloraxis": {
           "colorbar": {
            "outlinewidth": 1,
            "tickcolor": "rgb(36,36,36)",
            "ticks": "outside"
           }
          },
          "colorscale": {
           "diverging": [
            [
             0,
             "rgb(103,0,31)"
            ],
            [
             0.1,
             "rgb(178,24,43)"
            ],
            [
             0.2,
             "rgb(214,96,77)"
            ],
            [
             0.3,
             "rgb(244,165,130)"
            ],
            [
             0.4,
             "rgb(253,219,199)"
            ],
            [
             0.5,
             "rgb(247,247,247)"
            ],
            [
             0.6,
             "rgb(209,229,240)"
            ],
            [
             0.7,
             "rgb(146,197,222)"
            ],
            [
             0.8,
             "rgb(67,147,195)"
            ],
            [
             0.9,
             "rgb(33,102,172)"
            ],
            [
             1,
             "rgb(5,48,97)"
            ]
           ],
           "sequential": [
            [
             0,
             "#440154"
            ],
            [
             0.1111111111111111,
             "#482878"
            ],
            [
             0.2222222222222222,
             "#3e4989"
            ],
            [
             0.3333333333333333,
             "#31688e"
            ],
            [
             0.4444444444444444,
             "#26828e"
            ],
            [
             0.5555555555555556,
             "#1f9e89"
            ],
            [
             0.6666666666666666,
             "#35b779"
            ],
            [
             0.7777777777777778,
             "#6ece58"
            ],
            [
             0.8888888888888888,
             "#b5de2b"
            ],
            [
             1,
             "#fde725"
            ]
           ],
           "sequentialminus": [
            [
             0,
             "#440154"
            ],
            [
             0.1111111111111111,
             "#482878"
            ],
            [
             0.2222222222222222,
             "#3e4989"
            ],
            [
             0.3333333333333333,
             "#31688e"
            ],
            [
             0.4444444444444444,
             "#26828e"
            ],
            [
             0.5555555555555556,
             "#1f9e89"
            ],
            [
             0.6666666666666666,
             "#35b779"
            ],
            [
             0.7777777777777778,
             "#6ece58"
            ],
            [
             0.8888888888888888,
             "#b5de2b"
            ],
            [
             1,
             "#fde725"
            ]
           ]
          },
          "colorway": [
           "#1F77B4",
           "#FF7F0E",
           "#2CA02C",
           "#D62728",
           "#9467BD",
           "#8C564B",
           "#E377C2",
           "#7F7F7F",
           "#BCBD22",
           "#17BECF"
          ],
          "font": {
           "color": "rgb(36,36,36)"
          },
          "geo": {
           "bgcolor": "white",
           "lakecolor": "white",
           "landcolor": "white",
           "showlakes": true,
           "showland": true,
           "subunitcolor": "white"
          },
          "hoverlabel": {
           "align": "left"
          },
          "hovermode": "closest",
          "mapbox": {
           "style": "light"
          },
          "paper_bgcolor": "white",
          "plot_bgcolor": "white",
          "polar": {
           "angularaxis": {
            "gridcolor": "rgb(232,232,232)",
            "linecolor": "rgb(36,36,36)",
            "showgrid": false,
            "showline": true,
            "ticks": "outside"
           },
           "bgcolor": "white",
           "radialaxis": {
            "gridcolor": "rgb(232,232,232)",
            "linecolor": "rgb(36,36,36)",
            "showgrid": false,
            "showline": true,
            "ticks": "outside"
           }
          },
          "scene": {
           "xaxis": {
            "backgroundcolor": "white",
            "gridcolor": "rgb(232,232,232)",
            "gridwidth": 2,
            "linecolor": "rgb(36,36,36)",
            "showbackground": true,
            "showgrid": false,
            "showline": true,
            "ticks": "outside",
            "zeroline": false,
            "zerolinecolor": "rgb(36,36,36)"
           },
           "yaxis": {
            "backgroundcolor": "white",
            "gridcolor": "rgb(232,232,232)",
            "gridwidth": 2,
            "linecolor": "rgb(36,36,36)",
            "showbackground": true,
            "showgrid": false,
            "showline": true,
            "ticks": "outside",
            "zeroline": false,
            "zerolinecolor": "rgb(36,36,36)"
           },
           "zaxis": {
            "backgroundcolor": "white",
            "gridcolor": "rgb(232,232,232)",
            "gridwidth": 2,
            "linecolor": "rgb(36,36,36)",
            "showbackground": true,
            "showgrid": false,
            "showline": true,
            "ticks": "outside",
            "zeroline": false,
            "zerolinecolor": "rgb(36,36,36)"
           }
          },
          "shapedefaults": {
           "fillcolor": "black",
           "line": {
            "width": 0
           },
           "opacity": 0.3
          },
          "ternary": {
           "aaxis": {
            "gridcolor": "rgb(232,232,232)",
            "linecolor": "rgb(36,36,36)",
            "showgrid": false,
            "showline": true,
            "ticks": "outside"
           },
           "baxis": {
            "gridcolor": "rgb(232,232,232)",
            "linecolor": "rgb(36,36,36)",
            "showgrid": false,
            "showline": true,
            "ticks": "outside"
           },
           "bgcolor": "white",
           "caxis": {
            "gridcolor": "rgb(232,232,232)",
            "linecolor": "rgb(36,36,36)",
            "showgrid": false,
            "showline": true,
            "ticks": "outside"
           }
          },
          "title": {
           "x": 0.05
          },
          "xaxis": {
           "automargin": true,
           "gridcolor": "rgb(232,232,232)",
           "linecolor": "rgb(36,36,36)",
           "showgrid": false,
           "showline": true,
           "ticks": "outside",
           "title": {
            "standoff": 15
           },
           "zeroline": false,
           "zerolinecolor": "rgb(36,36,36)"
          },
          "yaxis": {
           "automargin": true,
           "gridcolor": "rgb(232,232,232)",
           "linecolor": "rgb(36,36,36)",
           "showgrid": false,
           "showline": true,
           "ticks": "outside",
           "title": {
            "standoff": 15
           },
           "zeroline": false,
           "zerolinecolor": "rgb(36,36,36)"
          }
         }
        },
        "title": {
         "text": "flow_reduction over time"
        },
        "width": 800,
        "xaxis": {
         "anchor": "y",
         "domain": [
          0,
          1
         ],
         "title": {
          "text": "Time (years)"
         }
        },
        "yaxis": {
         "anchor": "x",
         "domain": [
          0,
          1
         ],
         "title": {}
        }
       }
      }
     },
     "metadata": {},
     "output_type": "display_data"
    }
   ],
   "source": [
    "utils.plot_variable_for_each_run(\"flow_reduction\", runs)"
   ]
  },
  {
   "cell_type": "code",
   "execution_count": 18,
   "metadata": {},
   "outputs": [
    {
     "data": {
      "application/vnd.plotly.v1+json": {
       "config": {
        "plotlyServerURL": "https://plot.ly"
       },
       "data": [
        {
         "hovertemplate": "variable=wide_variable_0<br>Pumping Rate (inches per week)=%{x}<br>value=%{y}<extra></extra>",
         "legendgroup": "wide_variable_0",
         "marker": {
          "color": "#636efa",
          "symbol": "circle"
         },
         "mode": "markers",
         "name": "wide_variable_0",
         "orientation": "v",
         "showlegend": true,
         "type": "scatter",
         "x": {
          "bdata": "AAECAw==",
          "dtype": "i1"
         },
         "xaxis": "x",
         "y": {
          "bdata": "AAAAAAAAAAAAdFfbs7S0QQDoOteZzcFBAHeMQq5wykE=",
          "dtype": "f8"
         },
         "yaxis": "y"
        },
        {
         "hovertemplate": "variable=wide_variable_1<br>Pumping Rate (inches per week)=%{x}<br>value=%{y}<extra></extra>",
         "legendgroup": "wide_variable_1",
         "marker": {
          "color": "#EF553B",
          "symbol": "circle"
         },
         "mode": "markers",
         "name": "wide_variable_1",
         "orientation": "v",
         "showlegend": true,
         "type": "scatter",
         "x": {
          "bdata": "AAECAw==",
          "dtype": "i1"
         },
         "xaxis": "x",
         "y": {
          "bdata": "AAAAAAAAAAByFwmdQrTTQXIXCZ1CtONBK6ON62OO7UE=",
          "dtype": "f8"
         },
         "yaxis": "y"
        }
       ],
       "layout": {
        "legend": {
         "title": {
          "text": "variable"
         },
         "tracegroupgap": 0
        },
        "template": {
         "data": {
          "bar": [
           {
            "error_x": {
             "color": "#2a3f5f"
            },
            "error_y": {
             "color": "#2a3f5f"
            },
            "marker": {
             "line": {
              "color": "#E5ECF6",
              "width": 0.5
             },
             "pattern": {
              "fillmode": "overlay",
              "size": 10,
              "solidity": 0.2
             }
            },
            "type": "bar"
           }
          ],
          "barpolar": [
           {
            "marker": {
             "line": {
              "color": "#E5ECF6",
              "width": 0.5
             },
             "pattern": {
              "fillmode": "overlay",
              "size": 10,
              "solidity": 0.2
             }
            },
            "type": "barpolar"
           }
          ],
          "carpet": [
           {
            "aaxis": {
             "endlinecolor": "#2a3f5f",
             "gridcolor": "white",
             "linecolor": "white",
             "minorgridcolor": "white",
             "startlinecolor": "#2a3f5f"
            },
            "baxis": {
             "endlinecolor": "#2a3f5f",
             "gridcolor": "white",
             "linecolor": "white",
             "minorgridcolor": "white",
             "startlinecolor": "#2a3f5f"
            },
            "type": "carpet"
           }
          ],
          "choropleth": [
           {
            "colorbar": {
             "outlinewidth": 0,
             "ticks": ""
            },
            "type": "choropleth"
           }
          ],
          "contour": [
           {
            "colorbar": {
             "outlinewidth": 0,
             "ticks": ""
            },
            "colorscale": [
             [
              0,
              "#0d0887"
             ],
             [
              0.1111111111111111,
              "#46039f"
             ],
             [
              0.2222222222222222,
              "#7201a8"
             ],
             [
              0.3333333333333333,
              "#9c179e"
             ],
             [
              0.4444444444444444,
              "#bd3786"
             ],
             [
              0.5555555555555556,
              "#d8576b"
             ],
             [
              0.6666666666666666,
              "#ed7953"
             ],
             [
              0.7777777777777778,
              "#fb9f3a"
             ],
             [
              0.8888888888888888,
              "#fdca26"
             ],
             [
              1,
              "#f0f921"
             ]
            ],
            "type": "contour"
           }
          ],
          "contourcarpet": [
           {
            "colorbar": {
             "outlinewidth": 0,
             "ticks": ""
            },
            "type": "contourcarpet"
           }
          ],
          "heatmap": [
           {
            "colorbar": {
             "outlinewidth": 0,
             "ticks": ""
            },
            "colorscale": [
             [
              0,
              "#0d0887"
             ],
             [
              0.1111111111111111,
              "#46039f"
             ],
             [
              0.2222222222222222,
              "#7201a8"
             ],
             [
              0.3333333333333333,
              "#9c179e"
             ],
             [
              0.4444444444444444,
              "#bd3786"
             ],
             [
              0.5555555555555556,
              "#d8576b"
             ],
             [
              0.6666666666666666,
              "#ed7953"
             ],
             [
              0.7777777777777778,
              "#fb9f3a"
             ],
             [
              0.8888888888888888,
              "#fdca26"
             ],
             [
              1,
              "#f0f921"
             ]
            ],
            "type": "heatmap"
           }
          ],
          "histogram": [
           {
            "marker": {
             "pattern": {
              "fillmode": "overlay",
              "size": 10,
              "solidity": 0.2
             }
            },
            "type": "histogram"
           }
          ],
          "histogram2d": [
           {
            "colorbar": {
             "outlinewidth": 0,
             "ticks": ""
            },
            "colorscale": [
             [
              0,
              "#0d0887"
             ],
             [
              0.1111111111111111,
              "#46039f"
             ],
             [
              0.2222222222222222,
              "#7201a8"
             ],
             [
              0.3333333333333333,
              "#9c179e"
             ],
             [
              0.4444444444444444,
              "#bd3786"
             ],
             [
              0.5555555555555556,
              "#d8576b"
             ],
             [
              0.6666666666666666,
              "#ed7953"
             ],
             [
              0.7777777777777778,
              "#fb9f3a"
             ],
             [
              0.8888888888888888,
              "#fdca26"
             ],
             [
              1,
              "#f0f921"
             ]
            ],
            "type": "histogram2d"
           }
          ],
          "histogram2dcontour": [
           {
            "colorbar": {
             "outlinewidth": 0,
             "ticks": ""
            },
            "colorscale": [
             [
              0,
              "#0d0887"
             ],
             [
              0.1111111111111111,
              "#46039f"
             ],
             [
              0.2222222222222222,
              "#7201a8"
             ],
             [
              0.3333333333333333,
              "#9c179e"
             ],
             [
              0.4444444444444444,
              "#bd3786"
             ],
             [
              0.5555555555555556,
              "#d8576b"
             ],
             [
              0.6666666666666666,
              "#ed7953"
             ],
             [
              0.7777777777777778,
              "#fb9f3a"
             ],
             [
              0.8888888888888888,
              "#fdca26"
             ],
             [
              1,
              "#f0f921"
             ]
            ],
            "type": "histogram2dcontour"
           }
          ],
          "mesh3d": [
           {
            "colorbar": {
             "outlinewidth": 0,
             "ticks": ""
            },
            "type": "mesh3d"
           }
          ],
          "parcoords": [
           {
            "line": {
             "colorbar": {
              "outlinewidth": 0,
              "ticks": ""
             }
            },
            "type": "parcoords"
           }
          ],
          "pie": [
           {
            "automargin": true,
            "type": "pie"
           }
          ],
          "scatter": [
           {
            "fillpattern": {
             "fillmode": "overlay",
             "size": 10,
             "solidity": 0.2
            },
            "type": "scatter"
           }
          ],
          "scatter3d": [
           {
            "line": {
             "colorbar": {
              "outlinewidth": 0,
              "ticks": ""
             }
            },
            "marker": {
             "colorbar": {
              "outlinewidth": 0,
              "ticks": ""
             }
            },
            "type": "scatter3d"
           }
          ],
          "scattercarpet": [
           {
            "marker": {
             "colorbar": {
              "outlinewidth": 0,
              "ticks": ""
             }
            },
            "type": "scattercarpet"
           }
          ],
          "scattergeo": [
           {
            "marker": {
             "colorbar": {
              "outlinewidth": 0,
              "ticks": ""
             }
            },
            "type": "scattergeo"
           }
          ],
          "scattergl": [
           {
            "marker": {
             "colorbar": {
              "outlinewidth": 0,
              "ticks": ""
             }
            },
            "type": "scattergl"
           }
          ],
          "scattermap": [
           {
            "marker": {
             "colorbar": {
              "outlinewidth": 0,
              "ticks": ""
             }
            },
            "type": "scattermap"
           }
          ],
          "scattermapbox": [
           {
            "marker": {
             "colorbar": {
              "outlinewidth": 0,
              "ticks": ""
             }
            },
            "type": "scattermapbox"
           }
          ],
          "scatterpolar": [
           {
            "marker": {
             "colorbar": {
              "outlinewidth": 0,
              "ticks": ""
             }
            },
            "type": "scatterpolar"
           }
          ],
          "scatterpolargl": [
           {
            "marker": {
             "colorbar": {
              "outlinewidth": 0,
              "ticks": ""
             }
            },
            "type": "scatterpolargl"
           }
          ],
          "scatterternary": [
           {
            "marker": {
             "colorbar": {
              "outlinewidth": 0,
              "ticks": ""
             }
            },
            "type": "scatterternary"
           }
          ],
          "surface": [
           {
            "colorbar": {
             "outlinewidth": 0,
             "ticks": ""
            },
            "colorscale": [
             [
              0,
              "#0d0887"
             ],
             [
              0.1111111111111111,
              "#46039f"
             ],
             [
              0.2222222222222222,
              "#7201a8"
             ],
             [
              0.3333333333333333,
              "#9c179e"
             ],
             [
              0.4444444444444444,
              "#bd3786"
             ],
             [
              0.5555555555555556,
              "#d8576b"
             ],
             [
              0.6666666666666666,
              "#ed7953"
             ],
             [
              0.7777777777777778,
              "#fb9f3a"
             ],
             [
              0.8888888888888888,
              "#fdca26"
             ],
             [
              1,
              "#f0f921"
             ]
            ],
            "type": "surface"
           }
          ],
          "table": [
           {
            "cells": {
             "fill": {
              "color": "#EBF0F8"
             },
             "line": {
              "color": "white"
             }
            },
            "header": {
             "fill": {
              "color": "#C8D4E3"
             },
             "line": {
              "color": "white"
             }
            },
            "type": "table"
           }
          ]
         },
         "layout": {
          "annotationdefaults": {
           "arrowcolor": "#2a3f5f",
           "arrowhead": 0,
           "arrowwidth": 1
          },
          "autotypenumbers": "strict",
          "coloraxis": {
           "colorbar": {
            "outlinewidth": 0,
            "ticks": ""
           }
          },
          "colorscale": {
           "diverging": [
            [
             0,
             "#8e0152"
            ],
            [
             0.1,
             "#c51b7d"
            ],
            [
             0.2,
             "#de77ae"
            ],
            [
             0.3,
             "#f1b6da"
            ],
            [
             0.4,
             "#fde0ef"
            ],
            [
             0.5,
             "#f7f7f7"
            ],
            [
             0.6,
             "#e6f5d0"
            ],
            [
             0.7,
             "#b8e186"
            ],
            [
             0.8,
             "#7fbc41"
            ],
            [
             0.9,
             "#4d9221"
            ],
            [
             1,
             "#276419"
            ]
           ],
           "sequential": [
            [
             0,
             "#0d0887"
            ],
            [
             0.1111111111111111,
             "#46039f"
            ],
            [
             0.2222222222222222,
             "#7201a8"
            ],
            [
             0.3333333333333333,
             "#9c179e"
            ],
            [
             0.4444444444444444,
             "#bd3786"
            ],
            [
             0.5555555555555556,
             "#d8576b"
            ],
            [
             0.6666666666666666,
             "#ed7953"
            ],
            [
             0.7777777777777778,
             "#fb9f3a"
            ],
            [
             0.8888888888888888,
             "#fdca26"
            ],
            [
             1,
             "#f0f921"
            ]
           ],
           "sequentialminus": [
            [
             0,
             "#0d0887"
            ],
            [
             0.1111111111111111,
             "#46039f"
            ],
            [
             0.2222222222222222,
             "#7201a8"
            ],
            [
             0.3333333333333333,
             "#9c179e"
            ],
            [
             0.4444444444444444,
             "#bd3786"
            ],
            [
             0.5555555555555556,
             "#d8576b"
            ],
            [
             0.6666666666666666,
             "#ed7953"
            ],
            [
             0.7777777777777778,
             "#fb9f3a"
            ],
            [
             0.8888888888888888,
             "#fdca26"
            ],
            [
             1,
             "#f0f921"
            ]
           ]
          },
          "colorway": [
           "#636efa",
           "#EF553B",
           "#00cc96",
           "#ab63fa",
           "#FFA15A",
           "#19d3f3",
           "#FF6692",
           "#B6E880",
           "#FF97FF",
           "#FECB52"
          ],
          "font": {
           "color": "#2a3f5f"
          },
          "geo": {
           "bgcolor": "white",
           "lakecolor": "white",
           "landcolor": "#E5ECF6",
           "showlakes": true,
           "showland": true,
           "subunitcolor": "white"
          },
          "hoverlabel": {
           "align": "left"
          },
          "hovermode": "closest",
          "mapbox": {
           "style": "light"
          },
          "paper_bgcolor": "white",
          "plot_bgcolor": "#E5ECF6",
          "polar": {
           "angularaxis": {
            "gridcolor": "white",
            "linecolor": "white",
            "ticks": ""
           },
           "bgcolor": "#E5ECF6",
           "radialaxis": {
            "gridcolor": "white",
            "linecolor": "white",
            "ticks": ""
           }
          },
          "scene": {
           "xaxis": {
            "backgroundcolor": "#E5ECF6",
            "gridcolor": "white",
            "gridwidth": 2,
            "linecolor": "white",
            "showbackground": true,
            "ticks": "",
            "zerolinecolor": "white"
           },
           "yaxis": {
            "backgroundcolor": "#E5ECF6",
            "gridcolor": "white",
            "gridwidth": 2,
            "linecolor": "white",
            "showbackground": true,
            "ticks": "",
            "zerolinecolor": "white"
           },
           "zaxis": {
            "backgroundcolor": "#E5ECF6",
            "gridcolor": "white",
            "gridwidth": 2,
            "linecolor": "white",
            "showbackground": true,
            "ticks": "",
            "zerolinecolor": "white"
           }
          },
          "shapedefaults": {
           "line": {
            "color": "#2a3f5f"
           }
          },
          "ternary": {
           "aaxis": {
            "gridcolor": "white",
            "linecolor": "white",
            "ticks": ""
           },
           "baxis": {
            "gridcolor": "white",
            "linecolor": "white",
            "ticks": ""
           },
           "bgcolor": "#E5ECF6",
           "caxis": {
            "gridcolor": "white",
            "linecolor": "white",
            "ticks": ""
           }
          },
          "title": {
           "x": 0.05
          },
          "xaxis": {
           "automargin": true,
           "gridcolor": "white",
           "linecolor": "white",
           "ticks": "",
           "title": {
            "standoff": 15
           },
           "zerolinecolor": "white",
           "zerolinewidth": 2
          },
          "yaxis": {
           "automargin": true,
           "gridcolor": "white",
           "linecolor": "white",
           "ticks": "",
           "title": {
            "standoff": 15
           },
           "zerolinecolor": "white",
           "zerolinewidth": 2
          }
         }
        },
        "title": {
         "text": "Total Storage Lost (Blue) and Total Pumping (Red) vs Pumping Rate"
        },
        "xaxis": {
         "anchor": "y",
         "domain": [
          0,
          1
         ],
         "title": {
          "text": "Pumping Rate (inches per week)"
         }
        },
        "yaxis": {
         "anchor": "x",
         "domain": [
          0,
          1
         ],
         "title": {
          "text": "value"
         }
        }
       }
      }
     },
     "metadata": {},
     "output_type": "display_data"
    }
   ],
   "source": [
    "pumping_rates = [0,1,2,3]\n",
    "TOTAL_PUMPING = 27711831.391685188 * 50.0 * (209./219.)\n",
    "baseline_ending_storage = runs[\"baseline\"][\"total_storage\"][209]\n",
    "total_storage_lost = [0,\n",
    "                      baseline_ending_storage - runs[\"pumping\"][\"total_storage\"][209],\n",
    "                      baseline_ending_storage - runs[\"double_pumping\"][\"total_storage\"][209],\n",
    "                      baseline_ending_storage - runs[\"triple_pumping\"][\"total_storage\"][209]\n",
    "                      ]\n",
    "total_pumping_done = [TOTAL_PUMPING * rate for rate in pumping_rates]\n",
    "px.scatter(x=pumping_rates, y=[total_storage_lost, total_pumping_done],\n",
    "           labels={\"x\": \"Pumping Rate (inches per week)\", \"y\":{\"wide_variable_0\": \"Total Storage Lost (MCM)\"}},\n",
    "           title=\"Total Storage Lost (Blue) and Total Pumping (Red) vs Pumping Rate\",\n",
    "           ).show()"
   ]
  },
  {
   "cell_type": "code",
   "execution_count": 26,
   "metadata": {},
   "outputs": [
    {
     "data": {
      "application/vnd.plotly.v1+json": {
       "config": {
        "plotlyServerURL": "https://plot.ly"
       },
       "data": [
        {
         "hovertemplate": "Pumping Rate (inches per week)=%{x}<br>Storage Lost as Percent of Pumping (%)=%{y}<extra></extra>",
         "legendgroup": "",
         "marker": {
          "color": "#636efa",
          "pattern": {
           "shape": ""
          }
         },
         "name": "",
         "orientation": "v",
         "showlegend": false,
         "textposition": "auto",
         "type": "bar",
         "x": [
          "pumping",
          "double pumping",
          "triple pumping"
         ],
         "xaxis": "x",
         "y": {
          "bdata": "TiVNtl1FOkBFBQ66ipY2QAeIB7hCXTZA",
          "dtype": "f8"
         },
         "yaxis": "y"
        }
       ],
       "layout": {
        "barmode": "relative",
        "legend": {
         "tracegroupgap": 0
        },
        "template": {
         "data": {
          "bar": [
           {
            "error_x": {
             "color": "#2a3f5f"
            },
            "error_y": {
             "color": "#2a3f5f"
            },
            "marker": {
             "line": {
              "color": "#E5ECF6",
              "width": 0.5
             },
             "pattern": {
              "fillmode": "overlay",
              "size": 10,
              "solidity": 0.2
             }
            },
            "type": "bar"
           }
          ],
          "barpolar": [
           {
            "marker": {
             "line": {
              "color": "#E5ECF6",
              "width": 0.5
             },
             "pattern": {
              "fillmode": "overlay",
              "size": 10,
              "solidity": 0.2
             }
            },
            "type": "barpolar"
           }
          ],
          "carpet": [
           {
            "aaxis": {
             "endlinecolor": "#2a3f5f",
             "gridcolor": "white",
             "linecolor": "white",
             "minorgridcolor": "white",
             "startlinecolor": "#2a3f5f"
            },
            "baxis": {
             "endlinecolor": "#2a3f5f",
             "gridcolor": "white",
             "linecolor": "white",
             "minorgridcolor": "white",
             "startlinecolor": "#2a3f5f"
            },
            "type": "carpet"
           }
          ],
          "choropleth": [
           {
            "colorbar": {
             "outlinewidth": 0,
             "ticks": ""
            },
            "type": "choropleth"
           }
          ],
          "contour": [
           {
            "colorbar": {
             "outlinewidth": 0,
             "ticks": ""
            },
            "colorscale": [
             [
              0,
              "#0d0887"
             ],
             [
              0.1111111111111111,
              "#46039f"
             ],
             [
              0.2222222222222222,
              "#7201a8"
             ],
             [
              0.3333333333333333,
              "#9c179e"
             ],
             [
              0.4444444444444444,
              "#bd3786"
             ],
             [
              0.5555555555555556,
              "#d8576b"
             ],
             [
              0.6666666666666666,
              "#ed7953"
             ],
             [
              0.7777777777777778,
              "#fb9f3a"
             ],
             [
              0.8888888888888888,
              "#fdca26"
             ],
             [
              1,
              "#f0f921"
             ]
            ],
            "type": "contour"
           }
          ],
          "contourcarpet": [
           {
            "colorbar": {
             "outlinewidth": 0,
             "ticks": ""
            },
            "type": "contourcarpet"
           }
          ],
          "heatmap": [
           {
            "colorbar": {
             "outlinewidth": 0,
             "ticks": ""
            },
            "colorscale": [
             [
              0,
              "#0d0887"
             ],
             [
              0.1111111111111111,
              "#46039f"
             ],
             [
              0.2222222222222222,
              "#7201a8"
             ],
             [
              0.3333333333333333,
              "#9c179e"
             ],
             [
              0.4444444444444444,
              "#bd3786"
             ],
             [
              0.5555555555555556,
              "#d8576b"
             ],
             [
              0.6666666666666666,
              "#ed7953"
             ],
             [
              0.7777777777777778,
              "#fb9f3a"
             ],
             [
              0.8888888888888888,
              "#fdca26"
             ],
             [
              1,
              "#f0f921"
             ]
            ],
            "type": "heatmap"
           }
          ],
          "histogram": [
           {
            "marker": {
             "pattern": {
              "fillmode": "overlay",
              "size": 10,
              "solidity": 0.2
             }
            },
            "type": "histogram"
           }
          ],
          "histogram2d": [
           {
            "colorbar": {
             "outlinewidth": 0,
             "ticks": ""
            },
            "colorscale": [
             [
              0,
              "#0d0887"
             ],
             [
              0.1111111111111111,
              "#46039f"
             ],
             [
              0.2222222222222222,
              "#7201a8"
             ],
             [
              0.3333333333333333,
              "#9c179e"
             ],
             [
              0.4444444444444444,
              "#bd3786"
             ],
             [
              0.5555555555555556,
              "#d8576b"
             ],
             [
              0.6666666666666666,
              "#ed7953"
             ],
             [
              0.7777777777777778,
              "#fb9f3a"
             ],
             [
              0.8888888888888888,
              "#fdca26"
             ],
             [
              1,
              "#f0f921"
             ]
            ],
            "type": "histogram2d"
           }
          ],
          "histogram2dcontour": [
           {
            "colorbar": {
             "outlinewidth": 0,
             "ticks": ""
            },
            "colorscale": [
             [
              0,
              "#0d0887"
             ],
             [
              0.1111111111111111,
              "#46039f"
             ],
             [
              0.2222222222222222,
              "#7201a8"
             ],
             [
              0.3333333333333333,
              "#9c179e"
             ],
             [
              0.4444444444444444,
              "#bd3786"
             ],
             [
              0.5555555555555556,
              "#d8576b"
             ],
             [
              0.6666666666666666,
              "#ed7953"
             ],
             [
              0.7777777777777778,
              "#fb9f3a"
             ],
             [
              0.8888888888888888,
              "#fdca26"
             ],
             [
              1,
              "#f0f921"
             ]
            ],
            "type": "histogram2dcontour"
           }
          ],
          "mesh3d": [
           {
            "colorbar": {
             "outlinewidth": 0,
             "ticks": ""
            },
            "type": "mesh3d"
           }
          ],
          "parcoords": [
           {
            "line": {
             "colorbar": {
              "outlinewidth": 0,
              "ticks": ""
             }
            },
            "type": "parcoords"
           }
          ],
          "pie": [
           {
            "automargin": true,
            "type": "pie"
           }
          ],
          "scatter": [
           {
            "fillpattern": {
             "fillmode": "overlay",
             "size": 10,
             "solidity": 0.2
            },
            "type": "scatter"
           }
          ],
          "scatter3d": [
           {
            "line": {
             "colorbar": {
              "outlinewidth": 0,
              "ticks": ""
             }
            },
            "marker": {
             "colorbar": {
              "outlinewidth": 0,
              "ticks": ""
             }
            },
            "type": "scatter3d"
           }
          ],
          "scattercarpet": [
           {
            "marker": {
             "colorbar": {
              "outlinewidth": 0,
              "ticks": ""
             }
            },
            "type": "scattercarpet"
           }
          ],
          "scattergeo": [
           {
            "marker": {
             "colorbar": {
              "outlinewidth": 0,
              "ticks": ""
             }
            },
            "type": "scattergeo"
           }
          ],
          "scattergl": [
           {
            "marker": {
             "colorbar": {
              "outlinewidth": 0,
              "ticks": ""
             }
            },
            "type": "scattergl"
           }
          ],
          "scattermap": [
           {
            "marker": {
             "colorbar": {
              "outlinewidth": 0,
              "ticks": ""
             }
            },
            "type": "scattermap"
           }
          ],
          "scattermapbox": [
           {
            "marker": {
             "colorbar": {
              "outlinewidth": 0,
              "ticks": ""
             }
            },
            "type": "scattermapbox"
           }
          ],
          "scatterpolar": [
           {
            "marker": {
             "colorbar": {
              "outlinewidth": 0,
              "ticks": ""
             }
            },
            "type": "scatterpolar"
           }
          ],
          "scatterpolargl": [
           {
            "marker": {
             "colorbar": {
              "outlinewidth": 0,
              "ticks": ""
             }
            },
            "type": "scatterpolargl"
           }
          ],
          "scatterternary": [
           {
            "marker": {
             "colorbar": {
              "outlinewidth": 0,
              "ticks": ""
             }
            },
            "type": "scatterternary"
           }
          ],
          "surface": [
           {
            "colorbar": {
             "outlinewidth": 0,
             "ticks": ""
            },
            "colorscale": [
             [
              0,
              "#0d0887"
             ],
             [
              0.1111111111111111,
              "#46039f"
             ],
             [
              0.2222222222222222,
              "#7201a8"
             ],
             [
              0.3333333333333333,
              "#9c179e"
             ],
             [
              0.4444444444444444,
              "#bd3786"
             ],
             [
              0.5555555555555556,
              "#d8576b"
             ],
             [
              0.6666666666666666,
              "#ed7953"
             ],
             [
              0.7777777777777778,
              "#fb9f3a"
             ],
             [
              0.8888888888888888,
              "#fdca26"
             ],
             [
              1,
              "#f0f921"
             ]
            ],
            "type": "surface"
           }
          ],
          "table": [
           {
            "cells": {
             "fill": {
              "color": "#EBF0F8"
             },
             "line": {
              "color": "white"
             }
            },
            "header": {
             "fill": {
              "color": "#C8D4E3"
             },
             "line": {
              "color": "white"
             }
            },
            "type": "table"
           }
          ]
         },
         "layout": {
          "annotationdefaults": {
           "arrowcolor": "#2a3f5f",
           "arrowhead": 0,
           "arrowwidth": 1
          },
          "autotypenumbers": "strict",
          "coloraxis": {
           "colorbar": {
            "outlinewidth": 0,
            "ticks": ""
           }
          },
          "colorscale": {
           "diverging": [
            [
             0,
             "#8e0152"
            ],
            [
             0.1,
             "#c51b7d"
            ],
            [
             0.2,
             "#de77ae"
            ],
            [
             0.3,
             "#f1b6da"
            ],
            [
             0.4,
             "#fde0ef"
            ],
            [
             0.5,
             "#f7f7f7"
            ],
            [
             0.6,
             "#e6f5d0"
            ],
            [
             0.7,
             "#b8e186"
            ],
            [
             0.8,
             "#7fbc41"
            ],
            [
             0.9,
             "#4d9221"
            ],
            [
             1,
             "#276419"
            ]
           ],
           "sequential": [
            [
             0,
             "#0d0887"
            ],
            [
             0.1111111111111111,
             "#46039f"
            ],
            [
             0.2222222222222222,
             "#7201a8"
            ],
            [
             0.3333333333333333,
             "#9c179e"
            ],
            [
             0.4444444444444444,
             "#bd3786"
            ],
            [
             0.5555555555555556,
             "#d8576b"
            ],
            [
             0.6666666666666666,
             "#ed7953"
            ],
            [
             0.7777777777777778,
             "#fb9f3a"
            ],
            [
             0.8888888888888888,
             "#fdca26"
            ],
            [
             1,
             "#f0f921"
            ]
           ],
           "sequentialminus": [
            [
             0,
             "#0d0887"
            ],
            [
             0.1111111111111111,
             "#46039f"
            ],
            [
             0.2222222222222222,
             "#7201a8"
            ],
            [
             0.3333333333333333,
             "#9c179e"
            ],
            [
             0.4444444444444444,
             "#bd3786"
            ],
            [
             0.5555555555555556,
             "#d8576b"
            ],
            [
             0.6666666666666666,
             "#ed7953"
            ],
            [
             0.7777777777777778,
             "#fb9f3a"
            ],
            [
             0.8888888888888888,
             "#fdca26"
            ],
            [
             1,
             "#f0f921"
            ]
           ]
          },
          "colorway": [
           "#636efa",
           "#EF553B",
           "#00cc96",
           "#ab63fa",
           "#FFA15A",
           "#19d3f3",
           "#FF6692",
           "#B6E880",
           "#FF97FF",
           "#FECB52"
          ],
          "font": {
           "color": "#2a3f5f"
          },
          "geo": {
           "bgcolor": "white",
           "lakecolor": "white",
           "landcolor": "#E5ECF6",
           "showlakes": true,
           "showland": true,
           "subunitcolor": "white"
          },
          "hoverlabel": {
           "align": "left"
          },
          "hovermode": "closest",
          "mapbox": {
           "style": "light"
          },
          "paper_bgcolor": "white",
          "plot_bgcolor": "#E5ECF6",
          "polar": {
           "angularaxis": {
            "gridcolor": "white",
            "linecolor": "white",
            "ticks": ""
           },
           "bgcolor": "#E5ECF6",
           "radialaxis": {
            "gridcolor": "white",
            "linecolor": "white",
            "ticks": ""
           }
          },
          "scene": {
           "xaxis": {
            "backgroundcolor": "#E5ECF6",
            "gridcolor": "white",
            "gridwidth": 2,
            "linecolor": "white",
            "showbackground": true,
            "ticks": "",
            "zerolinecolor": "white"
           },
           "yaxis": {
            "backgroundcolor": "#E5ECF6",
            "gridcolor": "white",
            "gridwidth": 2,
            "linecolor": "white",
            "showbackground": true,
            "ticks": "",
            "zerolinecolor": "white"
           },
           "zaxis": {
            "backgroundcolor": "#E5ECF6",
            "gridcolor": "white",
            "gridwidth": 2,
            "linecolor": "white",
            "showbackground": true,
            "ticks": "",
            "zerolinecolor": "white"
           }
          },
          "shapedefaults": {
           "line": {
            "color": "#2a3f5f"
           }
          },
          "ternary": {
           "aaxis": {
            "gridcolor": "white",
            "linecolor": "white",
            "ticks": ""
           },
           "baxis": {
            "gridcolor": "white",
            "linecolor": "white",
            "ticks": ""
           },
           "bgcolor": "#E5ECF6",
           "caxis": {
            "gridcolor": "white",
            "linecolor": "white",
            "ticks": ""
           }
          },
          "title": {
           "x": 0.05
          },
          "xaxis": {
           "automargin": true,
           "gridcolor": "white",
           "linecolor": "white",
           "ticks": "",
           "title": {
            "standoff": 15
           },
           "zerolinecolor": "white",
           "zerolinewidth": 2
          },
          "yaxis": {
           "automargin": true,
           "gridcolor": "white",
           "linecolor": "white",
           "ticks": "",
           "title": {
            "standoff": 15
           },
           "zerolinecolor": "white",
           "zerolinewidth": 2
          }
         }
        },
        "title": {
         "text": "Storage Lost as Percent of Pumping vs Pumping Rate"
        },
        "xaxis": {
         "anchor": "y",
         "domain": [
          0,
          1
         ],
         "title": {
          "text": "Pumping Rate (inches per week)"
         }
        },
        "yaxis": {
         "anchor": "x",
         "domain": [
          0,
          1
         ],
         "range": [
          0,
          100
         ],
         "title": {
          "text": "Storage Lost as Percent of Pumping (%)"
         }
        }
       }
      }
     },
     "metadata": {},
     "output_type": "display_data"
    }
   ],
   "source": [
    "storage_lost_as_percent_of_pumping = [total_storage_lost[i] / total_pumping_done[i] * 100 for i in range(1, len(total_pumping_done))]\n",
    "px.bar(x=[\"pumping\", \"double pumping\", \"triple pumping\"], y=storage_lost_as_percent_of_pumping, \n",
    "              labels={\"x\": \"Pumping Rate (inches per week)\", \"y\": \"Storage Lost as Percent of Pumping (%)\"},\n",
    "              title=\"Storage Lost as Percent of Pumping vs Pumping Rate\",\n",
    "              range_y=[0, 100],\n",
    "            #   range_x=[0, 3]\n",
    "              ).show()\n"
   ]
  },
  {
   "cell_type": "code",
   "execution_count": 28,
   "metadata": {},
   "outputs": [
    {
     "data": {
      "application/vnd.plotly.v1+json": {
       "config": {
        "plotlyServerURL": "https://plot.ly"
       },
       "data": [
        {
         "hovertemplate": "Run Name=%{x}<br>Total Flow Reduction (MCM)=%{y}<extra></extra>",
         "legendgroup": "",
         "marker": {
          "color": "#636efa",
          "pattern": {
           "shape": ""
          }
         },
         "name": "",
         "orientation": "v",
         "showlegend": false,
         "textposition": "auto",
         "type": "bar",
         "x": [
          "pumping",
          "double_pumping",
          "triple_pumping"
         ],
         "xaxis": "x",
         "y": {
          "bdata": "wLn2B2hKlkHWxvQBaI2dQZHzFBuZkKBB",
          "dtype": "f8"
         },
         "yaxis": "y"
        }
       ],
       "layout": {
        "barmode": "relative",
        "legend": {
         "tracegroupgap": 0
        },
        "template": {
         "data": {
          "bar": [
           {
            "error_x": {
             "color": "#2a3f5f"
            },
            "error_y": {
             "color": "#2a3f5f"
            },
            "marker": {
             "line": {
              "color": "#E5ECF6",
              "width": 0.5
             },
             "pattern": {
              "fillmode": "overlay",
              "size": 10,
              "solidity": 0.2
             }
            },
            "type": "bar"
           }
          ],
          "barpolar": [
           {
            "marker": {
             "line": {
              "color": "#E5ECF6",
              "width": 0.5
             },
             "pattern": {
              "fillmode": "overlay",
              "size": 10,
              "solidity": 0.2
             }
            },
            "type": "barpolar"
           }
          ],
          "carpet": [
           {
            "aaxis": {
             "endlinecolor": "#2a3f5f",
             "gridcolor": "white",
             "linecolor": "white",
             "minorgridcolor": "white",
             "startlinecolor": "#2a3f5f"
            },
            "baxis": {
             "endlinecolor": "#2a3f5f",
             "gridcolor": "white",
             "linecolor": "white",
             "minorgridcolor": "white",
             "startlinecolor": "#2a3f5f"
            },
            "type": "carpet"
           }
          ],
          "choropleth": [
           {
            "colorbar": {
             "outlinewidth": 0,
             "ticks": ""
            },
            "type": "choropleth"
           }
          ],
          "contour": [
           {
            "colorbar": {
             "outlinewidth": 0,
             "ticks": ""
            },
            "colorscale": [
             [
              0,
              "#0d0887"
             ],
             [
              0.1111111111111111,
              "#46039f"
             ],
             [
              0.2222222222222222,
              "#7201a8"
             ],
             [
              0.3333333333333333,
              "#9c179e"
             ],
             [
              0.4444444444444444,
              "#bd3786"
             ],
             [
              0.5555555555555556,
              "#d8576b"
             ],
             [
              0.6666666666666666,
              "#ed7953"
             ],
             [
              0.7777777777777778,
              "#fb9f3a"
             ],
             [
              0.8888888888888888,
              "#fdca26"
             ],
             [
              1,
              "#f0f921"
             ]
            ],
            "type": "contour"
           }
          ],
          "contourcarpet": [
           {
            "colorbar": {
             "outlinewidth": 0,
             "ticks": ""
            },
            "type": "contourcarpet"
           }
          ],
          "heatmap": [
           {
            "colorbar": {
             "outlinewidth": 0,
             "ticks": ""
            },
            "colorscale": [
             [
              0,
              "#0d0887"
             ],
             [
              0.1111111111111111,
              "#46039f"
             ],
             [
              0.2222222222222222,
              "#7201a8"
             ],
             [
              0.3333333333333333,
              "#9c179e"
             ],
             [
              0.4444444444444444,
              "#bd3786"
             ],
             [
              0.5555555555555556,
              "#d8576b"
             ],
             [
              0.6666666666666666,
              "#ed7953"
             ],
             [
              0.7777777777777778,
              "#fb9f3a"
             ],
             [
              0.8888888888888888,
              "#fdca26"
             ],
             [
              1,
              "#f0f921"
             ]
            ],
            "type": "heatmap"
           }
          ],
          "histogram": [
           {
            "marker": {
             "pattern": {
              "fillmode": "overlay",
              "size": 10,
              "solidity": 0.2
             }
            },
            "type": "histogram"
           }
          ],
          "histogram2d": [
           {
            "colorbar": {
             "outlinewidth": 0,
             "ticks": ""
            },
            "colorscale": [
             [
              0,
              "#0d0887"
             ],
             [
              0.1111111111111111,
              "#46039f"
             ],
             [
              0.2222222222222222,
              "#7201a8"
             ],
             [
              0.3333333333333333,
              "#9c179e"
             ],
             [
              0.4444444444444444,
              "#bd3786"
             ],
             [
              0.5555555555555556,
              "#d8576b"
             ],
             [
              0.6666666666666666,
              "#ed7953"
             ],
             [
              0.7777777777777778,
              "#fb9f3a"
             ],
             [
              0.8888888888888888,
              "#fdca26"
             ],
             [
              1,
              "#f0f921"
             ]
            ],
            "type": "histogram2d"
           }
          ],
          "histogram2dcontour": [
           {
            "colorbar": {
             "outlinewidth": 0,
             "ticks": ""
            },
            "colorscale": [
             [
              0,
              "#0d0887"
             ],
             [
              0.1111111111111111,
              "#46039f"
             ],
             [
              0.2222222222222222,
              "#7201a8"
             ],
             [
              0.3333333333333333,
              "#9c179e"
             ],
             [
              0.4444444444444444,
              "#bd3786"
             ],
             [
              0.5555555555555556,
              "#d8576b"
             ],
             [
              0.6666666666666666,
              "#ed7953"
             ],
             [
              0.7777777777777778,
              "#fb9f3a"
             ],
             [
              0.8888888888888888,
              "#fdca26"
             ],
             [
              1,
              "#f0f921"
             ]
            ],
            "type": "histogram2dcontour"
           }
          ],
          "mesh3d": [
           {
            "colorbar": {
             "outlinewidth": 0,
             "ticks": ""
            },
            "type": "mesh3d"
           }
          ],
          "parcoords": [
           {
            "line": {
             "colorbar": {
              "outlinewidth": 0,
              "ticks": ""
             }
            },
            "type": "parcoords"
           }
          ],
          "pie": [
           {
            "automargin": true,
            "type": "pie"
           }
          ],
          "scatter": [
           {
            "fillpattern": {
             "fillmode": "overlay",
             "size": 10,
             "solidity": 0.2
            },
            "type": "scatter"
           }
          ],
          "scatter3d": [
           {
            "line": {
             "colorbar": {
              "outlinewidth": 0,
              "ticks": ""
             }
            },
            "marker": {
             "colorbar": {
              "outlinewidth": 0,
              "ticks": ""
             }
            },
            "type": "scatter3d"
           }
          ],
          "scattercarpet": [
           {
            "marker": {
             "colorbar": {
              "outlinewidth": 0,
              "ticks": ""
             }
            },
            "type": "scattercarpet"
           }
          ],
          "scattergeo": [
           {
            "marker": {
             "colorbar": {
              "outlinewidth": 0,
              "ticks": ""
             }
            },
            "type": "scattergeo"
           }
          ],
          "scattergl": [
           {
            "marker": {
             "colorbar": {
              "outlinewidth": 0,
              "ticks": ""
             }
            },
            "type": "scattergl"
           }
          ],
          "scattermap": [
           {
            "marker": {
             "colorbar": {
              "outlinewidth": 0,
              "ticks": ""
             }
            },
            "type": "scattermap"
           }
          ],
          "scattermapbox": [
           {
            "marker": {
             "colorbar": {
              "outlinewidth": 0,
              "ticks": ""
             }
            },
            "type": "scattermapbox"
           }
          ],
          "scatterpolar": [
           {
            "marker": {
             "colorbar": {
              "outlinewidth": 0,
              "ticks": ""
             }
            },
            "type": "scatterpolar"
           }
          ],
          "scatterpolargl": [
           {
            "marker": {
             "colorbar": {
              "outlinewidth": 0,
              "ticks": ""
             }
            },
            "type": "scatterpolargl"
           }
          ],
          "scatterternary": [
           {
            "marker": {
             "colorbar": {
              "outlinewidth": 0,
              "ticks": ""
             }
            },
            "type": "scatterternary"
           }
          ],
          "surface": [
           {
            "colorbar": {
             "outlinewidth": 0,
             "ticks": ""
            },
            "colorscale": [
             [
              0,
              "#0d0887"
             ],
             [
              0.1111111111111111,
              "#46039f"
             ],
             [
              0.2222222222222222,
              "#7201a8"
             ],
             [
              0.3333333333333333,
              "#9c179e"
             ],
             [
              0.4444444444444444,
              "#bd3786"
             ],
             [
              0.5555555555555556,
              "#d8576b"
             ],
             [
              0.6666666666666666,
              "#ed7953"
             ],
             [
              0.7777777777777778,
              "#fb9f3a"
             ],
             [
              0.8888888888888888,
              "#fdca26"
             ],
             [
              1,
              "#f0f921"
             ]
            ],
            "type": "surface"
           }
          ],
          "table": [
           {
            "cells": {
             "fill": {
              "color": "#EBF0F8"
             },
             "line": {
              "color": "white"
             }
            },
            "header": {
             "fill": {
              "color": "#C8D4E3"
             },
             "line": {
              "color": "white"
             }
            },
            "type": "table"
           }
          ]
         },
         "layout": {
          "annotationdefaults": {
           "arrowcolor": "#2a3f5f",
           "arrowhead": 0,
           "arrowwidth": 1
          },
          "autotypenumbers": "strict",
          "coloraxis": {
           "colorbar": {
            "outlinewidth": 0,
            "ticks": ""
           }
          },
          "colorscale": {
           "diverging": [
            [
             0,
             "#8e0152"
            ],
            [
             0.1,
             "#c51b7d"
            ],
            [
             0.2,
             "#de77ae"
            ],
            [
             0.3,
             "#f1b6da"
            ],
            [
             0.4,
             "#fde0ef"
            ],
            [
             0.5,
             "#f7f7f7"
            ],
            [
             0.6,
             "#e6f5d0"
            ],
            [
             0.7,
             "#b8e186"
            ],
            [
             0.8,
             "#7fbc41"
            ],
            [
             0.9,
             "#4d9221"
            ],
            [
             1,
             "#276419"
            ]
           ],
           "sequential": [
            [
             0,
             "#0d0887"
            ],
            [
             0.1111111111111111,
             "#46039f"
            ],
            [
             0.2222222222222222,
             "#7201a8"
            ],
            [
             0.3333333333333333,
             "#9c179e"
            ],
            [
             0.4444444444444444,
             "#bd3786"
            ],
            [
             0.5555555555555556,
             "#d8576b"
            ],
            [
             0.6666666666666666,
             "#ed7953"
            ],
            [
             0.7777777777777778,
             "#fb9f3a"
            ],
            [
             0.8888888888888888,
             "#fdca26"
            ],
            [
             1,
             "#f0f921"
            ]
           ],
           "sequentialminus": [
            [
             0,
             "#0d0887"
            ],
            [
             0.1111111111111111,
             "#46039f"
            ],
            [
             0.2222222222222222,
             "#7201a8"
            ],
            [
             0.3333333333333333,
             "#9c179e"
            ],
            [
             0.4444444444444444,
             "#bd3786"
            ],
            [
             0.5555555555555556,
             "#d8576b"
            ],
            [
             0.6666666666666666,
             "#ed7953"
            ],
            [
             0.7777777777777778,
             "#fb9f3a"
            ],
            [
             0.8888888888888888,
             "#fdca26"
            ],
            [
             1,
             "#f0f921"
            ]
           ]
          },
          "colorway": [
           "#636efa",
           "#EF553B",
           "#00cc96",
           "#ab63fa",
           "#FFA15A",
           "#19d3f3",
           "#FF6692",
           "#B6E880",
           "#FF97FF",
           "#FECB52"
          ],
          "font": {
           "color": "#2a3f5f"
          },
          "geo": {
           "bgcolor": "white",
           "lakecolor": "white",
           "landcolor": "#E5ECF6",
           "showlakes": true,
           "showland": true,
           "subunitcolor": "white"
          },
          "hoverlabel": {
           "align": "left"
          },
          "hovermode": "closest",
          "mapbox": {
           "style": "light"
          },
          "paper_bgcolor": "white",
          "plot_bgcolor": "#E5ECF6",
          "polar": {
           "angularaxis": {
            "gridcolor": "white",
            "linecolor": "white",
            "ticks": ""
           },
           "bgcolor": "#E5ECF6",
           "radialaxis": {
            "gridcolor": "white",
            "linecolor": "white",
            "ticks": ""
           }
          },
          "scene": {
           "xaxis": {
            "backgroundcolor": "#E5ECF6",
            "gridcolor": "white",
            "gridwidth": 2,
            "linecolor": "white",
            "showbackground": true,
            "ticks": "",
            "zerolinecolor": "white"
           },
           "yaxis": {
            "backgroundcolor": "#E5ECF6",
            "gridcolor": "white",
            "gridwidth": 2,
            "linecolor": "white",
            "showbackground": true,
            "ticks": "",
            "zerolinecolor": "white"
           },
           "zaxis": {
            "backgroundcolor": "#E5ECF6",
            "gridcolor": "white",
            "gridwidth": 2,
            "linecolor": "white",
            "showbackground": true,
            "ticks": "",
            "zerolinecolor": "white"
           }
          },
          "shapedefaults": {
           "line": {
            "color": "#2a3f5f"
           }
          },
          "ternary": {
           "aaxis": {
            "gridcolor": "white",
            "linecolor": "white",
            "ticks": ""
           },
           "baxis": {
            "gridcolor": "white",
            "linecolor": "white",
            "ticks": ""
           },
           "bgcolor": "#E5ECF6",
           "caxis": {
            "gridcolor": "white",
            "linecolor": "white",
            "ticks": ""
           }
          },
          "title": {
           "x": 0.05
          },
          "xaxis": {
           "automargin": true,
           "gridcolor": "white",
           "linecolor": "white",
           "ticks": "",
           "title": {
            "standoff": 15
           },
           "zerolinecolor": "white",
           "zerolinewidth": 2
          },
          "yaxis": {
           "automargin": true,
           "gridcolor": "white",
           "linecolor": "white",
           "ticks": "",
           "title": {
            "standoff": 15
           },
           "zerolinecolor": "white",
           "zerolinewidth": 2
          }
         }
        },
        "title": {
         "text": "Total Flow Reduction for Each Run"
        },
        "xaxis": {
         "anchor": "y",
         "domain": [
          0,
          1
         ],
         "title": {
          "text": "Run Name"
         }
        },
        "yaxis": {
         "anchor": "x",
         "domain": [
          0,
          1
         ],
         "title": {
          "text": "Total Flow Reduction (MCM)"
         }
        }
       }
      }
     },
     "metadata": {},
     "output_type": "display_data"
    }
   ],
   "source": [
    "run_names = list(runs.keys())\n",
    "run_names = run_names[1:]  # Exclude baseline from the bar chart\n",
    "total_flow_reductions = []\n",
    "for i, run_name in enumerate(run_names):\n",
    "    run = runs[run_name]\n",
    "    baseline = runs[\"baseline\"]\n",
    "    flow_reduction = np.array([baseline[\"outlet_flow\"][i] - run[\"outlet_flow\"][i] for i in range(len(run[\"outlet_flow\"]))]).sum() * 24*5\n",
    "    total_flow_reductions.append(flow_reduction)\n",
    "px.bar(x=run_names, y=total_flow_reductions,\n",
    "       labels={\"x\": \"Run Name\", \"y\": \"Total Flow Reduction (MCM)\"},\n",
    "       title=\"Total Flow Reduction for Each Run\",\n",
    "       ).show()\n",
    "\n"
   ]
  },
  {
   "cell_type": "code",
   "execution_count": 21,
   "metadata": {},
   "outputs": [],
   "source": [
    "# recovery_runs = {}\n",
    "\n",
    "# for run_name in pumping_run_names:\n",
    "#     data_accessor = utils.get_data_accessor(f\"_with_pumping_{run_name}_recovery\", \"_with_pumping\")\n",
    "#     run = utils.load_run(data_accessor, num_timesteps=700, read_interval=10)\n",
    "#     recovery_runs[run_name] = run\n",
    "\n",
    "\n",
    "# data_accessor = utils.get_data_accessor(\"_baseline_recovery\", \"_baseline\")\n",
    "# baseline_run = utils.load_run(data_accessor, num_timesteps=700, read_interval=10)\n",
    "# recovery_runs[\"baseline\"] = baseline_run\n",
    "\n",
    "# for run in recovery_runs.values():\n",
    "#     run[\"storage_delta_due_to_pumping\"] = run[\"total_storage\"] - recovery_runs[\"baseline\"][\"total_storage\"]\n",
    "#     run[\"flow_reduction\"] = run[\"outlet_flow\"] - recovery_runs[\"baseline\"][\"outlet_flow\"]\n",
    "    "
   ]
  },
  {
   "cell_type": "code",
   "execution_count": 22,
   "metadata": {},
   "outputs": [
    {
     "ename": "NameError",
     "evalue": "name 'recovery_runs' is not defined",
     "output_type": "error",
     "traceback": [
      "\u001b[31m---------------------------------------------------------------------------\u001b[39m",
      "\u001b[31mNameError\u001b[39m                                 Traceback (most recent call last)",
      "\u001b[36mCell\u001b[39m\u001b[36m \u001b[39m\u001b[32mIn[22]\u001b[39m\u001b[32m, line 1\u001b[39m\n\u001b[32m----> \u001b[39m\u001b[32m1\u001b[39m utils.plot_variable_for_each_run(\u001b[33m\"\u001b[39m\u001b[33mtotal_storage\u001b[39m\u001b[33m\"\u001b[39m, runs=\u001b[43mrecovery_runs\u001b[49m, y_label=\u001b[33m\"\u001b[39m\u001b[33mDomain Storage (MCM)\u001b[39m\u001b[33m\"\u001b[39m,\n\u001b[32m      2\u001b[39m                                 y_scale=\u001b[32m1e6\u001b[39m, title=\u001b[33m\"\u001b[39m\u001b[33mDomain Storage Over Time During Recovery\u001b[39m\u001b[33m\"\u001b[39m, x_scale=\u001b[32m365\u001b[39m)\n",
      "\u001b[31mNameError\u001b[39m: name 'recovery_runs' is not defined"
     ]
    }
   ],
   "source": [
    "utils.plot_variable_for_each_run(\"total_storage\", runs=recovery_runs, y_label=\"Domain Storage (MCM)\",\n",
    "                                y_scale=1e6, title=\"Domain Storage Over Time During Recovery\", x_scale=365)"
   ]
  },
  {
   "cell_type": "code",
   "execution_count": null,
   "metadata": {},
   "outputs": [],
   "source": [
    "utils.plot_variable_for_each_run(\"outlet_flow\", runs=recovery_runs)"
   ]
  },
  {
   "cell_type": "code",
   "execution_count": null,
   "metadata": {},
   "outputs": [],
   "source": [
    "utils.plot_variable_for_each_run(\"storage_delta_due_to_pumping\", runs=recovery_runs, y_label=\"Domain Storage (MCM)\",\n",
    "                                y_scale=1e6, title=\"Storage Delta from Baseline During Recovery\", x_scale=365)"
   ]
  },
  {
   "cell_type": "code",
   "execution_count": null,
   "metadata": {},
   "outputs": [],
   "source": [
    "px.line(runs[\"baseline\"], y=\"outlet_flow\")"
   ]
  },
  {
   "cell_type": "code",
   "execution_count": null,
   "metadata": {},
   "outputs": [],
   "source": [
    "fig = px.imshow(\n",
    "    runs[\"baseline\"][\"wtd\"][720] - runs[\"100_percent\"][\"wtd\"][720] ,\n",
    "    color_continuous_scale=px.colors.diverging.BrBG_r,\n",
    "    color_continuous_midpoint=0,\n",
    "    title=\"Change in water table depth over two years of drought (m)\"\n",
    ")\n",
    "fig.update_layout(width=600, height=600)\n",
    "fig.show()"
   ]
  },
  {
   "cell_type": "code",
   "execution_count": null,
   "metadata": {},
   "outputs": [],
   "source": []
  }
 ],
 "metadata": {
  "kernelspec": {
   "display_name": "Python 3",
   "language": "python",
   "name": "python3"
  },
  "language_info": {
   "codemirror_mode": {
    "name": "ipython",
    "version": 3
   },
   "file_extension": ".py",
   "mimetype": "text/x-python",
   "name": "python",
   "nbconvert_exporter": "python",
   "pygments_lexer": "ipython3",
   "version": "3.11.11"
  }
 },
 "nbformat": 4,
 "nbformat_minor": 2
}
