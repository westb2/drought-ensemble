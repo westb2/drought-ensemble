{
 "cells": [
  {
   "cell_type": "code",
   "execution_count": 1,
   "id": "8bd8d319",
   "metadata": {},
   "outputs": [],
   "source": [
    "import parflow as pf\n",
    "import numpy as np\n",
    "import pandas as pd\n",
    "import plotly.express as px\n",
    "import shutil\n",
    "import utils\n",
    "import os\n",
    "import sys\n",
    "\n",
    "sys.path.append(\"../\")\n",
    "import wolf.config as config"
   ]
  },
  {
   "cell_type": "code",
   "execution_count": 2,
   "id": "eb9008c5",
   "metadata": {},
   "outputs": [
    {
     "name": "stdout",
     "output_type": "stream",
     "text": [
      "Solver: Field BinaryOutDir is not part of the expected schema <class 'parflow.tools.database.generated.Solver'>\n",
      ": Field run_dir is not part of the expected schema <class 'parflow.tools.core.Run'>\n",
      "Warning: The following CLM variables could not be set:\n",
      "  - nt\n",
      "  - sw_ini\n",
      "  - hkdepth\n",
      "  - wtfact\n",
      "  - trsmx0\n",
      "  - smpmax\n",
      "  - pondmx\n",
      "(10, 43, 96)\n"
     ]
    },
    {
     "name": "stderr",
     "output_type": "stream",
     "text": [
      "/Users/ben/Documents/GitHub/drought-ensemble/.conda/lib/python3.11/site-packages/parflow/tools/io.py:1300: FutureWarning: The 'delim_whitespace' keyword in pd.read_csv is deprecated and will be removed in a future version. Use ``sep='\\s+'`` instead\n",
      "  df = pd.read_csv(file_name, delim_whitespace=True, skiprows=2, header=None)\n"
     ]
    },
    {
     "name": "stdout",
     "output_type": "stream",
     "text": [
      "Solver: Field BinaryOutDir is not part of the expected schema <class 'parflow.tools.database.generated.Solver'>\n",
      ": Field run_dir is not part of the expected schema <class 'parflow.tools.core.Run'>\n",
      "Warning: The following CLM variables could not be set:\n",
      "  - nt\n",
      "  - sw_ini\n",
      "  - hkdepth\n",
      "  - wtfact\n",
      "  - trsmx0\n",
      "  - smpmax\n",
      "  - pondmx\n",
      "(10, 43, 96)\n"
     ]
    },
    {
     "name": "stderr",
     "output_type": "stream",
     "text": [
      "/Users/ben/Documents/GitHub/drought-ensemble/.conda/lib/python3.11/site-packages/parflow/tools/io.py:1300: FutureWarning: The 'delim_whitespace' keyword in pd.read_csv is deprecated and will be removed in a future version. Use ``sep='\\s+'`` instead\n",
      "  df = pd.read_csv(file_name, delim_whitespace=True, skiprows=2, header=None)\n"
     ]
    },
    {
     "name": "stdout",
     "output_type": "stream",
     "text": [
      "Solver: Field BinaryOutDir is not part of the expected schema <class 'parflow.tools.database.generated.Solver'>\n",
      ": Field run_dir is not part of the expected schema <class 'parflow.tools.core.Run'>\n",
      "Warning: The following CLM variables could not be set:\n",
      "  - nt\n",
      "  - sw_ini\n",
      "  - hkdepth\n",
      "  - wtfact\n",
      "  - trsmx0\n",
      "  - smpmax\n",
      "  - pondmx\n",
      "(10, 43, 96)\n"
     ]
    },
    {
     "name": "stderr",
     "output_type": "stream",
     "text": [
      "/Users/ben/Documents/GitHub/drought-ensemble/.conda/lib/python3.11/site-packages/parflow/tools/io.py:1300: FutureWarning: The 'delim_whitespace' keyword in pd.read_csv is deprecated and will be removed in a future version. Use ``sep='\\s+'`` instead\n",
      "  df = pd.read_csv(file_name, delim_whitespace=True, skiprows=2, header=None)\n"
     ]
    }
   ],
   "source": [
    "num_timesteps = 219\n",
    "read_interval = 1\n",
    "\n",
    "# domain_name = \"POTOMAC_1998_to_1999\"\n",
    "# \n",
    "domain_name = \"WOLF_2007_to_2008\"\n",
    "outlet_yx = config.CURRENT_OUTLET_YX\n",
    "runs = {}\n",
    "\n",
    "\n",
    "data_accessor1 = utils.get_data_accessor(f\"{domain_name}\", f\"{domain_name}_3_year_drought_baseline_recovery\")\n",
    "baseline_run = utils.load_run(data_accessor1, outlet_yx, num_timesteps, read_interval)\n",
    "runs[\"baseline\"] = baseline_run\n",
    "\n",
    "domain_name = \"WOLF_2007_to_2008\"\n",
    "run_name = f\"{domain_name}_3_year_drought_with_pumping_recovery\"\n",
    "data_accessor2 = utils.get_data_accessor(domain_name, run_name)\n",
    "run = utils.load_run(data_accessor2, outlet_yx, num_timesteps, read_interval)\n",
    "runs[\"pumping\"] = run\n",
    "\n",
    "domain_name = \"WOLF_2007_to_2008\"\n",
    "run_name = f\"{domain_name}_3_year_drought_with_double_pumping_recovery\"\n",
    "data_accessor3 = utils.get_data_accessor(domain_name, run_name)\n",
    "run = utils.load_run(data_accessor3, outlet_yx, num_timesteps, read_interval)\n",
    "runs[\"double_pumping\"] = run\n",
    "\n",
    "# domain_name = \"WOLF_2007_to_2008\"\n",
    "# run_name = f\"{domain_name}_3_year_drought_triple_pumping_recovery\"\n",
    "# data_accessor4 = utils.get_data_accessor(domain_name, run_name)\n",
    "# run = utils.load_run(data_accessor4, outlet_yx, num_timesteps, read_interval)\n",
    "# runs[\"triple_pumping\"] = run\n",
    "\n",
    "# domain_name = \"WOLF_2007_to_2008\"\n",
    "# run_name = f\"{domain_name}_3_year_drought_triple_pumping_recovery\"\n",
    "# data_accessor4 = utils.get_data_accessor(domain_name, run_name)\n",
    "# run = utils.load_run(data_accessor4, outlet_yx, num_timesteps, read_interval)\n",
    "# runs[\"triple_pumping\"] = run\n",
    "\n",
    "# run_name = f\"{domain_name}_with_pumping_1_inch_per_week_constant\"\n",
    "# data_accessor = utils.get_data_accessor(domain_name, run_name)\n",
    "# run = utils.load_run(data_accessor, outlet_yx, num_timesteps, read_interval)\n",
    "# runs[\"static_pumping\"] = run\n",
    "\n",
    "\n",
    "\n",
    "\n",
    "\n",
    "\n",
    "\n",
    "# data_accessor2 = get_data_accessor(\"_with_reservoir\")\n",
    "# baseline_run = utils.load_run(data_accessor2, num_timesteps, read_interval)\n"
   ]
  },
  {
   "cell_type": "code",
   "execution_count": 3,
   "id": "02b5da13",
   "metadata": {},
   "outputs": [
    {
     "name": "stderr",
     "output_type": "stream",
     "text": [
      "/tmp/ipykernel_74677/2722823060.py:7: FutureWarning: Downcasting behavior in `replace` is deprecated and will be removed in a future version. To retain the old behavior, explicitly call `result.infer_objects(copy=False)`. To opt-in to the future behavior, set `pd.set_option('future.no_silent_downcasting', True)`\n",
      "  run[\"percent_change_in_flow\"]  = run[\"percent_change_in_flow\"].replace([np.inf, -np.inf, np.nan], 0)\n",
      "/tmp/ipykernel_74677/2722823060.py:7: FutureWarning: Downcasting behavior in `replace` is deprecated and will be removed in a future version. To retain the old behavior, explicitly call `result.infer_objects(copy=False)`. To opt-in to the future behavior, set `pd.set_option('future.no_silent_downcasting', True)`\n",
      "  run[\"percent_change_in_flow\"]  = run[\"percent_change_in_flow\"].replace([np.inf, -np.inf, np.nan], 0)\n",
      "/tmp/ipykernel_74677/2722823060.py:7: FutureWarning: Downcasting behavior in `replace` is deprecated and will be removed in a future version. To retain the old behavior, explicitly call `result.infer_objects(copy=False)`. To opt-in to the future behavior, set `pd.set_option('future.no_silent_downcasting', True)`\n",
      "  run[\"percent_change_in_flow\"]  = run[\"percent_change_in_flow\"].replace([np.inf, -np.inf, np.nan], 0)\n"
     ]
    }
   ],
   "source": [
    "for run in runs.values():\n",
    "    run[\"additional_water_required_to_recover\"] = runs[\"baseline\"][\"total_storage\"] - run[\"total_storage\"]\n",
    "    run[\"storage_delta_from_baseline\"] = -run[\"additional_water_required_to_recover\"]\n",
    "\n",
    "    run[\"flow_reduction\"] = run[\"outlet_flow\"] - runs[\"baseline\"][\"outlet_flow\"]\n",
    "    run[\"percent_change_in_flow\"] = (run[\"outlet_flow\"] - runs[\"baseline\"][\"outlet_flow\"]) / runs[\"baseline\"][\"outlet_flow\"] * 100\n",
    "    run[\"percent_change_in_flow\"]  = run[\"percent_change_in_flow\"].replace([np.inf, -np.inf, np.nan], 0)"
   ]
  },
  {
   "cell_type": "code",
   "execution_count": 4,
   "id": "9c16b08b",
   "metadata": {},
   "outputs": [
    {
     "data": {
      "application/vnd.plotly.v1+json": {
       "config": {
        "plotlyServerURL": "https://plot.ly"
       },
       "data": [
        {
         "hovertemplate": "Run=baseline<br>time=%{x}<br>storage_delta_from_baseline=%{y}<extra></extra>",
         "legendgroup": "baseline",
         "line": {
          "color": "#1F77B4",
          "dash": "solid"
         },
         "marker": {
          "symbol": "circle"
         },
         "mode": "lines",
         "name": "baseline",
         "opacity": 0.4,
         "orientation": "v",
         "showlegend": true,
         "type": "scatter",
         "x": {
          "bdata": "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",
          "dtype": "f8"
         },
         "xaxis": "x",
         "y": {
          "bdata": "AAAAAAAAAIAAAAAAAAAAgAAAAAAAAACAAAAAAAAAAIAAAAAAAAAAgAAAAAAAAACAAAAAAAAAAIAAAAAAAAAAgAAAAAAAAACAAAAAAAAAAIAAAAAAAAAAgAAAAAAAAACAAAAAAAAAAIAAAAAAAAAAgAAAAAAAAACAAAAAAAAAAIAAAAAAAAAAgAAAAAAAAACAAAAAAAAAAIAAAAAAAAAAgAAAAAAAAACAAAAAAAAAAIAAAAAAAAAAgAAAAAAAAACAAAAAAAAAAIAAAAAAAAAAgAAAAAAAAACAAAAAAAAAAIAAAAAAAAAAgAAAAAAAAACAAAAAAAAAAIAAAAAAAAAAgAAAAAAAAACAAAAAAAAAAIAAAAAAAAAAgAAAAAAAAACAAAAAAAAAAIAAAAAAAAAAgAAAAAAAAACAAAAAAAAAAIAAAAAAAAAAgAAAAAAAAACAAAAAAAAAAIAAAAAAAAAAgAAAAAAAAACAAAAAAAAAAIAAAAAAAAAAgAAAAAAAAACAAAAAAAAAAIAAAAAAAAAAgAAAAAAAAACAAAAAAAAAAIAAAAAAAAAAgAAAAAAAAACAAAAAAAAAAIAAAAAAAAAAgAAAAAAAAACAAAAAAAAAAIAAAAAAAAAAgAAAAAAAAACAAAAAAAAAAIAAAAAAAAAAgAAAAAAAAACAAAAAAAAAAIAAAAAAAAAAgAAAAAAAAACAAAAAAAAAAIAAAAAAAAAAgAAAAAAAAACAAAAAAAAAAIAAAAAAAAAAgAAAAAAAAACAAAAAAAAAAIAAAAAAAAAAgAAAAAAAAACAAAAAAAAAAIAAAAAAAAAAgAAAAAAAAACAAAAAAAAAAIAAAAAAAAAAgAAAAAAAAACAAAAAAAAAAIAAAAAAAAAAgAAAAAAAAACAAAAAAAAAAIAAAAAAAAAAgAAAAAAAAACAAAAAAAAAAIAAAAAAAAAAgAAAAAAAAACAAAAAAAAAAIAAAAAAAAAAgAAAAAAAAACAAAAAAAAAAIAAAAAAAAAAgAAAAAAAAACAAAAAAAAAAIAAAAAAAAAAgAAAAAAAAACAAAAAAAAAAIAAAAAAAAAAgAAAAAAAAACAAAAAAAAAAIAAAAAAAAAAgAAAAAAAAACAAAAAAAAAAIAAAAAAAAAAgAAAAAAAAACAAAAAAAAAAIAAAAAAAAAAgAAAAAAAAACAAAAAAAAAAIAAAAAAAAAAgAAAAAAAAACAAAAAAAAAAIAAAAAAAAAAgAAAAAAAAACAAAAAAAAAAIAAAAAAAAAAgAAAAAAAAACAAAAAAAAAAIAAAAAAAAAAgAAAAAAAAACAAAAAAAAAAIAAAAAAAAAAgAAAAAAAAACAAAAAAAAAAIAAAAAAAAAAgAAAAAAAAACAAAAAAAAAAIAAAAAAAAAAgAAAAAAAAACAAAAAAAAAAIAAAAAAAAAAgAAAAAAAAACAAAAAAAAAAIAAAAAAAAAAgAAAAAAAAACAAAAAAAAAAIAAAAAAAAAAgAAAAAAAAACAAAAAAAAAAIAAAAAAAAAAgAAAAAAAAACAAAAAAAAAAIAAAAAAAAAAgAAAAAAAAACAAAAAAAAAAIAAAAAAAAAAgAAAAAAAAACAAAAAAAAAAIAAAAAAAAAAgAAAAAAAAACAAAAAAAAAAIAAAAAAAAAAgAAAAAAAAACAAAAAAAAAAIAAAAAAAAAAgAAAAAAAAACAAAAAAAAAAIAAAAAAAAAAgAAAAAAAAACAAAAAAAAAAIAAAAAAAAAAgAAAAAAAAACAAAAAAAAAAIAAAAAAAAAAgAAAAAAAAACAAAAAAAAAAIAAAAAAAAAAgAAAAAAAAACAAAAAAAAAAIAAAAAAAAAAgAAAAAAAAACAAAAAAAAAAIAAAAAAAAAAgAAAAAAAAACAAAAAAAAAAIAAAAAAAAAAgAAAAAAAAACAAAAAAAAAAIAAAAAAAAAAgAAAAAAAAACAAAAAAAAAAIAAAAAAAAAAgAAAAAAAAACAAAAAAAAAAIAAAAAAAAAAgAAAAAAAAACAAAAAAAAAAIAAAAAAAAAAgAAAAAAAAACAAAAAAAAAAIAAAAAAAAAAgAAAAAAAAACAAAAAAAAAAIAAAAAAAAAAgAAAAAAAAACAAAAAAAAAAIAAAAAAAAAAgAAAAAAAAACAAAAAAAAAAIAAAAAAAAAAgAAAAAAAAACAAAAAAAAAAIAAAAAAAAAAgAAAAAAAAACAAAAAAAAAAIAAAAAAAAAAgAAAAAAAAACAAAAAAAAAAIAAAAAAAAAAgAAAAAAAAACAAAAAAAAAAIAAAAAAAAAAgAAAAAAAAACAAAAAAAAAAIAAAAAAAAAAgAAAAAAAAACA",
          "dtype": "f8"
         },
         "yaxis": "y"
        },
        {
         "hovertemplate": "Run=pumping<br>time=%{x}<br>storage_delta_from_baseline=%{y}<extra></extra>",
         "legendgroup": "pumping",
         "line": {
          "color": "#FF7F0E",
          "dash": "solid"
         },
         "marker": {
          "symbol": "circle"
         },
         "mode": "lines",
         "name": "pumping",
         "opacity": 0.4,
         "orientation": "v",
         "showlegend": true,
         "type": "scatter",
         "x": {
          "bdata": "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",
          "dtype": "f8"
         },
         "xaxis": "x",
         "y": {
          "bdata": "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",
          "dtype": "f8"
         },
         "yaxis": "y"
        },
        {
         "hovertemplate": "Run=double_pumping<br>time=%{x}<br>storage_delta_from_baseline=%{y}<extra></extra>",
         "legendgroup": "double_pumping",
         "line": {
          "color": "#2CA02C",
          "dash": "solid"
         },
         "marker": {
          "symbol": "circle"
         },
         "mode": "lines",
         "name": "double_pumping",
         "opacity": 0.4,
         "orientation": "v",
         "showlegend": true,
         "type": "scatter",
         "x": {
          "bdata": "AAAAAAAAAADN3gFI1OwdP83eAUjU7C0/GmcBNp9xNj/N3gFI1Ow9P0ArAa0EtEI/GmcBNp9xRj/0ogG/OS9KP83eAUjU7E0/Uw2BaDfVUD9AKwGtBLRSPy1JgfHRklQ/GmcBNp9xVj8HhYF6bFBYP/SiAb85L1o/4MCBAwcOXD/N3gFI1OxdP7r8gYyhy18/Uw2BaDfVYD9KHMEKnsRhP0ArAa0EtGI/NzpBT2ujYz8tSYHx0ZJkPyRYwZM4gmU/GmcBNp9xZj8QdkHYBWFnPweFgXpsUGg//ZPBHNM/aT/0ogG/OS9qP+qxQWGgHms/4MCBAwcObD/Xz8Glbf1sP83eAUjU7G0/xO1B6jrcbj+6/IGMoctvP9gFYReEXXA/Uw2BaDfVcD/PFKG56kxxP0ocwQqexHE/xSPhW1E8cj9AKwGtBLRyP7syIf63K3M/NzpBT2ujcz+yQWGgHht0Py1JgfHRknQ/qFChQoUKdT8kWMGTOIJ1P59f4eTr+XU/GmcBNp9xdj+VbiGHUul2PxB2QdgFYXc/jH1hKbnYdz8HhYF6bFB4P4KMocsfyHg//ZPBHNM/eT94m+Fthrd5P/SiAb85L3o/b6ohEO2mej/qsUFhoB57P2W5YbJTlns/4MCBAwcOfD9cyKFUuoV8P9fPwaVt/Xw/Utfh9iB1fT/N3gFI1Ox9P0jmIZmHZH4/xO1B6jrcfj8/9WE77lN/P7r8gYyhy38/GwLRbqohgD/YBWEXhF2AP5YJ8b9dmYA/Uw2BaDfVgD8RERERERGBP88UobnqTIE/jBgxYsSIgT9KHMEKnsSBPwcgUbN3AII/xSPhW1E8gj+DJ3EEK3iCP0ArAa0EtII//i6RVd7vgj+7MiH+tyuDP3k2saaRZ4M/NzpBT2ujgz/0PdH3RN+DP7JBYaAeG4Q/cEXxSPhWhD8tSYHx0ZKEP+tMEZqrzoQ/qFChQoUKhT9mVDHrXkaFPyRYwZM4goU/4VtRPBK+hT+fX+Hk6/mFP1xjcY3FNYY/GmcBNp9xhj/YapHeeK2GP5VuIYdS6YY/U3KxLywlhz8QdkHYBWGHP8550YDfnIc/jH1hKbnYhz9JgfHRkhSIPweFgXpsUIg/xIgRI0aMiD+CjKHLH8iIP0CQMXT5A4k//ZPBHNM/iT+7l1HFrHuJP3ib4W2Gt4k/Np9xFmDziT/0ogG/OS+KP7GmkWcTa4o/b6ohEO2mij8srrG4xuKKP+qxQWGgHos/qLXRCXpaiz9luWGyU5aLPyO98Vot0os/4MCBAwcOjD+exBGs4EmMP1zIoVS6hYw/Gcwx/ZPBjD/Xz8Glbf2MP5TTUU5HOY0/Utfh9iB1jT8Q23Gf+rCNP83eAUjU7I0/i+KR8K0ojj9I5iGZh2SOPwbqsUFhoI4/xO1B6jrcjj+B8dGSFBiPPz/1YTvuU48//Pjx48ePjz+6/IGMocuPPzwAiZq9A5A/GwLRbqohkD/5AxlDlz+QP9gFYReEXZA/twep63B7kD+WCfG/XZmQP3ULOZRKt5A/Uw2BaDfVkD8yD8k8JPOQPxEREREREZE/8BJZ5f0ukT/PFKG56kyRP60W6Y3XapE/jBgxYsSIkT9rGnk2saaRP0ocwQqexJE/KR4J34rikT8HIFGzdwCSP+YhmYdkHpI/xSPhW1E8kj+kJSkwPlqSP4MncQQreJI/YSm52BeWkj9AKwGtBLSSPx8tSYHx0ZI//i6RVd7vkj/dMNkpyw2TP7syIf63K5M/mjRp0qRJkz95NrGmkWeTP1g4+Xp+hZM/NzpBT2ujkz8WPIkjWMGTP/Q90fdE35M/0z8ZzDH9kz+yQWGgHhuUP5FDqXQLOZQ/cEXxSPhWlD9ORzkd5XSUPy1JgfHRkpQ/DEvJxb6wlD/rTBGaq86UP8pOWW6Y7JQ/qFChQoUKlT+HUukWciiVP2ZUMeteRpU/RVZ5v0tklT8kWMGTOIKVPwJaCWgloJU/4VtRPBK+lT/AXZkQ/9uVP59f4eTr+ZU/fmEpudgXlj9cY3GNxTWWPztluWGyU5Y/GmcBNp9xlj/5aEkKjI+WP9hqkd54rZY/tmzZsmXLlj+VbiGHUumWP3RwaVs/B5c/U3KxLywllz8ydPkDGUOXPxB2QdgFYZc/73eJrPJ+lz/OedGA35yXP617GVXMupc/jH1hKbnYlz9qf6n9pfaXP0mB8dGSFJg/KIM5pn8ymD8HhYF6bFCYP+aGyU5Zbpg/xIgRI0aMmD+jiln3MqqYP4KMocsfyJg/YY7pnwzmmD9AkDF0+QOZPx6SeUjmIZk//ZPBHNM/mT/clQnxv12ZP7uXUcWse5k/",
          "dtype": "f8"
         },
         "xaxis": "x",
         "y": {
          "bdata": "83WZzjBsg8D58+3CJGiDwK8JqaUtZIPAOQzmSuJfg8CILxMoY1uDwJP/CZagVoPAPpN9Vb9Rg8DdJAZWzUyDwOFgb0vHR4PA9n24v7NCg8B1ICsViz2DwDrLrPpPOIPAliCjhf8yg8DF/53wqC2DwFmFTfhGKIPA9g2M/9Qig8AfSx+8RB2DwELpC2ayF4PAFyr/0x0Sg8CfV3x+pgyDwIQroKkvB4PANLtu3IEBg8D8/aL7FvyCwOmdilyh9oLAYeN6lTXxgsDtDxSmnOuCwKT7+QMp5oLAmYFKcLjggsB7Mj9qSNuCwBxFVp3U1YLAN/pYr2TQgsCGk/Tf88qCwD8ZI5OCxYLAYeC5sxfAgsDR5jjWprqCwBLADdMytYLAqoIR+rSvgsBkc9U4O6qCwMLc7rXNpILAmu+gZlmfgsAOFk6M65mCwHWPLKB8lILAtp32ggWPgsDN6IejmImCwEERC6AwhILA+BisGdF+gsB1rX2Jd3mCwFBTi4YXdILAXfiBRaxugsAX74cqT2mCwKchKtDsY4LAjgIES39egsBsXD9IEVmCwCmWG5OoU4LAUyXKDjpOgsDajT4DwkiCwIdSuytDQ4LAKjZmWb89gsBaZpE5PDiCwPLsMpSzMoLAdCWC1iItgsAab6sWjieCwBO3ypz2IYLAcFxGSmAcgsBanzJ9yBaCwHR6XmYuEYLAUTCjRZcLgsDay7bvAwaCwKiqkBh1AILA4BCqz+T6gcBeEbzAWvWBwKXzoVXT74HA/696sU/qgcA/OQrOzOSBwGlVS3xL34HANXvgYc/ZgcAe/ITQU9SBwIEHhuzazoHAW7NVIVTJgcC4lHM488OBwIKOVq+rvoHAeH2mpGi5gcBFm2NBMLSBwHB57Gz6roHA8BheqdCpgcD5LiVhv6SBwLMG75G9n4HAl8fays2agcCuZfLq25WBwHwoEcH7kIHAa9NYmCiMgcAxQrjua4eBwE9b4/DMgoHAd0tyzTN+gcDNsTySoHmBwE7vIjIjdYHAZwodWK5wgcBiSbn8SmyBwFq77QzuZ4HAgLvsep5jgcAZOjb/VF+BwPJhtl8XW4HAwD2P/eFWgcAbg04st1KBwI8cKduOToHAelR8Y29KgcCUhMTgWEaBwP334DFHQoHAU68biDw+gcDQYNNKMDqBwKio+pAtNoHAbts3lToygcAMVwcJRy6BwMb9B69cKoHALzMsnnEmgcATZS9+gSKBwBFRTCqhHoHAjEgUzcUagcBiZTTV8haBwISdYispE4HAFOz/qlkPgcDO3wS4fguBwGPSX7OzB4HAsp2vQeYDgcDn/b+/DQCBwLUzDFk0/IDAXp4OU2H4gMDRCHZAivSAwLN78iCu8IDAm3UG8szsgMDDtsV55OiAwKj91o775IDA9bkakA/hgMBaS0GBIN2AwMeefRww2YDAbOlRHDrVgMDb221uQ9GAwF7acBNMzYDAD5nyu1LJgMDZdtroXMWAwM7iRXNpwYDAW2DPdXm9gMB8urrViLmAwNv96ladtYDA98e7ILGxgMBUrYXrxq2AwFTgJErdqYDAcCg8HfKlgMBzuqzxB6KAwNZwkbcanoDArOXOaiuagMC0V59mLJaAwPbRqSJOkoDAbQO33oKOgMB2xKG+t4qAwIttEh/yhoDA3ugjSCqDgMBwQww3an+AwNP5cLa8e4DAeqrDyBh4gMDRdPbygnSAwKwfW+jmcIDAXJMuAFdtgMBPWyOT0GmAwDuK83NeZoDAgLXqoQdjgMBaRqo7s1+AwGjpCj5jXIDA0h1ExiRZgMBUAffS6VWAwDGXlFu8UoDAj6Z6AJFPgMD8G7TgbkyAwCulJ3RPSYDAPBQFxzhGgMAs72otJ0OAwPc8vzkcQIDAkPlA5hE9gMC4IvHeCzqAwOOINeAKN4DA2ZgXBg40gMAjTfzNFjGAwNLD0M4bLoDAsYq3JScrgMCR7xL0PiiAwLJi+AZUJYDADRjkwG8igMCZnrCuiB+AwDVf5RqYHIDAqFQJyLEZgMCRmcvlzRaAwCcR4U/xE4DAAMrfyRwRgMD8Ac+cQQ6AwHTOTypYC4DAnMM1y3oIgMCA7summAWAwP66k2epAoDAxLKZV23/f8AfFBQnkPl/wDYCcbul83/AUWqvbqvtf8AQBEhsoOd/wMIVUMeD4X/ApaQHfGLbf8DNI383NtV/wEAXDWr8zn/AGqY2ybjIf8ArFVQGasJ/wCy5CogVvH/ANGWnu7W1f8DSG24+S69/wK1o8yHkqH/AwhVQSnyif8C4INsdGZx/wK+ZfHetlX/AU9Dti0KPf8BPkxlwz4h/wEgXm0Zdgn/A",
          "dtype": "f8"
         },
         "yaxis": "y"
        }
       ],
       "layout": {
        "height": 700,
        "legend": {
         "orientation": "h",
         "title": {
          "text": "Run"
         },
         "tracegroupgap": 0,
         "x": 1,
         "xanchor": "right",
         "y": 0.96,
         "yanchor": "bottom"
        },
        "showlegend": true,
        "template": {
         "data": {
          "bar": [
           {
            "error_x": {
             "color": "rgb(36,36,36)"
            },
            "error_y": {
             "color": "rgb(36,36,36)"
            },
            "marker": {
             "line": {
              "color": "white",
              "width": 0.5
             },
             "pattern": {
              "fillmode": "overlay",
              "size": 10,
              "solidity": 0.2
             }
            },
            "type": "bar"
           }
          ],
          "barpolar": [
           {
            "marker": {
             "line": {
              "color": "white",
              "width": 0.5
             },
             "pattern": {
              "fillmode": "overlay",
              "size": 10,
              "solidity": 0.2
             }
            },
            "type": "barpolar"
           }
          ],
          "carpet": [
           {
            "aaxis": {
             "endlinecolor": "rgb(36,36,36)",
             "gridcolor": "white",
             "linecolor": "white",
             "minorgridcolor": "white",
             "startlinecolor": "rgb(36,36,36)"
            },
            "baxis": {
             "endlinecolor": "rgb(36,36,36)",
             "gridcolor": "white",
             "linecolor": "white",
             "minorgridcolor": "white",
             "startlinecolor": "rgb(36,36,36)"
            },
            "type": "carpet"
           }
          ],
          "choropleth": [
           {
            "colorbar": {
             "outlinewidth": 1,
             "tickcolor": "rgb(36,36,36)",
             "ticks": "outside"
            },
            "type": "choropleth"
           }
          ],
          "contour": [
           {
            "colorbar": {
             "outlinewidth": 1,
             "tickcolor": "rgb(36,36,36)",
             "ticks": "outside"
            },
            "colorscale": [
             [
              0,
              "#440154"
             ],
             [
              0.1111111111111111,
              "#482878"
             ],
             [
              0.2222222222222222,
              "#3e4989"
             ],
             [
              0.3333333333333333,
              "#31688e"
             ],
             [
              0.4444444444444444,
              "#26828e"
             ],
             [
              0.5555555555555556,
              "#1f9e89"
             ],
             [
              0.6666666666666666,
              "#35b779"
             ],
             [
              0.7777777777777778,
              "#6ece58"
             ],
             [
              0.8888888888888888,
              "#b5de2b"
             ],
             [
              1,
              "#fde725"
             ]
            ],
            "type": "contour"
           }
          ],
          "contourcarpet": [
           {
            "colorbar": {
             "outlinewidth": 1,
             "tickcolor": "rgb(36,36,36)",
             "ticks": "outside"
            },
            "type": "contourcarpet"
           }
          ],
          "heatmap": [
           {
            "colorbar": {
             "outlinewidth": 1,
             "tickcolor": "rgb(36,36,36)",
             "ticks": "outside"
            },
            "colorscale": [
             [
              0,
              "#440154"
             ],
             [
              0.1111111111111111,
              "#482878"
             ],
             [
              0.2222222222222222,
              "#3e4989"
             ],
             [
              0.3333333333333333,
              "#31688e"
             ],
             [
              0.4444444444444444,
              "#26828e"
             ],
             [
              0.5555555555555556,
              "#1f9e89"
             ],
             [
              0.6666666666666666,
              "#35b779"
             ],
             [
              0.7777777777777778,
              "#6ece58"
             ],
             [
              0.8888888888888888,
              "#b5de2b"
             ],
             [
              1,
              "#fde725"
             ]
            ],
            "type": "heatmap"
           }
          ],
          "histogram": [
           {
            "marker": {
             "line": {
              "color": "white",
              "width": 0.6
             }
            },
            "type": "histogram"
           }
          ],
          "histogram2d": [
           {
            "colorbar": {
             "outlinewidth": 1,
             "tickcolor": "rgb(36,36,36)",
             "ticks": "outside"
            },
            "colorscale": [
             [
              0,
              "#440154"
             ],
             [
              0.1111111111111111,
              "#482878"
             ],
             [
              0.2222222222222222,
              "#3e4989"
             ],
             [
              0.3333333333333333,
              "#31688e"
             ],
             [
              0.4444444444444444,
              "#26828e"
             ],
             [
              0.5555555555555556,
              "#1f9e89"
             ],
             [
              0.6666666666666666,
              "#35b779"
             ],
             [
              0.7777777777777778,
              "#6ece58"
             ],
             [
              0.8888888888888888,
              "#b5de2b"
             ],
             [
              1,
              "#fde725"
             ]
            ],
            "type": "histogram2d"
           }
          ],
          "histogram2dcontour": [
           {
            "colorbar": {
             "outlinewidth": 1,
             "tickcolor": "rgb(36,36,36)",
             "ticks": "outside"
            },
            "colorscale": [
             [
              0,
              "#440154"
             ],
             [
              0.1111111111111111,
              "#482878"
             ],
             [
              0.2222222222222222,
              "#3e4989"
             ],
             [
              0.3333333333333333,
              "#31688e"
             ],
             [
              0.4444444444444444,
              "#26828e"
             ],
             [
              0.5555555555555556,
              "#1f9e89"
             ],
             [
              0.6666666666666666,
              "#35b779"
             ],
             [
              0.7777777777777778,
              "#6ece58"
             ],
             [
              0.8888888888888888,
              "#b5de2b"
             ],
             [
              1,
              "#fde725"
             ]
            ],
            "type": "histogram2dcontour"
           }
          ],
          "mesh3d": [
           {
            "colorbar": {
             "outlinewidth": 1,
             "tickcolor": "rgb(36,36,36)",
             "ticks": "outside"
            },
            "type": "mesh3d"
           }
          ],
          "parcoords": [
           {
            "line": {
             "colorbar": {
              "outlinewidth": 1,
              "tickcolor": "rgb(36,36,36)",
              "ticks": "outside"
             }
            },
            "type": "parcoords"
           }
          ],
          "pie": [
           {
            "automargin": true,
            "type": "pie"
           }
          ],
          "scatter": [
           {
            "fillpattern": {
             "fillmode": "overlay",
             "size": 10,
             "solidity": 0.2
            },
            "type": "scatter"
           }
          ],
          "scatter3d": [
           {
            "line": {
             "colorbar": {
              "outlinewidth": 1,
              "tickcolor": "rgb(36,36,36)",
              "ticks": "outside"
             }
            },
            "marker": {
             "colorbar": {
              "outlinewidth": 1,
              "tickcolor": "rgb(36,36,36)",
              "ticks": "outside"
             }
            },
            "type": "scatter3d"
           }
          ],
          "scattercarpet": [
           {
            "marker": {
             "colorbar": {
              "outlinewidth": 1,
              "tickcolor": "rgb(36,36,36)",
              "ticks": "outside"
             }
            },
            "type": "scattercarpet"
           }
          ],
          "scattergeo": [
           {
            "marker": {
             "colorbar": {
              "outlinewidth": 1,
              "tickcolor": "rgb(36,36,36)",
              "ticks": "outside"
             }
            },
            "type": "scattergeo"
           }
          ],
          "scattergl": [
           {
            "marker": {
             "colorbar": {
              "outlinewidth": 1,
              "tickcolor": "rgb(36,36,36)",
              "ticks": "outside"
             }
            },
            "type": "scattergl"
           }
          ],
          "scattermap": [
           {
            "marker": {
             "colorbar": {
              "outlinewidth": 1,
              "tickcolor": "rgb(36,36,36)",
              "ticks": "outside"
             }
            },
            "type": "scattermap"
           }
          ],
          "scattermapbox": [
           {
            "marker": {
             "colorbar": {
              "outlinewidth": 1,
              "tickcolor": "rgb(36,36,36)",
              "ticks": "outside"
             }
            },
            "type": "scattermapbox"
           }
          ],
          "scatterpolar": [
           {
            "marker": {
             "colorbar": {
              "outlinewidth": 1,
              "tickcolor": "rgb(36,36,36)",
              "ticks": "outside"
             }
            },
            "type": "scatterpolar"
           }
          ],
          "scatterpolargl": [
           {
            "marker": {
             "colorbar": {
              "outlinewidth": 1,
              "tickcolor": "rgb(36,36,36)",
              "ticks": "outside"
             }
            },
            "type": "scatterpolargl"
           }
          ],
          "scatterternary": [
           {
            "marker": {
             "colorbar": {
              "outlinewidth": 1,
              "tickcolor": "rgb(36,36,36)",
              "ticks": "outside"
             }
            },
            "type": "scatterternary"
           }
          ],
          "surface": [
           {
            "colorbar": {
             "outlinewidth": 1,
             "tickcolor": "rgb(36,36,36)",
             "ticks": "outside"
            },
            "colorscale": [
             [
              0,
              "#440154"
             ],
             [
              0.1111111111111111,
              "#482878"
             ],
             [
              0.2222222222222222,
              "#3e4989"
             ],
             [
              0.3333333333333333,
              "#31688e"
             ],
             [
              0.4444444444444444,
              "#26828e"
             ],
             [
              0.5555555555555556,
              "#1f9e89"
             ],
             [
              0.6666666666666666,
              "#35b779"
             ],
             [
              0.7777777777777778,
              "#6ece58"
             ],
             [
              0.8888888888888888,
              "#b5de2b"
             ],
             [
              1,
              "#fde725"
             ]
            ],
            "type": "surface"
           }
          ],
          "table": [
           {
            "cells": {
             "fill": {
              "color": "rgb(237,237,237)"
             },
             "line": {
              "color": "white"
             }
            },
            "header": {
             "fill": {
              "color": "rgb(217,217,217)"
             },
             "line": {
              "color": "white"
             }
            },
            "type": "table"
           }
          ]
         },
         "layout": {
          "annotationdefaults": {
           "arrowhead": 0,
           "arrowwidth": 1
          },
          "autotypenumbers": "strict",
          "coloraxis": {
           "colorbar": {
            "outlinewidth": 1,
            "tickcolor": "rgb(36,36,36)",
            "ticks": "outside"
           }
          },
          "colorscale": {
           "diverging": [
            [
             0,
             "rgb(103,0,31)"
            ],
            [
             0.1,
             "rgb(178,24,43)"
            ],
            [
             0.2,
             "rgb(214,96,77)"
            ],
            [
             0.3,
             "rgb(244,165,130)"
            ],
            [
             0.4,
             "rgb(253,219,199)"
            ],
            [
             0.5,
             "rgb(247,247,247)"
            ],
            [
             0.6,
             "rgb(209,229,240)"
            ],
            [
             0.7,
             "rgb(146,197,222)"
            ],
            [
             0.8,
             "rgb(67,147,195)"
            ],
            [
             0.9,
             "rgb(33,102,172)"
            ],
            [
             1,
             "rgb(5,48,97)"
            ]
           ],
           "sequential": [
            [
             0,
             "#440154"
            ],
            [
             0.1111111111111111,
             "#482878"
            ],
            [
             0.2222222222222222,
             "#3e4989"
            ],
            [
             0.3333333333333333,
             "#31688e"
            ],
            [
             0.4444444444444444,
             "#26828e"
            ],
            [
             0.5555555555555556,
             "#1f9e89"
            ],
            [
             0.6666666666666666,
             "#35b779"
            ],
            [
             0.7777777777777778,
             "#6ece58"
            ],
            [
             0.8888888888888888,
             "#b5de2b"
            ],
            [
             1,
             "#fde725"
            ]
           ],
           "sequentialminus": [
            [
             0,
             "#440154"
            ],
            [
             0.1111111111111111,
             "#482878"
            ],
            [
             0.2222222222222222,
             "#3e4989"
            ],
            [
             0.3333333333333333,
             "#31688e"
            ],
            [
             0.4444444444444444,
             "#26828e"
            ],
            [
             0.5555555555555556,
             "#1f9e89"
            ],
            [
             0.6666666666666666,
             "#35b779"
            ],
            [
             0.7777777777777778,
             "#6ece58"
            ],
            [
             0.8888888888888888,
             "#b5de2b"
            ],
            [
             1,
             "#fde725"
            ]
           ]
          },
          "colorway": [
           "#1F77B4",
           "#FF7F0E",
           "#2CA02C",
           "#D62728",
           "#9467BD",
           "#8C564B",
           "#E377C2",
           "#7F7F7F",
           "#BCBD22",
           "#17BECF"
          ],
          "font": {
           "color": "rgb(36,36,36)"
          },
          "geo": {
           "bgcolor": "white",
           "lakecolor": "white",
           "landcolor": "white",
           "showlakes": true,
           "showland": true,
           "subunitcolor": "white"
          },
          "hoverlabel": {
           "align": "left"
          },
          "hovermode": "closest",
          "mapbox": {
           "style": "light"
          },
          "paper_bgcolor": "white",
          "plot_bgcolor": "white",
          "polar": {
           "angularaxis": {
            "gridcolor": "rgb(232,232,232)",
            "linecolor": "rgb(36,36,36)",
            "showgrid": false,
            "showline": true,
            "ticks": "outside"
           },
           "bgcolor": "white",
           "radialaxis": {
            "gridcolor": "rgb(232,232,232)",
            "linecolor": "rgb(36,36,36)",
            "showgrid": false,
            "showline": true,
            "ticks": "outside"
           }
          },
          "scene": {
           "xaxis": {
            "backgroundcolor": "white",
            "gridcolor": "rgb(232,232,232)",
            "gridwidth": 2,
            "linecolor": "rgb(36,36,36)",
            "showbackground": true,
            "showgrid": false,
            "showline": true,
            "ticks": "outside",
            "zeroline": false,
            "zerolinecolor": "rgb(36,36,36)"
           },
           "yaxis": {
            "backgroundcolor": "white",
            "gridcolor": "rgb(232,232,232)",
            "gridwidth": 2,
            "linecolor": "rgb(36,36,36)",
            "showbackground": true,
            "showgrid": false,
            "showline": true,
            "ticks": "outside",
            "zeroline": false,
            "zerolinecolor": "rgb(36,36,36)"
           },
           "zaxis": {
            "backgroundcolor": "white",
            "gridcolor": "rgb(232,232,232)",
            "gridwidth": 2,
            "linecolor": "rgb(36,36,36)",
            "showbackground": true,
            "showgrid": false,
            "showline": true,
            "ticks": "outside",
            "zeroline": false,
            "zerolinecolor": "rgb(36,36,36)"
           }
          },
          "shapedefaults": {
           "fillcolor": "black",
           "line": {
            "width": 0
           },
           "opacity": 0.3
          },
          "ternary": {
           "aaxis": {
            "gridcolor": "rgb(232,232,232)",
            "linecolor": "rgb(36,36,36)",
            "showgrid": false,
            "showline": true,
            "ticks": "outside"
           },
           "baxis": {
            "gridcolor": "rgb(232,232,232)",
            "linecolor": "rgb(36,36,36)",
            "showgrid": false,
            "showline": true,
            "ticks": "outside"
           },
           "bgcolor": "white",
           "caxis": {
            "gridcolor": "rgb(232,232,232)",
            "linecolor": "rgb(36,36,36)",
            "showgrid": false,
            "showline": true,
            "ticks": "outside"
           }
          },
          "title": {
           "x": 0.05
          },
          "xaxis": {
           "automargin": true,
           "gridcolor": "rgb(232,232,232)",
           "linecolor": "rgb(36,36,36)",
           "showgrid": false,
           "showline": true,
           "ticks": "outside",
           "title": {
            "standoff": 15
           },
           "zeroline": false,
           "zerolinecolor": "rgb(36,36,36)"
          },
          "yaxis": {
           "automargin": true,
           "gridcolor": "rgb(232,232,232)",
           "linecolor": "rgb(36,36,36)",
           "showgrid": false,
           "showline": true,
           "ticks": "outside",
           "title": {
            "standoff": 15
           },
           "zeroline": false,
           "zerolinecolor": "rgb(36,36,36)"
          }
         }
        },
        "title": {
         "text": "Storage delta from baseline"
        },
        "width": 800,
        "xaxis": {
         "anchor": "y",
         "domain": [
          0,
          1
         ],
         "title": {
          "text": "Time (years)"
         }
        },
        "yaxis": {
         "anchor": "x",
         "domain": [
          0,
          1
         ],
         "title": {
          "text": "Storage (MCM)"
         }
        }
       }
      }
     },
     "metadata": {},
     "output_type": "display_data"
    }
   ],
   "source": [
    "utils.plot_variable_for_each_run(\"storage_delta_from_baseline\", runs, title=\"Storage delta from baseline\", y_label=\"Storage (MCM)\", y_scale=1e6)"
   ]
  },
  {
   "cell_type": "code",
   "execution_count": 5,
   "id": "c698671e",
   "metadata": {},
   "outputs": [
    {
     "data": {
      "application/vnd.plotly.v1+json": {
       "config": {
        "plotlyServerURL": "https://plot.ly"
       },
       "data": [
        {
         "hovertemplate": "Run Name=%{x}<br>Amount of deficit recovered after 3 Years=%{y}<extra></extra>",
         "legendgroup": "",
         "marker": {
          "color": "#636efa",
          "symbol": "circle"
         },
         "mode": "markers",
         "name": "",
         "orientation": "v",
         "showlegend": false,
         "type": "scatter",
         "x": [
          "baseline",
          "pumping",
          "double_pumping"
         ],
         "xaxis": "x",
         "y": {
          "bdata": "AAAAAAAAAAAAkFkxok6TQQCQk+wQ/JtB",
          "dtype": "f8"
         },
         "yaxis": "y"
        }
       ],
       "layout": {
        "legend": {
         "tracegroupgap": 0
        },
        "template": {
         "data": {
          "bar": [
           {
            "error_x": {
             "color": "#2a3f5f"
            },
            "error_y": {
             "color": "#2a3f5f"
            },
            "marker": {
             "line": {
              "color": "#E5ECF6",
              "width": 0.5
             },
             "pattern": {
              "fillmode": "overlay",
              "size": 10,
              "solidity": 0.2
             }
            },
            "type": "bar"
           }
          ],
          "barpolar": [
           {
            "marker": {
             "line": {
              "color": "#E5ECF6",
              "width": 0.5
             },
             "pattern": {
              "fillmode": "overlay",
              "size": 10,
              "solidity": 0.2
             }
            },
            "type": "barpolar"
           }
          ],
          "carpet": [
           {
            "aaxis": {
             "endlinecolor": "#2a3f5f",
             "gridcolor": "white",
             "linecolor": "white",
             "minorgridcolor": "white",
             "startlinecolor": "#2a3f5f"
            },
            "baxis": {
             "endlinecolor": "#2a3f5f",
             "gridcolor": "white",
             "linecolor": "white",
             "minorgridcolor": "white",
             "startlinecolor": "#2a3f5f"
            },
            "type": "carpet"
           }
          ],
          "choropleth": [
           {
            "colorbar": {
             "outlinewidth": 0,
             "ticks": ""
            },
            "type": "choropleth"
           }
          ],
          "contour": [
           {
            "colorbar": {
             "outlinewidth": 0,
             "ticks": ""
            },
            "colorscale": [
             [
              0,
              "#0d0887"
             ],
             [
              0.1111111111111111,
              "#46039f"
             ],
             [
              0.2222222222222222,
              "#7201a8"
             ],
             [
              0.3333333333333333,
              "#9c179e"
             ],
             [
              0.4444444444444444,
              "#bd3786"
             ],
             [
              0.5555555555555556,
              "#d8576b"
             ],
             [
              0.6666666666666666,
              "#ed7953"
             ],
             [
              0.7777777777777778,
              "#fb9f3a"
             ],
             [
              0.8888888888888888,
              "#fdca26"
             ],
             [
              1,
              "#f0f921"
             ]
            ],
            "type": "contour"
           }
          ],
          "contourcarpet": [
           {
            "colorbar": {
             "outlinewidth": 0,
             "ticks": ""
            },
            "type": "contourcarpet"
           }
          ],
          "heatmap": [
           {
            "colorbar": {
             "outlinewidth": 0,
             "ticks": ""
            },
            "colorscale": [
             [
              0,
              "#0d0887"
             ],
             [
              0.1111111111111111,
              "#46039f"
             ],
             [
              0.2222222222222222,
              "#7201a8"
             ],
             [
              0.3333333333333333,
              "#9c179e"
             ],
             [
              0.4444444444444444,
              "#bd3786"
             ],
             [
              0.5555555555555556,
              "#d8576b"
             ],
             [
              0.6666666666666666,
              "#ed7953"
             ],
             [
              0.7777777777777778,
              "#fb9f3a"
             ],
             [
              0.8888888888888888,
              "#fdca26"
             ],
             [
              1,
              "#f0f921"
             ]
            ],
            "type": "heatmap"
           }
          ],
          "histogram": [
           {
            "marker": {
             "pattern": {
              "fillmode": "overlay",
              "size": 10,
              "solidity": 0.2
             }
            },
            "type": "histogram"
           }
          ],
          "histogram2d": [
           {
            "colorbar": {
             "outlinewidth": 0,
             "ticks": ""
            },
            "colorscale": [
             [
              0,
              "#0d0887"
             ],
             [
              0.1111111111111111,
              "#46039f"
             ],
             [
              0.2222222222222222,
              "#7201a8"
             ],
             [
              0.3333333333333333,
              "#9c179e"
             ],
             [
              0.4444444444444444,
              "#bd3786"
             ],
             [
              0.5555555555555556,
              "#d8576b"
             ],
             [
              0.6666666666666666,
              "#ed7953"
             ],
             [
              0.7777777777777778,
              "#fb9f3a"
             ],
             [
              0.8888888888888888,
              "#fdca26"
             ],
             [
              1,
              "#f0f921"
             ]
            ],
            "type": "histogram2d"
           }
          ],
          "histogram2dcontour": [
           {
            "colorbar": {
             "outlinewidth": 0,
             "ticks": ""
            },
            "colorscale": [
             [
              0,
              "#0d0887"
             ],
             [
              0.1111111111111111,
              "#46039f"
             ],
             [
              0.2222222222222222,
              "#7201a8"
             ],
             [
              0.3333333333333333,
              "#9c179e"
             ],
             [
              0.4444444444444444,
              "#bd3786"
             ],
             [
              0.5555555555555556,
              "#d8576b"
             ],
             [
              0.6666666666666666,
              "#ed7953"
             ],
             [
              0.7777777777777778,
              "#fb9f3a"
             ],
             [
              0.8888888888888888,
              "#fdca26"
             ],
             [
              1,
              "#f0f921"
             ]
            ],
            "type": "histogram2dcontour"
           }
          ],
          "mesh3d": [
           {
            "colorbar": {
             "outlinewidth": 0,
             "ticks": ""
            },
            "type": "mesh3d"
           }
          ],
          "parcoords": [
           {
            "line": {
             "colorbar": {
              "outlinewidth": 0,
              "ticks": ""
             }
            },
            "type": "parcoords"
           }
          ],
          "pie": [
           {
            "automargin": true,
            "type": "pie"
           }
          ],
          "scatter": [
           {
            "fillpattern": {
             "fillmode": "overlay",
             "size": 10,
             "solidity": 0.2
            },
            "type": "scatter"
           }
          ],
          "scatter3d": [
           {
            "line": {
             "colorbar": {
              "outlinewidth": 0,
              "ticks": ""
             }
            },
            "marker": {
             "colorbar": {
              "outlinewidth": 0,
              "ticks": ""
             }
            },
            "type": "scatter3d"
           }
          ],
          "scattercarpet": [
           {
            "marker": {
             "colorbar": {
              "outlinewidth": 0,
              "ticks": ""
             }
            },
            "type": "scattercarpet"
           }
          ],
          "scattergeo": [
           {
            "marker": {
             "colorbar": {
              "outlinewidth": 0,
              "ticks": ""
             }
            },
            "type": "scattergeo"
           }
          ],
          "scattergl": [
           {
            "marker": {
             "colorbar": {
              "outlinewidth": 0,
              "ticks": ""
             }
            },
            "type": "scattergl"
           }
          ],
          "scattermap": [
           {
            "marker": {
             "colorbar": {
              "outlinewidth": 0,
              "ticks": ""
             }
            },
            "type": "scattermap"
           }
          ],
          "scattermapbox": [
           {
            "marker": {
             "colorbar": {
              "outlinewidth": 0,
              "ticks": ""
             }
            },
            "type": "scattermapbox"
           }
          ],
          "scatterpolar": [
           {
            "marker": {
             "colorbar": {
              "outlinewidth": 0,
              "ticks": ""
             }
            },
            "type": "scatterpolar"
           }
          ],
          "scatterpolargl": [
           {
            "marker": {
             "colorbar": {
              "outlinewidth": 0,
              "ticks": ""
             }
            },
            "type": "scatterpolargl"
           }
          ],
          "scatterternary": [
           {
            "marker": {
             "colorbar": {
              "outlinewidth": 0,
              "ticks": ""
             }
            },
            "type": "scatterternary"
           }
          ],
          "surface": [
           {
            "colorbar": {
             "outlinewidth": 0,
             "ticks": ""
            },
            "colorscale": [
             [
              0,
              "#0d0887"
             ],
             [
              0.1111111111111111,
              "#46039f"
             ],
             [
              0.2222222222222222,
              "#7201a8"
             ],
             [
              0.3333333333333333,
              "#9c179e"
             ],
             [
              0.4444444444444444,
              "#bd3786"
             ],
             [
              0.5555555555555556,
              "#d8576b"
             ],
             [
              0.6666666666666666,
              "#ed7953"
             ],
             [
              0.7777777777777778,
              "#fb9f3a"
             ],
             [
              0.8888888888888888,
              "#fdca26"
             ],
             [
              1,
              "#f0f921"
             ]
            ],
            "type": "surface"
           }
          ],
          "table": [
           {
            "cells": {
             "fill": {
              "color": "#EBF0F8"
             },
             "line": {
              "color": "white"
             }
            },
            "header": {
             "fill": {
              "color": "#C8D4E3"
             },
             "line": {
              "color": "white"
             }
            },
            "type": "table"
           }
          ]
         },
         "layout": {
          "annotationdefaults": {
           "arrowcolor": "#2a3f5f",
           "arrowhead": 0,
           "arrowwidth": 1
          },
          "autotypenumbers": "strict",
          "coloraxis": {
           "colorbar": {
            "outlinewidth": 0,
            "ticks": ""
           }
          },
          "colorscale": {
           "diverging": [
            [
             0,
             "#8e0152"
            ],
            [
             0.1,
             "#c51b7d"
            ],
            [
             0.2,
             "#de77ae"
            ],
            [
             0.3,
             "#f1b6da"
            ],
            [
             0.4,
             "#fde0ef"
            ],
            [
             0.5,
             "#f7f7f7"
            ],
            [
             0.6,
             "#e6f5d0"
            ],
            [
             0.7,
             "#b8e186"
            ],
            [
             0.8,
             "#7fbc41"
            ],
            [
             0.9,
             "#4d9221"
            ],
            [
             1,
             "#276419"
            ]
           ],
           "sequential": [
            [
             0,
             "#0d0887"
            ],
            [
             0.1111111111111111,
             "#46039f"
            ],
            [
             0.2222222222222222,
             "#7201a8"
            ],
            [
             0.3333333333333333,
             "#9c179e"
            ],
            [
             0.4444444444444444,
             "#bd3786"
            ],
            [
             0.5555555555555556,
             "#d8576b"
            ],
            [
             0.6666666666666666,
             "#ed7953"
            ],
            [
             0.7777777777777778,
             "#fb9f3a"
            ],
            [
             0.8888888888888888,
             "#fdca26"
            ],
            [
             1,
             "#f0f921"
            ]
           ],
           "sequentialminus": [
            [
             0,
             "#0d0887"
            ],
            [
             0.1111111111111111,
             "#46039f"
            ],
            [
             0.2222222222222222,
             "#7201a8"
            ],
            [
             0.3333333333333333,
             "#9c179e"
            ],
            [
             0.4444444444444444,
             "#bd3786"
            ],
            [
             0.5555555555555556,
             "#d8576b"
            ],
            [
             0.6666666666666666,
             "#ed7953"
            ],
            [
             0.7777777777777778,
             "#fb9f3a"
            ],
            [
             0.8888888888888888,
             "#fdca26"
            ],
            [
             1,
             "#f0f921"
            ]
           ]
          },
          "colorway": [
           "#636efa",
           "#EF553B",
           "#00cc96",
           "#ab63fa",
           "#FFA15A",
           "#19d3f3",
           "#FF6692",
           "#B6E880",
           "#FF97FF",
           "#FECB52"
          ],
          "font": {
           "color": "#2a3f5f"
          },
          "geo": {
           "bgcolor": "white",
           "lakecolor": "white",
           "landcolor": "#E5ECF6",
           "showlakes": true,
           "showland": true,
           "subunitcolor": "white"
          },
          "hoverlabel": {
           "align": "left"
          },
          "hovermode": "closest",
          "mapbox": {
           "style": "light"
          },
          "paper_bgcolor": "white",
          "plot_bgcolor": "#E5ECF6",
          "polar": {
           "angularaxis": {
            "gridcolor": "white",
            "linecolor": "white",
            "ticks": ""
           },
           "bgcolor": "#E5ECF6",
           "radialaxis": {
            "gridcolor": "white",
            "linecolor": "white",
            "ticks": ""
           }
          },
          "scene": {
           "xaxis": {
            "backgroundcolor": "#E5ECF6",
            "gridcolor": "white",
            "gridwidth": 2,
            "linecolor": "white",
            "showbackground": true,
            "ticks": "",
            "zerolinecolor": "white"
           },
           "yaxis": {
            "backgroundcolor": "#E5ECF6",
            "gridcolor": "white",
            "gridwidth": 2,
            "linecolor": "white",
            "showbackground": true,
            "ticks": "",
            "zerolinecolor": "white"
           },
           "zaxis": {
            "backgroundcolor": "#E5ECF6",
            "gridcolor": "white",
            "gridwidth": 2,
            "linecolor": "white",
            "showbackground": true,
            "ticks": "",
            "zerolinecolor": "white"
           }
          },
          "shapedefaults": {
           "line": {
            "color": "#2a3f5f"
           }
          },
          "ternary": {
           "aaxis": {
            "gridcolor": "white",
            "linecolor": "white",
            "ticks": ""
           },
           "baxis": {
            "gridcolor": "white",
            "linecolor": "white",
            "ticks": ""
           },
           "bgcolor": "#E5ECF6",
           "caxis": {
            "gridcolor": "white",
            "linecolor": "white",
            "ticks": ""
           }
          },
          "title": {
           "x": 0.05
          },
          "xaxis": {
           "automargin": true,
           "gridcolor": "white",
           "linecolor": "white",
           "ticks": "",
           "title": {
            "standoff": 15
           },
           "zerolinecolor": "white",
           "zerolinewidth": 2
          },
          "yaxis": {
           "automargin": true,
           "gridcolor": "white",
           "linecolor": "white",
           "ticks": "",
           "title": {
            "standoff": 15
           },
           "zerolinecolor": "white",
           "zerolinewidth": 2
          }
         }
        },
        "title": {
         "text": "Amount of deficit recovered after 3 Years for each run"
        },
        "xaxis": {
         "anchor": "y",
         "domain": [
          0,
          1
         ],
         "title": {
          "text": "Run Name"
         }
        },
        "yaxis": {
         "anchor": "x",
         "domain": [
          0,
          1
         ],
         "title": {
          "text": "Amount of deficit recovered after 3 Years"
         }
        }
       }
      }
     },
     "metadata": {},
     "output_type": "display_data"
    }
   ],
   "source": [
    "baseline_ending_storage = runs[\"baseline\"][\"total_storage\"][218]\n",
    "run_names = list(runs.keys())\n",
    "baseline = runs[\"baseline\"]\n",
    "starting_storage_deficits = np.array([baseline[\"total_storage\"][0] - run[\"total_storage\"][0] for run in runs.values()])\n",
    "ending_storage_deficits = np.array([baseline[\"total_storage\"][218] - run[\"total_storage\"][218] for run in runs.values()])\n",
    "amount_of_deficit_recovered = starting_storage_deficits - ending_storage_deficits\n",
    "px.scatter(x=run_names, y=amount_of_deficit_recovered,\n",
    "       labels={\"x\": \"Run Name\", \"y\": \"Amount of deficit recovered after 3 Years\"},\n",
    "       title=\"Amount of deficit recovered after 3 Years for each run\",\n",
    "       # range_y=[0, 100],\n",
    "       ).show()"
   ]
  },
  {
   "cell_type": "code",
   "execution_count": 6,
   "id": "8133dfd4",
   "metadata": {},
   "outputs": [
    {
     "name": "stderr",
     "output_type": "stream",
     "text": [
      "/tmp/ipykernel_74677/3644223079.py:1: RuntimeWarning:\n",
      "\n",
      "invalid value encountered in divide\n",
      "\n"
     ]
    },
    {
     "data": {
      "application/vnd.plotly.v1+json": {
       "config": {
        "plotlyServerURL": "https://plot.ly"
       },
       "data": [
        {
         "hovertemplate": "Run Name=%{x}<br>Percent of Deficit Remaining After 3 Years=%{y}<extra></extra>",
         "legendgroup": "",
         "marker": {
          "color": "#636efa",
          "symbol": "circle"
         },
         "mode": "markers",
         "name": "",
         "orientation": "v",
         "showlegend": false,
         "type": "scatter",
         "x": [
          "baseline",
          "pumping",
          "double_pumping"
         ],
         "xaxis": "x",
         "y": {
          "bdata": "AAAAAAAA+H/Dimmm9lhTQG9yw8ZYR1RA",
          "dtype": "f8"
         },
         "yaxis": "y"
        }
       ],
       "layout": {
        "legend": {
         "tracegroupgap": 0
        },
        "template": {
         "data": {
          "bar": [
           {
            "error_x": {
             "color": "#2a3f5f"
            },
            "error_y": {
             "color": "#2a3f5f"
            },
            "marker": {
             "line": {
              "color": "#E5ECF6",
              "width": 0.5
             },
             "pattern": {
              "fillmode": "overlay",
              "size": 10,
              "solidity": 0.2
             }
            },
            "type": "bar"
           }
          ],
          "barpolar": [
           {
            "marker": {
             "line": {
              "color": "#E5ECF6",
              "width": 0.5
             },
             "pattern": {
              "fillmode": "overlay",
              "size": 10,
              "solidity": 0.2
             }
            },
            "type": "barpolar"
           }
          ],
          "carpet": [
           {
            "aaxis": {
             "endlinecolor": "#2a3f5f",
             "gridcolor": "white",
             "linecolor": "white",
             "minorgridcolor": "white",
             "startlinecolor": "#2a3f5f"
            },
            "baxis": {
             "endlinecolor": "#2a3f5f",
             "gridcolor": "white",
             "linecolor": "white",
             "minorgridcolor": "white",
             "startlinecolor": "#2a3f5f"
            },
            "type": "carpet"
           }
          ],
          "choropleth": [
           {
            "colorbar": {
             "outlinewidth": 0,
             "ticks": ""
            },
            "type": "choropleth"
           }
          ],
          "contour": [
           {
            "colorbar": {
             "outlinewidth": 0,
             "ticks": ""
            },
            "colorscale": [
             [
              0,
              "#0d0887"
             ],
             [
              0.1111111111111111,
              "#46039f"
             ],
             [
              0.2222222222222222,
              "#7201a8"
             ],
             [
              0.3333333333333333,
              "#9c179e"
             ],
             [
              0.4444444444444444,
              "#bd3786"
             ],
             [
              0.5555555555555556,
              "#d8576b"
             ],
             [
              0.6666666666666666,
              "#ed7953"
             ],
             [
              0.7777777777777778,
              "#fb9f3a"
             ],
             [
              0.8888888888888888,
              "#fdca26"
             ],
             [
              1,
              "#f0f921"
             ]
            ],
            "type": "contour"
           }
          ],
          "contourcarpet": [
           {
            "colorbar": {
             "outlinewidth": 0,
             "ticks": ""
            },
            "type": "contourcarpet"
           }
          ],
          "heatmap": [
           {
            "colorbar": {
             "outlinewidth": 0,
             "ticks": ""
            },
            "colorscale": [
             [
              0,
              "#0d0887"
             ],
             [
              0.1111111111111111,
              "#46039f"
             ],
             [
              0.2222222222222222,
              "#7201a8"
             ],
             [
              0.3333333333333333,
              "#9c179e"
             ],
             [
              0.4444444444444444,
              "#bd3786"
             ],
             [
              0.5555555555555556,
              "#d8576b"
             ],
             [
              0.6666666666666666,
              "#ed7953"
             ],
             [
              0.7777777777777778,
              "#fb9f3a"
             ],
             [
              0.8888888888888888,
              "#fdca26"
             ],
             [
              1,
              "#f0f921"
             ]
            ],
            "type": "heatmap"
           }
          ],
          "histogram": [
           {
            "marker": {
             "pattern": {
              "fillmode": "overlay",
              "size": 10,
              "solidity": 0.2
             }
            },
            "type": "histogram"
           }
          ],
          "histogram2d": [
           {
            "colorbar": {
             "outlinewidth": 0,
             "ticks": ""
            },
            "colorscale": [
             [
              0,
              "#0d0887"
             ],
             [
              0.1111111111111111,
              "#46039f"
             ],
             [
              0.2222222222222222,
              "#7201a8"
             ],
             [
              0.3333333333333333,
              "#9c179e"
             ],
             [
              0.4444444444444444,
              "#bd3786"
             ],
             [
              0.5555555555555556,
              "#d8576b"
             ],
             [
              0.6666666666666666,
              "#ed7953"
             ],
             [
              0.7777777777777778,
              "#fb9f3a"
             ],
             [
              0.8888888888888888,
              "#fdca26"
             ],
             [
              1,
              "#f0f921"
             ]
            ],
            "type": "histogram2d"
           }
          ],
          "histogram2dcontour": [
           {
            "colorbar": {
             "outlinewidth": 0,
             "ticks": ""
            },
            "colorscale": [
             [
              0,
              "#0d0887"
             ],
             [
              0.1111111111111111,
              "#46039f"
             ],
             [
              0.2222222222222222,
              "#7201a8"
             ],
             [
              0.3333333333333333,
              "#9c179e"
             ],
             [
              0.4444444444444444,
              "#bd3786"
             ],
             [
              0.5555555555555556,
              "#d8576b"
             ],
             [
              0.6666666666666666,
              "#ed7953"
             ],
             [
              0.7777777777777778,
              "#fb9f3a"
             ],
             [
              0.8888888888888888,
              "#fdca26"
             ],
             [
              1,
              "#f0f921"
             ]
            ],
            "type": "histogram2dcontour"
           }
          ],
          "mesh3d": [
           {
            "colorbar": {
             "outlinewidth": 0,
             "ticks": ""
            },
            "type": "mesh3d"
           }
          ],
          "parcoords": [
           {
            "line": {
             "colorbar": {
              "outlinewidth": 0,
              "ticks": ""
             }
            },
            "type": "parcoords"
           }
          ],
          "pie": [
           {
            "automargin": true,
            "type": "pie"
           }
          ],
          "scatter": [
           {
            "fillpattern": {
             "fillmode": "overlay",
             "size": 10,
             "solidity": 0.2
            },
            "type": "scatter"
           }
          ],
          "scatter3d": [
           {
            "line": {
             "colorbar": {
              "outlinewidth": 0,
              "ticks": ""
             }
            },
            "marker": {
             "colorbar": {
              "outlinewidth": 0,
              "ticks": ""
             }
            },
            "type": "scatter3d"
           }
          ],
          "scattercarpet": [
           {
            "marker": {
             "colorbar": {
              "outlinewidth": 0,
              "ticks": ""
             }
            },
            "type": "scattercarpet"
           }
          ],
          "scattergeo": [
           {
            "marker": {
             "colorbar": {
              "outlinewidth": 0,
              "ticks": ""
             }
            },
            "type": "scattergeo"
           }
          ],
          "scattergl": [
           {
            "marker": {
             "colorbar": {
              "outlinewidth": 0,
              "ticks": ""
             }
            },
            "type": "scattergl"
           }
          ],
          "scattermap": [
           {
            "marker": {
             "colorbar": {
              "outlinewidth": 0,
              "ticks": ""
             }
            },
            "type": "scattermap"
           }
          ],
          "scattermapbox": [
           {
            "marker": {
             "colorbar": {
              "outlinewidth": 0,
              "ticks": ""
             }
            },
            "type": "scattermapbox"
           }
          ],
          "scatterpolar": [
           {
            "marker": {
             "colorbar": {
              "outlinewidth": 0,
              "ticks": ""
             }
            },
            "type": "scatterpolar"
           }
          ],
          "scatterpolargl": [
           {
            "marker": {
             "colorbar": {
              "outlinewidth": 0,
              "ticks": ""
             }
            },
            "type": "scatterpolargl"
           }
          ],
          "scatterternary": [
           {
            "marker": {
             "colorbar": {
              "outlinewidth": 0,
              "ticks": ""
             }
            },
            "type": "scatterternary"
           }
          ],
          "surface": [
           {
            "colorbar": {
             "outlinewidth": 0,
             "ticks": ""
            },
            "colorscale": [
             [
              0,
              "#0d0887"
             ],
             [
              0.1111111111111111,
              "#46039f"
             ],
             [
              0.2222222222222222,
              "#7201a8"
             ],
             [
              0.3333333333333333,
              "#9c179e"
             ],
             [
              0.4444444444444444,
              "#bd3786"
             ],
             [
              0.5555555555555556,
              "#d8576b"
             ],
             [
              0.6666666666666666,
              "#ed7953"
             ],
             [
              0.7777777777777778,
              "#fb9f3a"
             ],
             [
              0.8888888888888888,
              "#fdca26"
             ],
             [
              1,
              "#f0f921"
             ]
            ],
            "type": "surface"
           }
          ],
          "table": [
           {
            "cells": {
             "fill": {
              "color": "#EBF0F8"
             },
             "line": {
              "color": "white"
             }
            },
            "header": {
             "fill": {
              "color": "#C8D4E3"
             },
             "line": {
              "color": "white"
             }
            },
            "type": "table"
           }
          ]
         },
         "layout": {
          "annotationdefaults": {
           "arrowcolor": "#2a3f5f",
           "arrowhead": 0,
           "arrowwidth": 1
          },
          "autotypenumbers": "strict",
          "coloraxis": {
           "colorbar": {
            "outlinewidth": 0,
            "ticks": ""
           }
          },
          "colorscale": {
           "diverging": [
            [
             0,
             "#8e0152"
            ],
            [
             0.1,
             "#c51b7d"
            ],
            [
             0.2,
             "#de77ae"
            ],
            [
             0.3,
             "#f1b6da"
            ],
            [
             0.4,
             "#fde0ef"
            ],
            [
             0.5,
             "#f7f7f7"
            ],
            [
             0.6,
             "#e6f5d0"
            ],
            [
             0.7,
             "#b8e186"
            ],
            [
             0.8,
             "#7fbc41"
            ],
            [
             0.9,
             "#4d9221"
            ],
            [
             1,
             "#276419"
            ]
           ],
           "sequential": [
            [
             0,
             "#0d0887"
            ],
            [
             0.1111111111111111,
             "#46039f"
            ],
            [
             0.2222222222222222,
             "#7201a8"
            ],
            [
             0.3333333333333333,
             "#9c179e"
            ],
            [
             0.4444444444444444,
             "#bd3786"
            ],
            [
             0.5555555555555556,
             "#d8576b"
            ],
            [
             0.6666666666666666,
             "#ed7953"
            ],
            [
             0.7777777777777778,
             "#fb9f3a"
            ],
            [
             0.8888888888888888,
             "#fdca26"
            ],
            [
             1,
             "#f0f921"
            ]
           ],
           "sequentialminus": [
            [
             0,
             "#0d0887"
            ],
            [
             0.1111111111111111,
             "#46039f"
            ],
            [
             0.2222222222222222,
             "#7201a8"
            ],
            [
             0.3333333333333333,
             "#9c179e"
            ],
            [
             0.4444444444444444,
             "#bd3786"
            ],
            [
             0.5555555555555556,
             "#d8576b"
            ],
            [
             0.6666666666666666,
             "#ed7953"
            ],
            [
             0.7777777777777778,
             "#fb9f3a"
            ],
            [
             0.8888888888888888,
             "#fdca26"
            ],
            [
             1,
             "#f0f921"
            ]
           ]
          },
          "colorway": [
           "#636efa",
           "#EF553B",
           "#00cc96",
           "#ab63fa",
           "#FFA15A",
           "#19d3f3",
           "#FF6692",
           "#B6E880",
           "#FF97FF",
           "#FECB52"
          ],
          "font": {
           "color": "#2a3f5f"
          },
          "geo": {
           "bgcolor": "white",
           "lakecolor": "white",
           "landcolor": "#E5ECF6",
           "showlakes": true,
           "showland": true,
           "subunitcolor": "white"
          },
          "hoverlabel": {
           "align": "left"
          },
          "hovermode": "closest",
          "mapbox": {
           "style": "light"
          },
          "paper_bgcolor": "white",
          "plot_bgcolor": "#E5ECF6",
          "polar": {
           "angularaxis": {
            "gridcolor": "white",
            "linecolor": "white",
            "ticks": ""
           },
           "bgcolor": "#E5ECF6",
           "radialaxis": {
            "gridcolor": "white",
            "linecolor": "white",
            "ticks": ""
           }
          },
          "scene": {
           "xaxis": {
            "backgroundcolor": "#E5ECF6",
            "gridcolor": "white",
            "gridwidth": 2,
            "linecolor": "white",
            "showbackground": true,
            "ticks": "",
            "zerolinecolor": "white"
           },
           "yaxis": {
            "backgroundcolor": "#E5ECF6",
            "gridcolor": "white",
            "gridwidth": 2,
            "linecolor": "white",
            "showbackground": true,
            "ticks": "",
            "zerolinecolor": "white"
           },
           "zaxis": {
            "backgroundcolor": "#E5ECF6",
            "gridcolor": "white",
            "gridwidth": 2,
            "linecolor": "white",
            "showbackground": true,
            "ticks": "",
            "zerolinecolor": "white"
           }
          },
          "shapedefaults": {
           "line": {
            "color": "#2a3f5f"
           }
          },
          "ternary": {
           "aaxis": {
            "gridcolor": "white",
            "linecolor": "white",
            "ticks": ""
           },
           "baxis": {
            "gridcolor": "white",
            "linecolor": "white",
            "ticks": ""
           },
           "bgcolor": "#E5ECF6",
           "caxis": {
            "gridcolor": "white",
            "linecolor": "white",
            "ticks": ""
           }
          },
          "title": {
           "x": 0.05
          },
          "xaxis": {
           "automargin": true,
           "gridcolor": "white",
           "linecolor": "white",
           "ticks": "",
           "title": {
            "standoff": 15
           },
           "zerolinecolor": "white",
           "zerolinewidth": 2
          },
          "yaxis": {
           "automargin": true,
           "gridcolor": "white",
           "linecolor": "white",
           "ticks": "",
           "title": {
            "standoff": 15
           },
           "zerolinecolor": "white",
           "zerolinewidth": 2
          }
         }
        },
        "title": {
         "text": "Percent of deficit remaining after 3 Years for each run"
        },
        "xaxis": {
         "anchor": "y",
         "domain": [
          0,
          1
         ],
         "title": {
          "text": "Run Name"
         }
        },
        "yaxis": {
         "anchor": "x",
         "domain": [
          0,
          1
         ],
         "range": [
          0,
          100
         ],
         "title": {
          "text": "Percent of Deficit Remaining After 3 Years"
         }
        }
       }
      }
     },
     "metadata": {},
     "output_type": "display_data"
    }
   ],
   "source": [
    "percent_of_deficit_remaining = (ending_storage_deficits / starting_storage_deficits) * 100.0\n",
    "px.scatter(x=run_names, y=percent_of_deficit_remaining,\n",
    "       labels={\"x\": \"Run Name\", \"y\": \"Percent of Deficit Remaining After 3 Years\"},\n",
    "       title=\"Percent of deficit remaining after 3 Years for each run\",\n",
    "       range_y=[0, 100],\n",
    "       ).show()"
   ]
  },
  {
   "cell_type": "code",
   "execution_count": 7,
   "id": "c0037393",
   "metadata": {},
   "outputs": [
    {
     "data": {
      "application/vnd.plotly.v1+json": {
       "config": {
        "plotlyServerURL": "https://plot.ly"
       },
       "data": [
        {
         "hovertemplate": "Run=baseline<br>time=%{x}<br>outlet_flow=%{y}<extra></extra>",
         "legendgroup": "baseline",
         "line": {
          "color": "#1F77B4",
          "dash": "solid"
         },
         "marker": {
          "symbol": "circle"
         },
         "mode": "lines",
         "name": "baseline",
         "opacity": 0.4,
         "orientation": "h",
         "showlegend": true,
         "type": "scatter",
         "x": {
          "bdata": "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",
          "dtype": "f8"
         },
         "xaxis": "x",
         "y": [
          0,
          0,
          0,
          0,
          53.13144680223252,
          2123.723337333968,
          32.20369709555968,
          34740.86085752298,
          21429.745517390293,
          14011.453639350451,
          14111.544738937586,
          25834.57682707754,
          32894.12269205623,
          33807.335643186336,
          34771.620194622636,
          34214.11390231412,
          38287.86700896489,
          46131.099082303874,
          128009.60452791958,
          109648.93912005197,
          114606.70878868713,
          217884.5704878957,
          119817.92273730313,
          92095.98640266473,
          68506.50027584974,
          263136.1540120115,
          348745.6317688483,
          276960.9830829255,
          240756.1244114842,
          156643.6607593078,
          100639.27161336325,
          85113.23802457066,
          592534.8852450812,
          282388.2196234148,
          383757.6139343708,
          639538.2870044776,
          256433.19237116302,
          818544.565999495,
          1071201.9468802628,
          585321.0448150102,
          238263.4928447855,
          131950.63432298868,
          84700.94440494776,
          87188.73948799635,
          363896.99316277687,
          502976.68647714914,
          395295.1240377476,
          220892.85733811648,
          108452.38760439702,
          89715.91343879097,
          99465.86815374866,
          63629.78377651956,
          36877.61314547396,
          21678.929818340766,
          9781.716499825096,
          3594.3045826589682,
          1711.2033295617732,
          616.602212635858,
          0,
          0,
          0,
          0,
          0,
          0,
          0,
          0,
          3598.056832647034,
          18.83941526862039,
          2911.579523839483,
          1045.9702803030368,
          2118.811515006066,
          2154.5409760798784,
          309.5891540721728,
          0,
          0,
          0,
          156.59067221185492,
          375.2536384219907,
          6373.650465087993,
          66367.28723492545,
          60769.40455657749,
          39711.08930420991,
          26394.967154954385,
          25617.22367531433,
          30811.512103230518,
          53131.71070201278,
          77074.67824610717,
          51796.81438618627,
          50570.658196853154,
          70718.22598355824,
          218383.8545207198,
          279569.08327826863,
          218712.60516826797,
          172793.77162003264,
          371510.3764440613,
          188045.10158294055,
          119415.25879562779,
          82323.9621328285,
          295889.76934926515,
          389696.93741271476,
          295563.16730789805,
          246223.4066330578,
          159450.7066461435,
          102119.98119546741,
          85919.09031300894,
          615509.6436065751,
          284516.4395867587,
          385188.4912808888,
          647215.6841069754,
          257068.2017860948,
          818995.966742971,
          1073112.4138546772,
          585428.8850255528,
          238367.80021021664,
          131991.49854229076,
          84653.72377337614,
          87195.08950139061,
          363943.4512375737,
          503082.39187392395,
          395609.1077986159,
          221013.8804740601,
          108499.82755451158,
          89830.50182896368,
          99282.53279823772,
          63567.547976955764,
          36876.23446047526,
          21654.984684704206,
          9780.618793795116,
          3578.7423065282765,
          1681.2834980977777,
          620.6977245398098,
          0,
          0,
          0,
          0,
          0,
          0,
          0,
          0,
          3590.9847486597864,
          7.817252722472864,
          2920.686320900896,
          1018.2055401401024,
          2103.277227508691,
          2146.4096501745125,
          305.68875677497465,
          0,
          0,
          0,
          153.86365744867228,
          369.42942690404533,
          6373.264422491524,
          66231.33941598677,
          60812.7000275331,
          39734.90123250827,
          26388.967102050658,
          25616.87948349372,
          30808.855000577627,
          53100.45860366213,
          76989.46055168827,
          51749.67947883203,
          50527.93819766275,
          70049.24823846132,
          218123.37067486183,
          279447.3168125145,
          218792.80785279142,
          172794.95396508207,
          371407.6306938527,
          188022.80384812932,
          119393.73519835304,
          82291.61862258281,
          295807.0766375465,
          389744.3786955117,
          295550.8493255554,
          246291.02464348302,
          159420.50123621535,
          102097.74769475432,
          85927.58108082844,
          615552.5794827403,
          284537.7125712532,
          385126.92580820573,
          647238.6855440087,
          257065.64218050416,
          818781.6513287625,
          1073109.0425774152,
          585268.3032279928,
          238360.6652278895,
          131941.4534880743,
          84680.86397820682,
          87187.39911337422,
          364019.5831874812,
          503191.8825345279,
          395477.56054720766,
          220966.84346364724,
          108514.66090990684,
          89722.47969909424,
          99451.95713531002,
          63630.0979445087,
          36841.64841503213,
          21653.716837230088,
          9728.434282836093,
          3577.8321279758406,
          1672.109509207781,
          599.3840756107671,
          0,
          0,
          0,
          0,
          0,
          0,
          0,
          0,
          3560.9252591928043,
          2.6742256774491646,
          2911.4288350884012,
          1008.0003120471982,
          2096.4368116662035,
          2153.7334496816793,
          305.2700031541722
         ],
         "yaxis": "y"
        },
        {
         "hovertemplate": "Run=pumping<br>time=%{x}<br>outlet_flow=%{y}<extra></extra>",
         "legendgroup": "pumping",
         "line": {
          "color": "#FF7F0E",
          "dash": "solid"
         },
         "marker": {
          "symbol": "circle"
         },
         "mode": "lines",
         "name": "pumping",
         "opacity": 0.4,
         "orientation": "h",
         "showlegend": true,
         "type": "scatter",
         "x": {
          "bdata": "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",
          "dtype": "f8"
         },
         "xaxis": "x",
         "y": [
          0,
          0,
          0,
          0,
          50.23148845881536,
          2122.3837736974465,
          31.46986815378112,
          387.489870354625,
          19489.55857818375,
          13115.065356301537,
          12585.553827582495,
          23618.619678428087,
          29718.39391752106,
          28748.04582564104,
          33009.13815939514,
          31153.891522764647,
          34773.365684908924,
          39082.86035399705,
          112817.91560163448,
          97910.8026408167,
          107945.54500416682,
          154987.58716393737,
          83861.09667067957,
          78390.53725625196,
          53473.48205555485,
          201188.46368871865,
          312155.22996375314,
          261490.50701757122,
          230426.88554375115,
          148592.0778826032,
          93333.06468646784,
          79770.06594684586,
          573220.129140578,
          277078.4165969156,
          373559.0601251734,
          630549.3682638627,
          253797.61114720022,
          800759.4427715866,
          1063096.1614577912,
          579756.2996058061,
          234178.30113456782,
          127435.15975167496,
          82017.94275756476,
          81577.97387106334,
          350220.66481178073,
          490380.91329588793,
          387306.8896105246,
          217721.98456413794,
          106999.6380230333,
          84987.41447919286,
          93505.212255952,
          61958.21046264243,
          35819.11020011862,
          20301.537784552063,
          9139.532894108705,
          3225.2080301250926,
          1360.542866100543,
          392.46503250325634,
          0,
          0,
          0,
          0,
          0,
          0,
          0,
          0,
          3219.7891188730478,
          0,
          2787.03707960467,
          855.9240717933028,
          149.68912604510362,
          802.8577982746733,
          106.73127676734316,
          0,
          0,
          0,
          16.056736585339266,
          322.1942462028486,
          6069.132017417049,
          41154.65287587046,
          56930.95639585722,
          38360.32865736504,
          24667.361856621086,
          22526.00052298012,
          28833.28610421544,
          48104.39360268023,
          63012.009611907975,
          47608.61202438183,
          46099.55339024917,
          54026.745708600305,
          141353.43619571513,
          251965.66595300182,
          195554.474776695,
          162809.24305721663,
          342947.58091950964,
          179518.03517886254,
          114615.97608185698,
          76787.28562029144,
          281178.4396928088,
          380847.76405013516,
          290398.3896696705,
          240750.12036096683,
          154128.22780576607,
          96762.20425403133,
          81816.94778258441,
          602798.027810028,
          280746.56742290006,
          376320.504762878,
          640933.727615764,
          254953.6157946893,
          802861.5344846818,
          1065981.7637410373,
          580434.1795207512,
          234578.3949315481,
          127938.35720844634,
          82430.81037006695,
          82151.61246764509,
          351280.80924097507,
          491527.2701790184,
          388084.6744727981,
          218092.23899177896,
          107104.9475156466,
          85395.45942823906,
          94183.64332614443,
          62135.630918105,
          35949.985325547335,
          20468.21913573632,
          9224.788743836005,
          3286.566603547731,
          1415.2751542693989,
          414.9089932845135,
          0,
          0,
          0,
          0,
          0,
          0,
          0,
          0,
          3325.3183286891453,
          0,
          2808.8354459744373,
          859.1521768099524,
          159.3283509360094,
          1246.7182359196647,
          211.224168494918,
          0,
          0,
          0,
          83.7167068628999,
          337.4417927266877,
          6082.625848427872,
          44216.848235223915,
          57357.019760049996,
          38513.26846785883,
          24797.073694600836,
          22824.359949994974,
          29137.057642578482,
          48524.76913039122,
          63491.22113760343,
          47930.66371161409,
          46493.81280603063,
          54820.90928489999,
          145002.96733868917,
          254045.99693041528,
          197232.67087453528,
          163886.45583954305,
          345197.27709629224,
          180163.58158621646,
          115057.23284465805,
          77246.63457470636,
          282205.8598041822,
          381527.37878985004,
          290868.7542847621,
          241228.34585410234,
          154565.6013288374,
          97218.89914488414,
          82184.75679821224,
          603734.3840418324,
          281101.4283485776,
          377034.67980091326,
          641434.9634073979,
          255169.14508129383,
          804023.3395169057,
          1066550.8055743524,
          580825.2244924067,
          234894.6308703893,
          128282.14054556908,
          82602.17460668375,
          82555.7061576834,
          352211.21697307774,
          492431.51494752907,
          388579.63813460927,
          218371.86846141322,
          107261.05973233051,
          85785.70876753463,
          94608.35073997133,
          62305.07975060803,
          36037.27591508885,
          20568.886113647502,
          9295.047304932345,
          3321.104494438172,
          1442.4816491661172,
          440.1172595405654,
          0,
          0,
          0,
          0,
          0,
          0,
          0,
          0,
          3380.6152016220453,
          0,
          2826.3469256219523,
          849.7516460709486,
          211.97337440887384,
          1680.8834695151031,
          239.29404529158495
         ],
         "yaxis": "y"
        },
        {
         "hovertemplate": "Run=double_pumping<br>time=%{x}<br>outlet_flow=%{y}<extra></extra>",
         "legendgroup": "double_pumping",
         "line": {
          "color": "#2CA02C",
          "dash": "solid"
         },
         "marker": {
          "symbol": "circle"
         },
         "mode": "lines",
         "name": "double_pumping",
         "opacity": 0.4,
         "orientation": "h",
         "showlegend": true,
         "type": "scatter",
         "x": {
          "bdata": "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",
          "dtype": "f8"
         },
         "xaxis": "x",
         "y": [
          0,
          0,
          0,
          0,
          50.58523953231315,
          2123.141003126733,
          33.323014601052925,
          0,
          15891.140016896326,
          12620.396163468038,
          11983.78976571937,
          22780.654835052796,
          28252.435799809606,
          27180.084773557308,
          32432.447096720738,
          30542.143439403266,
          33681.54594061802,
          36787.325001560544,
          107863.19967607892,
          96321.69117209392,
          106486.89163766074,
          146148.64241845536,
          77450.6176514304,
          75465.5298036142,
          49770.96394173041,
          182358.147356037,
          300702.19482466846,
          255275.21224726105,
          226904.87252062373,
          146086.1163290234,
          91057.60142055647,
          77995.32829905993,
          565066.3783755344,
          275057.88516324037,
          370440.54964152863,
          627505.9780838833,
          252784.4254078955,
          795789.0317193801,
          1060221.028159184,
          577474.702820764,
          232700.5326766593,
          125841.13707261051,
          80918.51231624048,
          79959.78846795337,
          345749.03437825135,
          485458.47731193487,
          384586.83667105046,
          216556.17389228474,
          106284.52086899751,
          83187.85637136218,
          90926.218069298,
          61216.56485577799,
          35327.61736327195,
          19704.722298227425,
          8737.327354709636,
          3057.482800843048,
          1208.4479007165996,
          314.81520262882356,
          0,
          0,
          0,
          0,
          0,
          0,
          0,
          0,
          2870.6332485996086,
          0,
          2239.4346500030933,
          844.1230983656569,
          150.6031252798902,
          792.8207245205354,
          0,
          0,
          0,
          0,
          0,
          237.8579611034099,
          4037.1014219337526,
          32243.29757755474,
          54426.21547449713,
          37365.19077950861,
          23953.889393254118,
          21459.97767677055,
          27769.818871712647,
          45585.63825424555,
          61011.10728908148,
          45972.784786193035,
          44380.97126760724,
          48755.80204812051,
          128580.48580228188,
          242304.9012409873,
          186930.62147234962,
          157729.41525006643,
          331170.5648289004,
          176013.32289304724,
          112529.4001737382,
          74579.80720339318,
          275695.9624073064,
          376969.8562067945,
          288114.4561150485,
          238548.67480988533,
          152030.52473138273,
          94634.60384671525,
          80052.01378822493,
          597194.1671858381,
          279149.27556551096,
          372969.54272271664,
          638249.7228486653,
          253902.46171239717,
          797204.8352182513,
          1062895.1052881018,
          577750.0879381825,
          232996.62598694194,
          126134.75844619125,
          81092.07265014133,
          80228.12831481089,
          346457.3415666084,
          486263.0495225108,
          385122.62068860413,
          216752.7980775358,
          106450.74633644256,
          83445.81004324813,
          91236.82571331503,
          61340.81271148208,
          35366.46397299122,
          19790.430305040874,
          8833.954573423256,
          3091.702842716596,
          1254.8300352621068,
          335.4764788556816,
          0,
          0,
          0,
          0,
          0,
          0,
          0,
          0,
          2928.4285347190653,
          0,
          2428.1676351797737,
          842.5203198412617,
          145.85443996298397,
          792.1277952942382,
          0,
          0,
          0,
          0,
          0,
          241.16585542626493,
          4541.669062868987,
          33076.89549548573,
          54809.62991651118,
          37592.80847144138,
          24084.985389964655,
          21648.94843394591,
          27879.10530917597,
          45813.081913356444,
          61277.178778002075,
          46130.697883485525,
          44629.20641663129,
          48789.47670758711,
          129949.37586946801,
          243412.8153741138,
          188019.62694235926,
          158196.00018627665,
          332402.56272292836,
          176402.91565054184,
          112747.33417596009,
          74800.03683775882,
          276137.37634446484,
          377378.78482664935,
          288388.96067565645,
          238823.94196808478,
          152268.92169711602,
          94846.64975061471,
          80263.99115423548,
          597837.6521330387,
          279333.8960728347,
          373263.2065005328,
          638553.1109282858,
          254020.25202185748,
          797650.3172058805,
          1063241.1301409672,
          578041.8194608913,
          233176.97247964857,
          126312.79381469131,
          81304.27341540443,
          80424.97891560687,
          346976.815778843,
          486629.89218729135,
          385398.2152509909,
          216820.8877108792,
          106509.95525920823,
          83745.78016027994,
          91598.23802140576,
          61438.109063201504,
          35467.72356237223,
          19894.121191090497,
          8854.784403989395,
          3103.5594664125483,
          1257.3177808696826,
          336.3631993491249,
          0,
          0,
          0,
          0,
          0,
          0,
          0,
          0,
          2853.5813918740446,
          0,
          2552.021014076056,
          856.5263293326077,
          149.81606974832465,
          793.3801923907047,
          0
         ],
         "yaxis": "y"
        }
       ],
       "layout": {
        "height": 700,
        "legend": {
         "orientation": "h",
         "title": {
          "text": "Run"
         },
         "tracegroupgap": 0,
         "x": 1,
         "xanchor": "right",
         "y": 0.96,
         "yanchor": "bottom"
        },
        "showlegend": true,
        "template": {
         "data": {
          "bar": [
           {
            "error_x": {
             "color": "rgb(36,36,36)"
            },
            "error_y": {
             "color": "rgb(36,36,36)"
            },
            "marker": {
             "line": {
              "color": "white",
              "width": 0.5
             },
             "pattern": {
              "fillmode": "overlay",
              "size": 10,
              "solidity": 0.2
             }
            },
            "type": "bar"
           }
          ],
          "barpolar": [
           {
            "marker": {
             "line": {
              "color": "white",
              "width": 0.5
             },
             "pattern": {
              "fillmode": "overlay",
              "size": 10,
              "solidity": 0.2
             }
            },
            "type": "barpolar"
           }
          ],
          "carpet": [
           {
            "aaxis": {
             "endlinecolor": "rgb(36,36,36)",
             "gridcolor": "white",
             "linecolor": "white",
             "minorgridcolor": "white",
             "startlinecolor": "rgb(36,36,36)"
            },
            "baxis": {
             "endlinecolor": "rgb(36,36,36)",
             "gridcolor": "white",
             "linecolor": "white",
             "minorgridcolor": "white",
             "startlinecolor": "rgb(36,36,36)"
            },
            "type": "carpet"
           }
          ],
          "choropleth": [
           {
            "colorbar": {
             "outlinewidth": 1,
             "tickcolor": "rgb(36,36,36)",
             "ticks": "outside"
            },
            "type": "choropleth"
           }
          ],
          "contour": [
           {
            "colorbar": {
             "outlinewidth": 1,
             "tickcolor": "rgb(36,36,36)",
             "ticks": "outside"
            },
            "colorscale": [
             [
              0,
              "#440154"
             ],
             [
              0.1111111111111111,
              "#482878"
             ],
             [
              0.2222222222222222,
              "#3e4989"
             ],
             [
              0.3333333333333333,
              "#31688e"
             ],
             [
              0.4444444444444444,
              "#26828e"
             ],
             [
              0.5555555555555556,
              "#1f9e89"
             ],
             [
              0.6666666666666666,
              "#35b779"
             ],
             [
              0.7777777777777778,
              "#6ece58"
             ],
             [
              0.8888888888888888,
              "#b5de2b"
             ],
             [
              1,
              "#fde725"
             ]
            ],
            "type": "contour"
           }
          ],
          "contourcarpet": [
           {
            "colorbar": {
             "outlinewidth": 1,
             "tickcolor": "rgb(36,36,36)",
             "ticks": "outside"
            },
            "type": "contourcarpet"
           }
          ],
          "heatmap": [
           {
            "colorbar": {
             "outlinewidth": 1,
             "tickcolor": "rgb(36,36,36)",
             "ticks": "outside"
            },
            "colorscale": [
             [
              0,
              "#440154"
             ],
             [
              0.1111111111111111,
              "#482878"
             ],
             [
              0.2222222222222222,
              "#3e4989"
             ],
             [
              0.3333333333333333,
              "#31688e"
             ],
             [
              0.4444444444444444,
              "#26828e"
             ],
             [
              0.5555555555555556,
              "#1f9e89"
             ],
             [
              0.6666666666666666,
              "#35b779"
             ],
             [
              0.7777777777777778,
              "#6ece58"
             ],
             [
              0.8888888888888888,
              "#b5de2b"
             ],
             [
              1,
              "#fde725"
             ]
            ],
            "type": "heatmap"
           }
          ],
          "histogram": [
           {
            "marker": {
             "line": {
              "color": "white",
              "width": 0.6
             }
            },
            "type": "histogram"
           }
          ],
          "histogram2d": [
           {
            "colorbar": {
             "outlinewidth": 1,
             "tickcolor": "rgb(36,36,36)",
             "ticks": "outside"
            },
            "colorscale": [
             [
              0,
              "#440154"
             ],
             [
              0.1111111111111111,
              "#482878"
             ],
             [
              0.2222222222222222,
              "#3e4989"
             ],
             [
              0.3333333333333333,
              "#31688e"
             ],
             [
              0.4444444444444444,
              "#26828e"
             ],
             [
              0.5555555555555556,
              "#1f9e89"
             ],
             [
              0.6666666666666666,
              "#35b779"
             ],
             [
              0.7777777777777778,
              "#6ece58"
             ],
             [
              0.8888888888888888,
              "#b5de2b"
             ],
             [
              1,
              "#fde725"
             ]
            ],
            "type": "histogram2d"
           }
          ],
          "histogram2dcontour": [
           {
            "colorbar": {
             "outlinewidth": 1,
             "tickcolor": "rgb(36,36,36)",
             "ticks": "outside"
            },
            "colorscale": [
             [
              0,
              "#440154"
             ],
             [
              0.1111111111111111,
              "#482878"
             ],
             [
              0.2222222222222222,
              "#3e4989"
             ],
             [
              0.3333333333333333,
              "#31688e"
             ],
             [
              0.4444444444444444,
              "#26828e"
             ],
             [
              0.5555555555555556,
              "#1f9e89"
             ],
             [
              0.6666666666666666,
              "#35b779"
             ],
             [
              0.7777777777777778,
              "#6ece58"
             ],
             [
              0.8888888888888888,
              "#b5de2b"
             ],
             [
              1,
              "#fde725"
             ]
            ],
            "type": "histogram2dcontour"
           }
          ],
          "mesh3d": [
           {
            "colorbar": {
             "outlinewidth": 1,
             "tickcolor": "rgb(36,36,36)",
             "ticks": "outside"
            },
            "type": "mesh3d"
           }
          ],
          "parcoords": [
           {
            "line": {
             "colorbar": {
              "outlinewidth": 1,
              "tickcolor": "rgb(36,36,36)",
              "ticks": "outside"
             }
            },
            "type": "parcoords"
           }
          ],
          "pie": [
           {
            "automargin": true,
            "type": "pie"
           }
          ],
          "scatter": [
           {
            "fillpattern": {
             "fillmode": "overlay",
             "size": 10,
             "solidity": 0.2
            },
            "type": "scatter"
           }
          ],
          "scatter3d": [
           {
            "line": {
             "colorbar": {
              "outlinewidth": 1,
              "tickcolor": "rgb(36,36,36)",
              "ticks": "outside"
             }
            },
            "marker": {
             "colorbar": {
              "outlinewidth": 1,
              "tickcolor": "rgb(36,36,36)",
              "ticks": "outside"
             }
            },
            "type": "scatter3d"
           }
          ],
          "scattercarpet": [
           {
            "marker": {
             "colorbar": {
              "outlinewidth": 1,
              "tickcolor": "rgb(36,36,36)",
              "ticks": "outside"
             }
            },
            "type": "scattercarpet"
           }
          ],
          "scattergeo": [
           {
            "marker": {
             "colorbar": {
              "outlinewidth": 1,
              "tickcolor": "rgb(36,36,36)",
              "ticks": "outside"
             }
            },
            "type": "scattergeo"
           }
          ],
          "scattergl": [
           {
            "marker": {
             "colorbar": {
              "outlinewidth": 1,
              "tickcolor": "rgb(36,36,36)",
              "ticks": "outside"
             }
            },
            "type": "scattergl"
           }
          ],
          "scattermap": [
           {
            "marker": {
             "colorbar": {
              "outlinewidth": 1,
              "tickcolor": "rgb(36,36,36)",
              "ticks": "outside"
             }
            },
            "type": "scattermap"
           }
          ],
          "scattermapbox": [
           {
            "marker": {
             "colorbar": {
              "outlinewidth": 1,
              "tickcolor": "rgb(36,36,36)",
              "ticks": "outside"
             }
            },
            "type": "scattermapbox"
           }
          ],
          "scatterpolar": [
           {
            "marker": {
             "colorbar": {
              "outlinewidth": 1,
              "tickcolor": "rgb(36,36,36)",
              "ticks": "outside"
             }
            },
            "type": "scatterpolar"
           }
          ],
          "scatterpolargl": [
           {
            "marker": {
             "colorbar": {
              "outlinewidth": 1,
              "tickcolor": "rgb(36,36,36)",
              "ticks": "outside"
             }
            },
            "type": "scatterpolargl"
           }
          ],
          "scatterternary": [
           {
            "marker": {
             "colorbar": {
              "outlinewidth": 1,
              "tickcolor": "rgb(36,36,36)",
              "ticks": "outside"
             }
            },
            "type": "scatterternary"
           }
          ],
          "surface": [
           {
            "colorbar": {
             "outlinewidth": 1,
             "tickcolor": "rgb(36,36,36)",
             "ticks": "outside"
            },
            "colorscale": [
             [
              0,
              "#440154"
             ],
             [
              0.1111111111111111,
              "#482878"
             ],
             [
              0.2222222222222222,
              "#3e4989"
             ],
             [
              0.3333333333333333,
              "#31688e"
             ],
             [
              0.4444444444444444,
              "#26828e"
             ],
             [
              0.5555555555555556,
              "#1f9e89"
             ],
             [
              0.6666666666666666,
              "#35b779"
             ],
             [
              0.7777777777777778,
              "#6ece58"
             ],
             [
              0.8888888888888888,
              "#b5de2b"
             ],
             [
              1,
              "#fde725"
             ]
            ],
            "type": "surface"
           }
          ],
          "table": [
           {
            "cells": {
             "fill": {
              "color": "rgb(237,237,237)"
             },
             "line": {
              "color": "white"
             }
            },
            "header": {
             "fill": {
              "color": "rgb(217,217,217)"
             },
             "line": {
              "color": "white"
             }
            },
            "type": "table"
           }
          ]
         },
         "layout": {
          "annotationdefaults": {
           "arrowhead": 0,
           "arrowwidth": 1
          },
          "autotypenumbers": "strict",
          "coloraxis": {
           "colorbar": {
            "outlinewidth": 1,
            "tickcolor": "rgb(36,36,36)",
            "ticks": "outside"
           }
          },
          "colorscale": {
           "diverging": [
            [
             0,
             "rgb(103,0,31)"
            ],
            [
             0.1,
             "rgb(178,24,43)"
            ],
            [
             0.2,
             "rgb(214,96,77)"
            ],
            [
             0.3,
             "rgb(244,165,130)"
            ],
            [
             0.4,
             "rgb(253,219,199)"
            ],
            [
             0.5,
             "rgb(247,247,247)"
            ],
            [
             0.6,
             "rgb(209,229,240)"
            ],
            [
             0.7,
             "rgb(146,197,222)"
            ],
            [
             0.8,
             "rgb(67,147,195)"
            ],
            [
             0.9,
             "rgb(33,102,172)"
            ],
            [
             1,
             "rgb(5,48,97)"
            ]
           ],
           "sequential": [
            [
             0,
             "#440154"
            ],
            [
             0.1111111111111111,
             "#482878"
            ],
            [
             0.2222222222222222,
             "#3e4989"
            ],
            [
             0.3333333333333333,
             "#31688e"
            ],
            [
             0.4444444444444444,
             "#26828e"
            ],
            [
             0.5555555555555556,
             "#1f9e89"
            ],
            [
             0.6666666666666666,
             "#35b779"
            ],
            [
             0.7777777777777778,
             "#6ece58"
            ],
            [
             0.8888888888888888,
             "#b5de2b"
            ],
            [
             1,
             "#fde725"
            ]
           ],
           "sequentialminus": [
            [
             0,
             "#440154"
            ],
            [
             0.1111111111111111,
             "#482878"
            ],
            [
             0.2222222222222222,
             "#3e4989"
            ],
            [
             0.3333333333333333,
             "#31688e"
            ],
            [
             0.4444444444444444,
             "#26828e"
            ],
            [
             0.5555555555555556,
             "#1f9e89"
            ],
            [
             0.6666666666666666,
             "#35b779"
            ],
            [
             0.7777777777777778,
             "#6ece58"
            ],
            [
             0.8888888888888888,
             "#b5de2b"
            ],
            [
             1,
             "#fde725"
            ]
           ]
          },
          "colorway": [
           "#1F77B4",
           "#FF7F0E",
           "#2CA02C",
           "#D62728",
           "#9467BD",
           "#8C564B",
           "#E377C2",
           "#7F7F7F",
           "#BCBD22",
           "#17BECF"
          ],
          "font": {
           "color": "rgb(36,36,36)"
          },
          "geo": {
           "bgcolor": "white",
           "lakecolor": "white",
           "landcolor": "white",
           "showlakes": true,
           "showland": true,
           "subunitcolor": "white"
          },
          "hoverlabel": {
           "align": "left"
          },
          "hovermode": "closest",
          "mapbox": {
           "style": "light"
          },
          "paper_bgcolor": "white",
          "plot_bgcolor": "white",
          "polar": {
           "angularaxis": {
            "gridcolor": "rgb(232,232,232)",
            "linecolor": "rgb(36,36,36)",
            "showgrid": false,
            "showline": true,
            "ticks": "outside"
           },
           "bgcolor": "white",
           "radialaxis": {
            "gridcolor": "rgb(232,232,232)",
            "linecolor": "rgb(36,36,36)",
            "showgrid": false,
            "showline": true,
            "ticks": "outside"
           }
          },
          "scene": {
           "xaxis": {
            "backgroundcolor": "white",
            "gridcolor": "rgb(232,232,232)",
            "gridwidth": 2,
            "linecolor": "rgb(36,36,36)",
            "showbackground": true,
            "showgrid": false,
            "showline": true,
            "ticks": "outside",
            "zeroline": false,
            "zerolinecolor": "rgb(36,36,36)"
           },
           "yaxis": {
            "backgroundcolor": "white",
            "gridcolor": "rgb(232,232,232)",
            "gridwidth": 2,
            "linecolor": "rgb(36,36,36)",
            "showbackground": true,
            "showgrid": false,
            "showline": true,
            "ticks": "outside",
            "zeroline": false,
            "zerolinecolor": "rgb(36,36,36)"
           },
           "zaxis": {
            "backgroundcolor": "white",
            "gridcolor": "rgb(232,232,232)",
            "gridwidth": 2,
            "linecolor": "rgb(36,36,36)",
            "showbackground": true,
            "showgrid": false,
            "showline": true,
            "ticks": "outside",
            "zeroline": false,
            "zerolinecolor": "rgb(36,36,36)"
           }
          },
          "shapedefaults": {
           "fillcolor": "black",
           "line": {
            "width": 0
           },
           "opacity": 0.3
          },
          "ternary": {
           "aaxis": {
            "gridcolor": "rgb(232,232,232)",
            "linecolor": "rgb(36,36,36)",
            "showgrid": false,
            "showline": true,
            "ticks": "outside"
           },
           "baxis": {
            "gridcolor": "rgb(232,232,232)",
            "linecolor": "rgb(36,36,36)",
            "showgrid": false,
            "showline": true,
            "ticks": "outside"
           },
           "bgcolor": "white",
           "caxis": {
            "gridcolor": "rgb(232,232,232)",
            "linecolor": "rgb(36,36,36)",
            "showgrid": false,
            "showline": true,
            "ticks": "outside"
           }
          },
          "title": {
           "x": 0.05
          },
          "xaxis": {
           "automargin": true,
           "gridcolor": "rgb(232,232,232)",
           "linecolor": "rgb(36,36,36)",
           "showgrid": false,
           "showline": true,
           "ticks": "outside",
           "title": {
            "standoff": 15
           },
           "zeroline": false,
           "zerolinecolor": "rgb(36,36,36)"
          },
          "yaxis": {
           "automargin": true,
           "gridcolor": "rgb(232,232,232)",
           "linecolor": "rgb(36,36,36)",
           "showgrid": false,
           "showline": true,
           "ticks": "outside",
           "title": {
            "standoff": 15
           },
           "zeroline": false,
           "zerolinecolor": "rgb(36,36,36)"
          }
         }
        },
        "title": {
         "text": "Outlet Flow Over Time During Recovery"
        },
        "width": 800,
        "xaxis": {
         "anchor": "y",
         "domain": [
          0,
          1
         ],
         "title": {
          "text": "Time (years)"
         }
        },
        "yaxis": {
         "anchor": "x",
         "domain": [
          0,
          1
         ],
         "title": {
          "text": "Outlet flow"
         }
        }
       }
      }
     },
     "metadata": {},
     "output_type": "display_data"
    }
   ],
   "source": [
    "utils.plot_variable_for_each_run(\"outlet_flow\", runs, y_label=\"Outlet flow\", \n",
    "                                 y_scale=1, title=\"Outlet Flow Over Time During Recovery\")"
   ]
  },
  {
   "cell_type": "code",
   "execution_count": 8,
   "id": "493152d5",
   "metadata": {},
   "outputs": [
    {
     "data": {
      "application/vnd.plotly.v1+json": {
       "config": {
        "plotlyServerURL": "https://plot.ly"
       },
       "data": [
        {
         "hovertemplate": "Run=baseline<br>time=%{x}<br>flow_reduction=%{y}<extra></extra>",
         "legendgroup": "baseline",
         "line": {
          "color": "#1F77B4",
          "dash": "solid"
         },
         "marker": {
          "symbol": "circle"
         },
         "mode": "lines",
         "name": "baseline",
         "opacity": 0.4,
         "orientation": "h",
         "showlegend": true,
         "type": "scatter",
         "x": {
          "bdata": "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",
          "dtype": "f8"
         },
         "xaxis": "x",
         "y": [
          0,
          0,
          0,
          0,
          0,
          0,
          0,
          0,
          0,
          0,
          0,
          0,
          0,
          0,
          0,
          0,
          0,
          0,
          0,
          0,
          0,
          0,
          0,
          0,
          0,
          0,
          0,
          0,
          0,
          0,
          0,
          0,
          0,
          0,
          0,
          0,
          0,
          0,
          0,
          0,
          0,
          0,
          0,
          0,
          0,
          0,
          0,
          0,
          0,
          0,
          0,
          0,
          0,
          0,
          0,
          0,
          0,
          0,
          0,
          0,
          0,
          0,
          0,
          0,
          0,
          0,
          0,
          0,
          0,
          0,
          0,
          0,
          0,
          0,
          0,
          0,
          0,
          0,
          0,
          0,
          0,
          0,
          0,
          0,
          0,
          0,
          0,
          0,
          0,
          0,
          0,
          0,
          0,
          0,
          0,
          0,
          0,
          0,
          0,
          0,
          0,
          0,
          0,
          0,
          0,
          0,
          0,
          0,
          0,
          0,
          0,
          0,
          0,
          0,
          0,
          0,
          0,
          0,
          0,
          0,
          0,
          0,
          0,
          0,
          0,
          0,
          0,
          0,
          0,
          0,
          0,
          0,
          0,
          0,
          0,
          0,
          0,
          0,
          0,
          0,
          0,
          0,
          0,
          0,
          0,
          0,
          0,
          0,
          0,
          0,
          0,
          0,
          0,
          0,
          0,
          0,
          0,
          0,
          0,
          0,
          0,
          0,
          0,
          0,
          0,
          0,
          0,
          0,
          0,
          0,
          0,
          0,
          0,
          0,
          0,
          0,
          0,
          0,
          0,
          0,
          0,
          0,
          0,
          0,
          0,
          0,
          0,
          0,
          0,
          0,
          0,
          0,
          0,
          0,
          0,
          0,
          0,
          0,
          0,
          0,
          0,
          0,
          0,
          0,
          0,
          0,
          0,
          0,
          0,
          0,
          0,
          0,
          0,
          0,
          0,
          0,
          0,
          0,
          0
         ],
         "yaxis": "y"
        },
        {
         "hovertemplate": "Run=pumping<br>time=%{x}<br>flow_reduction=%{y}<extra></extra>",
         "legendgroup": "pumping",
         "line": {
          "color": "#FF7F0E",
          "dash": "solid"
         },
         "marker": {
          "symbol": "circle"
         },
         "mode": "lines",
         "name": "pumping",
         "opacity": 0.4,
         "orientation": "h",
         "showlegend": true,
         "type": "scatter",
         "x": {
          "bdata": "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",
          "dtype": "f8"
         },
         "xaxis": "x",
         "y": [
          0,
          0,
          0,
          0,
          -2.899958343417154,
          -1.3395636365216887,
          -0.7338289417785617,
          -34353.37098716835,
          -1940.1869392065419,
          -896.3882830489147,
          -1525.9909113550912,
          -2215.9571486494533,
          -3175.7287745351714,
          -5059.289817545297,
          -1762.4820352274983,
          -3060.2223795494756,
          -3514.501324055964,
          -7048.238728306824,
          -15191.688926285104,
          -11738.136479235269,
          -6661.163784520308,
          -62896.983323958324,
          -35956.82606662356,
          -13705.449146412764,
          -15033.018220294893,
          -61947.69032329283,
          -36590.40180509514,
          -15470.476065354276,
          -10329.238867733045,
          -8051.582876704604,
          -7306.206926895407,
          -5343.172077724797,
          -19314.756104503176,
          -5309.803026499227,
          -10198.553809197387,
          -8988.9187406149,
          -2635.5812239627994,
          -17785.123227908392,
          -8105.785422471585,
          -5564.745209204033,
          -4085.1917102176812,
          -4515.474571313724,
          -2683.0016473830037,
          -5610.765616933015,
          -13676.328350996133,
          -12595.773181261204,
          -7988.23442722304,
          -3170.872773978539,
          -1452.7495813637215,
          -4728.498959598117,
          -5960.655897796649,
          -1671.5733138771247,
          -1058.5029453553361,
          -1377.392033788703,
          -642.183605716391,
          -369.09655253387564,
          -350.66046346123017,
          -224.13718013260166,
          0,
          0,
          0,
          0,
          0,
          0,
          0,
          0,
          -378.2677137739861,
          -18.83941526862039,
          -124.54244423481305,
          -190.04620850973402,
          -1969.1223889609626,
          -1351.683177805205,
          -202.85787730482963,
          0,
          0,
          0,
          -140.53393562651564,
          -53.05939221914207,
          -304.5184476709446,
          -25212.634359054988,
          -3838.448160720269,
          -1350.760646844872,
          -1727.6052983332993,
          -3091.223152334209,
          -1978.2259990150778,
          -5027.3170993325475,
          -14062.668634199195,
          -4188.20236180444,
          -4471.10480660398,
          -16691.480274957932,
          -77030.41832500466,
          -27603.41732526681,
          -23158.13039157298,
          -9984.528562816005,
          -28562.79552455165,
          -8527.06640407801,
          -4799.282713770808,
          -5536.676512537058,
          -14711.329656456364,
          -8849.173362579604,
          -5164.777638227562,
          -5473.286272090976,
          -5322.478840377415,
          -5357.776941436081,
          -4102.142530424535,
          -12711.615796547034,
          -3769.872163858614,
          -8867.986518010788,
          -6281.956491211429,
          -2114.5859914055036,
          -16134.432258289191,
          -7130.650113639887,
          -4994.70550480159,
          -3789.405278668535,
          -4053.1413338444254,
          -2222.9134033091977,
          -5043.477033745527,
          -12662.641996598628,
          -11555.121694905567,
          -7524.43332581775,
          -2921.6414822811494,
          -1394.8800388649688,
          -4435.042400724618,
          -5098.889472093288,
          -1431.9170588507623,
          -926.2491349279226,
          -1186.7655489678873,
          -555.8300499591114,
          -292.17570298054534,
          -266.0083438283789,
          -205.78873125529628,
          0,
          0,
          0,
          0,
          0,
          0,
          0,
          0,
          -265.6664199706411,
          -7.817252722472864,
          -111.8508749264588,
          -159.05336333014998,
          -1943.9488765726815,
          -899.6914142548478,
          -94.46458828005666,
          0,
          0,
          0,
          -70.14695058577239,
          -31.98763417735762,
          -290.6385740636515,
          -22014.49118076286,
          -3455.680267483105,
          -1221.6327646494465,
          -1591.893407449821,
          -2792.5195334987475,
          -1671.7973579991449,
          -4575.689473270912,
          -13498.239414084841,
          -3819.015767217941,
          -4034.1253916321148,
          -15228.338953561331,
          -73120.40333617266,
          -25401.319882099226,
          -21560.136978256138,
          -8908.498125539016,
          -26210.35359756049,
          -7859.222261912859,
          -4336.502353694988,
          -5044.984047876453,
          -13601.216833364277,
          -8216.99990566168,
          -4682.095040793298,
          -5062.678789380676,
          -4854.899907377956,
          -4878.8485498701775,
          -3742.8242826162023,
          -11818.195440907846,
          -3436.284222675604,
          -8092.246007292473,
          -5803.722136610886,
          -1896.4970992103335,
          -14758.311811856809,
          -6558.237003062852,
          -4443.078735586139,
          -3466.0343575002044,
          -3659.3129425052175,
          -2078.689371523069,
          -4631.692955690829,
          -11808.366214403475,
          -10760.367586998851,
          -6897.922412598389,
          -2594.975002234016,
          -1253.6011775763327,
          -3936.770931559615,
          -4843.606395338691,
          -1325.0181939006725,
          -804.3724999432743,
          -1084.830723582585,
          -433.38697790374863,
          -256.7276335376687,
          -229.62786004166378,
          -159.26681607020174,
          0,
          0,
          0,
          0,
          0,
          0,
          0,
          0,
          -180.310057570759,
          -2.6742256774491646,
          -85.0819094664489,
          -158.24866597624964,
          -1884.4634372573296,
          -472.8499801665762,
          -65.97595786258722
         ],
         "yaxis": "y"
        },
        {
         "hovertemplate": "Run=double_pumping<br>time=%{x}<br>flow_reduction=%{y}<extra></extra>",
         "legendgroup": "double_pumping",
         "line": {
          "color": "#2CA02C",
          "dash": "solid"
         },
         "marker": {
          "symbol": "circle"
         },
         "mode": "lines",
         "name": "double_pumping",
         "opacity": 0.4,
         "orientation": "h",
         "showlegend": true,
         "type": "scatter",
         "x": {
          "bdata": "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",
          "dtype": "f8"
         },
         "xaxis": "x",
         "y": [
          0,
          0,
          0,
          0,
          -2.546207269919364,
          -0.5823342072353626,
          1.1193175054932425,
          -34740.86085752298,
          -5538.605500493966,
          -1391.0574758824132,
          -2127.754973218216,
          -3053.921992024745,
          -4641.686892246627,
          -6627.250869629028,
          -2339.1730979018976,
          -3671.9704629108564,
          -4606.321068346864,
          -9343.77408074333,
          -20146.404851840663,
          -13327.24794795805,
          -8119.817151026393,
          -71735.92806944033,
          -42367.30508587274,
          -16630.45659905052,
          -18735.53633411933,
          -80778.00665597449,
          -48043.43694417982,
          -21685.770835664443,
          -13851.251890860469,
          -10557.544430284383,
          -9581.670192806778,
          -7117.909725510734,
          -27468.50686954672,
          -7330.334460174432,
          -13317.064292842173,
          -12032.308920594282,
          -3648.7669632675243,
          -22755.534280114924,
          -10980.918721078895,
          -7846.341994246119,
          -5562.960168126214,
          -6109.4972503781755,
          -3782.4320887072827,
          -7228.9510200429795,
          -18147.958784525516,
          -17518.20916521427,
          -10708.287366697157,
          -4336.683445831732,
          -2167.8667353995115,
          -6528.057067428788,
          -8539.650084450652,
          -2413.218920741565,
          -1549.9957822020078,
          -1974.2075201133412,
          -1044.3891451154595,
          -536.8217818159201,
          -502.7554288451736,
          -301.78701000703444,
          0,
          0,
          0,
          0,
          0,
          0,
          0,
          0,
          -727.4235840474253,
          -18.83941526862039,
          -672.1448738363897,
          -201.8471819373799,
          -1968.208389726176,
          -1361.720251559343,
          -309.5891540721728,
          0,
          0,
          0,
          -156.59067221185492,
          -137.39567731858077,
          -2336.5490431542407,
          -34123.98965737071,
          -6343.18908208036,
          -2345.8985247013043,
          -2441.0777617002677,
          -4157.245998543778,
          -3041.693231517871,
          -7546.072447767234,
          -16063.570957025688,
          -5824.029599993235,
          -6189.686929245916,
          -21962.423935437728,
          -89803.36871843791,
          -37264.18203728134,
          -31781.983695918345,
          -15064.356369966205,
          -40339.8116151609,
          -12031.778689893312,
          -6885.85862188958,
          -7744.154929435317,
          -20193.806941958726,
          -12727.081205920258,
          -7448.711192849558,
          -7674.7318231724785,
          -7420.18191476076,
          -7485.377348752154,
          -5867.076524784017,
          -18315.476420736988,
          -5367.164021247707,
          -12218.948558172153,
          -8965.961258310126,
          -3165.7400736976415,
          -21791.131524719647,
          -10217.308566575404,
          -7678.797087370302,
          -5371.174223274691,
          -5856.740096099515,
          -3561.651123234813,
          -6966.96118657972,
          -17486.109670965292,
          -16819.342351413157,
          -10486.487110011745,
          -4261.082396524318,
          -2049.081218069012,
          -6384.6917857155495,
          -8045.7070849226875,
          -2226.7352654736824,
          -1509.7704874840347,
          -1864.554379663332,
          -946.6642203718602,
          -487.03946381168043,
          -426.45346283567096,
          -285.2212456841282,
          0,
          0,
          0,
          0,
          0,
          0,
          0,
          0,
          -662.5562139407211,
          -7.817252722472864,
          -492.51868572112244,
          -175.6852202988407,
          -1957.4227875457068,
          -1354.2818548802743,
          -305.68875677497465,
          0,
          0,
          0,
          -153.86365744867228,
          -128.2635714777804,
          -1831.5953596225372,
          -33154.44392050104,
          -6003.070111021923,
          -2142.092761066895,
          -2303.9817120860025,
          -3967.931049547813,
          -2929.7496914016556,
          -7287.376690305689,
          -15712.281773686198,
          -5618.981595346508,
          -5898.731781031456,
          -21259.77153087421,
          -88173.99480539381,
          -36034.50143840071,
          -30773.18091043216,
          -14598.953778805415,
          -39005.06797092437,
          -11619.888197587483,
          -6646.401022392951,
          -7491.581784823997,
          -19669.700293081638,
          -12365.593868862372,
          -7161.88864989893,
          -7467.08267539824,
          -7151.57953909933,
          -7251.097944139605,
          -5663.589926592962,
          -17714.927349701524,
          -5203.816498418513,
          -11863.71930767293,
          -8685.574615722988,
          -3045.390158646682,
          -21131.33412288199,
          -9867.912436448038,
          -7226.483767101541,
          -5183.692748240923,
          -5628.659673382994,
          -3376.59056280239,
          -6762.420197767351,
          -17042.767408638203,
          -16561.99034723657,
          -10079.34529621678,
          -4145.95575276803,
          -2004.7056506986119,
          -5976.699538814297,
          -7853.719113904255,
          -2191.9888813071957,
          -1373.9248526598967,
          -1759.5956461395908,
          -873.6498788466979,
          -474.27266156329233,
          -414.79172833809844,
          -263.02087626164223,
          0,
          0,
          0,
          0,
          0,
          0,
          0,
          0,
          -707.3438673187597,
          -2.6742256774491646,
          -359.40782101234527,
          -151.47398271459053,
          -1946.6207419178788,
          -1360.3532572909746,
          -305.2700031541722
         ],
         "yaxis": "y"
        }
       ],
       "layout": {
        "height": 700,
        "legend": {
         "orientation": "h",
         "title": {
          "text": "Run"
         },
         "tracegroupgap": 0,
         "x": 1,
         "xanchor": "right",
         "y": 0.96,
         "yanchor": "bottom"
        },
        "showlegend": true,
        "template": {
         "data": {
          "bar": [
           {
            "error_x": {
             "color": "rgb(36,36,36)"
            },
            "error_y": {
             "color": "rgb(36,36,36)"
            },
            "marker": {
             "line": {
              "color": "white",
              "width": 0.5
             },
             "pattern": {
              "fillmode": "overlay",
              "size": 10,
              "solidity": 0.2
             }
            },
            "type": "bar"
           }
          ],
          "barpolar": [
           {
            "marker": {
             "line": {
              "color": "white",
              "width": 0.5
             },
             "pattern": {
              "fillmode": "overlay",
              "size": 10,
              "solidity": 0.2
             }
            },
            "type": "barpolar"
           }
          ],
          "carpet": [
           {
            "aaxis": {
             "endlinecolor": "rgb(36,36,36)",
             "gridcolor": "white",
             "linecolor": "white",
             "minorgridcolor": "white",
             "startlinecolor": "rgb(36,36,36)"
            },
            "baxis": {
             "endlinecolor": "rgb(36,36,36)",
             "gridcolor": "white",
             "linecolor": "white",
             "minorgridcolor": "white",
             "startlinecolor": "rgb(36,36,36)"
            },
            "type": "carpet"
           }
          ],
          "choropleth": [
           {
            "colorbar": {
             "outlinewidth": 1,
             "tickcolor": "rgb(36,36,36)",
             "ticks": "outside"
            },
            "type": "choropleth"
           }
          ],
          "contour": [
           {
            "colorbar": {
             "outlinewidth": 1,
             "tickcolor": "rgb(36,36,36)",
             "ticks": "outside"
            },
            "colorscale": [
             [
              0,
              "#440154"
             ],
             [
              0.1111111111111111,
              "#482878"
             ],
             [
              0.2222222222222222,
              "#3e4989"
             ],
             [
              0.3333333333333333,
              "#31688e"
             ],
             [
              0.4444444444444444,
              "#26828e"
             ],
             [
              0.5555555555555556,
              "#1f9e89"
             ],
             [
              0.6666666666666666,
              "#35b779"
             ],
             [
              0.7777777777777778,
              "#6ece58"
             ],
             [
              0.8888888888888888,
              "#b5de2b"
             ],
             [
              1,
              "#fde725"
             ]
            ],
            "type": "contour"
           }
          ],
          "contourcarpet": [
           {
            "colorbar": {
             "outlinewidth": 1,
             "tickcolor": "rgb(36,36,36)",
             "ticks": "outside"
            },
            "type": "contourcarpet"
           }
          ],
          "heatmap": [
           {
            "colorbar": {
             "outlinewidth": 1,
             "tickcolor": "rgb(36,36,36)",
             "ticks": "outside"
            },
            "colorscale": [
             [
              0,
              "#440154"
             ],
             [
              0.1111111111111111,
              "#482878"
             ],
             [
              0.2222222222222222,
              "#3e4989"
             ],
             [
              0.3333333333333333,
              "#31688e"
             ],
             [
              0.4444444444444444,
              "#26828e"
             ],
             [
              0.5555555555555556,
              "#1f9e89"
             ],
             [
              0.6666666666666666,
              "#35b779"
             ],
             [
              0.7777777777777778,
              "#6ece58"
             ],
             [
              0.8888888888888888,
              "#b5de2b"
             ],
             [
              1,
              "#fde725"
             ]
            ],
            "type": "heatmap"
           }
          ],
          "histogram": [
           {
            "marker": {
             "line": {
              "color": "white",
              "width": 0.6
             }
            },
            "type": "histogram"
           }
          ],
          "histogram2d": [
           {
            "colorbar": {
             "outlinewidth": 1,
             "tickcolor": "rgb(36,36,36)",
             "ticks": "outside"
            },
            "colorscale": [
             [
              0,
              "#440154"
             ],
             [
              0.1111111111111111,
              "#482878"
             ],
             [
              0.2222222222222222,
              "#3e4989"
             ],
             [
              0.3333333333333333,
              "#31688e"
             ],
             [
              0.4444444444444444,
              "#26828e"
             ],
             [
              0.5555555555555556,
              "#1f9e89"
             ],
             [
              0.6666666666666666,
              "#35b779"
             ],
             [
              0.7777777777777778,
              "#6ece58"
             ],
             [
              0.8888888888888888,
              "#b5de2b"
             ],
             [
              1,
              "#fde725"
             ]
            ],
            "type": "histogram2d"
           }
          ],
          "histogram2dcontour": [
           {
            "colorbar": {
             "outlinewidth": 1,
             "tickcolor": "rgb(36,36,36)",
             "ticks": "outside"
            },
            "colorscale": [
             [
              0,
              "#440154"
             ],
             [
              0.1111111111111111,
              "#482878"
             ],
             [
              0.2222222222222222,
              "#3e4989"
             ],
             [
              0.3333333333333333,
              "#31688e"
             ],
             [
              0.4444444444444444,
              "#26828e"
             ],
             [
              0.5555555555555556,
              "#1f9e89"
             ],
             [
              0.6666666666666666,
              "#35b779"
             ],
             [
              0.7777777777777778,
              "#6ece58"
             ],
             [
              0.8888888888888888,
              "#b5de2b"
             ],
             [
              1,
              "#fde725"
             ]
            ],
            "type": "histogram2dcontour"
           }
          ],
          "mesh3d": [
           {
            "colorbar": {
             "outlinewidth": 1,
             "tickcolor": "rgb(36,36,36)",
             "ticks": "outside"
            },
            "type": "mesh3d"
           }
          ],
          "parcoords": [
           {
            "line": {
             "colorbar": {
              "outlinewidth": 1,
              "tickcolor": "rgb(36,36,36)",
              "ticks": "outside"
             }
            },
            "type": "parcoords"
           }
          ],
          "pie": [
           {
            "automargin": true,
            "type": "pie"
           }
          ],
          "scatter": [
           {
            "fillpattern": {
             "fillmode": "overlay",
             "size": 10,
             "solidity": 0.2
            },
            "type": "scatter"
           }
          ],
          "scatter3d": [
           {
            "line": {
             "colorbar": {
              "outlinewidth": 1,
              "tickcolor": "rgb(36,36,36)",
              "ticks": "outside"
             }
            },
            "marker": {
             "colorbar": {
              "outlinewidth": 1,
              "tickcolor": "rgb(36,36,36)",
              "ticks": "outside"
             }
            },
            "type": "scatter3d"
           }
          ],
          "scattercarpet": [
           {
            "marker": {
             "colorbar": {
              "outlinewidth": 1,
              "tickcolor": "rgb(36,36,36)",
              "ticks": "outside"
             }
            },
            "type": "scattercarpet"
           }
          ],
          "scattergeo": [
           {
            "marker": {
             "colorbar": {
              "outlinewidth": 1,
              "tickcolor": "rgb(36,36,36)",
              "ticks": "outside"
             }
            },
            "type": "scattergeo"
           }
          ],
          "scattergl": [
           {
            "marker": {
             "colorbar": {
              "outlinewidth": 1,
              "tickcolor": "rgb(36,36,36)",
              "ticks": "outside"
             }
            },
            "type": "scattergl"
           }
          ],
          "scattermap": [
           {
            "marker": {
             "colorbar": {
              "outlinewidth": 1,
              "tickcolor": "rgb(36,36,36)",
              "ticks": "outside"
             }
            },
            "type": "scattermap"
           }
          ],
          "scattermapbox": [
           {
            "marker": {
             "colorbar": {
              "outlinewidth": 1,
              "tickcolor": "rgb(36,36,36)",
              "ticks": "outside"
             }
            },
            "type": "scattermapbox"
           }
          ],
          "scatterpolar": [
           {
            "marker": {
             "colorbar": {
              "outlinewidth": 1,
              "tickcolor": "rgb(36,36,36)",
              "ticks": "outside"
             }
            },
            "type": "scatterpolar"
           }
          ],
          "scatterpolargl": [
           {
            "marker": {
             "colorbar": {
              "outlinewidth": 1,
              "tickcolor": "rgb(36,36,36)",
              "ticks": "outside"
             }
            },
            "type": "scatterpolargl"
           }
          ],
          "scatterternary": [
           {
            "marker": {
             "colorbar": {
              "outlinewidth": 1,
              "tickcolor": "rgb(36,36,36)",
              "ticks": "outside"
             }
            },
            "type": "scatterternary"
           }
          ],
          "surface": [
           {
            "colorbar": {
             "outlinewidth": 1,
             "tickcolor": "rgb(36,36,36)",
             "ticks": "outside"
            },
            "colorscale": [
             [
              0,
              "#440154"
             ],
             [
              0.1111111111111111,
              "#482878"
             ],
             [
              0.2222222222222222,
              "#3e4989"
             ],
             [
              0.3333333333333333,
              "#31688e"
             ],
             [
              0.4444444444444444,
              "#26828e"
             ],
             [
              0.5555555555555556,
              "#1f9e89"
             ],
             [
              0.6666666666666666,
              "#35b779"
             ],
             [
              0.7777777777777778,
              "#6ece58"
             ],
             [
              0.8888888888888888,
              "#b5de2b"
             ],
             [
              1,
              "#fde725"
             ]
            ],
            "type": "surface"
           }
          ],
          "table": [
           {
            "cells": {
             "fill": {
              "color": "rgb(237,237,237)"
             },
             "line": {
              "color": "white"
             }
            },
            "header": {
             "fill": {
              "color": "rgb(217,217,217)"
             },
             "line": {
              "color": "white"
             }
            },
            "type": "table"
           }
          ]
         },
         "layout": {
          "annotationdefaults": {
           "arrowhead": 0,
           "arrowwidth": 1
          },
          "autotypenumbers": "strict",
          "coloraxis": {
           "colorbar": {
            "outlinewidth": 1,
            "tickcolor": "rgb(36,36,36)",
            "ticks": "outside"
           }
          },
          "colorscale": {
           "diverging": [
            [
             0,
             "rgb(103,0,31)"
            ],
            [
             0.1,
             "rgb(178,24,43)"
            ],
            [
             0.2,
             "rgb(214,96,77)"
            ],
            [
             0.3,
             "rgb(244,165,130)"
            ],
            [
             0.4,
             "rgb(253,219,199)"
            ],
            [
             0.5,
             "rgb(247,247,247)"
            ],
            [
             0.6,
             "rgb(209,229,240)"
            ],
            [
             0.7,
             "rgb(146,197,222)"
            ],
            [
             0.8,
             "rgb(67,147,195)"
            ],
            [
             0.9,
             "rgb(33,102,172)"
            ],
            [
             1,
             "rgb(5,48,97)"
            ]
           ],
           "sequential": [
            [
             0,
             "#440154"
            ],
            [
             0.1111111111111111,
             "#482878"
            ],
            [
             0.2222222222222222,
             "#3e4989"
            ],
            [
             0.3333333333333333,
             "#31688e"
            ],
            [
             0.4444444444444444,
             "#26828e"
            ],
            [
             0.5555555555555556,
             "#1f9e89"
            ],
            [
             0.6666666666666666,
             "#35b779"
            ],
            [
             0.7777777777777778,
             "#6ece58"
            ],
            [
             0.8888888888888888,
             "#b5de2b"
            ],
            [
             1,
             "#fde725"
            ]
           ],
           "sequentialminus": [
            [
             0,
             "#440154"
            ],
            [
             0.1111111111111111,
             "#482878"
            ],
            [
             0.2222222222222222,
             "#3e4989"
            ],
            [
             0.3333333333333333,
             "#31688e"
            ],
            [
             0.4444444444444444,
             "#26828e"
            ],
            [
             0.5555555555555556,
             "#1f9e89"
            ],
            [
             0.6666666666666666,
             "#35b779"
            ],
            [
             0.7777777777777778,
             "#6ece58"
            ],
            [
             0.8888888888888888,
             "#b5de2b"
            ],
            [
             1,
             "#fde725"
            ]
           ]
          },
          "colorway": [
           "#1F77B4",
           "#FF7F0E",
           "#2CA02C",
           "#D62728",
           "#9467BD",
           "#8C564B",
           "#E377C2",
           "#7F7F7F",
           "#BCBD22",
           "#17BECF"
          ],
          "font": {
           "color": "rgb(36,36,36)"
          },
          "geo": {
           "bgcolor": "white",
           "lakecolor": "white",
           "landcolor": "white",
           "showlakes": true,
           "showland": true,
           "subunitcolor": "white"
          },
          "hoverlabel": {
           "align": "left"
          },
          "hovermode": "closest",
          "mapbox": {
           "style": "light"
          },
          "paper_bgcolor": "white",
          "plot_bgcolor": "white",
          "polar": {
           "angularaxis": {
            "gridcolor": "rgb(232,232,232)",
            "linecolor": "rgb(36,36,36)",
            "showgrid": false,
            "showline": true,
            "ticks": "outside"
           },
           "bgcolor": "white",
           "radialaxis": {
            "gridcolor": "rgb(232,232,232)",
            "linecolor": "rgb(36,36,36)",
            "showgrid": false,
            "showline": true,
            "ticks": "outside"
           }
          },
          "scene": {
           "xaxis": {
            "backgroundcolor": "white",
            "gridcolor": "rgb(232,232,232)",
            "gridwidth": 2,
            "linecolor": "rgb(36,36,36)",
            "showbackground": true,
            "showgrid": false,
            "showline": true,
            "ticks": "outside",
            "zeroline": false,
            "zerolinecolor": "rgb(36,36,36)"
           },
           "yaxis": {
            "backgroundcolor": "white",
            "gridcolor": "rgb(232,232,232)",
            "gridwidth": 2,
            "linecolor": "rgb(36,36,36)",
            "showbackground": true,
            "showgrid": false,
            "showline": true,
            "ticks": "outside",
            "zeroline": false,
            "zerolinecolor": "rgb(36,36,36)"
           },
           "zaxis": {
            "backgroundcolor": "white",
            "gridcolor": "rgb(232,232,232)",
            "gridwidth": 2,
            "linecolor": "rgb(36,36,36)",
            "showbackground": true,
            "showgrid": false,
            "showline": true,
            "ticks": "outside",
            "zeroline": false,
            "zerolinecolor": "rgb(36,36,36)"
           }
          },
          "shapedefaults": {
           "fillcolor": "black",
           "line": {
            "width": 0
           },
           "opacity": 0.3
          },
          "ternary": {
           "aaxis": {
            "gridcolor": "rgb(232,232,232)",
            "linecolor": "rgb(36,36,36)",
            "showgrid": false,
            "showline": true,
            "ticks": "outside"
           },
           "baxis": {
            "gridcolor": "rgb(232,232,232)",
            "linecolor": "rgb(36,36,36)",
            "showgrid": false,
            "showline": true,
            "ticks": "outside"
           },
           "bgcolor": "white",
           "caxis": {
            "gridcolor": "rgb(232,232,232)",
            "linecolor": "rgb(36,36,36)",
            "showgrid": false,
            "showline": true,
            "ticks": "outside"
           }
          },
          "title": {
           "x": 0.05
          },
          "xaxis": {
           "automargin": true,
           "gridcolor": "rgb(232,232,232)",
           "linecolor": "rgb(36,36,36)",
           "showgrid": false,
           "showline": true,
           "ticks": "outside",
           "title": {
            "standoff": 15
           },
           "zeroline": false,
           "zerolinecolor": "rgb(36,36,36)"
          },
          "yaxis": {
           "automargin": true,
           "gridcolor": "rgb(232,232,232)",
           "linecolor": "rgb(36,36,36)",
           "showgrid": false,
           "showline": true,
           "ticks": "outside",
           "title": {
            "standoff": 15
           },
           "zeroline": false,
           "zerolinecolor": "rgb(36,36,36)"
          }
         }
        },
        "title": {
         "text": "flow_reduction over time"
        },
        "width": 800,
        "xaxis": {
         "anchor": "y",
         "domain": [
          0,
          1
         ],
         "title": {
          "text": "Time (years)"
         }
        },
        "yaxis": {
         "anchor": "x",
         "domain": [
          0,
          1
         ],
         "title": {}
        }
       }
      }
     },
     "metadata": {},
     "output_type": "display_data"
    }
   ],
   "source": [
    "utils.plot_variable_for_each_run(\"flow_reduction\", runs)"
   ]
  },
  {
   "cell_type": "code",
   "execution_count": 16,
   "id": "b1e86731",
   "metadata": {},
   "outputs": [
    {
     "data": {
      "application/vnd.plotly.v1+json": {
       "config": {
        "plotlyServerURL": "https://plot.ly"
       },
       "data": [
        {
         "hovertemplate": "Run=baseline<br>time=%{x}<br>percent_change_in_flow=%{y}<extra></extra>",
         "legendgroup": "baseline",
         "line": {
          "color": "#1F77B4",
          "dash": "solid"
         },
         "marker": {
          "symbol": "circle"
         },
         "mode": "lines",
         "name": "baseline",
         "opacity": 0.4,
         "orientation": "v",
         "showlegend": true,
         "type": "scatter",
         "x": {
          "bdata": "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",
          "dtype": "f8"
         },
         "xaxis": "x",
         "y": {
          "bdata": "AAAAAAAAAAAAAAAAAAAAAAAAAAAAAAAAAAAAAAAAAAAAAAAAAAAAAAAAAAAAAAAAAAAAAAAAAAAAAAAAAAAAAAAAAAAAAAAAAAAAAAAAAAAAAAAAAAAAAAAAAAAAAAAAAAAAAAAAAAAAAAAAAAAAAAAAAAAAAAAAAAAAAAAAAAAAAAAAAAAAAAAAAAAAAAAAAAAAAAAAAAAAAAAAAAAAAAAAAAAAAAAAAAAAAAAAAAAAAAAAAAAAAAAAAAAAAAAAAAAAAAAAAAAAAAAAAAAAAAAAAAAAAAAAAAAAAAAAAAAAAAAAAAAAAAAAAAAAAAAAAAAAAAAAAAAAAAAAAAAAAAAAAAAAAAAAAAAAAAAAAAAAAAAAAAAAAAAAAAAAAAAAAAAAAAAAAAAAAAAAAAAAAAAAAAAAAAAAAAAAAAAAAAAAAAAAAAAAAAAAAAAAAAAAAAAAAAAAAAAAAAAAAAAAAAAAAAAAAAAAAAAAAAAAAAAAAAAAAAAAAAAAAAAAAAAAAAAAAAAAAAAAAAAAAAAAAAAAAAAAAAAAAAAAAAAAAAAAAAAAAAAAAAAAAAAAAAAAAAAAAAAAAAAAAAAAAAAAAAAAAAAAAAAAAAAAAAAAAAAAAAAAAAAAAAAAAAAAAAAAAAAAAAAAAAAAAAAAAAAAAAAAAAAAAAAAAAAAAAAAAAAAAAAAAAAAAAAAAAAAAAAAAAAAAAAAAAAAAAAAAAAAAAAAAAAAAAAAAAAAAAAAAAAAAAAAAAAAAAAAAAAAAAAAAAAAAAAAAAAAAAAAAAAAAAAAAAAAAAAAAAAAAAAAAAAAAAAAAAAAAAAAAAAAAAAAAAAAAAAAAAAAAAAAAAAAAAAAAAAAAAAAAAAAAAAAAAAAAAAAAAAAAAAAAAAAAAAAAAAAAAAAAAAAAAAAAAAAAAAAAAAAAAAAAAAAAAAAAAAAAAAAAAAAAAAAAAAAAAAAAAAAAAAAAAAAAAAAAAAAAAAAAAAAAAAAAAAAAAAAAAAAAAAAAAAAAAAAAAAAAAAAAAAAAAAAAAAAAAAAAAAAAAAAAAAAAAAAAAAAAAAAAAAAAAAAAAAAAAAAAAAAAAAAAAAAAAAAAAAAAAAAAAAAAAAAAAAAAAAAAAAAAAAAAAAAAAAAAAAAAAAAAAAAAAAAAAAAAAAAAAAAAAAAAAAAAAAAAAAAAAAAAAAAAAAAAAAAAAAAAAAAAAAAAAAAAAAAAAAAAAAAAAAAAAAAAAAAAAAAAAAAAAAAAAAAAAAAAAAAAAAAAAAAAAAAAAAAAAAAAAAAAAAAAAAAAAAAAAAAAAAAAAAAAAAAAAAAAAAAAAAAAAAAAAAAAAAAAAAAAAAAAAAAAAAAAAAAAAAAAAAAAAAAAAAAAAAAAAAAAAAAAAAAAAAAAAAAAAAAAAAAAAAAAAAAAAAAAAAAAAAAAAAAAAAAAAAAAAAAAAAAAAAAAAAAAAAAAAAAAAAAAAAAAAAAAAAAAAAAAAAAAAAAAAAAAAAAAAAAAAAAAAAAAAAAAAAAAAAAAAAAAAAAAAAAAAAAAAAAAAAAAAAAAAAAAAAAAAAAAAAAAAAAAAAAAAAAAAAAAAAAAAAAAAAAAAAAAAAAAAAAAAAAAAAAAAAAAAAAAAAAAAAAAAAAAAAAAAAAAAAAAAAAAAAAAAAAAAAAAAAAAAAAAAAAAAAAAAAAAAAAAAAAAAAAAAAAAAAAAAAAAAAAAAAAAAAAAAAAAAAAAAAAAAAAAAAAAAAAAAAAAAAAAAAAAAAAAAAAAAAAAAAAAAAAAAAAAAAAAAAAAAAAAAAAAAAAAAAAAAAAAAAAAAAAAAAAAAAAAAAAAAAAAAAAAAAAAAAAAAAAAAAAAAAAAAAAAAAAAAAAAAAAAAAAAAAAAAAAAAAAAAAAAAAAAAAAAAAAAAAAAAAAAAAAAAAAAAAAAAAAAAAAAAAAAAAAAAAAAAAAAAAAAAAAAAAAAAAAAAAAAAAAAAAAAAAAAAAAAAAAAAAAAAAAAAAAAAAAAAAAAAAAAAAAAAAAAAAAAAAAAAAAAAAAAAAAAAAAAAAAAAAAAAAAAAAAAAAAAAAAAAAAAAAAAAAAAAAAAAAAAAAAAAAAAAAAAAAAAAAAAAAAAAAAAAAAAAAAAAAAAAAAAAAAAAAAAAAAAAAAAAAAAAAAAAAAAAAAAAAAAAAAAAAAAAAAAAAAAAAAAAAAAAAAAAAAAAAAAAAAAAAAAAAAAAAAAAAAAAAAAAAAAAAAAAAAAAAAAAAAAAAAAAAAAAAAAAAAAAAAAAAAAAAAAAAAAAAAAAAAAAAAAAAAAAAAAAAAAAAAAAAAAAAAAAAAAAAAAAAAAAAAAAAAAAAA",
          "dtype": "f8"
         },
         "yaxis": "y"
        },
        {
         "hovertemplate": "Run=pumping<br>time=%{x}<br>percent_change_in_flow=%{y}<extra></extra>",
         "legendgroup": "pumping",
         "line": {
          "color": "#FF7F0E",
          "dash": "solid"
         },
         "marker": {
          "symbol": "circle"
         },
         "mode": "lines",
         "name": "pumping",
         "opacity": 0.4,
         "orientation": "v",
         "showlegend": true,
         "type": "scatter",
         "x": {
          "bdata": "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",
          "dtype": "f8"
         },
         "xaxis": "x",
         "y": {
          "bdata": "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",
          "dtype": "f8"
         },
         "yaxis": "y"
        },
        {
         "hovertemplate": "Run=double_pumping<br>time=%{x}<br>percent_change_in_flow=%{y}<extra></extra>",
         "legendgroup": "double_pumping",
         "line": {
          "color": "#2CA02C",
          "dash": "solid"
         },
         "marker": {
          "symbol": "circle"
         },
         "mode": "lines",
         "name": "double_pumping",
         "opacity": 0.4,
         "orientation": "v",
         "showlegend": true,
         "type": "scatter",
         "x": {
          "bdata": "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",
          "dtype": "f8"
         },
         "xaxis": "x",
         "y": {
          "bdata": "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",
          "dtype": "f8"
         },
         "yaxis": "y"
        }
       ],
       "layout": {
        "height": 700,
        "legend": {
         "orientation": "h",
         "title": {
          "text": "Run"
         },
         "tracegroupgap": 0,
         "x": 1,
         "xanchor": "right",
         "y": 0.96,
         "yanchor": "bottom"
        },
        "showlegend": true,
        "template": {
         "data": {
          "bar": [
           {
            "error_x": {
             "color": "rgb(36,36,36)"
            },
            "error_y": {
             "color": "rgb(36,36,36)"
            },
            "marker": {
             "line": {
              "color": "white",
              "width": 0.5
             },
             "pattern": {
              "fillmode": "overlay",
              "size": 10,
              "solidity": 0.2
             }
            },
            "type": "bar"
           }
          ],
          "barpolar": [
           {
            "marker": {
             "line": {
              "color": "white",
              "width": 0.5
             },
             "pattern": {
              "fillmode": "overlay",
              "size": 10,
              "solidity": 0.2
             }
            },
            "type": "barpolar"
           }
          ],
          "carpet": [
           {
            "aaxis": {
             "endlinecolor": "rgb(36,36,36)",
             "gridcolor": "white",
             "linecolor": "white",
             "minorgridcolor": "white",
             "startlinecolor": "rgb(36,36,36)"
            },
            "baxis": {
             "endlinecolor": "rgb(36,36,36)",
             "gridcolor": "white",
             "linecolor": "white",
             "minorgridcolor": "white",
             "startlinecolor": "rgb(36,36,36)"
            },
            "type": "carpet"
           }
          ],
          "choropleth": [
           {
            "colorbar": {
             "outlinewidth": 1,
             "tickcolor": "rgb(36,36,36)",
             "ticks": "outside"
            },
            "type": "choropleth"
           }
          ],
          "contour": [
           {
            "colorbar": {
             "outlinewidth": 1,
             "tickcolor": "rgb(36,36,36)",
             "ticks": "outside"
            },
            "colorscale": [
             [
              0,
              "#440154"
             ],
             [
              0.1111111111111111,
              "#482878"
             ],
             [
              0.2222222222222222,
              "#3e4989"
             ],
             [
              0.3333333333333333,
              "#31688e"
             ],
             [
              0.4444444444444444,
              "#26828e"
             ],
             [
              0.5555555555555556,
              "#1f9e89"
             ],
             [
              0.6666666666666666,
              "#35b779"
             ],
             [
              0.7777777777777778,
              "#6ece58"
             ],
             [
              0.8888888888888888,
              "#b5de2b"
             ],
             [
              1,
              "#fde725"
             ]
            ],
            "type": "contour"
           }
          ],
          "contourcarpet": [
           {
            "colorbar": {
             "outlinewidth": 1,
             "tickcolor": "rgb(36,36,36)",
             "ticks": "outside"
            },
            "type": "contourcarpet"
           }
          ],
          "heatmap": [
           {
            "colorbar": {
             "outlinewidth": 1,
             "tickcolor": "rgb(36,36,36)",
             "ticks": "outside"
            },
            "colorscale": [
             [
              0,
              "#440154"
             ],
             [
              0.1111111111111111,
              "#482878"
             ],
             [
              0.2222222222222222,
              "#3e4989"
             ],
             [
              0.3333333333333333,
              "#31688e"
             ],
             [
              0.4444444444444444,
              "#26828e"
             ],
             [
              0.5555555555555556,
              "#1f9e89"
             ],
             [
              0.6666666666666666,
              "#35b779"
             ],
             [
              0.7777777777777778,
              "#6ece58"
             ],
             [
              0.8888888888888888,
              "#b5de2b"
             ],
             [
              1,
              "#fde725"
             ]
            ],
            "type": "heatmap"
           }
          ],
          "histogram": [
           {
            "marker": {
             "line": {
              "color": "white",
              "width": 0.6
             }
            },
            "type": "histogram"
           }
          ],
          "histogram2d": [
           {
            "colorbar": {
             "outlinewidth": 1,
             "tickcolor": "rgb(36,36,36)",
             "ticks": "outside"
            },
            "colorscale": [
             [
              0,
              "#440154"
             ],
             [
              0.1111111111111111,
              "#482878"
             ],
             [
              0.2222222222222222,
              "#3e4989"
             ],
             [
              0.3333333333333333,
              "#31688e"
             ],
             [
              0.4444444444444444,
              "#26828e"
             ],
             [
              0.5555555555555556,
              "#1f9e89"
             ],
             [
              0.6666666666666666,
              "#35b779"
             ],
             [
              0.7777777777777778,
              "#6ece58"
             ],
             [
              0.8888888888888888,
              "#b5de2b"
             ],
             [
              1,
              "#fde725"
             ]
            ],
            "type": "histogram2d"
           }
          ],
          "histogram2dcontour": [
           {
            "colorbar": {
             "outlinewidth": 1,
             "tickcolor": "rgb(36,36,36)",
             "ticks": "outside"
            },
            "colorscale": [
             [
              0,
              "#440154"
             ],
             [
              0.1111111111111111,
              "#482878"
             ],
             [
              0.2222222222222222,
              "#3e4989"
             ],
             [
              0.3333333333333333,
              "#31688e"
             ],
             [
              0.4444444444444444,
              "#26828e"
             ],
             [
              0.5555555555555556,
              "#1f9e89"
             ],
             [
              0.6666666666666666,
              "#35b779"
             ],
             [
              0.7777777777777778,
              "#6ece58"
             ],
             [
              0.8888888888888888,
              "#b5de2b"
             ],
             [
              1,
              "#fde725"
             ]
            ],
            "type": "histogram2dcontour"
           }
          ],
          "mesh3d": [
           {
            "colorbar": {
             "outlinewidth": 1,
             "tickcolor": "rgb(36,36,36)",
             "ticks": "outside"
            },
            "type": "mesh3d"
           }
          ],
          "parcoords": [
           {
            "line": {
             "colorbar": {
              "outlinewidth": 1,
              "tickcolor": "rgb(36,36,36)",
              "ticks": "outside"
             }
            },
            "type": "parcoords"
           }
          ],
          "pie": [
           {
            "automargin": true,
            "type": "pie"
           }
          ],
          "scatter": [
           {
            "fillpattern": {
             "fillmode": "overlay",
             "size": 10,
             "solidity": 0.2
            },
            "type": "scatter"
           }
          ],
          "scatter3d": [
           {
            "line": {
             "colorbar": {
              "outlinewidth": 1,
              "tickcolor": "rgb(36,36,36)",
              "ticks": "outside"
             }
            },
            "marker": {
             "colorbar": {
              "outlinewidth": 1,
              "tickcolor": "rgb(36,36,36)",
              "ticks": "outside"
             }
            },
            "type": "scatter3d"
           }
          ],
          "scattercarpet": [
           {
            "marker": {
             "colorbar": {
              "outlinewidth": 1,
              "tickcolor": "rgb(36,36,36)",
              "ticks": "outside"
             }
            },
            "type": "scattercarpet"
           }
          ],
          "scattergeo": [
           {
            "marker": {
             "colorbar": {
              "outlinewidth": 1,
              "tickcolor": "rgb(36,36,36)",
              "ticks": "outside"
             }
            },
            "type": "scattergeo"
           }
          ],
          "scattergl": [
           {
            "marker": {
             "colorbar": {
              "outlinewidth": 1,
              "tickcolor": "rgb(36,36,36)",
              "ticks": "outside"
             }
            },
            "type": "scattergl"
           }
          ],
          "scattermap": [
           {
            "marker": {
             "colorbar": {
              "outlinewidth": 1,
              "tickcolor": "rgb(36,36,36)",
              "ticks": "outside"
             }
            },
            "type": "scattermap"
           }
          ],
          "scattermapbox": [
           {
            "marker": {
             "colorbar": {
              "outlinewidth": 1,
              "tickcolor": "rgb(36,36,36)",
              "ticks": "outside"
             }
            },
            "type": "scattermapbox"
           }
          ],
          "scatterpolar": [
           {
            "marker": {
             "colorbar": {
              "outlinewidth": 1,
              "tickcolor": "rgb(36,36,36)",
              "ticks": "outside"
             }
            },
            "type": "scatterpolar"
           }
          ],
          "scatterpolargl": [
           {
            "marker": {
             "colorbar": {
              "outlinewidth": 1,
              "tickcolor": "rgb(36,36,36)",
              "ticks": "outside"
             }
            },
            "type": "scatterpolargl"
           }
          ],
          "scatterternary": [
           {
            "marker": {
             "colorbar": {
              "outlinewidth": 1,
              "tickcolor": "rgb(36,36,36)",
              "ticks": "outside"
             }
            },
            "type": "scatterternary"
           }
          ],
          "surface": [
           {
            "colorbar": {
             "outlinewidth": 1,
             "tickcolor": "rgb(36,36,36)",
             "ticks": "outside"
            },
            "colorscale": [
             [
              0,
              "#440154"
             ],
             [
              0.1111111111111111,
              "#482878"
             ],
             [
              0.2222222222222222,
              "#3e4989"
             ],
             [
              0.3333333333333333,
              "#31688e"
             ],
             [
              0.4444444444444444,
              "#26828e"
             ],
             [
              0.5555555555555556,
              "#1f9e89"
             ],
             [
              0.6666666666666666,
              "#35b779"
             ],
             [
              0.7777777777777778,
              "#6ece58"
             ],
             [
              0.8888888888888888,
              "#b5de2b"
             ],
             [
              1,
              "#fde725"
             ]
            ],
            "type": "surface"
           }
          ],
          "table": [
           {
            "cells": {
             "fill": {
              "color": "rgb(237,237,237)"
             },
             "line": {
              "color": "white"
             }
            },
            "header": {
             "fill": {
              "color": "rgb(217,217,217)"
             },
             "line": {
              "color": "white"
             }
            },
            "type": "table"
           }
          ]
         },
         "layout": {
          "annotationdefaults": {
           "arrowhead": 0,
           "arrowwidth": 1
          },
          "autotypenumbers": "strict",
          "coloraxis": {
           "colorbar": {
            "outlinewidth": 1,
            "tickcolor": "rgb(36,36,36)",
            "ticks": "outside"
           }
          },
          "colorscale": {
           "diverging": [
            [
             0,
             "rgb(103,0,31)"
            ],
            [
             0.1,
             "rgb(178,24,43)"
            ],
            [
             0.2,
             "rgb(214,96,77)"
            ],
            [
             0.3,
             "rgb(244,165,130)"
            ],
            [
             0.4,
             "rgb(253,219,199)"
            ],
            [
             0.5,
             "rgb(247,247,247)"
            ],
            [
             0.6,
             "rgb(209,229,240)"
            ],
            [
             0.7,
             "rgb(146,197,222)"
            ],
            [
             0.8,
             "rgb(67,147,195)"
            ],
            [
             0.9,
             "rgb(33,102,172)"
            ],
            [
             1,
             "rgb(5,48,97)"
            ]
           ],
           "sequential": [
            [
             0,
             "#440154"
            ],
            [
             0.1111111111111111,
             "#482878"
            ],
            [
             0.2222222222222222,
             "#3e4989"
            ],
            [
             0.3333333333333333,
             "#31688e"
            ],
            [
             0.4444444444444444,
             "#26828e"
            ],
            [
             0.5555555555555556,
             "#1f9e89"
            ],
            [
             0.6666666666666666,
             "#35b779"
            ],
            [
             0.7777777777777778,
             "#6ece58"
            ],
            [
             0.8888888888888888,
             "#b5de2b"
            ],
            [
             1,
             "#fde725"
            ]
           ],
           "sequentialminus": [
            [
             0,
             "#440154"
            ],
            [
             0.1111111111111111,
             "#482878"
            ],
            [
             0.2222222222222222,
             "#3e4989"
            ],
            [
             0.3333333333333333,
             "#31688e"
            ],
            [
             0.4444444444444444,
             "#26828e"
            ],
            [
             0.5555555555555556,
             "#1f9e89"
            ],
            [
             0.6666666666666666,
             "#35b779"
            ],
            [
             0.7777777777777778,
             "#6ece58"
            ],
            [
             0.8888888888888888,
             "#b5de2b"
            ],
            [
             1,
             "#fde725"
            ]
           ]
          },
          "colorway": [
           "#1F77B4",
           "#FF7F0E",
           "#2CA02C",
           "#D62728",
           "#9467BD",
           "#8C564B",
           "#E377C2",
           "#7F7F7F",
           "#BCBD22",
           "#17BECF"
          ],
          "font": {
           "color": "rgb(36,36,36)"
          },
          "geo": {
           "bgcolor": "white",
           "lakecolor": "white",
           "landcolor": "white",
           "showlakes": true,
           "showland": true,
           "subunitcolor": "white"
          },
          "hoverlabel": {
           "align": "left"
          },
          "hovermode": "closest",
          "mapbox": {
           "style": "light"
          },
          "paper_bgcolor": "white",
          "plot_bgcolor": "white",
          "polar": {
           "angularaxis": {
            "gridcolor": "rgb(232,232,232)",
            "linecolor": "rgb(36,36,36)",
            "showgrid": false,
            "showline": true,
            "ticks": "outside"
           },
           "bgcolor": "white",
           "radialaxis": {
            "gridcolor": "rgb(232,232,232)",
            "linecolor": "rgb(36,36,36)",
            "showgrid": false,
            "showline": true,
            "ticks": "outside"
           }
          },
          "scene": {
           "xaxis": {
            "backgroundcolor": "white",
            "gridcolor": "rgb(232,232,232)",
            "gridwidth": 2,
            "linecolor": "rgb(36,36,36)",
            "showbackground": true,
            "showgrid": false,
            "showline": true,
            "ticks": "outside",
            "zeroline": false,
            "zerolinecolor": "rgb(36,36,36)"
           },
           "yaxis": {
            "backgroundcolor": "white",
            "gridcolor": "rgb(232,232,232)",
            "gridwidth": 2,
            "linecolor": "rgb(36,36,36)",
            "showbackground": true,
            "showgrid": false,
            "showline": true,
            "ticks": "outside",
            "zeroline": false,
            "zerolinecolor": "rgb(36,36,36)"
           },
           "zaxis": {
            "backgroundcolor": "white",
            "gridcolor": "rgb(232,232,232)",
            "gridwidth": 2,
            "linecolor": "rgb(36,36,36)",
            "showbackground": true,
            "showgrid": false,
            "showline": true,
            "ticks": "outside",
            "zeroline": false,
            "zerolinecolor": "rgb(36,36,36)"
           }
          },
          "shapedefaults": {
           "fillcolor": "black",
           "line": {
            "width": 0
           },
           "opacity": 0.3
          },
          "ternary": {
           "aaxis": {
            "gridcolor": "rgb(232,232,232)",
            "linecolor": "rgb(36,36,36)",
            "showgrid": false,
            "showline": true,
            "ticks": "outside"
           },
           "baxis": {
            "gridcolor": "rgb(232,232,232)",
            "linecolor": "rgb(36,36,36)",
            "showgrid": false,
            "showline": true,
            "ticks": "outside"
           },
           "bgcolor": "white",
           "caxis": {
            "gridcolor": "rgb(232,232,232)",
            "linecolor": "rgb(36,36,36)",
            "showgrid": false,
            "showline": true,
            "ticks": "outside"
           }
          },
          "title": {
           "x": 0.05
          },
          "xaxis": {
           "automargin": true,
           "gridcolor": "rgb(232,232,232)",
           "linecolor": "rgb(36,36,36)",
           "showgrid": false,
           "showline": true,
           "ticks": "outside",
           "title": {
            "standoff": 15
           },
           "zeroline": false,
           "zerolinecolor": "rgb(36,36,36)"
          },
          "yaxis": {
           "automargin": true,
           "gridcolor": "rgb(232,232,232)",
           "linecolor": "rgb(36,36,36)",
           "showgrid": false,
           "showline": true,
           "ticks": "outside",
           "title": {
            "standoff": 15
           },
           "zeroline": false,
           "zerolinecolor": "rgb(36,36,36)"
          }
         }
        },
        "title": {
         "text": "percent_change_in_flow over time"
        },
        "width": 800,
        "xaxis": {
         "anchor": "y",
         "domain": [
          0,
          1
         ],
         "title": {
          "text": "Time (years)"
         }
        },
        "yaxis": {
         "anchor": "x",
         "domain": [
          0,
          1
         ],
         "title": {
          "text": "Percent Change in Flow"
         }
        }
       }
      }
     },
     "metadata": {},
     "output_type": "display_data"
    }
   ],
   "source": [
    "utils.plot_variable_for_each_run(\"percent_change_in_flow\", runs, y_label=\"Percent Change in Flow\",)"
   ]
  },
  {
   "cell_type": "code",
   "execution_count": 9,
   "id": "f9d037c6",
   "metadata": {},
   "outputs": [
    {
     "data": {
      "application/vnd.plotly.v1+json": {
       "config": {
        "plotlyServerURL": "https://plot.ly"
       },
       "data": [
        {
         "hovertemplate": "Run Name=%{x}<br>Total Flow Reduction (MCM)=%{y}<extra></extra>",
         "legendgroup": "",
         "marker": {
          "color": "#636efa",
          "symbol": "circle"
         },
         "mode": "markers",
         "name": "",
         "orientation": "v",
         "showlegend": false,
         "type": "scatter",
         "x": [
          "baseline",
          "pumping",
          "double_pumping"
         ],
         "xaxis": "x",
         "y": {
          "bdata": "AAAAAAAAAADMjOWxsB41Qf0DXR90jjxB",
          "dtype": "f8"
         },
         "yaxis": "y"
        }
       ],
       "layout": {
        "legend": {
         "tracegroupgap": 0
        },
        "template": {
         "data": {
          "bar": [
           {
            "error_x": {
             "color": "#2a3f5f"
            },
            "error_y": {
             "color": "#2a3f5f"
            },
            "marker": {
             "line": {
              "color": "#E5ECF6",
              "width": 0.5
             },
             "pattern": {
              "fillmode": "overlay",
              "size": 10,
              "solidity": 0.2
             }
            },
            "type": "bar"
           }
          ],
          "barpolar": [
           {
            "marker": {
             "line": {
              "color": "#E5ECF6",
              "width": 0.5
             },
             "pattern": {
              "fillmode": "overlay",
              "size": 10,
              "solidity": 0.2
             }
            },
            "type": "barpolar"
           }
          ],
          "carpet": [
           {
            "aaxis": {
             "endlinecolor": "#2a3f5f",
             "gridcolor": "white",
             "linecolor": "white",
             "minorgridcolor": "white",
             "startlinecolor": "#2a3f5f"
            },
            "baxis": {
             "endlinecolor": "#2a3f5f",
             "gridcolor": "white",
             "linecolor": "white",
             "minorgridcolor": "white",
             "startlinecolor": "#2a3f5f"
            },
            "type": "carpet"
           }
          ],
          "choropleth": [
           {
            "colorbar": {
             "outlinewidth": 0,
             "ticks": ""
            },
            "type": "choropleth"
           }
          ],
          "contour": [
           {
            "colorbar": {
             "outlinewidth": 0,
             "ticks": ""
            },
            "colorscale": [
             [
              0,
              "#0d0887"
             ],
             [
              0.1111111111111111,
              "#46039f"
             ],
             [
              0.2222222222222222,
              "#7201a8"
             ],
             [
              0.3333333333333333,
              "#9c179e"
             ],
             [
              0.4444444444444444,
              "#bd3786"
             ],
             [
              0.5555555555555556,
              "#d8576b"
             ],
             [
              0.6666666666666666,
              "#ed7953"
             ],
             [
              0.7777777777777778,
              "#fb9f3a"
             ],
             [
              0.8888888888888888,
              "#fdca26"
             ],
             [
              1,
              "#f0f921"
             ]
            ],
            "type": "contour"
           }
          ],
          "contourcarpet": [
           {
            "colorbar": {
             "outlinewidth": 0,
             "ticks": ""
            },
            "type": "contourcarpet"
           }
          ],
          "heatmap": [
           {
            "colorbar": {
             "outlinewidth": 0,
             "ticks": ""
            },
            "colorscale": [
             [
              0,
              "#0d0887"
             ],
             [
              0.1111111111111111,
              "#46039f"
             ],
             [
              0.2222222222222222,
              "#7201a8"
             ],
             [
              0.3333333333333333,
              "#9c179e"
             ],
             [
              0.4444444444444444,
              "#bd3786"
             ],
             [
              0.5555555555555556,
              "#d8576b"
             ],
             [
              0.6666666666666666,
              "#ed7953"
             ],
             [
              0.7777777777777778,
              "#fb9f3a"
             ],
             [
              0.8888888888888888,
              "#fdca26"
             ],
             [
              1,
              "#f0f921"
             ]
            ],
            "type": "heatmap"
           }
          ],
          "histogram": [
           {
            "marker": {
             "pattern": {
              "fillmode": "overlay",
              "size": 10,
              "solidity": 0.2
             }
            },
            "type": "histogram"
           }
          ],
          "histogram2d": [
           {
            "colorbar": {
             "outlinewidth": 0,
             "ticks": ""
            },
            "colorscale": [
             [
              0,
              "#0d0887"
             ],
             [
              0.1111111111111111,
              "#46039f"
             ],
             [
              0.2222222222222222,
              "#7201a8"
             ],
             [
              0.3333333333333333,
              "#9c179e"
             ],
             [
              0.4444444444444444,
              "#bd3786"
             ],
             [
              0.5555555555555556,
              "#d8576b"
             ],
             [
              0.6666666666666666,
              "#ed7953"
             ],
             [
              0.7777777777777778,
              "#fb9f3a"
             ],
             [
              0.8888888888888888,
              "#fdca26"
             ],
             [
              1,
              "#f0f921"
             ]
            ],
            "type": "histogram2d"
           }
          ],
          "histogram2dcontour": [
           {
            "colorbar": {
             "outlinewidth": 0,
             "ticks": ""
            },
            "colorscale": [
             [
              0,
              "#0d0887"
             ],
             [
              0.1111111111111111,
              "#46039f"
             ],
             [
              0.2222222222222222,
              "#7201a8"
             ],
             [
              0.3333333333333333,
              "#9c179e"
             ],
             [
              0.4444444444444444,
              "#bd3786"
             ],
             [
              0.5555555555555556,
              "#d8576b"
             ],
             [
              0.6666666666666666,
              "#ed7953"
             ],
             [
              0.7777777777777778,
              "#fb9f3a"
             ],
             [
              0.8888888888888888,
              "#fdca26"
             ],
             [
              1,
              "#f0f921"
             ]
            ],
            "type": "histogram2dcontour"
           }
          ],
          "mesh3d": [
           {
            "colorbar": {
             "outlinewidth": 0,
             "ticks": ""
            },
            "type": "mesh3d"
           }
          ],
          "parcoords": [
           {
            "line": {
             "colorbar": {
              "outlinewidth": 0,
              "ticks": ""
             }
            },
            "type": "parcoords"
           }
          ],
          "pie": [
           {
            "automargin": true,
            "type": "pie"
           }
          ],
          "scatter": [
           {
            "fillpattern": {
             "fillmode": "overlay",
             "size": 10,
             "solidity": 0.2
            },
            "type": "scatter"
           }
          ],
          "scatter3d": [
           {
            "line": {
             "colorbar": {
              "outlinewidth": 0,
              "ticks": ""
             }
            },
            "marker": {
             "colorbar": {
              "outlinewidth": 0,
              "ticks": ""
             }
            },
            "type": "scatter3d"
           }
          ],
          "scattercarpet": [
           {
            "marker": {
             "colorbar": {
              "outlinewidth": 0,
              "ticks": ""
             }
            },
            "type": "scattercarpet"
           }
          ],
          "scattergeo": [
           {
            "marker": {
             "colorbar": {
              "outlinewidth": 0,
              "ticks": ""
             }
            },
            "type": "scattergeo"
           }
          ],
          "scattergl": [
           {
            "marker": {
             "colorbar": {
              "outlinewidth": 0,
              "ticks": ""
             }
            },
            "type": "scattergl"
           }
          ],
          "scattermap": [
           {
            "marker": {
             "colorbar": {
              "outlinewidth": 0,
              "ticks": ""
             }
            },
            "type": "scattermap"
           }
          ],
          "scattermapbox": [
           {
            "marker": {
             "colorbar": {
              "outlinewidth": 0,
              "ticks": ""
             }
            },
            "type": "scattermapbox"
           }
          ],
          "scatterpolar": [
           {
            "marker": {
             "colorbar": {
              "outlinewidth": 0,
              "ticks": ""
             }
            },
            "type": "scatterpolar"
           }
          ],
          "scatterpolargl": [
           {
            "marker": {
             "colorbar": {
              "outlinewidth": 0,
              "ticks": ""
             }
            },
            "type": "scatterpolargl"
           }
          ],
          "scatterternary": [
           {
            "marker": {
             "colorbar": {
              "outlinewidth": 0,
              "ticks": ""
             }
            },
            "type": "scatterternary"
           }
          ],
          "surface": [
           {
            "colorbar": {
             "outlinewidth": 0,
             "ticks": ""
            },
            "colorscale": [
             [
              0,
              "#0d0887"
             ],
             [
              0.1111111111111111,
              "#46039f"
             ],
             [
              0.2222222222222222,
              "#7201a8"
             ],
             [
              0.3333333333333333,
              "#9c179e"
             ],
             [
              0.4444444444444444,
              "#bd3786"
             ],
             [
              0.5555555555555556,
              "#d8576b"
             ],
             [
              0.6666666666666666,
              "#ed7953"
             ],
             [
              0.7777777777777778,
              "#fb9f3a"
             ],
             [
              0.8888888888888888,
              "#fdca26"
             ],
             [
              1,
              "#f0f921"
             ]
            ],
            "type": "surface"
           }
          ],
          "table": [
           {
            "cells": {
             "fill": {
              "color": "#EBF0F8"
             },
             "line": {
              "color": "white"
             }
            },
            "header": {
             "fill": {
              "color": "#C8D4E3"
             },
             "line": {
              "color": "white"
             }
            },
            "type": "table"
           }
          ]
         },
         "layout": {
          "annotationdefaults": {
           "arrowcolor": "#2a3f5f",
           "arrowhead": 0,
           "arrowwidth": 1
          },
          "autotypenumbers": "strict",
          "coloraxis": {
           "colorbar": {
            "outlinewidth": 0,
            "ticks": ""
           }
          },
          "colorscale": {
           "diverging": [
            [
             0,
             "#8e0152"
            ],
            [
             0.1,
             "#c51b7d"
            ],
            [
             0.2,
             "#de77ae"
            ],
            [
             0.3,
             "#f1b6da"
            ],
            [
             0.4,
             "#fde0ef"
            ],
            [
             0.5,
             "#f7f7f7"
            ],
            [
             0.6,
             "#e6f5d0"
            ],
            [
             0.7,
             "#b8e186"
            ],
            [
             0.8,
             "#7fbc41"
            ],
            [
             0.9,
             "#4d9221"
            ],
            [
             1,
             "#276419"
            ]
           ],
           "sequential": [
            [
             0,
             "#0d0887"
            ],
            [
             0.1111111111111111,
             "#46039f"
            ],
            [
             0.2222222222222222,
             "#7201a8"
            ],
            [
             0.3333333333333333,
             "#9c179e"
            ],
            [
             0.4444444444444444,
             "#bd3786"
            ],
            [
             0.5555555555555556,
             "#d8576b"
            ],
            [
             0.6666666666666666,
             "#ed7953"
            ],
            [
             0.7777777777777778,
             "#fb9f3a"
            ],
            [
             0.8888888888888888,
             "#fdca26"
            ],
            [
             1,
             "#f0f921"
            ]
           ],
           "sequentialminus": [
            [
             0,
             "#0d0887"
            ],
            [
             0.1111111111111111,
             "#46039f"
            ],
            [
             0.2222222222222222,
             "#7201a8"
            ],
            [
             0.3333333333333333,
             "#9c179e"
            ],
            [
             0.4444444444444444,
             "#bd3786"
            ],
            [
             0.5555555555555556,
             "#d8576b"
            ],
            [
             0.6666666666666666,
             "#ed7953"
            ],
            [
             0.7777777777777778,
             "#fb9f3a"
            ],
            [
             0.8888888888888888,
             "#fdca26"
            ],
            [
             1,
             "#f0f921"
            ]
           ]
          },
          "colorway": [
           "#636efa",
           "#EF553B",
           "#00cc96",
           "#ab63fa",
           "#FFA15A",
           "#19d3f3",
           "#FF6692",
           "#B6E880",
           "#FF97FF",
           "#FECB52"
          ],
          "font": {
           "color": "#2a3f5f"
          },
          "geo": {
           "bgcolor": "white",
           "lakecolor": "white",
           "landcolor": "#E5ECF6",
           "showlakes": true,
           "showland": true,
           "subunitcolor": "white"
          },
          "hoverlabel": {
           "align": "left"
          },
          "hovermode": "closest",
          "mapbox": {
           "style": "light"
          },
          "paper_bgcolor": "white",
          "plot_bgcolor": "#E5ECF6",
          "polar": {
           "angularaxis": {
            "gridcolor": "white",
            "linecolor": "white",
            "ticks": ""
           },
           "bgcolor": "#E5ECF6",
           "radialaxis": {
            "gridcolor": "white",
            "linecolor": "white",
            "ticks": ""
           }
          },
          "scene": {
           "xaxis": {
            "backgroundcolor": "#E5ECF6",
            "gridcolor": "white",
            "gridwidth": 2,
            "linecolor": "white",
            "showbackground": true,
            "ticks": "",
            "zerolinecolor": "white"
           },
           "yaxis": {
            "backgroundcolor": "#E5ECF6",
            "gridcolor": "white",
            "gridwidth": 2,
            "linecolor": "white",
            "showbackground": true,
            "ticks": "",
            "zerolinecolor": "white"
           },
           "zaxis": {
            "backgroundcolor": "#E5ECF6",
            "gridcolor": "white",
            "gridwidth": 2,
            "linecolor": "white",
            "showbackground": true,
            "ticks": "",
            "zerolinecolor": "white"
           }
          },
          "shapedefaults": {
           "line": {
            "color": "#2a3f5f"
           }
          },
          "ternary": {
           "aaxis": {
            "gridcolor": "white",
            "linecolor": "white",
            "ticks": ""
           },
           "baxis": {
            "gridcolor": "white",
            "linecolor": "white",
            "ticks": ""
           },
           "bgcolor": "#E5ECF6",
           "caxis": {
            "gridcolor": "white",
            "linecolor": "white",
            "ticks": ""
           }
          },
          "title": {
           "x": 0.05
          },
          "xaxis": {
           "automargin": true,
           "gridcolor": "white",
           "linecolor": "white",
           "ticks": "",
           "title": {
            "standoff": 15
           },
           "zerolinecolor": "white",
           "zerolinewidth": 2
          },
          "yaxis": {
           "automargin": true,
           "gridcolor": "white",
           "linecolor": "white",
           "ticks": "",
           "title": {
            "standoff": 15
           },
           "zerolinecolor": "white",
           "zerolinewidth": 2
          }
         }
        },
        "title": {
         "text": "Total Flow Reductions During Recovery Period"
        },
        "xaxis": {
         "anchor": "y",
         "domain": [
          0,
          1
         ],
         "title": {
          "text": "Run Name"
         }
        },
        "yaxis": {
         "anchor": "x",
         "domain": [
          0,
          1
         ],
         "title": {
          "text": "Total Flow Reduction (MCM)"
         }
        }
       }
      }
     },
     "metadata": {},
     "output_type": "display_data"
    }
   ],
   "source": [
    "run_names = list(runs.keys())\n",
    "run_names\n",
    "total_flow_reductions = []\n",
    "for i, run_name in enumerate(run_names):\n",
    "    run = runs[run_name]\n",
    "    baseline = runs[\"baseline\"]\n",
    "    flow_reduction = np.array([baseline[\"outlet_flow\"][i] - run[\"outlet_flow\"][i] for i in range(len(run[\"outlet_flow\"]))]).sum()\n",
    "    total_flow_reductions.append(flow_reduction)\n",
    "px.scatter(x=run_names, y=total_flow_reductions,\n",
    "       labels={\"x\": \"Run Name\", \"y\": \"Total Flow Reduction (MCM)\"},\n",
    "       title=\"Total Flow Reductions During Recovery Period\",\n",
    "       ).show()"
   ]
  },
  {
   "cell_type": "code",
   "execution_count": 15,
   "id": "ef50b09c",
   "metadata": {},
   "outputs": [
    {
     "data": {
      "application/vnd.plotly.v1+json": {
       "config": {
        "plotlyServerURL": "https://plot.ly"
       },
       "data": [
        {
         "hovertemplate": "Run Name=%{x}<br>Total Flow Reduction (MCM)=%{y}<extra></extra>",
         "legendgroup": "",
         "marker": {
          "color": "#636efa",
          "symbol": "circle"
         },
         "mode": "markers",
         "name": "",
         "orientation": "v",
         "showlegend": false,
         "type": "scatter",
         "x": {
          "bdata": "AQID",
          "dtype": "i1"
         },
         "xaxis": "x",
         "y": {
          "bdata": "IOsyKy4GIEGgeaC7Pk4bQWDjj7UnIBlB",
          "dtype": "f8"
         },
         "yaxis": "y"
        }
       ],
       "layout": {
        "legend": {
         "tracegroupgap": 0
        },
        "template": {
         "data": {
          "bar": [
           {
            "error_x": {
             "color": "#2a3f5f"
            },
            "error_y": {
             "color": "#2a3f5f"
            },
            "marker": {
             "line": {
              "color": "#E5ECF6",
              "width": 0.5
             },
             "pattern": {
              "fillmode": "overlay",
              "size": 10,
              "solidity": 0.2
             }
            },
            "type": "bar"
           }
          ],
          "barpolar": [
           {
            "marker": {
             "line": {
              "color": "#E5ECF6",
              "width": 0.5
             },
             "pattern": {
              "fillmode": "overlay",
              "size": 10,
              "solidity": 0.2
             }
            },
            "type": "barpolar"
           }
          ],
          "carpet": [
           {
            "aaxis": {
             "endlinecolor": "#2a3f5f",
             "gridcolor": "white",
             "linecolor": "white",
             "minorgridcolor": "white",
             "startlinecolor": "#2a3f5f"
            },
            "baxis": {
             "endlinecolor": "#2a3f5f",
             "gridcolor": "white",
             "linecolor": "white",
             "minorgridcolor": "white",
             "startlinecolor": "#2a3f5f"
            },
            "type": "carpet"
           }
          ],
          "choropleth": [
           {
            "colorbar": {
             "outlinewidth": 0,
             "ticks": ""
            },
            "type": "choropleth"
           }
          ],
          "contour": [
           {
            "colorbar": {
             "outlinewidth": 0,
             "ticks": ""
            },
            "colorscale": [
             [
              0,
              "#0d0887"
             ],
             [
              0.1111111111111111,
              "#46039f"
             ],
             [
              0.2222222222222222,
              "#7201a8"
             ],
             [
              0.3333333333333333,
              "#9c179e"
             ],
             [
              0.4444444444444444,
              "#bd3786"
             ],
             [
              0.5555555555555556,
              "#d8576b"
             ],
             [
              0.6666666666666666,
              "#ed7953"
             ],
             [
              0.7777777777777778,
              "#fb9f3a"
             ],
             [
              0.8888888888888888,
              "#fdca26"
             ],
             [
              1,
              "#f0f921"
             ]
            ],
            "type": "contour"
           }
          ],
          "contourcarpet": [
           {
            "colorbar": {
             "outlinewidth": 0,
             "ticks": ""
            },
            "type": "contourcarpet"
           }
          ],
          "heatmap": [
           {
            "colorbar": {
             "outlinewidth": 0,
             "ticks": ""
            },
            "colorscale": [
             [
              0,
              "#0d0887"
             ],
             [
              0.1111111111111111,
              "#46039f"
             ],
             [
              0.2222222222222222,
              "#7201a8"
             ],
             [
              0.3333333333333333,
              "#9c179e"
             ],
             [
              0.4444444444444444,
              "#bd3786"
             ],
             [
              0.5555555555555556,
              "#d8576b"
             ],
             [
              0.6666666666666666,
              "#ed7953"
             ],
             [
              0.7777777777777778,
              "#fb9f3a"
             ],
             [
              0.8888888888888888,
              "#fdca26"
             ],
             [
              1,
              "#f0f921"
             ]
            ],
            "type": "heatmap"
           }
          ],
          "histogram": [
           {
            "marker": {
             "pattern": {
              "fillmode": "overlay",
              "size": 10,
              "solidity": 0.2
             }
            },
            "type": "histogram"
           }
          ],
          "histogram2d": [
           {
            "colorbar": {
             "outlinewidth": 0,
             "ticks": ""
            },
            "colorscale": [
             [
              0,
              "#0d0887"
             ],
             [
              0.1111111111111111,
              "#46039f"
             ],
             [
              0.2222222222222222,
              "#7201a8"
             ],
             [
              0.3333333333333333,
              "#9c179e"
             ],
             [
              0.4444444444444444,
              "#bd3786"
             ],
             [
              0.5555555555555556,
              "#d8576b"
             ],
             [
              0.6666666666666666,
              "#ed7953"
             ],
             [
              0.7777777777777778,
              "#fb9f3a"
             ],
             [
              0.8888888888888888,
              "#fdca26"
             ],
             [
              1,
              "#f0f921"
             ]
            ],
            "type": "histogram2d"
           }
          ],
          "histogram2dcontour": [
           {
            "colorbar": {
             "outlinewidth": 0,
             "ticks": ""
            },
            "colorscale": [
             [
              0,
              "#0d0887"
             ],
             [
              0.1111111111111111,
              "#46039f"
             ],
             [
              0.2222222222222222,
              "#7201a8"
             ],
             [
              0.3333333333333333,
              "#9c179e"
             ],
             [
              0.4444444444444444,
              "#bd3786"
             ],
             [
              0.5555555555555556,
              "#d8576b"
             ],
             [
              0.6666666666666666,
              "#ed7953"
             ],
             [
              0.7777777777777778,
              "#fb9f3a"
             ],
             [
              0.8888888888888888,
              "#fdca26"
             ],
             [
              1,
              "#f0f921"
             ]
            ],
            "type": "histogram2dcontour"
           }
          ],
          "mesh3d": [
           {
            "colorbar": {
             "outlinewidth": 0,
             "ticks": ""
            },
            "type": "mesh3d"
           }
          ],
          "parcoords": [
           {
            "line": {
             "colorbar": {
              "outlinewidth": 0,
              "ticks": ""
             }
            },
            "type": "parcoords"
           }
          ],
          "pie": [
           {
            "automargin": true,
            "type": "pie"
           }
          ],
          "scatter": [
           {
            "fillpattern": {
             "fillmode": "overlay",
             "size": 10,
             "solidity": 0.2
            },
            "type": "scatter"
           }
          ],
          "scatter3d": [
           {
            "line": {
             "colorbar": {
              "outlinewidth": 0,
              "ticks": ""
             }
            },
            "marker": {
             "colorbar": {
              "outlinewidth": 0,
              "ticks": ""
             }
            },
            "type": "scatter3d"
           }
          ],
          "scattercarpet": [
           {
            "marker": {
             "colorbar": {
              "outlinewidth": 0,
              "ticks": ""
             }
            },
            "type": "scattercarpet"
           }
          ],
          "scattergeo": [
           {
            "marker": {
             "colorbar": {
              "outlinewidth": 0,
              "ticks": ""
             }
            },
            "type": "scattergeo"
           }
          ],
          "scattergl": [
           {
            "marker": {
             "colorbar": {
              "outlinewidth": 0,
              "ticks": ""
             }
            },
            "type": "scattergl"
           }
          ],
          "scattermap": [
           {
            "marker": {
             "colorbar": {
              "outlinewidth": 0,
              "ticks": ""
             }
            },
            "type": "scattermap"
           }
          ],
          "scattermapbox": [
           {
            "marker": {
             "colorbar": {
              "outlinewidth": 0,
              "ticks": ""
             }
            },
            "type": "scattermapbox"
           }
          ],
          "scatterpolar": [
           {
            "marker": {
             "colorbar": {
              "outlinewidth": 0,
              "ticks": ""
             }
            },
            "type": "scatterpolar"
           }
          ],
          "scatterpolargl": [
           {
            "marker": {
             "colorbar": {
              "outlinewidth": 0,
              "ticks": ""
             }
            },
            "type": "scatterpolargl"
           }
          ],
          "scatterternary": [
           {
            "marker": {
             "colorbar": {
              "outlinewidth": 0,
              "ticks": ""
             }
            },
            "type": "scatterternary"
           }
          ],
          "surface": [
           {
            "colorbar": {
             "outlinewidth": 0,
             "ticks": ""
            },
            "colorscale": [
             [
              0,
              "#0d0887"
             ],
             [
              0.1111111111111111,
              "#46039f"
             ],
             [
              0.2222222222222222,
              "#7201a8"
             ],
             [
              0.3333333333333333,
              "#9c179e"
             ],
             [
              0.4444444444444444,
              "#bd3786"
             ],
             [
              0.5555555555555556,
              "#d8576b"
             ],
             [
              0.6666666666666666,
              "#ed7953"
             ],
             [
              0.7777777777777778,
              "#fb9f3a"
             ],
             [
              0.8888888888888888,
              "#fdca26"
             ],
             [
              1,
              "#f0f921"
             ]
            ],
            "type": "surface"
           }
          ],
          "table": [
           {
            "cells": {
             "fill": {
              "color": "#EBF0F8"
             },
             "line": {
              "color": "white"
             }
            },
            "header": {
             "fill": {
              "color": "#C8D4E3"
             },
             "line": {
              "color": "white"
             }
            },
            "type": "table"
           }
          ]
         },
         "layout": {
          "annotationdefaults": {
           "arrowcolor": "#2a3f5f",
           "arrowhead": 0,
           "arrowwidth": 1
          },
          "autotypenumbers": "strict",
          "coloraxis": {
           "colorbar": {
            "outlinewidth": 0,
            "ticks": ""
           }
          },
          "colorscale": {
           "diverging": [
            [
             0,
             "#8e0152"
            ],
            [
             0.1,
             "#c51b7d"
            ],
            [
             0.2,
             "#de77ae"
            ],
            [
             0.3,
             "#f1b6da"
            ],
            [
             0.4,
             "#fde0ef"
            ],
            [
             0.5,
             "#f7f7f7"
            ],
            [
             0.6,
             "#e6f5d0"
            ],
            [
             0.7,
             "#b8e186"
            ],
            [
             0.8,
             "#7fbc41"
            ],
            [
             0.9,
             "#4d9221"
            ],
            [
             1,
             "#276419"
            ]
           ],
           "sequential": [
            [
             0,
             "#0d0887"
            ],
            [
             0.1111111111111111,
             "#46039f"
            ],
            [
             0.2222222222222222,
             "#7201a8"
            ],
            [
             0.3333333333333333,
             "#9c179e"
            ],
            [
             0.4444444444444444,
             "#bd3786"
            ],
            [
             0.5555555555555556,
             "#d8576b"
            ],
            [
             0.6666666666666666,
             "#ed7953"
            ],
            [
             0.7777777777777778,
             "#fb9f3a"
            ],
            [
             0.8888888888888888,
             "#fdca26"
            ],
            [
             1,
             "#f0f921"
            ]
           ],
           "sequentialminus": [
            [
             0,
             "#0d0887"
            ],
            [
             0.1111111111111111,
             "#46039f"
            ],
            [
             0.2222222222222222,
             "#7201a8"
            ],
            [
             0.3333333333333333,
             "#9c179e"
            ],
            [
             0.4444444444444444,
             "#bd3786"
            ],
            [
             0.5555555555555556,
             "#d8576b"
            ],
            [
             0.6666666666666666,
             "#ed7953"
            ],
            [
             0.7777777777777778,
             "#fb9f3a"
            ],
            [
             0.8888888888888888,
             "#fdca26"
            ],
            [
             1,
             "#f0f921"
            ]
           ]
          },
          "colorway": [
           "#636efa",
           "#EF553B",
           "#00cc96",
           "#ab63fa",
           "#FFA15A",
           "#19d3f3",
           "#FF6692",
           "#B6E880",
           "#FF97FF",
           "#FECB52"
          ],
          "font": {
           "color": "#2a3f5f"
          },
          "geo": {
           "bgcolor": "white",
           "lakecolor": "white",
           "landcolor": "#E5ECF6",
           "showlakes": true,
           "showland": true,
           "subunitcolor": "white"
          },
          "hoverlabel": {
           "align": "left"
          },
          "hovermode": "closest",
          "mapbox": {
           "style": "light"
          },
          "paper_bgcolor": "white",
          "plot_bgcolor": "#E5ECF6",
          "polar": {
           "angularaxis": {
            "gridcolor": "white",
            "linecolor": "white",
            "ticks": ""
           },
           "bgcolor": "#E5ECF6",
           "radialaxis": {
            "gridcolor": "white",
            "linecolor": "white",
            "ticks": ""
           }
          },
          "scene": {
           "xaxis": {
            "backgroundcolor": "#E5ECF6",
            "gridcolor": "white",
            "gridwidth": 2,
            "linecolor": "white",
            "showbackground": true,
            "ticks": "",
            "zerolinecolor": "white"
           },
           "yaxis": {
            "backgroundcolor": "#E5ECF6",
            "gridcolor": "white",
            "gridwidth": 2,
            "linecolor": "white",
            "showbackground": true,
            "ticks": "",
            "zerolinecolor": "white"
           },
           "zaxis": {
            "backgroundcolor": "#E5ECF6",
            "gridcolor": "white",
            "gridwidth": 2,
            "linecolor": "white",
            "showbackground": true,
            "ticks": "",
            "zerolinecolor": "white"
           }
          },
          "shapedefaults": {
           "line": {
            "color": "#2a3f5f"
           }
          },
          "ternary": {
           "aaxis": {
            "gridcolor": "white",
            "linecolor": "white",
            "ticks": ""
           },
           "baxis": {
            "gridcolor": "white",
            "linecolor": "white",
            "ticks": ""
           },
           "bgcolor": "#E5ECF6",
           "caxis": {
            "gridcolor": "white",
            "linecolor": "white",
            "ticks": ""
           }
          },
          "title": {
           "x": 0.05
          },
          "xaxis": {
           "automargin": true,
           "gridcolor": "white",
           "linecolor": "white",
           "ticks": "",
           "title": {
            "standoff": 15
           },
           "zerolinecolor": "white",
           "zerolinewidth": 2
          },
          "yaxis": {
           "automargin": true,
           "gridcolor": "white",
           "linecolor": "white",
           "ticks": "",
           "title": {
            "standoff": 15
           },
           "zerolinecolor": "white",
           "zerolinewidth": 2
          }
         }
        },
        "title": {
         "text": "Total Flow Reductions During Recovery Period For Pumping Run"
        },
        "xaxis": {
         "anchor": "y",
         "domain": [
          0,
          1
         ],
         "title": {
          "text": "Run Name"
         }
        },
        "yaxis": {
         "anchor": "x",
         "domain": [
          0,
          1
         ],
         "range": [
          0,
          550000
         ],
         "title": {
          "text": "Total Flow Reduction (MCM)"
         }
        }
       }
      }
     },
     "metadata": {},
     "output_type": "display_data"
    }
   ],
   "source": [
    "run_names = list(runs.keys())\n",
    "run_names\n",
    "total_flow_reductions = []\n",
    "flow_reduction_by_year = []\n",
    "years = [1,2,3]\n",
    "for i in range(3):\n",
    "    flow_reduction_by_year.append(np.array(baseline[\"outlet_flow\"][i*73:(i+1)*73]).sum() - np.array(runs[\"pumping\"][\"outlet_flow\"][i*73:(i+1)*73]).sum())\n",
    "flow_reduction_by_year\n",
    "px.scatter(x=years, y=flow_reduction_by_year,\n",
    "       labels={\"x\": \"Run Name\", \"y\": \"Total Flow Reduction (MCM)\"},\n",
    "       title=\"Total Flow Reductions During Recovery Period For Pumping Run\",\n",
    "       range_y=[0, 550000],\n",
    "       ).show()"
   ]
  },
  {
   "cell_type": "code",
   "execution_count": null,
   "id": "337f5500",
   "metadata": {},
   "outputs": [],
   "source": []
  }
 ],
 "metadata": {
  "kernelspec": {
   "display_name": "Python 3",
   "language": "python",
   "name": "python3"
  },
  "language_info": {
   "codemirror_mode": {
    "name": "ipython",
    "version": 3
   },
   "file_extension": ".py",
   "mimetype": "text/x-python",
   "name": "python",
   "nbconvert_exporter": "python",
   "pygments_lexer": "ipython3",
   "version": "3.11.11"
  }
 },
 "nbformat": 4,
 "nbformat_minor": 5
}
