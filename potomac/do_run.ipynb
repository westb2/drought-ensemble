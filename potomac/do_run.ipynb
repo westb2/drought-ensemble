{
 "cells": [
  {
   "cell_type": "code",
   "execution_count": 1,
   "metadata": {},
   "outputs": [],
   "source": [
    "import config\n",
    "import sys\n",
    "import shutil\n",
    "import os\n",
    "import parflow as pf\n",
    "\n",
    "sys.path.append(\"../\")\n",
    "# from do_new_run import do_new_run\n",
    "from add_pumping import add_pumping"
   ]
  },
  {
   "cell_type": "code",
   "execution_count": 2,
   "metadata": {},
   "outputs": [],
   "source": [
    "def do_run(domain_name, run_name, pumping_rate_fraction, irrigation=False):\n",
    "    os.chdir(\"/Users/ben/Documents/GitHub/drought-ensemble/potomac\")\n",
    "    domains_folder = \"../domains/outputs\"\n",
    "\n",
    "    shutil.rmtree(f\"{domains_folder}/{domain_name}_{run_name}\", ignore_errors=True)\n",
    "    shutil.copytree(f\"{domains_folder}/{domain_name}\", f\"{domains_folder}/{domain_name}_{run_name}\")\n",
    "    os.chdir(f\"{domains_folder}/{domain_name}_{run_name}\")\n",
    "    if irrigation:\n",
    "        os.remove(\"./drv_vegp.dat\")\n",
    "        shutil.copyfile(\"./drv_vegp_for_irrigation.dat\", \"./drv_vegp.dat\")\n",
    "    run = pf.Run.from_definition(f\"./{domain_name}.yaml\")\n",
    "    if pumping_rate_fraction > 0:\n",
    "        run = add_pumping(run, config.GRID_CELL_CONSUMPTIVE_USE_M_PER_HOUR , \".\", pumping_rate_fraction=pumping_rate_fraction, irrigation=irrigation)\n",
    "    run.run_dir = os.getcwd()\n",
    "    run.run()"
   ]
  },
  {
   "cell_type": "code",
   "execution_count": 3,
   "metadata": {},
   "outputs": [],
   "source": [
    "# Before you do this make sure you don't need to manually edit the vegetation file to allow irrigation!!!!\n",
    "domain_name = config.DOMAIN_NAME\n",
    "# do_run(domain_name, \"baseline\", 0, irrigation=False)"
   ]
  },
  {
   "cell_type": "code",
   "execution_count": 4,
   "metadata": {},
   "outputs": [
    {
     "name": "stdout",
     "output_type": "stream",
     "text": [
      "Solver: Field BinaryOutDir is not part of the expected schema <class 'parflow.tools.database.generated.Solver'>\n",
      "total area: 3626.0\n",
      "pumped area: 483.0\n",
      "pumped area fraction: 0.13320463320463322\n",
      ": Field run_dir is not part of the expected schema <class 'parflow.tools.core.Run'>\n",
      ": Field _run_file is not part of the expected schema <class 'parflow.tools.core.Run'>\n",
      "\n",
      "# ==============================================================================\n",
      "# ParFlow directory\n",
      "#  - /Users/ben/parflow_installation/parflow\n",
      "# ParFlow version\n",
      "#  - 3.13.0\n",
      "# Working directory\n",
      "#  - /Users/ben/Documents/GitHub/drought-ensemble/domains/outputs/POTOMAC_1998_to_1999_with_pumping_100_percent_diff_dz_correction\n",
      "# ParFlow database\n",
      "#  - POTOMAC_1998_to_1999.pfidb\n",
      "# ==============================================================================\n",
      "\n",
      "\n",
      "# ==============================================================================\n",
      "# ParFlow ran successfully\n",
      "# ==============================================================================\n",
      "\n"
     ]
    }
   ],
   "source": [
    "# do_run(domain_name, \"with_pumping_50_percent\", .5, irrigation=False)\n",
    "do_run(domain_name, \"with_pumping_100_percent_diff_dz_correction\", 1.0, irrigation=False)\n",
    "# do_run(domain_name, \"with_pumping_200_percent\", 2.0, irrigation=False)"
   ]
  },
  {
   "cell_type": "code",
   "execution_count": 5,
   "metadata": {},
   "outputs": [],
   "source": [
    "# do_run(domain_name, \"with_pumping_and_irrigation_50_percent\", .5, irrigation=True)\n",
    "# do_run(domain_name, \"with_pumping_and_irrigation_100_percent\", 1.0, irrigation=True)\n",
    "# do_run(domain_name, \"with_pumping_and_irrigation_200_percent\", 2.0, irrigation=True)"
   ]
  }
 ],
 "metadata": {
  "kernelspec": {
   "display_name": "test-env",
   "language": "python",
   "name": "python3"
  },
  "language_info": {
   "codemirror_mode": {
    "name": "ipython",
    "version": 3
   },
   "file_extension": ".py",
   "mimetype": "text/x-python",
   "name": "python",
   "nbconvert_exporter": "python",
   "pygments_lexer": "ipython3",
   "version": "3.11.5"
  }
 },
 "nbformat": 4,
 "nbformat_minor": 2
}
