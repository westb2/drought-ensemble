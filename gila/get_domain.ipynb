{
 "cells": [
  {
   "cell_type": "code",
   "execution_count": 1,
   "metadata": {},
   "outputs": [],
   "source": [
    "import config\n",
    "import sys\n",
    "\n",
    "\n",
    "sys.path.append(\"../\")\n",
    "from get_domain import get_domain"
   ]
  },
  {
   "cell_type": "code",
   "execution_count": 2,
   "metadata": {},
   "outputs": [
    {
     "name": "stdout",
     "output_type": "stream",
     "text": [
      "Wrote mask.pfb\n",
      "Wrote solidfile and mask_vtk with total z of 2000 meters\n",
      "Wrote slope_x.pfb in specified directory.\n",
      "Wrote slope_y.pfb in specified directory.\n",
      "Wrote pf_indicator.pfb in specified directory.\n",
      "Wrote mannings.pfb in specified directory.\n",
      "Wrote pf_flowbarrier.pfb in specified directory.\n",
      "Wrote pme.pfb in specified directory.\n",
      "Wrote ss_pressure_head.pfb in specified directory.\n",
      "copied vegp\n",
      "subset vegm\n",
      "copied drv_clmin\n",
      "edited drv_clmin\n",
      "Reading east_windspeed pfb sequence\n",
      "Reading north_windspeed pfb sequence\n",
      "Reading specific_humidity pfb sequence\n",
      "Reading downward_longwave pfb sequence\n",
      "Reading downward_shortwave pfb sequence\n",
      "Reading air_temp pfb sequence\n",
      "Reading precipitation pfb sequence\n",
      "Reading atmospheric_pressure pfb sequence\n",
      "Finished writing precipitation to folder\n",
      "Finished writing east_windspeed to folder\n",
      "Finished writing downward_shortwave to folder\n",
      "Finished writing atmospheric_pressure to folder\n",
      "Finished writing north_windspeed to folder\n",
      "Finished writing air_temp to folder\n",
      "Finished writing specific_humidity to folder\n",
      "Finished writing downward_longwave to folder\n",
      "(88, 88)\n",
      "Solver: Field BinaryOutDir is not part of the expected schema <class 'parflow.tools.database.generated.Solver'>\n",
      "New runname: GILA_1988_to_1989 provided, a new yaml file will be created\n",
      "Climate forcing directory has been changed to /Users/ben/Documents/Github/drought-ensemble/domains/inputs/GILA_1988_to_1989/forcing  in runscript.\n",
      "ComputationalGrid.NY set to 88 and NX to 88\n",
      "GeomInput.domaininput.InputType detected as SolidFile, no additional keys to change for subset\n",
      "Updated runscript written to /Users/ben/Documents/Github/drought-ensemble/domains/outputs/GILA_1988_to_1989\n",
      "Solver: Field BinaryOutDir is not part of the expected schema <class 'parflow.tools.database.generated.Solver'>\n",
      "Initial pressure filename changed to ss_pressure_head.pfb\n",
      "Depth to bedrock filename changed to pf_flowbarrier.pfb\n",
      "Updated runscript written to /Users/ben/Documents/Github/drought-ensemble/domains/outputs/GILA_1988_to_1989\n",
      "Solver: Field BinaryOutDir is not part of the expected schema <class 'parflow.tools.database.generated.Solver'>\n",
      "Distributing your climate forcing\n",
      "Distributed ss_pressure_head.pfb with NZ 10\n",
      "Distributed pf_flowbarrier.pfb with NZ 10\n",
      "Distributed pme.pfb with NZ 10\n",
      "Distributed pf_indicator.pfb with NZ 10\n",
      "Distributed slope_x.pfb with NZ 1\n",
      "Distributed mask.pfb with NZ 1\n",
      "Distributed slope_y.pfb with NZ 1\n",
      "Distributed mannings.pfb with NZ 1\n",
      "/Users/ben/Documents/Github/drought-ensemble/domains/outputs/GILA_1988_to_1989\n",
      "Solver: Field BinaryOutDir is not part of the expected schema <class 'parflow.tools.database.generated.Solver'>\n",
      "/Users/ben/Documents/Github/drought-ensemble/domains/outputs/GILA_1988_to_1989/GILA_1988_to_1989\n",
      "Loaded run with runname: GILA_1988_to_1989\n"
     ]
    }
   ],
   "source": [
    "get_domain(config)"
   ]
  },
  {
   "cell_type": "markdown",
   "metadata": {},
   "source": []
  },
  {
   "cell_type": "code",
   "execution_count": null,
   "metadata": {},
   "outputs": [],
   "source": []
  }
 ],
 "metadata": {
  "kernelspec": {
   "display_name": "test-env",
   "language": "python",
   "name": "python3"
  },
  "language_info": {
   "codemirror_mode": {
    "name": "ipython",
    "version": 3
   },
   "file_extension": ".py",
   "mimetype": "text/x-python",
   "name": "python",
   "nbconvert_exporter": "python",
   "pygments_lexer": "ipython3",
   "version": "3.11.5"
  }
 },
 "nbformat": 4,
 "nbformat_minor": 2
}
