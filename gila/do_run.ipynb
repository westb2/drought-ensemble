{
 "cells": [
  {
   "cell_type": "code",
   "execution_count": 1,
   "metadata": {},
   "outputs": [],
   "source": [
    "import config\n",
    "import sys\n",
    "import shutil\n",
    "import os\n",
    "import parflow as pf\n",
    "\n",
    "sys.path.append(\"../\")\n",
    "from do_new_run import do_new_run\n",
    "from add_pumping import add_pumping"
   ]
  },
  {
   "cell_type": "code",
   "execution_count": null,
   "metadata": {},
   "outputs": [
    {
     "name": "stdout",
     "output_type": "stream",
     "text": [
      "Solver: Field BinaryOutDir is not part of the expected schema <class 'parflow.tools.database.generated.Solver'>\n",
      "total area: 5002.0\n",
      "pumped area: 3457.0\n",
      "pumped area fraction: 0.691123550579768\n"
     ]
    }
   ],
   "source": [
    "\n",
    "run_name = \"with_double_pumping\"\n",
    "domain_name = config.DOMAIN_NAME\n",
    "domains_folder = \"../domains/outputs\"\n",
    "\n",
    "shutil.rmtree(f\"{domains_folder}/{domain_name}_{run_name}\", ignore_errors=True)\n",
    "shutil.copytree(f\"{domains_folder}/{domain_name}\", f\"{domains_folder}/{domain_name}_{run_name}\")\n",
    "os.chdir(f\"{domains_folder}/{domain_name}_{run_name}\")\n",
    "\n",
    "run = pf.Run.from_definition(f\"./{domain_name}.yaml\")\n",
    "run = add_pumping(run, config.UNIT_PUMPING_RATE , \".\", pumping_rate_fraction=2.,irrigation=False, cropland_index=\"12\")\n"
   ]
  },
  {
   "cell_type": "code",
   "execution_count": 3,
   "metadata": {},
   "outputs": [
    {
     "name": "stdout",
     "output_type": "stream",
     "text": [
      ": Field run_dir is not part of the expected schema <class 'parflow.tools.core.Run'>\n",
      ": Field _run_file is not part of the expected schema <class 'parflow.tools.core.Run'>\n",
      "\n",
      "# ==============================================================================\n",
      "# ParFlow directory\n",
      "#  - /Users/ben/parflow_installation/parflow\n",
      "# ParFlow version\n",
      "#  - 3.13.0\n",
      "# Working directory\n",
      "#  - /Users/ben/Documents/GitHub/drought-ensemble/domains/outputs/GILA_1988_to_1989_with_pumping\n",
      "# ParFlow database\n",
      "#  - GILA_1988_to_1989.pfidb\n",
      "# ==============================================================================\n",
      "\n",
      "\n",
      "# ==============================================================================\n",
      "# ParFlow ran successfully\n",
      "# ==============================================================================\n",
      "\n"
     ]
    }
   ],
   "source": [
    "# Before you do this make sure you don't need to manually edit the vegetation file to allow irrigation!!!!\n",
    "run.run_dir = os.getcwd()\n",
    "run.run()"
   ]
  },
  {
   "cell_type": "code",
   "execution_count": null,
   "metadata": {},
   "outputs": [],
   "source": []
  }
 ],
 "metadata": {
  "kernelspec": {
   "display_name": "test-env",
   "language": "python",
   "name": "python3"
  },
  "language_info": {
   "codemirror_mode": {
    "name": "ipython",
    "version": 3
   },
   "file_extension": ".py",
   "mimetype": "text/x-python",
   "name": "python",
   "nbconvert_exporter": "python",
   "pygments_lexer": "ipython3",
   "version": "3.11.5"
  }
 },
 "nbformat": 4,
 "nbformat_minor": 2
}
