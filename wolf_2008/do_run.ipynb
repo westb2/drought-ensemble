{
 "cells": [
  {
   "cell_type": "code",
   "execution_count": 1,
   "metadata": {},
   "outputs": [],
   "source": [
    "import config\n",
    "import sys\n",
    "import shutil\n",
    "import os\n",
    "import parflow as pf\n",
    "\n",
    "sys.path.append(\"../\")\n",
    "# from do_new_run import do_run\n",
    "from add_pumping import add_pumping\n",
    "from do_new_run import do_run"
   ]
  },
  {
   "cell_type": "code",
   "execution_count": null,
   "metadata": {},
   "outputs": [],
   "source": [
    "domain_name = config.DOMAIN_NAME\n",
    "do_run(domain_name, \"spinup\", \n",
    "       0.0, \"wolf\", config, irrigation=False, flux_cycling=True, pumping_layer=2, years=3)"
   ]
  },
  {
   "cell_type": "code",
   "execution_count": null,
   "metadata": {},
   "outputs": [],
   "source": [
    "# Before you do this make sure you don't need to manually edit the vegetation file to allow irrigation!!!!\n",
    "# domain_name = config.DOMAIN_NAME\n",
    "# do_run(domain_name, \"baseline\", 0, irrigation=False)\n",
    "# do_run(domain_name, \"with_pumping_and_irrigation_50_percent\", .5, irrigation=True)\n",
    "# do_run(domain_name, \"with_pumping_and_irrigation_100_percent\", 1.0, irrigation=True)\n",
    "# do_run(domain_name, \"with_pumping_and_irrigation_200_percent\", 2.0, irrigation=True)"
   ]
  },
  {
   "cell_type": "code",
   "execution_count": null,
   "metadata": {},
   "outputs": [],
   "source": [
    "# do_run(domain_name, \"with_pumping_50_percent\", .5, irrigation=False)\n",
    "# do_run(domain_name, \"with_pumping_100_percent_constant_test\", 1.0, irrigation=False)\n",
    "# do_run(domain_name, \"with_pumping_200_percent\", 2.0, irrigation=False)"
   ]
  },
  {
   "cell_type": "code",
   "execution_count": null,
   "metadata": {},
   "outputs": [],
   "source": []
  }
 ],
 "metadata": {
  "kernelspec": {
   "display_name": "test-env",
   "language": "python",
   "name": "python3"
  },
  "language_info": {
   "codemirror_mode": {
    "name": "ipython",
    "version": 3
   },
   "file_extension": ".py",
   "mimetype": "text/x-python",
   "name": "python",
   "nbconvert_exporter": "python",
   "pygments_lexer": "ipython3",
   "version": "3.11.5"
  }
 },
 "nbformat": 4,
 "nbformat_minor": 2
}
