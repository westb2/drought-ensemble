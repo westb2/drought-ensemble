{
 "cells": [
  {
   "cell_type": "code",
   "execution_count": 1,
   "metadata": {},
   "outputs": [],
   "source": [
    "# !python3 -m pip install pftools pandas plotly ipython"
   ]
  },
  {
   "cell_type": "code",
   "execution_count": 2,
   "metadata": {},
   "outputs": [],
   "source": [
    "\n",
    "import xarray as xr\n",
    "import os"
   ]
  },
  {
   "cell_type": "code",
   "execution_count": 3,
   "metadata": {},
   "outputs": [
    {
     "name": "stdout",
     "output_type": "stream",
     "text": [
      "opening c6a8270c59d4b1edfca7b7ea99723a58e219f902b69b3d6b1fa8ba8db8b82387\n"
     ]
    },
    {
     "name": "stderr",
     "output_type": "stream",
     "text": [
      "/glade/work/bwest/conda-envs/droughts/lib/python3.11/site-packages/xarray/backends/plugins.py:110: RuntimeWarning: Engine 'cfradial1' loading failed:\n",
      "No module named 'xarray.core.merge'\n",
      "  external_backend_entrypoints = backends_dict_from_pkg(entrypoints_unique)\n",
      "/glade/work/bwest/conda-envs/droughts/lib/python3.11/site-packages/xarray/backends/plugins.py:110: RuntimeWarning: Engine 'furuno' loading failed:\n",
      "No module named 'xarray.core.merge'\n",
      "  external_backend_entrypoints = backends_dict_from_pkg(entrypoints_unique)\n",
      "/glade/work/bwest/conda-envs/droughts/lib/python3.11/site-packages/xarray/backends/plugins.py:110: RuntimeWarning: Engine 'gamic' loading failed:\n",
      "No module named 'xarray.core.merge'\n",
      "  external_backend_entrypoints = backends_dict_from_pkg(entrypoints_unique)\n",
      "ERROR 1: PROJ: proj_create_from_database: Open of /glade/work/bwest/conda-envs/droughts/share/proj failed\n"
     ]
    },
    {
     "name": "stdout",
     "output_type": "stream",
     "text": [
      "xarray.Dataset {\n",
      "dimensions:\n",
      "\ttime = 8760 ;\n",
      "\tz = 10 ;\n",
      "\ty = 136 ;\n",
      "\tx = 70 ;\n",
      "\n",
      "variables:\n",
      "\tfloat64 pressure(time, z, y, x) ;\n",
      "\tfloat64 saturation(time, z, y, x) ;\n",
      "\tfloat64 evaptrans(time, z, y, x) ;\n",
      "\tfloat64 overland_bc_flux(time, y, x) ;\n",
      "\tfloat64 time(time) ;\n",
      "\n",
      "// global attributes:\n",
      "}None\n",
      "opening ac780d6b8b80375262493be134384890e84c6594e80705fdbd7b77fda208d643\n",
      "xarray.Dataset {\n",
      "dimensions:\n",
      "\ttime = 8760 ;\n",
      "\tz = 10 ;\n",
      "\ty = 136 ;\n",
      "\tx = 70 ;\n",
      "\n",
      "variables:\n",
      "\tfloat64 pressure(time, z, y, x) ;\n",
      "\tfloat64 saturation(time, z, y, x) ;\n",
      "\tfloat64 evaptrans(time, z, y, x) ;\n",
      "\tfloat64 overland_bc_flux(time, y, x) ;\n",
      "\tfloat64 time(time) ;\n",
      "\n",
      "// global attributes:\n",
      "}None\n",
      "opening fc2a5b1d5cf4b8279c7d6a98de84df89f0bc21961f7fd18bac11228fec55ac9c\n",
      "xarray.Dataset {\n",
      "dimensions:\n",
      "\ttime = 8760 ;\n",
      "\tz = 10 ;\n",
      "\ty = 136 ;\n",
      "\tx = 70 ;\n",
      "\n",
      "variables:\n",
      "\tfloat64 pressure(time, z, y, x) ;\n",
      "\tfloat64 saturation(time, z, y, x) ;\n",
      "\tfloat64 evaptrans(time, z, y, x) ;\n",
      "\tfloat64 overland_bc_flux(time, y, x) ;\n",
      "\tfloat64 time(time) ;\n",
      "\n",
      "// global attributes:\n",
      "}None\n",
      "opening 2ff5250bb54632d4013b985e8c208a83a30a28cb7194cec757feed7f1774b9cb\n",
      "xarray.Dataset {\n",
      "dimensions:\n",
      "\ttime = 8760 ;\n",
      "\tz = 10 ;\n",
      "\ty = 136 ;\n",
      "\tx = 70 ;\n",
      "\n",
      "variables:\n",
      "\tfloat64 pressure(time, z, y, x) ;\n",
      "\tfloat64 saturation(time, z, y, x) ;\n",
      "\tfloat64 evaptrans(time, z, y, x) ;\n",
      "\tfloat64 overland_bc_flux(time, y, x) ;\n",
      "\tfloat64 time(time) ;\n",
      "\n",
      "// global attributes:\n",
      "}None\n",
      "opening ee30527481b3c43126c818dfc42b9e0c71eb5bcc765429cf0d729153c3fb4cae\n",
      "xarray.Dataset {\n",
      "dimensions:\n",
      "\ttime = 8760 ;\n",
      "\tz = 10 ;\n",
      "\ty = 136 ;\n",
      "\tx = 70 ;\n",
      "\n",
      "variables:\n",
      "\tfloat64 pressure(time, z, y, x) ;\n",
      "\tfloat64 saturation(time, z, y, x) ;\n",
      "\tfloat64 evaptrans(time, z, y, x) ;\n",
      "\tfloat64 overland_bc_flux(time, y, x) ;\n",
      "\tfloat64 time(time) ;\n",
      "\n",
      "// global attributes:\n",
      "}None\n",
      "opening 5539bc71ceef534fc4013478f958284d44adaae00ff49d2ce1bb27316259245e\n",
      "xarray.Dataset {\n",
      "dimensions:\n",
      "\ttime = 8760 ;\n",
      "\tz = 10 ;\n",
      "\ty = 136 ;\n",
      "\tx = 70 ;\n",
      "\n",
      "variables:\n",
      "\tfloat64 pressure(time, z, y, x) ;\n",
      "\tfloat64 saturation(time, z, y, x) ;\n",
      "\tfloat64 evaptrans(time, z, y, x) ;\n",
      "\tfloat64 overland_bc_flux(time, y, x) ;\n",
      "\tfloat64 time(time) ;\n",
      "\n",
      "// global attributes:\n",
      "}None\n",
      "opening 67af0c575def0eb3b36403eb3b1cc5f7c5af80d7a9ab86c2946749024619ec5c\n",
      "xarray.Dataset {\n",
      "dimensions:\n",
      "\ttime = 8760 ;\n",
      "\tz = 10 ;\n",
      "\ty = 136 ;\n",
      "\tx = 70 ;\n",
      "\n",
      "variables:\n",
      "\tfloat64 pressure(time, z, y, x) ;\n",
      "\tfloat64 saturation(time, z, y, x) ;\n",
      "\tfloat64 evaptrans(time, z, y, x) ;\n",
      "\tfloat64 overland_bc_flux(time, y, x) ;\n",
      "\tfloat64 time(time) ;\n",
      "\n",
      "// global attributes:\n",
      "}None\n",
      "opening 3d8ed65413d6f5858f7477507f81c0244343853678704237565653e027803569\n",
      "xarray.Dataset {\n",
      "dimensions:\n",
      "\ttime = 8760 ;\n",
      "\tz = 10 ;\n",
      "\ty = 136 ;\n",
      "\tx = 70 ;\n",
      "\n",
      "variables:\n",
      "\tfloat64 pressure(time, z, y, x) ;\n",
      "\tfloat64 saturation(time, z, y, x) ;\n",
      "\tfloat64 evaptrans(time, z, y, x) ;\n",
      "\tfloat64 overland_bc_flux(time, y, x) ;\n",
      "\tfloat64 time(time) ;\n",
      "\n",
      "// global attributes:\n",
      "}None\n",
      "opening aae55948480a9c348fc3d39302a2ebf148ee5ce0d699838c9a0a2100b53d6831\n",
      "xarray.Dataset {\n",
      "dimensions:\n",
      "\ttime = 8760 ;\n",
      "\tz = 10 ;\n",
      "\ty = 136 ;\n",
      "\tx = 70 ;\n",
      "\n",
      "variables:\n",
      "\tfloat64 pressure(time, z, y, x) ;\n",
      "\tfloat64 saturation(time, z, y, x) ;\n",
      "\tfloat64 evaptrans(time, z, y, x) ;\n",
      "\tfloat64 overland_bc_flux(time, y, x) ;\n",
      "\tfloat64 time(time) ;\n",
      "\n",
      "// global attributes:\n",
      "}None\n",
      "opening 44b64886d1e65f2d07c1efde92880cf6f53c6c6a78395257709987ee3f5320f0\n",
      "xarray.Dataset {\n",
      "dimensions:\n",
      "\ttime = 8400 ;\n",
      "\tz = 10 ;\n",
      "\ty = 136 ;\n",
      "\tx = 70 ;\n",
      "\n",
      "variables:\n",
      "\tfloat64 pressure(time, z, y, x) ;\n",
      "\tfloat64 saturation(time, z, y, x) ;\n",
      "\tfloat64 evaptrans(time, z, y, x) ;\n",
      "\tfloat64 overland_bc_flux(time, y, x) ;\n",
      "\tfloat64 time(time) ;\n",
      "\n",
      "// global attributes:\n",
      "}None\n"
     ]
    },
    {
     "name": "stderr",
     "output_type": "stream",
     "text": [
      "/glade/work/bwest/conda-envs/droughts/lib/python3.11/site-packages/xarray/backends/plugins.py:110: RuntimeWarning: Engine 'iris' loading failed:\n",
      "No module named 'xarray.core.merge'\n",
      "  external_backend_entrypoints = backends_dict_from_pkg(entrypoints_unique)\n",
      "/glade/work/bwest/conda-envs/droughts/lib/python3.11/site-packages/xarray/backends/plugins.py:110: RuntimeWarning: Engine 'odim' loading failed:\n",
      "No module named 'xarray.core.merge'\n",
      "  external_backend_entrypoints = backends_dict_from_pkg(entrypoints_unique)\n",
      "/glade/work/bwest/conda-envs/droughts/lib/python3.11/site-packages/xarray/backends/plugins.py:110: RuntimeWarning: Engine 'rainbow' loading failed:\n",
      "No module named 'xarray.core.merge'\n",
      "  external_backend_entrypoints = backends_dict_from_pkg(entrypoints_unique)\n"
     ]
    }
   ],
   "source": [
    "for folder in os.listdir(\"/glade/derecho/scratch/bwest/drought-ensemble/domains/potomac/raw_runs\"):\n",
    "    print(f\"opening {folder}\")\n",
    "    data = xr.open_dataset(f\"/glade/derecho/scratch/bwest/drought-ensemble/domains/potomac/raw_runs/{folder}/run.out.00001.nc\")\n",
    "    print(data.info())"
   ]
  },
  {
   "cell_type": "code",
   "execution_count": 4,
   "metadata": {},
   "outputs": [],
   "source": [
    "# data = xr.open_dataset(\"/glade/derecho/scratch/bwest/drought-ensemble/domains/potomac/raw_runs2/fc2a5b1d5cf4b8279c7d6a98de84df89f0bc21961f7fd18bac11228fec55ac9c/run.out.00001.nc\")"
   ]
  },
  {
   "cell_type": "code",
   "execution_count": 5,
   "metadata": {},
   "outputs": [
    {
     "name": "stdout",
     "output_type": "stream",
     "text": [
      "xarray.Dataset {\n",
      "dimensions:\n",
      "\ttime = 8400 ;\n",
      "\tz = 10 ;\n",
      "\ty = 136 ;\n",
      "\tx = 70 ;\n",
      "\n",
      "variables:\n",
      "\tfloat64 pressure(time, z, y, x) ;\n",
      "\tfloat64 saturation(time, z, y, x) ;\n",
      "\tfloat64 evaptrans(time, z, y, x) ;\n",
      "\tfloat64 overland_bc_flux(time, y, x) ;\n",
      "\tfloat64 time(time) ;\n",
      "\n",
      "// global attributes:\n",
      "}"
     ]
    }
   ],
   "source": [
    "data.info()"
   ]
  },
  {
   "cell_type": "code",
   "execution_count": 6,
   "metadata": {},
   "outputs": [
    {
     "data": {
      "text/plain": [
       "7.287752045684247e-08"
      ]
     },
     "execution_count": 6,
     "metadata": {},
     "output_type": "execute_result"
    }
   ],
   "source": [
    "VIRGINIA_CONSUMPTIVE_USE_MGAL_PER_DAY = 43.99\n",
    "VIRGINA_CONSUMPTIVE_USE_M3_PER_DAY = 4404.8838 * VIRGINIA_CONSUMPTIVE_USE_MGAL_PER_DAY\n",
    "VIRGINIA_AREA_KM2 = 110785.67\n",
    "GRID_CELL_AREA_KM2 = 1.0\n",
    "GRID_CELL_CONSUMPTIVE_USE_M3_PER_DAY = VIRGINA_CONSUMPTIVE_USE_M3_PER_DAY / VIRGINIA_AREA_KM2 * GRID_CELL_AREA_KM2\n",
    "GRID_CELL_CONSUMPTIVE_USE_M_PER_DAY = GRID_CELL_CONSUMPTIVE_USE_M3_PER_DAY / (1000.*1000.)\n",
    "GRID_CELL_CONSUMPTIVE_USE_M_PER_HOUR = GRID_CELL_CONSUMPTIVE_USE_M_PER_DAY / 24.0\n",
    "GRID_CELL_CONSUMPTIVE_USE_M_PER_HOUR\n"
   ]
  },
  {
   "cell_type": "code",
   "execution_count": 7,
   "metadata": {},
   "outputs": [
    {
     "ename": "NameError",
     "evalue": "name 'px' is not defined",
     "output_type": "error",
     "traceback": [
      "\u001b[0;31m---------------------------------------------------------------------------\u001b[0m",
      "\u001b[0;31mNameError\u001b[0m                                 Traceback (most recent call last)",
      "Cell \u001b[0;32mIn[7], line 1\u001b[0m\n\u001b[0;32m----> 1\u001b[0m \u001b[43mpx\u001b[49m\u001b[38;5;241m.\u001b[39mimshow(pf\u001b[38;5;241m.\u001b[39mread_pfb(\u001b[38;5;124m\"\u001b[39m\u001b[38;5;124m/Users/ben/Documents/GitHub/drought-ensemble/domains/outputs/POTOMAC_1998_to_1999_with_pumping_100_percent/fluxes_on.pfb\u001b[39m\u001b[38;5;124m\"\u001b[39m)[\u001b[38;5;241m4\u001b[39m])\n",
      "\u001b[0;31mNameError\u001b[0m: name 'px' is not defined"
     ]
    }
   ],
   "source": [
    "px.imshow(pf.read_pfb(\"/Users/ben/Documents/GitHub/drought-ensemble/domains/outputs/POTOMAC_1998_to_1999_with_pumping_100_percent/fluxes_on.pfb\")[4])"
   ]
  },
  {
   "cell_type": "code",
   "execution_count": null,
   "metadata": {},
   "outputs": [],
   "source": [
    "# pumping_rates = pf.read_pfb(\"/Users/ben/Documents/GitHub/drought-ensemble/domains/outputs/WOLF_2006_to_2007_with_pumping_100_percent/fluxes.00112.pfb\")\n",
    "pumping_rates = pf.read_pfb(\"/Users/ben/Documents/GitHub/drought-ensemble/domains/outputs/WOLF_2007_to_2008_with_pumping_100_percent_constant/fluxes_on.pfb\")\n",
    "# pumping_rates = pf.read_pfb(\"/Users/ben/Documents/GitHub/drought-ensemble/domains/outputs/WOLF_2006_to_2007_with_pumping_100_percent_1_inch_per_week/fluxes_on.pfb\")\n"
   ]
  },
  {
   "cell_type": "code",
   "execution_count": null,
   "metadata": {},
   "outputs": [],
   "source": [
    "VIRGINIA_CONSUMPTIVE_USE_MGAL_PER_DAY = 16.03\n",
    "VIRGINA_CONSUMPTIVE_USE_M3_PER_DAY = 4404.8838 * VIRGINIA_CONSUMPTIVE_USE_MGAL_PER_DAY\n",
    "VIRGINIA_AREA_KM2 = 110785.67\n",
    "GRID_CELL_AREA_KM2 = 1.0\n",
    "GRID_CELL_CONSUMPTIVE_USE_M3_PER_DAY = VIRGINA_CONSUMPTIVE_USE_M3_PER_DAY / VIRGINIA_AREA_KM2 * GRID_CELL_AREA_KM2\n",
    "GRID_CELL_AREA_M2 = GRID_CELL_AREA_KM2 * 1000000.0 # convert to m2\n",
    "GRID_CELL_CONSUMPTIVE_USE_M_PER_DAY = GRID_CELL_CONSUMPTIVE_USE_M3_PER_DAY/GRID_CELL_AREA_M2 # convert to m3/m2/day\n",
    "GRID_CELL_CONSUMPTIVE_USE_M_PER_HOUR = GRID_CELL_CONSUMPTIVE_USE_M_PER_DAY / 24.0\n",
    "GRID_CELL_CONSUMPTIVE_USE_M_PER_HOUR = 0.00015119\n",
    "GRID_CELL_CONSUMPTIVE_USE_M_PER_HOUR\n",
    "num_grid_cells = pumping_rates[4].sum()/pumping_rates[4][30][33]"
   ]
  },
  {
   "cell_type": "code",
   "execution_count": null,
   "metadata": {},
   "outputs": [
    {
     "data": {
      "text/plain": [
       "np.float64(195879.6620556758)"
      ]
     },
     "execution_count": 9,
     "metadata": {},
     "output_type": "execute_result"
    }
   ],
   "source": [
    "expected_wrtr = num_grid_cells * GRID_CELL_CONSUMPTIVE_USE_M_PER_HOUR * (1000.*1000.) * 24.0 * 365.0 \n",
    "expected_wrtr"
   ]
  },
  {
   "cell_type": "code",
   "execution_count": null,
   "metadata": {},
   "outputs": [
    {
     "name": "stdout",
     "output_type": "stream",
     "text": [
      "cycling ratio 46.9676121729526\n",
      "constant ratio 0.16336560755809598\n"
     ]
    }
   ],
   "source": [
    "cycling_wrtr = .46 * 10**7 \n",
    "constant_wrtr = .0717 * 10**7 \n",
    "print(\"cycling ratio\", cycling_wrtr/expected_wrtr*2.0)\n",
    "print(\"constant ratio\", constant_wrtr/expected_wrtr)"
   ]
  },
  {
   "cell_type": "code",
   "execution_count": null,
   "metadata": {},
   "outputs": [
    {
     "data": {
      "text/plain": [
       "0.9165172345088664"
      ]
     },
     "execution_count": 11,
     "metadata": {},
     "output_type": "execute_result"
    }
   ],
   "source": [
    "cycling_wrtr = .46 * 10**7 /.7\n",
    "constant_wrtr = .717 * 10**7\n",
    "ratio = cycling_wrtr/constant_wrtr\n",
    "ratio"
   ]
  },
  {
   "cell_type": "code",
   "execution_count": null,
   "metadata": {},
   "outputs": [
    {
     "data": {
      "text/plain": [
       "200"
      ]
     },
     "execution_count": 12,
     "metadata": {},
     "output_type": "execute_result"
    }
   ],
   "source": [
    "200"
   ]
  },
  {
   "cell_type": "code",
   "execution_count": null,
   "metadata": {},
   "outputs": [
    {
     "name": "stdout",
     "output_type": "stream",
     "text": [
      "constant pumping ratio 3.6510976800639257\n"
     ]
    }
   ],
   "source": [
    "pumping_rates = pf.read_pfb(\"/Users/ben/Documents/GitHub/drought-ensemble/domains/outputs/WOLF_2006_to_2007_with_pumping_1_inch_per_week_constant/fluxes_on.pfb\")\n",
    "total_pumping_rate = pumping_rates[2,:,:].sum()\n",
    "total_pumping = -total_pumping_rate * 24.0 * 365.0 * 1000.0 * 1000.0 * 50.0\n",
    "observed_water_deficit = 10**6 * 253\n",
    "ratio = total_pumping / observed_water_deficit\n",
    "print(\"constant pumping ratio\", ratio)\n",
    "\n"
   ]
  },
  {
   "cell_type": "code",
   "execution_count": null,
   "metadata": {},
   "outputs": [
    {
     "data": {
      "text/plain": [
       "np.float64(27711831.391685188)"
      ]
     },
     "execution_count": 8,
     "metadata": {},
     "output_type": "execute_result"
    }
   ],
   "source": [
    "import numpy as np\n",
    "import parflow as pf\n",
    "import plotly.express as px\n",
    "\n",
    "# pumping_rates = pf.read_pfb(\"/Users/ben/Documents/GitHub/drought-ensemble/domains/outputs/WOLF_2006_to_2007_with_pumping_1_inch_per_week_constant/fluxes_on.pfb\")\n",
    "pumping_rates2 = pf.read_pfb(\"/Users/ben/Documents/GitHub/drought-ensemble/domains/outputs/WOLF_2006_to_2007_3_year_drought_with_pumping/fluxes_on.pfb\")\n",
    "-pumping_rates2[2,:,:].sum()*1000*1000*8760*3"
   ]
  },
  {
   "cell_type": "code",
   "execution_count": null,
   "metadata": {},
   "outputs": [
    {
     "data": {
      "application/vnd.plotly.v1+json": {
       "config": {
        "plotlyServerURL": "https://plot.ly"
       },
       "data": [
        {
         "hovertemplate": "variable=0<br>index=%{x}<br>value=%{y}<extra></extra>",
         "legendgroup": "0",
         "line": {
          "color": "#636efa",
          "dash": "solid"
         },
         "marker": {
          "symbol": "circle"
         },
         "mode": "lines",
         "name": "0",
         "orientation": "v",
         "showlegend": true,
         "type": "scatter",
         "x": {
          "bdata": "AAECAwQFBgcICQoLDA0ODxAREhMUFRYXGBkaGxwdHh8gISIjJCUmJygpKissLS4vMDEyMzQ1Njc4OTo7PD0+P0BBQkNERUZHSElKS0xNTk9QUVJTVFVWV1g=",
          "dtype": "i1"
         },
         "xaxis": "x",
         "y": {
          "bdata": "AQAAAAAA8D8BAAAAAADwPwEAAAAAAPA/AQAAAAAA8D8BAAAAAADwPwEAAAAAAPA/AQAAAAAA8D8BAAAAAADwPwEAAAAAAPA/AQAAAAAA8D8BAAAAAADwPwEAAAAAAPA/AQAAAAAA8D8BAAAAAADwPwEAAAAAAPA/AQAAAAAA8D8BAAAAAADwPwEAAAAAAPA/AQAAAAAA8D8BAAAAAADwPwEAAAAAAPA/AQAAAAAA8D8BAAAAAADwPwEAAAAAAPA/AQAAAAAA8D8BAAAAAADwPwEAAAAAAPA/AQAAAAAA8D8BAAAAAADwPwEAAAAAAPA/AQAAAAAA8D8BAAAAAADwPwEAAAAAAPA/AQAAAAAA8D8BAAAAAADwPwEAAAAAAPA/AQAAAAAA8D8BAAAAAADwPwEAAAAAAPA/AQAAAAAA8D8BAAAAAADwPwEAAAAAAPA/AQAAAAAA8D8BAAAAAADwPwEAAAAAAPA/AQAAAAAA8D8BAAAAAADwPwEAAAAAAPA/AQAAAAAA8D8BAAAAAADwPwEAAAAAAPA/AQAAAAAA8D8BAAAAAADwPwEAAAAAAPA/AQAAAAAA8D8BAAAAAADwPwEAAAAAAPA/AQAAAAAA8D8BAAAAAADwPwEAAAAAAPA/AQAAAAAA8D8BAAAAAADwPwEAAAAAAPA/AQAAAAAA8D8BAAAAAADwPwEAAAAAAPA/AQAAAAAA8D8BAAAAAADwPwEAAAAAAPA/AQAAAAAA8D8BAAAAAADwPwEAAAAAAPA/AQAAAAAA8D8BAAAAAADwPwEAAAAAAPA/AQAAAAAA8D8BAAAAAADwPwEAAAAAAPA/AQAAAAAA8D8BAAAAAADwPwEAAAAAAPA/AQAAAAAA8D8BAAAAAADwPwEAAAAAAPA/AQAAAAAA8D8BAAAAAADwPwEAAAAAAPA/AQAAAAAA8D8BAAAAAADwPw==",
          "dtype": "f8"
         },
         "yaxis": "y"
        }
       ],
       "layout": {
        "legend": {
         "title": {
          "text": "variable"
         },
         "tracegroupgap": 0
        },
        "margin": {
         "t": 60
        },
        "template": {
         "data": {
          "bar": [
           {
            "error_x": {
             "color": "#2a3f5f"
            },
            "error_y": {
             "color": "#2a3f5f"
            },
            "marker": {
             "line": {
              "color": "#E5ECF6",
              "width": 0.5
             },
             "pattern": {
              "fillmode": "overlay",
              "size": 10,
              "solidity": 0.2
             }
            },
            "type": "bar"
           }
          ],
          "barpolar": [
           {
            "marker": {
             "line": {
              "color": "#E5ECF6",
              "width": 0.5
             },
             "pattern": {
              "fillmode": "overlay",
              "size": 10,
              "solidity": 0.2
             }
            },
            "type": "barpolar"
           }
          ],
          "carpet": [
           {
            "aaxis": {
             "endlinecolor": "#2a3f5f",
             "gridcolor": "white",
             "linecolor": "white",
             "minorgridcolor": "white",
             "startlinecolor": "#2a3f5f"
            },
            "baxis": {
             "endlinecolor": "#2a3f5f",
             "gridcolor": "white",
             "linecolor": "white",
             "minorgridcolor": "white",
             "startlinecolor": "#2a3f5f"
            },
            "type": "carpet"
           }
          ],
          "choropleth": [
           {
            "colorbar": {
             "outlinewidth": 0,
             "ticks": ""
            },
            "type": "choropleth"
           }
          ],
          "contour": [
           {
            "colorbar": {
             "outlinewidth": 0,
             "ticks": ""
            },
            "colorscale": [
             [
              0,
              "#0d0887"
             ],
             [
              0.1111111111111111,
              "#46039f"
             ],
             [
              0.2222222222222222,
              "#7201a8"
             ],
             [
              0.3333333333333333,
              "#9c179e"
             ],
             [
              0.4444444444444444,
              "#bd3786"
             ],
             [
              0.5555555555555556,
              "#d8576b"
             ],
             [
              0.6666666666666666,
              "#ed7953"
             ],
             [
              0.7777777777777778,
              "#fb9f3a"
             ],
             [
              0.8888888888888888,
              "#fdca26"
             ],
             [
              1,
              "#f0f921"
             ]
            ],
            "type": "contour"
           }
          ],
          "contourcarpet": [
           {
            "colorbar": {
             "outlinewidth": 0,
             "ticks": ""
            },
            "type": "contourcarpet"
           }
          ],
          "heatmap": [
           {
            "colorbar": {
             "outlinewidth": 0,
             "ticks": ""
            },
            "colorscale": [
             [
              0,
              "#0d0887"
             ],
             [
              0.1111111111111111,
              "#46039f"
             ],
             [
              0.2222222222222222,
              "#7201a8"
             ],
             [
              0.3333333333333333,
              "#9c179e"
             ],
             [
              0.4444444444444444,
              "#bd3786"
             ],
             [
              0.5555555555555556,
              "#d8576b"
             ],
             [
              0.6666666666666666,
              "#ed7953"
             ],
             [
              0.7777777777777778,
              "#fb9f3a"
             ],
             [
              0.8888888888888888,
              "#fdca26"
             ],
             [
              1,
              "#f0f921"
             ]
            ],
            "type": "heatmap"
           }
          ],
          "histogram": [
           {
            "marker": {
             "pattern": {
              "fillmode": "overlay",
              "size": 10,
              "solidity": 0.2
             }
            },
            "type": "histogram"
           }
          ],
          "histogram2d": [
           {
            "colorbar": {
             "outlinewidth": 0,
             "ticks": ""
            },
            "colorscale": [
             [
              0,
              "#0d0887"
             ],
             [
              0.1111111111111111,
              "#46039f"
             ],
             [
              0.2222222222222222,
              "#7201a8"
             ],
             [
              0.3333333333333333,
              "#9c179e"
             ],
             [
              0.4444444444444444,
              "#bd3786"
             ],
             [
              0.5555555555555556,
              "#d8576b"
             ],
             [
              0.6666666666666666,
              "#ed7953"
             ],
             [
              0.7777777777777778,
              "#fb9f3a"
             ],
             [
              0.8888888888888888,
              "#fdca26"
             ],
             [
              1,
              "#f0f921"
             ]
            ],
            "type": "histogram2d"
           }
          ],
          "histogram2dcontour": [
           {
            "colorbar": {
             "outlinewidth": 0,
             "ticks": ""
            },
            "colorscale": [
             [
              0,
              "#0d0887"
             ],
             [
              0.1111111111111111,
              "#46039f"
             ],
             [
              0.2222222222222222,
              "#7201a8"
             ],
             [
              0.3333333333333333,
              "#9c179e"
             ],
             [
              0.4444444444444444,
              "#bd3786"
             ],
             [
              0.5555555555555556,
              "#d8576b"
             ],
             [
              0.6666666666666666,
              "#ed7953"
             ],
             [
              0.7777777777777778,
              "#fb9f3a"
             ],
             [
              0.8888888888888888,
              "#fdca26"
             ],
             [
              1,
              "#f0f921"
             ]
            ],
            "type": "histogram2dcontour"
           }
          ],
          "mesh3d": [
           {
            "colorbar": {
             "outlinewidth": 0,
             "ticks": ""
            },
            "type": "mesh3d"
           }
          ],
          "parcoords": [
           {
            "line": {
             "colorbar": {
              "outlinewidth": 0,
              "ticks": ""
             }
            },
            "type": "parcoords"
           }
          ],
          "pie": [
           {
            "automargin": true,
            "type": "pie"
           }
          ],
          "scatter": [
           {
            "fillpattern": {
             "fillmode": "overlay",
             "size": 10,
             "solidity": 0.2
            },
            "type": "scatter"
           }
          ],
          "scatter3d": [
           {
            "line": {
             "colorbar": {
              "outlinewidth": 0,
              "ticks": ""
             }
            },
            "marker": {
             "colorbar": {
              "outlinewidth": 0,
              "ticks": ""
             }
            },
            "type": "scatter3d"
           }
          ],
          "scattercarpet": [
           {
            "marker": {
             "colorbar": {
              "outlinewidth": 0,
              "ticks": ""
             }
            },
            "type": "scattercarpet"
           }
          ],
          "scattergeo": [
           {
            "marker": {
             "colorbar": {
              "outlinewidth": 0,
              "ticks": ""
             }
            },
            "type": "scattergeo"
           }
          ],
          "scattergl": [
           {
            "marker": {
             "colorbar": {
              "outlinewidth": 0,
              "ticks": ""
             }
            },
            "type": "scattergl"
           }
          ],
          "scattermap": [
           {
            "marker": {
             "colorbar": {
              "outlinewidth": 0,
              "ticks": ""
             }
            },
            "type": "scattermap"
           }
          ],
          "scattermapbox": [
           {
            "marker": {
             "colorbar": {
              "outlinewidth": 0,
              "ticks": ""
             }
            },
            "type": "scattermapbox"
           }
          ],
          "scatterpolar": [
           {
            "marker": {
             "colorbar": {
              "outlinewidth": 0,
              "ticks": ""
             }
            },
            "type": "scatterpolar"
           }
          ],
          "scatterpolargl": [
           {
            "marker": {
             "colorbar": {
              "outlinewidth": 0,
              "ticks": ""
             }
            },
            "type": "scatterpolargl"
           }
          ],
          "scatterternary": [
           {
            "marker": {
             "colorbar": {
              "outlinewidth": 0,
              "ticks": ""
             }
            },
            "type": "scatterternary"
           }
          ],
          "surface": [
           {
            "colorbar": {
             "outlinewidth": 0,
             "ticks": ""
            },
            "colorscale": [
             [
              0,
              "#0d0887"
             ],
             [
              0.1111111111111111,
              "#46039f"
             ],
             [
              0.2222222222222222,
              "#7201a8"
             ],
             [
              0.3333333333333333,
              "#9c179e"
             ],
             [
              0.4444444444444444,
              "#bd3786"
             ],
             [
              0.5555555555555556,
              "#d8576b"
             ],
             [
              0.6666666666666666,
              "#ed7953"
             ],
             [
              0.7777777777777778,
              "#fb9f3a"
             ],
             [
              0.8888888888888888,
              "#fdca26"
             ],
             [
              1,
              "#f0f921"
             ]
            ],
            "type": "surface"
           }
          ],
          "table": [
           {
            "cells": {
             "fill": {
              "color": "#EBF0F8"
             },
             "line": {
              "color": "white"
             }
            },
            "header": {
             "fill": {
              "color": "#C8D4E3"
             },
             "line": {
              "color": "white"
             }
            },
            "type": "table"
           }
          ]
         },
         "layout": {
          "annotationdefaults": {
           "arrowcolor": "#2a3f5f",
           "arrowhead": 0,
           "arrowwidth": 1
          },
          "autotypenumbers": "strict",
          "coloraxis": {
           "colorbar": {
            "outlinewidth": 0,
            "ticks": ""
           }
          },
          "colorscale": {
           "diverging": [
            [
             0,
             "#8e0152"
            ],
            [
             0.1,
             "#c51b7d"
            ],
            [
             0.2,
             "#de77ae"
            ],
            [
             0.3,
             "#f1b6da"
            ],
            [
             0.4,
             "#fde0ef"
            ],
            [
             0.5,
             "#f7f7f7"
            ],
            [
             0.6,
             "#e6f5d0"
            ],
            [
             0.7,
             "#b8e186"
            ],
            [
             0.8,
             "#7fbc41"
            ],
            [
             0.9,
             "#4d9221"
            ],
            [
             1,
             "#276419"
            ]
           ],
           "sequential": [
            [
             0,
             "#0d0887"
            ],
            [
             0.1111111111111111,
             "#46039f"
            ],
            [
             0.2222222222222222,
             "#7201a8"
            ],
            [
             0.3333333333333333,
             "#9c179e"
            ],
            [
             0.4444444444444444,
             "#bd3786"
            ],
            [
             0.5555555555555556,
             "#d8576b"
            ],
            [
             0.6666666666666666,
             "#ed7953"
            ],
            [
             0.7777777777777778,
             "#fb9f3a"
            ],
            [
             0.8888888888888888,
             "#fdca26"
            ],
            [
             1,
             "#f0f921"
            ]
           ],
           "sequentialminus": [
            [
             0,
             "#0d0887"
            ],
            [
             0.1111111111111111,
             "#46039f"
            ],
            [
             0.2222222222222222,
             "#7201a8"
            ],
            [
             0.3333333333333333,
             "#9c179e"
            ],
            [
             0.4444444444444444,
             "#bd3786"
            ],
            [
             0.5555555555555556,
             "#d8576b"
            ],
            [
             0.6666666666666666,
             "#ed7953"
            ],
            [
             0.7777777777777778,
             "#fb9f3a"
            ],
            [
             0.8888888888888888,
             "#fdca26"
            ],
            [
             1,
             "#f0f921"
            ]
           ]
          },
          "colorway": [
           "#636efa",
           "#EF553B",
           "#00cc96",
           "#ab63fa",
           "#FFA15A",
           "#19d3f3",
           "#FF6692",
           "#B6E880",
           "#FF97FF",
           "#FECB52"
          ],
          "font": {
           "color": "#2a3f5f"
          },
          "geo": {
           "bgcolor": "white",
           "lakecolor": "white",
           "landcolor": "#E5ECF6",
           "showlakes": true,
           "showland": true,
           "subunitcolor": "white"
          },
          "hoverlabel": {
           "align": "left"
          },
          "hovermode": "closest",
          "mapbox": {
           "style": "light"
          },
          "paper_bgcolor": "white",
          "plot_bgcolor": "#E5ECF6",
          "polar": {
           "angularaxis": {
            "gridcolor": "white",
            "linecolor": "white",
            "ticks": ""
           },
           "bgcolor": "#E5ECF6",
           "radialaxis": {
            "gridcolor": "white",
            "linecolor": "white",
            "ticks": ""
           }
          },
          "scene": {
           "xaxis": {
            "backgroundcolor": "#E5ECF6",
            "gridcolor": "white",
            "gridwidth": 2,
            "linecolor": "white",
            "showbackground": true,
            "ticks": "",
            "zerolinecolor": "white"
           },
           "yaxis": {
            "backgroundcolor": "#E5ECF6",
            "gridcolor": "white",
            "gridwidth": 2,
            "linecolor": "white",
            "showbackground": true,
            "ticks": "",
            "zerolinecolor": "white"
           },
           "zaxis": {
            "backgroundcolor": "#E5ECF6",
            "gridcolor": "white",
            "gridwidth": 2,
            "linecolor": "white",
            "showbackground": true,
            "ticks": "",
            "zerolinecolor": "white"
           }
          },
          "shapedefaults": {
           "line": {
            "color": "#2a3f5f"
           }
          },
          "ternary": {
           "aaxis": {
            "gridcolor": "white",
            "linecolor": "white",
            "ticks": ""
           },
           "baxis": {
            "gridcolor": "white",
            "linecolor": "white",
            "ticks": ""
           },
           "bgcolor": "#E5ECF6",
           "caxis": {
            "gridcolor": "white",
            "linecolor": "white",
            "ticks": ""
           }
          },
          "title": {
           "x": 0.05
          },
          "xaxis": {
           "automargin": true,
           "gridcolor": "white",
           "linecolor": "white",
           "ticks": "",
           "title": {
            "standoff": 15
           },
           "zerolinecolor": "white",
           "zerolinewidth": 2
          },
          "yaxis": {
           "automargin": true,
           "gridcolor": "white",
           "linecolor": "white",
           "ticks": "",
           "title": {
            "standoff": 15
           },
           "zerolinecolor": "white",
           "zerolinewidth": 2
          }
         }
        },
        "xaxis": {
         "anchor": "y",
         "domain": [
          0,
          1
         ],
         "title": {
          "text": "index"
         }
        },
        "yaxis": {
         "anchor": "x",
         "domain": [
          0,
          1
         ],
         "title": {
          "text": "value"
         }
        }
       }
      }
     },
     "metadata": {},
     "output_type": "display_data"
    }
   ],
   "source": [
    "\n",
    "\n",
    "pumping_timeseries = []\n",
    "for i in range(10, 99, 1):\n",
    "    pumping_rate = pf.read_pfb(f\"/Users/ben/Documents/GitHub/drought-ensemble/domains/outputs/WOLF_2006_to_2007_with_pumping_1_inch_per_week_constant_using_cycles/fluxes.000{i}.pfb\")\n",
    "    pumping_rate = pumping_rate[:,:,:].sum()\n",
    "    pumping_timeseries.append(pumping_rate)\n",
    "pumping_timeseries = np.array(pumping_timeseries)/pumping_rates[2,:,:].sum()\n",
    "px.line(pumping_timeseries)\n"
   ]
  },
  {
   "cell_type": "code",
   "execution_count": null,
   "metadata": {},
   "outputs": [],
   "source": []
  }
 ],
 "metadata": {
  "kernelspec": {
   "display_name": "droughts",
   "language": "python",
   "name": "python3"
  },
  "language_info": {
   "codemirror_mode": {
    "name": "ipython",
    "version": 3
   },
   "file_extension": ".py",
   "mimetype": "text/x-python",
   "name": "python",
   "nbconvert_exporter": "python",
   "pygments_lexer": "ipython3",
   "version": "3.11.6"
  }
 },
 "nbformat": 4,
 "nbformat_minor": 2
}
