{
 "cells": [
  {
   "cell_type": "code",
   "execution_count": 1,
   "metadata": {},
   "outputs": [],
   "source": [
    "import parflow as pf"
   ]
  },
  {
   "cell_type": "code",
   "execution_count": 5,
   "metadata": {},
   "outputs": [
    {
     "data": {
      "text/plain": [
       "(24, 88, 88)"
      ]
     },
     "execution_count": 5,
     "metadata": {},
     "output_type": "execute_result"
    }
   ],
   "source": [
    "data = pf.read_pfb(\"/Users/ben/Documents/GitHub/drought-ensemble/domains/inputs/GILA_1988_to_1989/forcing/CW3E.VGRD.000001_to_000024.pfb\")\n",
    "data.shape"
   ]
  },
  {
   "cell_type": "code",
   "execution_count": 14,
   "metadata": {},
   "outputs": [
    {
     "name": "stdout",
     "output_type": "stream",
     "text": [
      "True\n",
      "00000\n",
      "True\n",
      "00001\n",
      "True\n",
      "00002\n",
      "True\n",
      "00003\n",
      "True\n",
      "00004\n",
      "True\n",
      "00005\n",
      "True\n",
      "00006\n",
      "True\n",
      "00007\n",
      "True\n",
      "00008\n",
      "True\n",
      "00009\n",
      "True\n",
      "00010\n",
      "True\n",
      "00011\n",
      "False\n",
      "00012\n",
      "False\n",
      "00013\n",
      "False\n",
      "00014\n",
      "False\n",
      "00015\n",
      "False\n",
      "00016\n",
      "False\n",
      "00017\n",
      "False\n",
      "00018\n",
      "False\n",
      "00019\n",
      "False\n",
      "00020\n",
      "False\n",
      "00021\n",
      "False\n",
      "00022\n",
      "False\n",
      "00023\n",
      "True\n",
      "00024\n",
      "True\n",
      "00025\n",
      "True\n",
      "00026\n",
      "True\n",
      "00027\n",
      "True\n",
      "00028\n",
      "True\n",
      "00029\n",
      "True\n",
      "00030\n",
      "True\n",
      "00031\n",
      "True\n",
      "00032\n",
      "True\n",
      "00033\n",
      "True\n",
      "00034\n",
      "True\n",
      "00035\n",
      "False\n",
      "00036\n",
      "False\n",
      "00037\n",
      "False\n",
      "00038\n",
      "False\n",
      "00039\n",
      "False\n",
      "00040\n",
      "False\n",
      "00041\n",
      "False\n",
      "00042\n",
      "False\n",
      "00043\n",
      "False\n",
      "00044\n",
      "False\n",
      "00045\n",
      "False\n",
      "00046\n",
      "False\n",
      "00047\n",
      "True\n",
      "00048\n",
      "True\n",
      "00049\n"
     ]
    }
   ],
   "source": [
    "pumping_is_on = False\n",
    "for timestep, time in enumerate(range(0, 100, 2)):\n",
    "        # We apply the pumping for half the day\n",
    "        if (timestep%12)== 0:\n",
    "            pumping_is_on = not pumping_is_on\n",
    "        print(pumping_is_on)\n",
    "        timestep_str = str(timestep).zfill(5)\n",
    "        print(timestep_str)"
   ]
  },
  {
   "cell_type": "code",
   "execution_count": null,
   "metadata": {},
   "outputs": [],
   "source": []
  }
 ],
 "metadata": {
  "kernelspec": {
   "display_name": "test-env",
   "language": "python",
   "name": "python3"
  },
  "language_info": {
   "codemirror_mode": {
    "name": "ipython",
    "version": 3
   },
   "file_extension": ".py",
   "mimetype": "text/x-python",
   "name": "python",
   "nbconvert_exporter": "python",
   "pygments_lexer": "ipython3",
   "version": "3.11.5"
  }
 },
 "nbformat": 4,
 "nbformat_minor": 2
}
