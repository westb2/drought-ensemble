{
 "cells": [
  {
   "cell_type": "code",
   "execution_count": 1,
   "id": "f8b84c35",
   "metadata": {},
   "outputs": [],
   "source": [
    "import subsettools as st"
   ]
  },
  {
   "cell_type": "code",
   "execution_count": 2,
   "id": "5d4c73ba",
   "metadata": {},
   "outputs": [
    {
     "name": "stdout",
     "output_type": "stream",
     "text": [
      "Solver: Field BinaryOutDir is not part of the expected schema <class 'parflow.tools.database.generated.Solver'>\n",
      "Distributing your climate forcing\n",
      "Distributed slope_y.pfb with NZ 1\n",
      "Distributed ss_pressure_head.pfb with NZ 10\n",
      "Distributed mannings.pfb with NZ 1\n",
      "Distributed mask.pfb with NZ 1\n",
      "Distributed slope_x.pfb with NZ 1\n",
      "Distributed pf_indicator.pfb with NZ 10\n",
      "Distributed pme.pfb with NZ 10\n",
      "Distributed pf_flowbarrier.pfb with NZ 10\n"
     ]
    }
   ],
   "source": [
    "P = 16\n",
    "Q = 16\n",
    "runscript_path= \"/glade/derecho/scratch/bwest/drought-ensemble/domains/potomac/inputs/potomac_dry/run.yaml\"\n",
    "\n",
    "runscript_path = st.dist_run(\n",
    "            topo_p=P,\n",
    "            topo_q=Q,\n",
    "            runscript_path=runscript_path,\n",
    "            dist_clim_forcing=True,\n",
    "        )"
   ]
  },
  {
   "cell_type": "code",
   "execution_count": null,
   "id": "45ab474a",
   "metadata": {},
   "outputs": [],
   "source": []
  }
 ],
 "metadata": {
  "kernelspec": {
   "display_name": "droughts",
   "language": "python",
   "name": "python3"
  },
  "language_info": {
   "codemirror_mode": {
    "name": "ipython",
    "version": 3
   },
   "file_extension": ".py",
   "mimetype": "text/x-python",
   "name": "python",
   "nbconvert_exporter": "python",
   "pygments_lexer": "ipython3",
   "version": "3.11.6"
  }
 },
 "nbformat": 4,
 "nbformat_minor": 5
}
