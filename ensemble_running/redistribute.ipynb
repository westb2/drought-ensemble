{
 "cells": [
  {
   "cell_type": "code",
   "execution_count": null,
   "id": "f8b84c35",
   "metadata": {},
   "outputs": [],
   "source": [
    "import subsettools as st"
   ]
  },
  {
   "cell_type": "code",
   "execution_count": null,
   "id": "5d4c73ba",
   "metadata": {},
   "outputs": [],
   "source": [
    "P = 16\n",
    "Q = 16\n",
    "runscript_path= \"/glade/derecho/scratch/bwest/drought-ensemble/domains/potomac/inputs/potomac_average/run.yaml\"\n",
    "\n",
    "runscript_path = st.dist_run(\n",
    "            topo_p=P,\n",
    "            topo_q=Q,\n",
    "            runscript_path=runscript_path,\n",
    "            dist_clim_forcing=True,\n",
    "        )"
   ]
  }
 ],
 "metadata": {
  "kernelspec": {
   "display_name": "droughts",
   "language": "python",
   "name": "python3"
  },
  "language_info": {
   "codemirror_mode": {
    "name": "ipython",
    "version": 3
   },
   "file_extension": ".py",
   "mimetype": "text/x-python",
   "name": "python",
   "nbconvert_exporter": "python",
   "pygments_lexer": "ipython3",
   "version": "3.11.6"
  }
 },
 "nbformat": 4,
 "nbformat_minor": 5
}
