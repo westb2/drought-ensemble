{
 "cells": [
  {
   "cell_type": "code",
   "execution_count": null,
   "id": "5a1463a6",
   "metadata": {},
   "outputs": [],
   "source": [
    "import config\n",
    "import sys\n",
    "import shutil\n",
    "import os\n",
    "import parflow as pf\n",
    "\n",
    "sys.path.append(\"../\")\n",
    "from do_new_run import do_run\n",
    "from add_pumping import add_pumping"
   ]
  },
  {
   "cell_type": "code",
   "execution_count": null,
   "id": "0ef5ba14",
   "metadata": {},
   "outputs": [],
   "source": [
    "domain_name = config.DOMAIN_NAME\n",
    "do_run(domain_name, \"baseline\", \n",
    "       0.0, \"wolf\", config)\n",
    "do_run(domain_name, \"with_pumping_1_inch_per_week_constant\", \n",
    "       1.0, \"wolf\", config, irrigation=False, flux_cycling=False, pumping_layer=2, flux_time_series=False)\n",
    "do_run(domain_name, \"with_pumping_1_inch_per_week_constant_using_time_series\", \n",
    "       1.0, \"wolf\", config, irrigation=False, flux_cycling=False, pumping_layer=2)"
   ]
  }
 ],
 "metadata": {
  "language_info": {
   "name": "python"
  }
 },
 "nbformat": 4,
 "nbformat_minor": 5
}
